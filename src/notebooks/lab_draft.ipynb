{
 "cells": [
  {
   "cell_type": "code",
   "execution_count": 5,
   "metadata": {},
   "outputs": [],
   "source": [
    "%load_ext autoreload\n",
    "%autoreload 2"
   ]
  },
  {
   "cell_type": "code",
   "execution_count": 1,
   "metadata": {},
   "outputs": [
    {
     "name": "stdout",
     "output_type": "stream",
     "text": [
      "\n",
      "\n",
      "Please cite the following paper when using nnUNet:\n",
      "\n",
      "Isensee, F., Jaeger, P.F., Kohl, S.A.A. et al. \"nnU-Net: a self-configuring method for deep learning-based biomedical image segmentation.\" Nat Methods (2020). https://doi.org/10.1038/s41592-020-01008-z\n",
      "\n",
      "\n",
      "If you have questions or suggestions, feel free to open an issue at https://github.com/MIC-DKFZ/nnUNet\n",
      "\n",
      "nnUNet_raw_data_base is not defined and nnU-Net can only be used on data for which preprocessed files are already present on your system. nnU-Net cannot be used for experiment planning and preprocessing like this. If this is not intended, please read documentation/setting_up_paths.md for information on how to set this up properly.\n",
      "nnUNet_preprocessed is not defined and nnU-Net can not be used for preprocessing or training. If this is not intended, please read documentation/setting_up_paths.md for information on how to set this up.\n",
      "RESULTS_FOLDER is not defined and nnU-Net cannot be used for training or inference. If this is not intended behavior, please read documentation/setting_up_paths.md for information on how to set this up.\n"
     ]
    }
   ],
   "source": [
    "import sys, string, random\n",
    "from datetime import datetime\n",
    "from omegaconf import OmegaConf\n",
    "import wandb\n",
    "import torch\n",
    "import lightning as L\n",
    "from lightning.pytorch.loggers import WandbLogger\n",
    "from lightning.pytorch.callbacks import ModelCheckpoint\n",
    "from lightning.pytorch.callbacks.early_stopping import EarlyStopping\n",
    "from monai.networks.nets import UNet\n",
    "\n",
    "sys.path.append('../')\n",
    "from data_utils import MNMv2DataModule\n",
    "from unet import LightningSegmentationModel"
   ]
  },
  {
   "cell_type": "code",
   "execution_count": 2,
   "metadata": {},
   "outputs": [],
   "source": [
    "# load configs\n",
    "mnmv2_config   = OmegaConf.load('../../configs/mnmv2.yaml')\n",
    "unet_config    = OmegaConf.load('../../configs/monai_unet.yaml')\n",
    "trainer_config = OmegaConf.load('../../configs/unet_trainer.yaml')"
   ]
  },
  {
   "cell_type": "code",
   "execution_count": 3,
   "metadata": {},
   "outputs": [],
   "source": [
    "# init datamodule\n",
    "datamodule = MNMv2DataModule(\n",
    "    data_dir=mnmv2_config.data_dir,\n",
    "    vendor_assignment=mnmv2_config.vendor_assignment,\n",
    "    batch_size=mnmv2_config.batch_size,\n",
    "    binary_target=mnmv2_config.binary_target,\n",
    "    non_empty_target=mnmv2_config.non_empty_target,\n",
    ")"
   ]
  },
  {
   "cell_type": "code",
   "execution_count": 4,
   "metadata": {},
   "outputs": [],
   "source": [
    "# init model\n",
    "\n",
    "cfg = OmegaConf.create({\n",
    "    'unet_config': unet_config,\n",
    "    'binary_target': True if unet_config.out_channels == 1 else False,\n",
    "    'lr': unet_config.lr,\n",
    "    'patience': unet_config.patience,\n",
    "    'dataset': OmegaConf.to_container(mnmv2_config),\n",
    "    'unet': OmegaConf.to_container(unet_config),\n",
    "    'trainer': OmegaConf.to_container(trainer_config)\n",
    "})\n",
    "\n",
    "model = LightningSegmentationModel(cfg=cfg)\n"
   ]
  },
  {
   "cell_type": "code",
   "execution_count": 5,
   "metadata": {},
   "outputs": [
    {
     "name": "stderr",
     "output_type": "stream",
     "text": [
      "Using 16bit Automatic Mixed Precision (AMP)\n",
      "/home/mikhelson/MedImSeg-Lab24/CLUE/lib/python3.8/site-packages/lightning/pytorch/plugins/precision/amp.py:52: `torch.cuda.amp.GradScaler(args...)` is deprecated. Please use `torch.amp.GradScaler('cuda', args...)` instead.\n",
      "GPU available: True (cuda), used: True\n",
      "TPU available: False, using: 0 TPU cores\n",
      "HPU available: False, using: 0 HPUs\n"
     ]
    }
   ],
   "source": [
    "# infered variable\n",
    "patience = unet_config.patience * 2\n",
    "\n",
    "now = datetime.now()\n",
    "filename = 'mnmv2-' + now.strftime(\"%H-%M_%d-%m-%Y\")\n",
    "\n",
    "# init trainer\n",
    "if trainer_config.logging:\n",
    "    wandb.finish()\n",
    "    logger = WandbLogger(\n",
    "        project=\"lightning\", \n",
    "        log_model=True, \n",
    "        name=filename\n",
    "    )\n",
    "else:\n",
    "    logger = None\n",
    "\n",
    "# trainer\n",
    "trainer = L.Trainer(\n",
    "    limit_train_batches=trainer_config.limit_train_batches,\n",
    "    max_epochs=trainer_config.max_epochs,\n",
    "    logger=logger,\n",
    "    callbacks=[\n",
    "        EarlyStopping(\n",
    "            monitor=trainer_config.early_stopping.monitor, \n",
    "            mode=trainer_config.early_stopping.mode, \n",
    "            patience=patience\n",
    "        ),\n",
    "        ModelCheckpoint(\n",
    "            dirpath=trainer_config.model_checkpoint.dirpath,\n",
    "            filename=filename,\n",
    "            save_top_k=trainer_config.model_checkpoint.save_top_k, \n",
    "            monitor=trainer_config.model_checkpoint.monitor,\n",
    "        )\n",
    "    ],\n",
    "    precision='16-mixed',\n",
    "    gradient_clip_val=0.5,\n",
    "    devices=[0]\n",
    ")"
   ]
  },
  {
   "cell_type": "code",
   "execution_count": 6,
   "metadata": {},
   "outputs": [
    {
     "name": "stderr",
     "output_type": "stream",
     "text": [
      "\u001b[34m\u001b[1mwandb\u001b[0m: Using wandb-core as the SDK backend. Please refer to https://wandb.me/wandb-core for more information.\n",
      "\u001b[34m\u001b[1mwandb\u001b[0m: Currently logged in as: \u001b[33m1069035f\u001b[0m (\u001b[33mrivman\u001b[0m). Use \u001b[1m`wandb login --relogin`\u001b[0m to force relogin\n"
     ]
    },
    {
     "data": {
      "text/html": [
       "Tracking run with wandb version 0.18.5"
      ],
      "text/plain": [
       "<IPython.core.display.HTML object>"
      ]
     },
     "metadata": {},
     "output_type": "display_data"
    },
    {
     "data": {
      "text/html": [
       "Run data is saved locally in <code>./wandb/run-20241106_101242-8cbc3t91</code>"
      ],
      "text/plain": [
       "<IPython.core.display.HTML object>"
      ]
     },
     "metadata": {},
     "output_type": "display_data"
    },
    {
     "data": {
      "text/html": [
       "Syncing run <strong><a href='https://wandb.ai/rivman/lightning/runs/8cbc3t91' target=\"_blank\">mnmv2-10-12_06-11-2024</a></strong> to <a href='https://wandb.ai/rivman/lightning' target=\"_blank\">Weights & Biases</a> (<a href='https://wandb.me/run' target=\"_blank\">docs</a>)<br/>"
      ],
      "text/plain": [
       "<IPython.core.display.HTML object>"
      ]
     },
     "metadata": {},
     "output_type": "display_data"
    },
    {
     "data": {
      "text/html": [
       " View project at <a href='https://wandb.ai/rivman/lightning' target=\"_blank\">https://wandb.ai/rivman/lightning</a>"
      ],
      "text/plain": [
       "<IPython.core.display.HTML object>"
      ]
     },
     "metadata": {},
     "output_type": "display_data"
    },
    {
     "data": {
      "text/html": [
       " View run at <a href='https://wandb.ai/rivman/lightning/runs/8cbc3t91' target=\"_blank\">https://wandb.ai/rivman/lightning/runs/8cbc3t91</a>"
      ],
      "text/plain": [
       "<IPython.core.display.HTML object>"
      ]
     },
     "metadata": {},
     "output_type": "display_data"
    },
    {
     "name": "stderr",
     "output_type": "stream",
     "text": [
      "LOCAL_RANK: 0 - CUDA_VISIBLE_DEVICES: [0,1,2,3]\n",
      "\n",
      "  | Name  | Type       | Params | Mode \n",
      "---------------------------------------------\n",
      "0 | model | UNet       | 794 K  | train\n",
      "1 | loss  | DiceCELoss | 0      | train\n",
      "---------------------------------------------\n",
      "794 K     Trainable params\n",
      "0         Non-trainable params\n",
      "794 K     Total params\n",
      "3.178     Total estimated model params size (MB)\n"
     ]
    },
    {
     "name": "stdout",
     "output_type": "stream",
     "text": [
      "Epoch 99: 100%|██████████| 50/50 [00:12<00:00,  4.00it/s, v_num=3t91]      "
     ]
    },
    {
     "name": "stderr",
     "output_type": "stream",
     "text": [
      "`Trainer.fit` stopped: `max_epochs=100` reached.\n"
     ]
    },
    {
     "name": "stdout",
     "output_type": "stream",
     "text": [
      "Epoch 99: 100%|██████████| 50/50 [00:12<00:00,  4.00it/s, v_num=3t91]\n"
     ]
    }
   ],
   "source": [
    "trainer.fit(model, datamodule=datamodule)"
   ]
  },
  {
   "cell_type": "code",
   "execution_count": 7,
   "metadata": {},
   "outputs": [
    {
     "name": "stdout",
     "output_type": "stream",
     "text": [
      "{'dataset': {'data_dir': '../../../../../data/MNM/', 'vendor_assignment': {'train': 'siemens', 'test': 'ge'}, 'batch_size': 32, 'binary_target': False, 'non_empty_target': False}, 'unet': {'n_filters_init': 16, 'depth': 4, 'spatial_dims': 2, 'in_channels': 1, 'out_channels': 4, 'num_res_units': 4, 'lr': 0.001, 'patience': 5}, 'trainer': {'train_transforms': 'global_transforms', 'limit_train_batches': 50, 'max_epochs': 100, 'early_stopping': {'monitor': 'val_loss', 'mode': 'min'}, 'model_checkpoint': {'save_top_k': 2, 'dirpath': '../../pre-trained/monai-unets', 'monitor': 'val_loss'}, 'logging': True}}\n"
     ]
    },
    {
     "name": "stderr",
     "output_type": "stream",
     "text": [
      "/tmp/ipykernel_554176/3995855781.py:27: FutureWarning: You are using `torch.load` with `weights_only=False` (the current default value), which uses the default pickle module implicitly. It is possible to construct malicious pickle data which will execute arbitrary code during unpickling (See https://github.com/pytorch/pytorch/blob/main/SECURITY.md#untrusted-models for more details). In a future release, the default value for `weights_only` will be flipped to `True`. This limits the functions that could be executed during unpickling. Arbitrary objects will no longer be allowed to be loaded via this mode unless they are explicitly allowlisted by the user via `torch.serialization.add_safe_globals`. We recommend you start setting `weights_only=True` for any use case where you don't have full control of the loaded file. Please open an issue on GitHub for any issues related to this experimental feature.\n",
      "  checkpoint = torch.load(checkpoint_path, map_location=torch.device(\"cpu\"))\n"
     ]
    }
   ],
   "source": [
    "checkpoint_path = '../../checkpoints/mnmv2-11-52_29-10-2024.ckpt'\n",
    "\n",
    "load_as_lightning_module = False\n",
    "load_as_pytorch_module = True\n",
    "\n",
    "if load_as_lightning_module:\n",
    "    unet_config    = OmegaConf.load('../../configs/monai_unet.yaml')\n",
    "    unet = UNet(\n",
    "        spatial_dims=unet_config.spatial_dims,\n",
    "        in_channels=unet_config.in_channels,\n",
    "        out_channels=unet_config.out_channels,\n",
    "        channels=[unet_config.n_filters_init * 2 ** i for i in range(unet_config.depth)],\n",
    "        strides=[2] * (unet_config.depth - 1),\n",
    "        num_res_units=4\n",
    "    )\n",
    "    model = LightningSegmentationModel.load_from_checkpoint(\n",
    "        checkpoint_path,\n",
    "        map_location=torch.device(\"cpu\"),\n",
    "        model=unet,\n",
    "        binary_target=True if unet_config.out_channels == 1 else False,\n",
    "        lr=unet_config.lr,\n",
    "        patience=unet_config.patience,\n",
    "        # cfg=OmegaConf.to_container(unet_config)\n",
    "    )\n",
    "\n",
    "elif load_as_pytorch_module:\n",
    "    checkpoint = torch.load(checkpoint_path, map_location=torch.device(\"cpu\"))\n",
    "    model_state_dict = checkpoint['state_dict']\n",
    "    model_state_dict = {k.replace('model.model.', 'model.'): v for k, v in model_state_dict.items() if k.startswith('model.')}\n",
    "    model_config = checkpoint['hyper_parameters']['cfgs']\n",
    "\n",
    "    print(model_config)\n",
    "\n",
    "    unet = UNet(\n",
    "        spatial_dims=model_config['unet']['spatial_dims'],\n",
    "        in_channels=model_config['unet']['in_channels'],\n",
    "        out_channels=model_config['unet']['out_channels'],\n",
    "        channels=[model_config['unet']['n_filters_init'] * 2 ** i for i in range(model_config['unet']['depth'])],\n",
    "        strides=[2] * (model_config['unet']['depth'] - 1),\n",
    "        num_res_units=4\n",
    "    )\n",
    "\n",
    "    unet.load_state_dict(model_state_dict)"
   ]
  },
  {
   "cell_type": "code",
   "execution_count": 8,
   "metadata": {},
   "outputs": [
    {
     "data": {
      "text/plain": [
       "{'unet_config': {'n_filters_init': 16, 'depth': 4, 'spatial_dims': 2, 'in_channels': 1, 'out_channels': 4, 'num_res_units': 4, 'lr': 0.001, 'patience': 5}, 'binary_target': False, 'lr': 0.001, 'patience': 5, 'dataset': {'data_dir': '/home/mikhelson/MedImSeg-Lab24/data/MNM/', 'vendor_assignment': {'train': 'siemens', 'test': 'ge'}, 'batch_size': 32, 'binary_target': False, 'non_empty_target': False}, 'unet': {'n_filters_init': 16, 'depth': 4, 'spatial_dims': 2, 'in_channels': 1, 'out_channels': 4, 'num_res_units': 4, 'lr': 0.001, 'patience': 5}, 'trainer': {'train_transforms': 'global_transforms', 'limit_train_batches': 50, 'max_epochs': 100, 'early_stopping': {'monitor': 'val_loss', 'mode': 'min'}, 'model_checkpoint': {'save_top_k': 2, 'dirpath': '../../pre-trained/trained_UNets', 'monitor': 'val_loss'}, 'logging': True}}"
      ]
     },
     "execution_count": 8,
     "metadata": {},
     "output_type": "execute_result"
    }
   ],
   "source": [
    "model.cfg"
   ]
  },
  {
   "cell_type": "code",
   "execution_count": null,
   "metadata": {},
   "outputs": [],
   "source": []
  }
 ],
 "metadata": {
  "kernelspec": {
   "display_name": "CLUE",
   "language": "python",
   "name": "python3"
  },
  "language_info": {
   "codemirror_mode": {
    "name": "ipython",
    "version": 3
   },
   "file_extension": ".py",
   "mimetype": "text/x-python",
   "name": "python",
   "nbconvert_exporter": "python",
   "pygments_lexer": "ipython3",
   "version": "3.8.10"
  }
 },
 "nbformat": 4,
 "nbformat_minor": 2
}
