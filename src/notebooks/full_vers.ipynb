{
 "cells": [
  {
   "cell_type": "code",
   "execution_count": 1,
   "metadata": {},
   "outputs": [
    {
     "name": "stdout",
     "output_type": "stream",
     "text": [
      "\n",
      "\n",
      "Please cite the following paper when using nnUNet:\n",
      "\n",
      "Isensee, F., Jaeger, P.F., Kohl, S.A.A. et al. \"nnU-Net: a self-configuring method for deep learning-based biomedical image segmentation.\" Nat Methods (2020). https://doi.org/10.1038/s41592-020-01008-z\n",
      "\n",
      "\n",
      "If you have questions or suggestions, feel free to open an issue at https://github.com/MIC-DKFZ/nnUNet\n",
      "\n",
      "nnUNet_raw_data_base is not defined and nnU-Net can only be used on data for which preprocessed files are already present on your system. nnU-Net cannot be used for experiment planning and preprocessing like this. If this is not intended, please read documentation/setting_up_paths.md for information on how to set this up properly.\n",
      "nnUNet_preprocessed is not defined and nnU-Net can not be used for preprocessing or training. If this is not intended, please read documentation/setting_up_paths.md for information on how to set this up.\n",
      "RESULTS_FOLDER is not defined and nnU-Net cannot be used for training or inference. If this is not intended behavior, please read documentation/setting_up_paths.md for information on how to set this up.\n"
     ]
    },
    {
     "name": "stderr",
     "output_type": "stream",
     "text": [
      "/home/mikhelson/MedImSeg-Lab24/CLUE/lib/python3.8/site-packages/lightning/fabric/utilities/cloud_io.py:57: You are using `torch.load` with `weights_only=False` (the current default value), which uses the default pickle module implicitly. It is possible to construct malicious pickle data which will execute arbitrary code during unpickling (See https://github.com/pytorch/pytorch/blob/main/SECURITY.md#untrusted-models for more details). In a future release, the default value for `weights_only` will be flipped to `True`. This limits the functions that could be executed during unpickling. Arbitrary objects will no longer be allowed to be loaded via this mode unless they are explicitly allowlisted by the user via `torch.serialization.add_safe_globals`. We recommend you start setting `weights_only=True` for any use case where you don't have full control of the loaded file. Please open an issue on GitHub for any issues related to this experimental feature.\n",
      "2it [00:02,  1.24s/it]\n",
      "/home/mikhelson/MedImSeg-Lab24/CLUE/lib/python3.8/site-packages/sklearn/cluster/_kmeans.py:1416: FutureWarning: The default value of `n_init` will change from 10 to 'auto' in 1.4. Set the value of `n_init` explicitly to suppress the warning\n",
      "  super()._check_params_vs_input(X, default_n_init=10)\n",
      "/home/mikhelson/MedImSeg-Lab24/CLUE/lib/python3.8/site-packages/lightning/pytorch/core/module.py:447: You are trying to `self.log()` but the `self.trainer` reference is not registered on the model yet. This is most likely because the model hasn't been passed to the `Trainer`\n"
     ]
    },
    {
     "name": "stdout",
     "output_type": "stream",
     "text": [
      "Test Results - Average Loss: 0.5151, Average Dice Score: 0.7595\n",
      "{'unet_config': {'n_filters_init': 16, 'depth': 4, 'spatial_dims': 2, 'in_channels': 1, 'out_channels': 4, 'num_res_units': 4, 'lr': 0.001, 'patience': 5, 'clue_softmax_t': 1.0, 'batch_size': 32}, 'binary_target': False, 'lr': 0.001, 'patience': 5, 'lambda_centroids': 0.6, 'dataset': {'data_dir': '/home/mikhelson/MedImSeg-Lab24/data/MNM/', 'vendor_assignment': {'train': 'siemens', 'test': 'ge'}, 'batch_size': 32, 'binary_target': False, 'non_empty_target': False}, 'unet': {'n_filters_init': 16, 'depth': 4, 'spatial_dims': 2, 'in_channels': 1, 'out_channels': 4, 'num_res_units': 4, 'lr': 0.001, 'patience': 5, 'clue_softmax_t': 1.0, 'batch_size': 32}, 'trainer': {'train_transforms': 'global_transforms', 'limit_train_batches': 50, 'max_epochs': 100, 'early_stopping': {'monitor': 'val_loss', 'mode': 'min'}, 'model_checkpoint': {'save_top_k': 2, 'dirpath': '../../pre-trained/trained_UNets', 'monitor': 'val_loss'}, 'logging': True}}\n"
     ]
    },
    {
     "name": "stderr",
     "output_type": "stream",
     "text": [
      "0it [00:00, ?it/s]"
     ]
    },
    {
     "name": "stdout",
     "output_type": "stream",
     "text": [
      "tensor(5.0549, device='cuda:2', grad_fn=<MeanBackward0>) tensor(5.5875, device='cuda:2', grad_fn=<MeanBackward0>)\n",
      "tensor(0.3130, device='cuda:2', grad_fn=<AddBackward0>) tensor(0.9047, device='cuda:2', grad_fn=<DivBackward0>)\n"
     ]
    },
    {
     "name": "stderr",
     "output_type": "stream",
     "text": [
      "3it [00:00,  3.84it/s]"
     ]
    },
    {
     "name": "stdout",
     "output_type": "stream",
     "text": [
      "tensor(4.8871, device='cuda:2', grad_fn=<MeanBackward0>) tensor(5.4904, device='cuda:2', grad_fn=<MeanBackward0>)\n",
      "tensor(0.3447, device='cuda:2', grad_fn=<AddBackward0>) tensor(0.8901, device='cuda:2', grad_fn=<DivBackward0>)\n",
      "tensor(4.8338, device='cuda:2', grad_fn=<MeanBackward0>) tensor(5.4682, device='cuda:2', grad_fn=<MeanBackward0>)\n",
      "tensor(0.3467, device='cuda:2', grad_fn=<AddBackward0>) tensor(0.8840, device='cuda:2', grad_fn=<DivBackward0>)\n",
      "tensor(4.6992, device='cuda:2', grad_fn=<MeanBackward0>) tensor(5.4043, device='cuda:2', grad_fn=<MeanBackward0>)\n",
      "tensor(0.3433, device='cuda:2', grad_fn=<AddBackward0>) tensor(0.8695, device='cuda:2', grad_fn=<DivBackward0>)\n"
     ]
    },
    {
     "name": "stderr",
     "output_type": "stream",
     "text": [
      "7it [00:01,  7.26it/s]"
     ]
    },
    {
     "name": "stdout",
     "output_type": "stream",
     "text": [
      "tensor(4.5665, device='cuda:2', grad_fn=<MeanBackward0>) tensor(5.3252, device='cuda:2', grad_fn=<MeanBackward0>)\n",
      "tensor(0.3443, device='cuda:2', grad_fn=<AddBackward0>) tensor(0.8575, device='cuda:2', grad_fn=<DivBackward0>)\n",
      "tensor(4.4832, device='cuda:2', grad_fn=<MeanBackward0>) tensor(5.2907, device='cuda:2', grad_fn=<MeanBackward0>)\n",
      "tensor(0.3405, device='cuda:2', grad_fn=<AddBackward0>) tensor(0.8474, device='cuda:2', grad_fn=<DivBackward0>)\n",
      "tensor(4.4308, device='cuda:2', grad_fn=<MeanBackward0>) tensor(5.2784, device='cuda:2', grad_fn=<MeanBackward0>)\n",
      "tensor(0.3527, device='cuda:2', grad_fn=<AddBackward0>) tensor(0.8394, device='cuda:2', grad_fn=<DivBackward0>)\n"
     ]
    },
    {
     "name": "stderr",
     "output_type": "stream",
     "text": [
      "9it [00:01,  8.27it/s]"
     ]
    },
    {
     "name": "stdout",
     "output_type": "stream",
     "text": [
      "tensor(4.3541, device='cuda:2', grad_fn=<MeanBackward0>) tensor(5.2541, device='cuda:2', grad_fn=<MeanBackward0>)\n",
      "tensor(0.3240, device='cuda:2', grad_fn=<AddBackward0>) tensor(0.8287, device='cuda:2', grad_fn=<DivBackward0>)\n",
      "tensor(4.3007, device='cuda:2', grad_fn=<MeanBackward0>) tensor(5.2325, device='cuda:2', grad_fn=<MeanBackward0>)\n",
      "tensor(0.3330, device='cuda:2', grad_fn=<AddBackward0>) tensor(0.8219, device='cuda:2', grad_fn=<DivBackward0>)\n",
      "tensor(4.2592, device='cuda:2', grad_fn=<MeanBackward0>) tensor(5.2279, device='cuda:2', grad_fn=<MeanBackward0>)\n",
      "tensor(0.3723, device='cuda:2', grad_fn=<AddBackward0>) tensor(0.8147, device='cuda:2', grad_fn=<DivBackward0>)\n"
     ]
    },
    {
     "name": "stderr",
     "output_type": "stream",
     "text": [
      "13it [00:01,  9.70it/s]"
     ]
    },
    {
     "name": "stdout",
     "output_type": "stream",
     "text": [
      "tensor(4.2391, device='cuda:2', grad_fn=<MeanBackward0>) tensor(5.2296, device='cuda:2', grad_fn=<MeanBackward0>)\n",
      "tensor(0.3642, device='cuda:2', grad_fn=<AddBackward0>) tensor(0.8106, device='cuda:2', grad_fn=<DivBackward0>)\n",
      "tensor(4.1983, device='cuda:2', grad_fn=<MeanBackward0>) tensor(5.2228, device='cuda:2', grad_fn=<MeanBackward0>)\n",
      "tensor(0.3714, device='cuda:2', grad_fn=<AddBackward0>) tensor(0.8039, device='cuda:2', grad_fn=<DivBackward0>)\n",
      "tensor(4.1552, device='cuda:2', grad_fn=<MeanBackward0>) tensor(5.2045, device='cuda:2', grad_fn=<MeanBackward0>)\n",
      "tensor(0.3782, device='cuda:2', grad_fn=<AddBackward0>) tensor(0.7984, device='cuda:2', grad_fn=<DivBackward0>)\n"
     ]
    },
    {
     "name": "stderr",
     "output_type": "stream",
     "text": [
      "15it [00:02, 10.11it/s]"
     ]
    },
    {
     "name": "stdout",
     "output_type": "stream",
     "text": [
      "tensor(4.0855, device='cuda:2', grad_fn=<MeanBackward0>) tensor(5.1434, device='cuda:2', grad_fn=<MeanBackward0>)\n",
      "tensor(0.3115, device='cuda:2', grad_fn=<AddBackward0>) tensor(0.7943, device='cuda:2', grad_fn=<DivBackward0>)\n",
      "tensor(4.0266, device='cuda:2', grad_fn=<MeanBackward0>) tensor(5.1120, device='cuda:2', grad_fn=<MeanBackward0>)\n",
      "tensor(0.2960, device='cuda:2', grad_fn=<AddBackward0>) tensor(0.7877, device='cuda:2', grad_fn=<DivBackward0>)\n",
      "tensor(3.9802, device='cuda:2', grad_fn=<MeanBackward0>) tensor(5.0964, device='cuda:2', grad_fn=<MeanBackward0>)\n",
      "tensor(0.2983, device='cuda:2', grad_fn=<AddBackward0>) tensor(0.7810, device='cuda:2', grad_fn=<DivBackward0>)\n"
     ]
    },
    {
     "name": "stderr",
     "output_type": "stream",
     "text": [
      "19it [00:02, 10.56it/s]"
     ]
    },
    {
     "name": "stdout",
     "output_type": "stream",
     "text": [
      "tensor(3.9382, device='cuda:2', grad_fn=<MeanBackward0>) tensor(5.0804, device='cuda:2', grad_fn=<MeanBackward0>)\n",
      "tensor(0.2959, device='cuda:2', grad_fn=<AddBackward0>) tensor(0.7752, device='cuda:2', grad_fn=<DivBackward0>)\n",
      "tensor(3.8858, device='cuda:2', grad_fn=<MeanBackward0>) tensor(5.0959, device='cuda:2', grad_fn=<MeanBackward0>)\n",
      "tensor(0.3740, device='cuda:2', grad_fn=<AddBackward0>) tensor(0.7625, device='cuda:2', grad_fn=<DivBackward0>)\n",
      "tensor(3.8684, device='cuda:2', grad_fn=<MeanBackward0>) tensor(5.0920, device='cuda:2', grad_fn=<MeanBackward0>)\n",
      "tensor(0.3665, device='cuda:2', grad_fn=<AddBackward0>) tensor(0.7597, device='cuda:2', grad_fn=<DivBackward0>)\n"
     ]
    },
    {
     "name": "stderr",
     "output_type": "stream",
     "text": [
      "21it [00:02, 10.72it/s]"
     ]
    },
    {
     "name": "stdout",
     "output_type": "stream",
     "text": [
      "tensor(3.8080, device='cuda:2', grad_fn=<MeanBackward0>) tensor(5.0734, device='cuda:2', grad_fn=<MeanBackward0>)\n",
      "tensor(0.3637, device='cuda:2', grad_fn=<AddBackward0>) tensor(0.7506, device='cuda:2', grad_fn=<DivBackward0>)\n",
      "tensor(3.7596, device='cuda:2', grad_fn=<MeanBackward0>) tensor(5.0561, device='cuda:2', grad_fn=<MeanBackward0>)\n",
      "tensor(0.3638, device='cuda:2', grad_fn=<AddBackward0>) tensor(0.7436, device='cuda:2', grad_fn=<DivBackward0>)\n",
      "tensor(3.7336, device='cuda:2', grad_fn=<MeanBackward0>) tensor(5.0379, device='cuda:2', grad_fn=<MeanBackward0>)\n",
      "tensor(0.2662, device='cuda:2', grad_fn=<AddBackward0>) tensor(0.7411, device='cuda:2', grad_fn=<DivBackward0>)\n"
     ]
    },
    {
     "name": "stderr",
     "output_type": "stream",
     "text": [
      "23it [00:02, 10.89it/s]"
     ]
    },
    {
     "name": "stdout",
     "output_type": "stream",
     "text": [
      "tensor(3.7058, device='cuda:2', grad_fn=<MeanBackward0>) tensor(5.0181, device='cuda:2', grad_fn=<MeanBackward0>)\n",
      "tensor(0.2996, device='cuda:2', grad_fn=<AddBackward0>) tensor(0.7385, device='cuda:2', grad_fn=<DivBackward0>)\n",
      "tensor(3.6382, device='cuda:2', grad_fn=<MeanBackward0>) tensor(4.9793, device='cuda:2', grad_fn=<MeanBackward0>)\n",
      "tensor(0.2560, device='cuda:2', grad_fn=<AddBackward0>) tensor(0.7307, device='cuda:2', grad_fn=<DivBackward0>)\n",
      "tensor(3.5919, device='cuda:2', grad_fn=<MeanBackward0>) tensor(4.9574, device='cuda:2', grad_fn=<MeanBackward0>)\n",
      "tensor(0.2638, device='cuda:2', grad_fn=<AddBackward0>) tensor(0.7246, device='cuda:2', grad_fn=<DivBackward0>)\n"
     ]
    },
    {
     "name": "stderr",
     "output_type": "stream",
     "text": [
      "27it [00:03, 11.00it/s]"
     ]
    },
    {
     "name": "stdout",
     "output_type": "stream",
     "text": [
      "tensor(3.5909, device='cuda:2', grad_fn=<MeanBackward0>) tensor(4.9782, device='cuda:2', grad_fn=<MeanBackward0>)\n",
      "tensor(0.3776, device='cuda:2', grad_fn=<AddBackward0>) tensor(0.7213, device='cuda:2', grad_fn=<DivBackward0>)\n",
      "tensor(3.5716, device='cuda:2', grad_fn=<MeanBackward0>) tensor(4.9855, device='cuda:2', grad_fn=<MeanBackward0>)\n",
      "tensor(0.3688, device='cuda:2', grad_fn=<AddBackward0>) tensor(0.7164, device='cuda:2', grad_fn=<DivBackward0>)\n",
      "tensor(3.5775, device='cuda:2', grad_fn=<MeanBackward0>) tensor(4.9911, device='cuda:2', grad_fn=<MeanBackward0>)\n",
      "tensor(0.3656, device='cuda:2', grad_fn=<AddBackward0>) tensor(0.7168, device='cuda:2', grad_fn=<DivBackward0>)\n"
     ]
    },
    {
     "name": "stderr",
     "output_type": "stream",
     "text": [
      "31it [00:03, 11.03it/s]"
     ]
    },
    {
     "name": "stdout",
     "output_type": "stream",
     "text": [
      "tensor(3.5438, device='cuda:2', grad_fn=<MeanBackward0>) tensor(4.9759, device='cuda:2', grad_fn=<MeanBackward0>)\n",
      "tensor(0.3561, device='cuda:2', grad_fn=<AddBackward0>) tensor(0.7122, device='cuda:2', grad_fn=<DivBackward0>)\n",
      "tensor(3.5017, device='cuda:2', grad_fn=<MeanBackward0>) tensor(4.9235, device='cuda:2', grad_fn=<MeanBackward0>)\n",
      "tensor(0.3520, device='cuda:2', grad_fn=<AddBackward0>) tensor(0.7112, device='cuda:2', grad_fn=<DivBackward0>)\n",
      "tensor(3.4746, device='cuda:2', grad_fn=<MeanBackward0>) tensor(4.9028, device='cuda:2', grad_fn=<MeanBackward0>)\n",
      "tensor(0.3423, device='cuda:2', grad_fn=<AddBackward0>) tensor(0.7087, device='cuda:2', grad_fn=<DivBackward0>)\n"
     ]
    },
    {
     "name": "stderr",
     "output_type": "stream",
     "text": [
      "33it [00:03, 11.04it/s]"
     ]
    },
    {
     "name": "stdout",
     "output_type": "stream",
     "text": [
      "tensor(3.4310, device='cuda:2', grad_fn=<MeanBackward0>) tensor(4.8826, device='cuda:2', grad_fn=<MeanBackward0>)\n",
      "tensor(0.3317, device='cuda:2', grad_fn=<AddBackward0>) tensor(0.7027, device='cuda:2', grad_fn=<DivBackward0>)\n",
      "tensor(3.3862, device='cuda:2', grad_fn=<MeanBackward0>) tensor(4.8468, device='cuda:2', grad_fn=<MeanBackward0>)\n",
      "tensor(0.3322, device='cuda:2', grad_fn=<AddBackward0>) tensor(0.6986, device='cuda:2', grad_fn=<DivBackward0>)\n",
      "tensor(3.3714, device='cuda:2', grad_fn=<MeanBackward0>) tensor(4.8582, device='cuda:2', grad_fn=<MeanBackward0>)\n",
      "tensor(0.3349, device='cuda:2', grad_fn=<AddBackward0>) tensor(0.6940, device='cuda:2', grad_fn=<DivBackward0>)\n"
     ]
    },
    {
     "name": "stderr",
     "output_type": "stream",
     "text": [
      "37it [00:04, 11.06it/s]"
     ]
    },
    {
     "name": "stdout",
     "output_type": "stream",
     "text": [
      "tensor(3.3218, device='cuda:2', grad_fn=<MeanBackward0>) tensor(4.8434, device='cuda:2', grad_fn=<MeanBackward0>)\n",
      "tensor(0.3283, device='cuda:2', grad_fn=<AddBackward0>) tensor(0.6858, device='cuda:2', grad_fn=<DivBackward0>)\n",
      "tensor(3.3444, device='cuda:2', grad_fn=<MeanBackward0>) tensor(4.8465, device='cuda:2', grad_fn=<MeanBackward0>)\n",
      "tensor(0.3378, device='cuda:2', grad_fn=<AddBackward0>) tensor(0.6901, device='cuda:2', grad_fn=<DivBackward0>)\n",
      "tensor(3.3167, device='cuda:2', grad_fn=<MeanBackward0>) tensor(4.8397, device='cuda:2', grad_fn=<MeanBackward0>)\n",
      "tensor(0.3273, device='cuda:2', grad_fn=<AddBackward0>) tensor(0.6853, device='cuda:2', grad_fn=<DivBackward0>)\n"
     ]
    },
    {
     "name": "stderr",
     "output_type": "stream",
     "text": [
      "39it [00:04, 11.05it/s]"
     ]
    },
    {
     "name": "stdout",
     "output_type": "stream",
     "text": [
      "tensor(3.2921, device='cuda:2', grad_fn=<MeanBackward0>) tensor(4.8140, device='cuda:2', grad_fn=<MeanBackward0>)\n",
      "tensor(0.3095, device='cuda:2', grad_fn=<AddBackward0>) tensor(0.6839, device='cuda:2', grad_fn=<DivBackward0>)\n",
      "tensor(3.2775, device='cuda:2', grad_fn=<MeanBackward0>) tensor(4.7903, device='cuda:2', grad_fn=<MeanBackward0>)\n",
      "tensor(0.3156, device='cuda:2', grad_fn=<AddBackward0>) tensor(0.6842, device='cuda:2', grad_fn=<DivBackward0>)\n",
      "tensor(3.2568, device='cuda:2', grad_fn=<MeanBackward0>) tensor(4.7630, device='cuda:2', grad_fn=<MeanBackward0>)\n",
      "tensor(0.3058, device='cuda:2', grad_fn=<AddBackward0>) tensor(0.6838, device='cuda:2', grad_fn=<DivBackward0>)\n"
     ]
    },
    {
     "name": "stderr",
     "output_type": "stream",
     "text": [
      "43it [00:04, 11.02it/s]"
     ]
    },
    {
     "name": "stdout",
     "output_type": "stream",
     "text": [
      "tensor(3.2158, device='cuda:2', grad_fn=<MeanBackward0>) tensor(4.7402, device='cuda:2', grad_fn=<MeanBackward0>)\n",
      "tensor(0.3151, device='cuda:2', grad_fn=<AddBackward0>) tensor(0.6784, device='cuda:2', grad_fn=<DivBackward0>)\n",
      "tensor(3.2207, device='cuda:2', grad_fn=<MeanBackward0>) tensor(4.7728, device='cuda:2', grad_fn=<MeanBackward0>)\n",
      "tensor(0.3795, device='cuda:2', grad_fn=<AddBackward0>) tensor(0.6748, device='cuda:2', grad_fn=<DivBackward0>)\n",
      "tensor(3.2013, device='cuda:2', grad_fn=<MeanBackward0>) tensor(4.7694, device='cuda:2', grad_fn=<MeanBackward0>)\n",
      "tensor(0.3595, device='cuda:2', grad_fn=<AddBackward0>) tensor(0.6712, device='cuda:2', grad_fn=<DivBackward0>)\n"
     ]
    },
    {
     "name": "stderr",
     "output_type": "stream",
     "text": [
      "45it [00:04, 10.96it/s]"
     ]
    },
    {
     "name": "stdout",
     "output_type": "stream",
     "text": [
      "tensor(3.1534, device='cuda:2', grad_fn=<MeanBackward0>) tensor(4.7600, device='cuda:2', grad_fn=<MeanBackward0>)\n",
      "tensor(0.3527, device='cuda:2', grad_fn=<AddBackward0>) tensor(0.6625, device='cuda:2', grad_fn=<DivBackward0>)\n",
      "tensor(3.1523, device='cuda:2', grad_fn=<MeanBackward0>) tensor(4.7577, device='cuda:2', grad_fn=<MeanBackward0>)\n",
      "tensor(0.3695, device='cuda:2', grad_fn=<AddBackward0>) tensor(0.6626, device='cuda:2', grad_fn=<DivBackward0>)\n",
      "tensor(3.0832, device='cuda:2', grad_fn=<MeanBackward0>) tensor(4.6918, device='cuda:2', grad_fn=<MeanBackward0>)\n",
      "tensor(0.3573, device='cuda:2', grad_fn=<AddBackward0>) tensor(0.6572, device='cuda:2', grad_fn=<DivBackward0>)\n"
     ]
    },
    {
     "name": "stderr",
     "output_type": "stream",
     "text": [
      "47it [00:04, 10.97it/s]"
     ]
    },
    {
     "name": "stdout",
     "output_type": "stream",
     "text": [
      "tensor(3.0515, device='cuda:2', grad_fn=<MeanBackward0>) tensor(4.6808, device='cuda:2', grad_fn=<MeanBackward0>)\n",
      "tensor(0.3701, device='cuda:2', grad_fn=<AddBackward0>) tensor(0.6519, device='cuda:2', grad_fn=<DivBackward0>)\n",
      "tensor(3.0293, device='cuda:2', grad_fn=<MeanBackward0>) tensor(4.6650, device='cuda:2', grad_fn=<MeanBackward0>)\n",
      "tensor(0.3560, device='cuda:2', grad_fn=<AddBackward0>) tensor(0.6494, device='cuda:2', grad_fn=<DivBackward0>)\n",
      "tensor(2.9978, device='cuda:2', grad_fn=<MeanBackward0>) tensor(4.6490, device='cuda:2', grad_fn=<MeanBackward0>)\n",
      "tensor(0.3487, device='cuda:2', grad_fn=<AddBackward0>) tensor(0.6448, device='cuda:2', grad_fn=<DivBackward0>)\n"
     ]
    },
    {
     "name": "stderr",
     "output_type": "stream",
     "text": [
      "51it [00:05, 10.97it/s]"
     ]
    },
    {
     "name": "stdout",
     "output_type": "stream",
     "text": [
      "tensor(2.9815, device='cuda:2', grad_fn=<MeanBackward0>) tensor(4.6192, device='cuda:2', grad_fn=<MeanBackward0>)\n",
      "tensor(0.3301, device='cuda:2', grad_fn=<AddBackward0>) tensor(0.6455, device='cuda:2', grad_fn=<DivBackward0>)\n",
      "tensor(2.9952, device='cuda:2', grad_fn=<MeanBackward0>) tensor(4.6241, device='cuda:2', grad_fn=<MeanBackward0>)\n",
      "tensor(0.3362, device='cuda:2', grad_fn=<AddBackward0>) tensor(0.6477, device='cuda:2', grad_fn=<DivBackward0>)\n",
      "tensor(2.9917, device='cuda:2', grad_fn=<MeanBackward0>) tensor(4.6148, device='cuda:2', grad_fn=<MeanBackward0>)\n",
      "tensor(0.3234, device='cuda:2', grad_fn=<AddBackward0>) tensor(0.6483, device='cuda:2', grad_fn=<DivBackward0>)\n"
     ]
    },
    {
     "name": "stderr",
     "output_type": "stream",
     "text": [
      "53it [00:05, 11.00it/s]"
     ]
    },
    {
     "name": "stdout",
     "output_type": "stream",
     "text": [
      "tensor(2.9555, device='cuda:2', grad_fn=<MeanBackward0>) tensor(4.6109, device='cuda:2', grad_fn=<MeanBackward0>)\n",
      "tensor(0.3310, device='cuda:2', grad_fn=<AddBackward0>) tensor(0.6410, device='cuda:2', grad_fn=<DivBackward0>)\n",
      "tensor(2.9437, device='cuda:2', grad_fn=<MeanBackward0>) tensor(4.6215, device='cuda:2', grad_fn=<MeanBackward0>)\n",
      "tensor(0.3332, device='cuda:2', grad_fn=<AddBackward0>) tensor(0.6370, device='cuda:2', grad_fn=<DivBackward0>)\n",
      "tensor(2.9410, device='cuda:2', grad_fn=<MeanBackward0>) tensor(4.6239, device='cuda:2', grad_fn=<MeanBackward0>)\n",
      "tensor(0.3392, device='cuda:2', grad_fn=<AddBackward0>) tensor(0.6360, device='cuda:2', grad_fn=<DivBackward0>)\n"
     ]
    },
    {
     "name": "stderr",
     "output_type": "stream",
     "text": [
      "57it [00:05, 10.97it/s]"
     ]
    },
    {
     "name": "stdout",
     "output_type": "stream",
     "text": [
      "tensor(2.9198, device='cuda:2', grad_fn=<MeanBackward0>) tensor(4.6225, device='cuda:2', grad_fn=<MeanBackward0>)\n",
      "tensor(0.3380, device='cuda:2', grad_fn=<AddBackward0>) tensor(0.6316, device='cuda:2', grad_fn=<DivBackward0>)\n",
      "tensor(2.8543, device='cuda:2', grad_fn=<MeanBackward0>) tensor(4.5798, device='cuda:2', grad_fn=<MeanBackward0>)\n",
      "tensor(0.3240, device='cuda:2', grad_fn=<AddBackward0>) tensor(0.6232, device='cuda:2', grad_fn=<DivBackward0>)\n",
      "tensor(2.8124, device='cuda:2', grad_fn=<MeanBackward0>) tensor(4.5398, device='cuda:2', grad_fn=<MeanBackward0>)\n",
      "tensor(0.2968, device='cuda:2', grad_fn=<AddBackward0>) tensor(0.6195, device='cuda:2', grad_fn=<DivBackward0>)\n"
     ]
    },
    {
     "name": "stderr",
     "output_type": "stream",
     "text": [
      "61it [00:06, 11.06it/s]"
     ]
    },
    {
     "name": "stdout",
     "output_type": "stream",
     "text": [
      "tensor(2.7914, device='cuda:2', grad_fn=<MeanBackward0>) tensor(4.5269, device='cuda:2', grad_fn=<MeanBackward0>)\n",
      "tensor(0.3062, device='cuda:2', grad_fn=<AddBackward0>) tensor(0.6166, device='cuda:2', grad_fn=<DivBackward0>)\n",
      "tensor(2.7838, device='cuda:2', grad_fn=<MeanBackward0>) tensor(4.5268, device='cuda:2', grad_fn=<MeanBackward0>)\n",
      "tensor(0.2929, device='cuda:2', grad_fn=<AddBackward0>) tensor(0.6150, device='cuda:2', grad_fn=<DivBackward0>)\n",
      "tensor(2.7422, device='cuda:2', grad_fn=<MeanBackward0>) tensor(4.4909, device='cuda:2', grad_fn=<MeanBackward0>)\n",
      "tensor(0.3150, device='cuda:2', grad_fn=<AddBackward0>) tensor(0.6106, device='cuda:2', grad_fn=<DivBackward0>)\n"
     ]
    },
    {
     "name": "stderr",
     "output_type": "stream",
     "text": [
      "63it [00:06, 11.05it/s]"
     ]
    },
    {
     "name": "stdout",
     "output_type": "stream",
     "text": [
      "tensor(2.6509, device='cuda:2', grad_fn=<MeanBackward0>) tensor(4.4373, device='cuda:2', grad_fn=<MeanBackward0>)\n",
      "tensor(0.3123, device='cuda:2', grad_fn=<AddBackward0>) tensor(0.5974, device='cuda:2', grad_fn=<DivBackward0>)\n",
      "tensor(2.6759, device='cuda:2', grad_fn=<MeanBackward0>) tensor(4.4632, device='cuda:2', grad_fn=<MeanBackward0>)\n",
      "tensor(0.2952, device='cuda:2', grad_fn=<AddBackward0>) tensor(0.5995, device='cuda:2', grad_fn=<DivBackward0>)\n",
      "tensor(2.6715, device='cuda:2', grad_fn=<MeanBackward0>) tensor(4.4659, device='cuda:2', grad_fn=<MeanBackward0>)\n",
      "tensor(0.3081, device='cuda:2', grad_fn=<AddBackward0>) tensor(0.5982, device='cuda:2', grad_fn=<DivBackward0>)\n"
     ]
    },
    {
     "name": "stderr",
     "output_type": "stream",
     "text": [
      "67it [00:06, 10.98it/s]"
     ]
    },
    {
     "name": "stdout",
     "output_type": "stream",
     "text": [
      "tensor(2.6719, device='cuda:2', grad_fn=<MeanBackward0>) tensor(4.4595, device='cuda:2', grad_fn=<MeanBackward0>)\n",
      "tensor(0.3110, device='cuda:2', grad_fn=<AddBackward0>) tensor(0.5991, device='cuda:2', grad_fn=<DivBackward0>)\n",
      "tensor(2.7170, device='cuda:2', grad_fn=<MeanBackward0>) tensor(4.5042, device='cuda:2', grad_fn=<MeanBackward0>)\n",
      "tensor(0.3746, device='cuda:2', grad_fn=<AddBackward0>) tensor(0.6032, device='cuda:2', grad_fn=<DivBackward0>)\n",
      "tensor(2.7021, device='cuda:2', grad_fn=<MeanBackward0>) tensor(4.4936, device='cuda:2', grad_fn=<MeanBackward0>)\n",
      "tensor(0.3937, device='cuda:2', grad_fn=<AddBackward0>) tensor(0.6013, device='cuda:2', grad_fn=<DivBackward0>)\n"
     ]
    },
    {
     "name": "stderr",
     "output_type": "stream",
     "text": [
      "69it [00:06, 11.02it/s]"
     ]
    },
    {
     "name": "stdout",
     "output_type": "stream",
     "text": [
      "tensor(2.6930, device='cuda:2', grad_fn=<MeanBackward0>) tensor(4.4797, device='cuda:2', grad_fn=<MeanBackward0>)\n",
      "tensor(0.3719, device='cuda:2', grad_fn=<AddBackward0>) tensor(0.6012, device='cuda:2', grad_fn=<DivBackward0>)\n",
      "tensor(2.6797, device='cuda:2', grad_fn=<MeanBackward0>) tensor(4.4643, device='cuda:2', grad_fn=<MeanBackward0>)\n",
      "tensor(0.3876, device='cuda:2', grad_fn=<AddBackward0>) tensor(0.6003, device='cuda:2', grad_fn=<DivBackward0>)\n",
      "tensor(2.6624, device='cuda:2', grad_fn=<MeanBackward0>) tensor(4.4624, device='cuda:2', grad_fn=<MeanBackward0>)\n",
      "tensor(0.3235, device='cuda:2', grad_fn=<AddBackward0>) tensor(0.5966, device='cuda:2', grad_fn=<DivBackward0>)\n"
     ]
    },
    {
     "name": "stderr",
     "output_type": "stream",
     "text": [
      "73it [00:07, 11.00it/s]"
     ]
    },
    {
     "name": "stdout",
     "output_type": "stream",
     "text": [
      "tensor(2.6414, device='cuda:2', grad_fn=<MeanBackward0>) tensor(4.4570, device='cuda:2', grad_fn=<MeanBackward0>)\n",
      "tensor(0.3332, device='cuda:2', grad_fn=<AddBackward0>) tensor(0.5926, device='cuda:2', grad_fn=<DivBackward0>)\n",
      "tensor(2.5893, device='cuda:2', grad_fn=<MeanBackward0>) tensor(4.4194, device='cuda:2', grad_fn=<MeanBackward0>)\n",
      "tensor(0.2984, device='cuda:2', grad_fn=<AddBackward0>) tensor(0.5859, device='cuda:2', grad_fn=<DivBackward0>)\n",
      "tensor(2.5433, device='cuda:2', grad_fn=<MeanBackward0>) tensor(4.4055, device='cuda:2', grad_fn=<MeanBackward0>)\n",
      "tensor(0.3123, device='cuda:2', grad_fn=<AddBackward0>) tensor(0.5773, device='cuda:2', grad_fn=<DivBackward0>)\n"
     ]
    },
    {
     "name": "stderr",
     "output_type": "stream",
     "text": [
      "75it [00:07, 10.96it/s]"
     ]
    },
    {
     "name": "stdout",
     "output_type": "stream",
     "text": [
      "tensor(2.5031, device='cuda:2', grad_fn=<MeanBackward0>) tensor(4.3743, device='cuda:2', grad_fn=<MeanBackward0>)\n",
      "tensor(0.3234, device='cuda:2', grad_fn=<AddBackward0>) tensor(0.5722, device='cuda:2', grad_fn=<DivBackward0>)\n",
      "tensor(2.4967, device='cuda:2', grad_fn=<MeanBackward0>) tensor(4.3647, device='cuda:2', grad_fn=<MeanBackward0>)\n",
      "tensor(0.3277, device='cuda:2', grad_fn=<AddBackward0>) tensor(0.5720, device='cuda:2', grad_fn=<DivBackward0>)\n",
      "tensor(2.4672, device='cuda:2', grad_fn=<MeanBackward0>) tensor(4.3550, device='cuda:2', grad_fn=<MeanBackward0>)\n",
      "tensor(0.3253, device='cuda:2', grad_fn=<AddBackward0>) tensor(0.5665, device='cuda:2', grad_fn=<DivBackward0>)\n"
     ]
    },
    {
     "name": "stderr",
     "output_type": "stream",
     "text": [
      "77it [00:07, 11.04it/s]"
     ]
    },
    {
     "name": "stdout",
     "output_type": "stream",
     "text": [
      "tensor(2.4600, device='cuda:2', grad_fn=<MeanBackward0>) tensor(4.3382, device='cuda:2', grad_fn=<MeanBackward0>)\n",
      "tensor(0.3363, device='cuda:2', grad_fn=<AddBackward0>) tensor(0.5671, device='cuda:2', grad_fn=<DivBackward0>)\n",
      "tensor(2.4316, device='cuda:2', grad_fn=<MeanBackward0>) tensor(4.3452, device='cuda:2', grad_fn=<MeanBackward0>)\n",
      "tensor(0.3003, device='cuda:2', grad_fn=<AddBackward0>) tensor(0.5596, device='cuda:2', grad_fn=<DivBackward0>)\n",
      "tensor(2.4293, device='cuda:2', grad_fn=<MeanBackward0>) tensor(4.3377, device='cuda:2', grad_fn=<MeanBackward0>)\n",
      "tensor(0.2995, device='cuda:2', grad_fn=<AddBackward0>) tensor(0.5600, device='cuda:2', grad_fn=<DivBackward0>)\n"
     ]
    },
    {
     "name": "stderr",
     "output_type": "stream",
     "text": [
      "81it [00:08, 11.02it/s]"
     ]
    },
    {
     "name": "stdout",
     "output_type": "stream",
     "text": [
      "tensor(2.4165, device='cuda:2', grad_fn=<MeanBackward0>) tensor(4.3297, device='cuda:2', grad_fn=<MeanBackward0>)\n",
      "tensor(0.3084, device='cuda:2', grad_fn=<AddBackward0>) tensor(0.5581, device='cuda:2', grad_fn=<DivBackward0>)\n",
      "tensor(2.4191, device='cuda:2', grad_fn=<MeanBackward0>) tensor(4.3309, device='cuda:2', grad_fn=<MeanBackward0>)\n",
      "tensor(0.2886, device='cuda:2', grad_fn=<AddBackward0>) tensor(0.5586, device='cuda:2', grad_fn=<DivBackward0>)\n",
      "tensor(2.4559, device='cuda:2', grad_fn=<MeanBackward0>) tensor(4.3112, device='cuda:2', grad_fn=<MeanBackward0>)\n",
      "tensor(0.3576, device='cuda:2', grad_fn=<AddBackward0>) tensor(0.5697, device='cuda:2', grad_fn=<DivBackward0>)\n"
     ]
    },
    {
     "name": "stderr",
     "output_type": "stream",
     "text": [
      "85it [00:08, 11.05it/s]"
     ]
    },
    {
     "name": "stdout",
     "output_type": "stream",
     "text": [
      "tensor(2.4252, device='cuda:2', grad_fn=<MeanBackward0>) tensor(4.3210, device='cuda:2', grad_fn=<MeanBackward0>)\n",
      "tensor(0.3130, device='cuda:2', grad_fn=<AddBackward0>) tensor(0.5613, device='cuda:2', grad_fn=<DivBackward0>)\n",
      "tensor(2.4023, device='cuda:2', grad_fn=<MeanBackward0>) tensor(4.3049, device='cuda:2', grad_fn=<MeanBackward0>)\n",
      "tensor(0.2975, device='cuda:2', grad_fn=<AddBackward0>) tensor(0.5580, device='cuda:2', grad_fn=<DivBackward0>)\n",
      "tensor(2.3767, device='cuda:2', grad_fn=<MeanBackward0>) tensor(4.3037, device='cuda:2', grad_fn=<MeanBackward0>)\n",
      "tensor(0.3029, device='cuda:2', grad_fn=<AddBackward0>) tensor(0.5522, device='cuda:2', grad_fn=<DivBackward0>)\n"
     ]
    },
    {
     "name": "stderr",
     "output_type": "stream",
     "text": [
      "87it [00:08, 10.95it/s]"
     ]
    },
    {
     "name": "stdout",
     "output_type": "stream",
     "text": [
      "tensor(2.3828, device='cuda:2', grad_fn=<MeanBackward0>) tensor(4.3258, device='cuda:2', grad_fn=<MeanBackward0>)\n",
      "tensor(0.3086, device='cuda:2', grad_fn=<AddBackward0>) tensor(0.5508, device='cuda:2', grad_fn=<DivBackward0>)\n",
      "tensor(2.3834, device='cuda:2', grad_fn=<MeanBackward0>) tensor(4.3125, device='cuda:2', grad_fn=<MeanBackward0>)\n",
      "tensor(0.3007, device='cuda:2', grad_fn=<AddBackward0>) tensor(0.5527, device='cuda:2', grad_fn=<DivBackward0>)\n",
      "tensor(2.3677, device='cuda:2', grad_fn=<MeanBackward0>) tensor(4.2982, device='cuda:2', grad_fn=<MeanBackward0>)\n",
      "tensor(0.2969, device='cuda:2', grad_fn=<AddBackward0>) tensor(0.5509, device='cuda:2', grad_fn=<DivBackward0>)\n"
     ]
    },
    {
     "name": "stderr",
     "output_type": "stream",
     "text": [
      "89it [00:08, 11.04it/s]"
     ]
    },
    {
     "name": "stdout",
     "output_type": "stream",
     "text": [
      "tensor(2.3136, device='cuda:2', grad_fn=<MeanBackward0>) tensor(4.2725, device='cuda:2', grad_fn=<MeanBackward0>)\n",
      "tensor(0.2822, device='cuda:2', grad_fn=<AddBackward0>) tensor(0.5415, device='cuda:2', grad_fn=<DivBackward0>)\n",
      "tensor(2.2942, device='cuda:2', grad_fn=<MeanBackward0>) tensor(4.2340, device='cuda:2', grad_fn=<MeanBackward0>)\n",
      "tensor(0.3361, device='cuda:2', grad_fn=<AddBackward0>) tensor(0.5418, device='cuda:2', grad_fn=<DivBackward0>)\n",
      "tensor(2.3036, device='cuda:2', grad_fn=<MeanBackward0>) tensor(4.2497, device='cuda:2', grad_fn=<MeanBackward0>)\n",
      "tensor(0.3469, device='cuda:2', grad_fn=<AddBackward0>) tensor(0.5421, device='cuda:2', grad_fn=<DivBackward0>)\n"
     ]
    },
    {
     "name": "stderr",
     "output_type": "stream",
     "text": [
      "93it [00:09, 10.98it/s]"
     ]
    },
    {
     "name": "stdout",
     "output_type": "stream",
     "text": [
      "tensor(2.2908, device='cuda:2', grad_fn=<MeanBackward0>) tensor(4.2311, device='cuda:2', grad_fn=<MeanBackward0>)\n",
      "tensor(0.3298, device='cuda:2', grad_fn=<AddBackward0>) tensor(0.5414, device='cuda:2', grad_fn=<DivBackward0>)\n",
      "tensor(2.2866, device='cuda:2', grad_fn=<MeanBackward0>) tensor(4.2367, device='cuda:2', grad_fn=<MeanBackward0>)\n",
      "tensor(0.3225, device='cuda:2', grad_fn=<AddBackward0>) tensor(0.5397, device='cuda:2', grad_fn=<DivBackward0>)\n",
      "tensor(2.2939, device='cuda:2', grad_fn=<MeanBackward0>) tensor(4.2533, device='cuda:2', grad_fn=<MeanBackward0>)\n",
      "tensor(0.3471, device='cuda:2', grad_fn=<AddBackward0>) tensor(0.5393, device='cuda:2', grad_fn=<DivBackward0>)\n"
     ]
    },
    {
     "name": "stderr",
     "output_type": "stream",
     "text": [
      "97it [00:09, 11.01it/s]"
     ]
    },
    {
     "name": "stdout",
     "output_type": "stream",
     "text": [
      "tensor(2.2682, device='cuda:2', grad_fn=<MeanBackward0>) tensor(4.2336, device='cuda:2', grad_fn=<MeanBackward0>)\n",
      "tensor(0.3255, device='cuda:2', grad_fn=<AddBackward0>) tensor(0.5358, device='cuda:2', grad_fn=<DivBackward0>)\n",
      "tensor(2.2356, device='cuda:2', grad_fn=<MeanBackward0>) tensor(4.2216, device='cuda:2', grad_fn=<MeanBackward0>)\n",
      "tensor(0.3216, device='cuda:2', grad_fn=<AddBackward0>) tensor(0.5296, device='cuda:2', grad_fn=<DivBackward0>)\n",
      "tensor(2.2472, device='cuda:2', grad_fn=<MeanBackward0>) tensor(4.2251, device='cuda:2', grad_fn=<MeanBackward0>)\n",
      "tensor(0.3202, device='cuda:2', grad_fn=<AddBackward0>) tensor(0.5319, device='cuda:2', grad_fn=<DivBackward0>)\n"
     ]
    },
    {
     "name": "stderr",
     "output_type": "stream",
     "text": [
      "99it [00:09, 10.99it/s]"
     ]
    },
    {
     "name": "stdout",
     "output_type": "stream",
     "text": [
      "tensor(2.2304, device='cuda:2', grad_fn=<MeanBackward0>) tensor(4.1897, device='cuda:2', grad_fn=<MeanBackward0>)\n",
      "tensor(0.3513, device='cuda:2', grad_fn=<AddBackward0>) tensor(0.5324, device='cuda:2', grad_fn=<DivBackward0>)\n",
      "tensor(2.2354, device='cuda:2', grad_fn=<MeanBackward0>) tensor(4.2151, device='cuda:2', grad_fn=<MeanBackward0>)\n",
      "tensor(0.3460, device='cuda:2', grad_fn=<AddBackward0>) tensor(0.5303, device='cuda:2', grad_fn=<DivBackward0>)\n",
      "tensor(2.2278, device='cuda:2', grad_fn=<MeanBackward0>) tensor(4.1989, device='cuda:2', grad_fn=<MeanBackward0>)\n",
      "tensor(0.3401, device='cuda:2', grad_fn=<AddBackward0>) tensor(0.5306, device='cuda:2', grad_fn=<DivBackward0>)\n"
     ]
    },
    {
     "name": "stderr",
     "output_type": "stream",
     "text": [
      "103it [00:10, 11.08it/s]"
     ]
    },
    {
     "name": "stdout",
     "output_type": "stream",
     "text": [
      "tensor(2.2063, device='cuda:2', grad_fn=<MeanBackward0>) tensor(4.1815, device='cuda:2', grad_fn=<MeanBackward0>)\n",
      "tensor(0.3344, device='cuda:2', grad_fn=<AddBackward0>) tensor(0.5276, device='cuda:2', grad_fn=<DivBackward0>)\n",
      "tensor(2.1781, device='cuda:2', grad_fn=<MeanBackward0>) tensor(4.1707, device='cuda:2', grad_fn=<MeanBackward0>)\n",
      "tensor(0.3371, device='cuda:2', grad_fn=<AddBackward0>) tensor(0.5222, device='cuda:2', grad_fn=<DivBackward0>)\n",
      "tensor(2.1814, device='cuda:2', grad_fn=<MeanBackward0>) tensor(4.1757, device='cuda:2', grad_fn=<MeanBackward0>)\n",
      "tensor(0.3355, device='cuda:2', grad_fn=<AddBackward0>) tensor(0.5224, device='cuda:2', grad_fn=<DivBackward0>)\n"
     ]
    },
    {
     "name": "stderr",
     "output_type": "stream",
     "text": [
      "105it [00:10, 11.02it/s]"
     ]
    },
    {
     "name": "stdout",
     "output_type": "stream",
     "text": [
      "tensor(2.1621, device='cuda:2', grad_fn=<MeanBackward0>) tensor(4.1523, device='cuda:2', grad_fn=<MeanBackward0>)\n",
      "tensor(0.3498, device='cuda:2', grad_fn=<AddBackward0>) tensor(0.5207, device='cuda:2', grad_fn=<DivBackward0>)\n",
      "tensor(2.1035, device='cuda:2', grad_fn=<MeanBackward0>) tensor(4.1148, device='cuda:2', grad_fn=<MeanBackward0>)\n",
      "tensor(0.3321, device='cuda:2', grad_fn=<AddBackward0>) tensor(0.5112, device='cuda:2', grad_fn=<DivBackward0>)\n",
      "tensor(2.0944, device='cuda:2', grad_fn=<MeanBackward0>) tensor(4.1119, device='cuda:2', grad_fn=<MeanBackward0>)\n",
      "tensor(0.3492, device='cuda:2', grad_fn=<AddBackward0>) tensor(0.5094, device='cuda:2', grad_fn=<DivBackward0>)\n"
     ]
    },
    {
     "name": "stderr",
     "output_type": "stream",
     "text": [
      "109it [00:10, 11.03it/s]"
     ]
    },
    {
     "name": "stdout",
     "output_type": "stream",
     "text": [
      "tensor(2.0819, device='cuda:2', grad_fn=<MeanBackward0>) tensor(4.0998, device='cuda:2', grad_fn=<MeanBackward0>)\n",
      "tensor(0.3554, device='cuda:2', grad_fn=<AddBackward0>) tensor(0.5078, device='cuda:2', grad_fn=<DivBackward0>)\n",
      "tensor(2.0902, device='cuda:2', grad_fn=<MeanBackward0>) tensor(4.1019, device='cuda:2', grad_fn=<MeanBackward0>)\n",
      "tensor(0.3371, device='cuda:2', grad_fn=<AddBackward0>) tensor(0.5096, device='cuda:2', grad_fn=<DivBackward0>)\n",
      "tensor(2.0625, device='cuda:2', grad_fn=<MeanBackward0>) tensor(4.0675, device='cuda:2', grad_fn=<MeanBackward0>)\n",
      "tensor(0.3378, device='cuda:2', grad_fn=<AddBackward0>) tensor(0.5071, device='cuda:2', grad_fn=<DivBackward0>)\n"
     ]
    },
    {
     "name": "stderr",
     "output_type": "stream",
     "text": [
      "111it [00:10, 10.81it/s]"
     ]
    },
    {
     "name": "stdout",
     "output_type": "stream",
     "text": [
      "tensor(2.0343, device='cuda:2', grad_fn=<MeanBackward0>) tensor(4.0360, device='cuda:2', grad_fn=<MeanBackward0>)\n",
      "tensor(0.2712, device='cuda:2', grad_fn=<AddBackward0>) tensor(0.5040, device='cuda:2', grad_fn=<DivBackward0>)\n",
      "tensor(2.0063, device='cuda:2', grad_fn=<MeanBackward0>) tensor(4.0311, device='cuda:2', grad_fn=<MeanBackward0>)\n",
      "tensor(0.2810, device='cuda:2', grad_fn=<AddBackward0>) tensor(0.4977, device='cuda:2', grad_fn=<DivBackward0>)\n",
      "tensor(2.0397, device='cuda:2', grad_fn=<MeanBackward0>) tensor(4.0228, device='cuda:2', grad_fn=<MeanBackward0>)\n",
      "tensor(0.2741, device='cuda:2', grad_fn=<AddBackward0>) tensor(0.5070, device='cuda:2', grad_fn=<DivBackward0>)\n"
     ]
    },
    {
     "name": "stderr",
     "output_type": "stream",
     "text": [
      "115it [00:11, 10.88it/s]"
     ]
    },
    {
     "name": "stdout",
     "output_type": "stream",
     "text": [
      "tensor(2.0067, device='cuda:2', grad_fn=<MeanBackward0>) tensor(4.0161, device='cuda:2', grad_fn=<MeanBackward0>)\n",
      "tensor(0.2636, device='cuda:2', grad_fn=<AddBackward0>) tensor(0.4996, device='cuda:2', grad_fn=<DivBackward0>)\n",
      "tensor(2.0105, device='cuda:2', grad_fn=<MeanBackward0>) tensor(4.0317, device='cuda:2', grad_fn=<MeanBackward0>)\n",
      "tensor(0.3258, device='cuda:2', grad_fn=<AddBackward0>) tensor(0.4987, device='cuda:2', grad_fn=<DivBackward0>)\n",
      "tensor(1.9683, device='cuda:2', grad_fn=<MeanBackward0>) tensor(4.0176, device='cuda:2', grad_fn=<MeanBackward0>)\n",
      "tensor(0.3343, device='cuda:2', grad_fn=<AddBackward0>) tensor(0.4899, device='cuda:2', grad_fn=<DivBackward0>)\n"
     ]
    },
    {
     "name": "stderr",
     "output_type": "stream",
     "text": [
      "117it [00:11, 10.97it/s]"
     ]
    },
    {
     "name": "stdout",
     "output_type": "stream",
     "text": [
      "tensor(1.9865, device='cuda:2', grad_fn=<MeanBackward0>) tensor(4.0306, device='cuda:2', grad_fn=<MeanBackward0>)\n",
      "tensor(0.3295, device='cuda:2', grad_fn=<AddBackward0>) tensor(0.4928, device='cuda:2', grad_fn=<DivBackward0>)\n",
      "tensor(1.9704, device='cuda:2', grad_fn=<MeanBackward0>) tensor(4.0343, device='cuda:2', grad_fn=<MeanBackward0>)\n",
      "tensor(0.3289, device='cuda:2', grad_fn=<AddBackward0>) tensor(0.4884, device='cuda:2', grad_fn=<DivBackward0>)\n",
      "tensor(1.9840, device='cuda:2', grad_fn=<MeanBackward0>) tensor(4.0110, device='cuda:2', grad_fn=<MeanBackward0>)\n",
      "tensor(0.3519, device='cuda:2', grad_fn=<AddBackward0>) tensor(0.4946, device='cuda:2', grad_fn=<DivBackward0>)\n"
     ]
    },
    {
     "name": "stderr",
     "output_type": "stream",
     "text": [
      "121it [00:11, 10.95it/s]"
     ]
    },
    {
     "name": "stdout",
     "output_type": "stream",
     "text": [
      "tensor(1.9669, device='cuda:2', grad_fn=<MeanBackward0>) tensor(4.0072, device='cuda:2', grad_fn=<MeanBackward0>)\n",
      "tensor(0.3259, device='cuda:2', grad_fn=<AddBackward0>) tensor(0.4908, device='cuda:2', grad_fn=<DivBackward0>)\n",
      "tensor(1.9458, device='cuda:2', grad_fn=<MeanBackward0>) tensor(4.0147, device='cuda:2', grad_fn=<MeanBackward0>)\n",
      "tensor(0.3377, device='cuda:2', grad_fn=<AddBackward0>) tensor(0.4847, device='cuda:2', grad_fn=<DivBackward0>)\n",
      "tensor(1.9486, device='cuda:2', grad_fn=<MeanBackward0>) tensor(4.0113, device='cuda:2', grad_fn=<MeanBackward0>)\n",
      "tensor(0.3190, device='cuda:2', grad_fn=<AddBackward0>) tensor(0.4858, device='cuda:2', grad_fn=<DivBackward0>)\n"
     ]
    },
    {
     "name": "stderr",
     "output_type": "stream",
     "text": [
      "123it [00:11, 10.87it/s]"
     ]
    },
    {
     "name": "stdout",
     "output_type": "stream",
     "text": [
      "tensor(1.8819, device='cuda:2', grad_fn=<MeanBackward0>) tensor(3.9887, device='cuda:2', grad_fn=<MeanBackward0>)\n",
      "tensor(0.3585, device='cuda:2', grad_fn=<AddBackward0>) tensor(0.4718, device='cuda:2', grad_fn=<DivBackward0>)\n",
      "tensor(1.8720, device='cuda:2', grad_fn=<MeanBackward0>) tensor(3.9604, device='cuda:2', grad_fn=<MeanBackward0>)\n",
      "tensor(0.2870, device='cuda:2', grad_fn=<AddBackward0>) tensor(0.4727, device='cuda:2', grad_fn=<DivBackward0>)\n",
      "tensor(1.8663, device='cuda:2', grad_fn=<MeanBackward0>) tensor(3.9560, device='cuda:2', grad_fn=<MeanBackward0>)\n",
      "tensor(0.2973, device='cuda:2', grad_fn=<AddBackward0>) tensor(0.4718, device='cuda:2', grad_fn=<DivBackward0>)\n"
     ]
    },
    {
     "name": "stderr",
     "output_type": "stream",
     "text": [
      "125it [00:12, 10.96it/s]"
     ]
    },
    {
     "name": "stdout",
     "output_type": "stream",
     "text": [
      "tensor(1.8778, device='cuda:2', grad_fn=<MeanBackward0>) tensor(3.9460, device='cuda:2', grad_fn=<MeanBackward0>)\n",
      "tensor(0.2964, device='cuda:2', grad_fn=<AddBackward0>) tensor(0.4759, device='cuda:2', grad_fn=<DivBackward0>)\n",
      "tensor(1.8908, device='cuda:2', grad_fn=<MeanBackward0>) tensor(3.9612, device='cuda:2', grad_fn=<MeanBackward0>)\n",
      "tensor(0.3787, device='cuda:2', grad_fn=<AddBackward0>) tensor(0.4773, device='cuda:2', grad_fn=<DivBackward0>)\n",
      "tensor(1.9041, device='cuda:2', grad_fn=<MeanBackward0>) tensor(3.9589, device='cuda:2', grad_fn=<MeanBackward0>)\n",
      "tensor(0.3293, device='cuda:2', grad_fn=<AddBackward0>) tensor(0.4810, device='cuda:2', grad_fn=<DivBackward0>)\n"
     ]
    },
    {
     "name": "stderr",
     "output_type": "stream",
     "text": [
      "129it [00:12, 10.66it/s]"
     ]
    },
    {
     "name": "stdout",
     "output_type": "stream",
     "text": [
      "tensor(1.9322, device='cuda:2', grad_fn=<MeanBackward0>) tensor(3.9790, device='cuda:2', grad_fn=<MeanBackward0>)\n",
      "tensor(0.3616, device='cuda:2', grad_fn=<AddBackward0>) tensor(0.4856, device='cuda:2', grad_fn=<DivBackward0>)\n",
      "tensor(1.9319, device='cuda:2', grad_fn=<MeanBackward0>) tensor(3.9716, device='cuda:2', grad_fn=<MeanBackward0>)\n",
      "tensor(0.3434, device='cuda:2', grad_fn=<AddBackward0>) tensor(0.4864, device='cuda:2', grad_fn=<DivBackward0>)\n",
      "tensor(1.8520, device='cuda:2', grad_fn=<MeanBackward0>) "
     ]
    },
    {
     "name": "stderr",
     "output_type": "stream",
     "text": [
      "131it [00:12, 10.68it/s]"
     ]
    },
    {
     "name": "stdout",
     "output_type": "stream",
     "text": [
      "tensor(3.9208, device='cuda:2', grad_fn=<MeanBackward0>)\n",
      "tensor(0.2829, device='cuda:2', grad_fn=<AddBackward0>) tensor(0.4723, device='cuda:2', grad_fn=<DivBackward0>)\n",
      "tensor(1.8510, device='cuda:2', grad_fn=<MeanBackward0>) tensor(3.9159, device='cuda:2', grad_fn=<MeanBackward0>)\n",
      "tensor(0.2823, device='cuda:2', grad_fn=<AddBackward0>) tensor(0.4727, device='cuda:2', grad_fn=<DivBackward0>)\n",
      "tensor(1.8247, device='cuda:2', grad_fn=<MeanBackward0>) tensor(3.9046, device='cuda:2', grad_fn=<MeanBackward0>)\n",
      "tensor(0.2782, device='cuda:2', grad_fn=<AddBackward0>) tensor(0.4673, device='cuda:2', grad_fn=<DivBackward0>)\n"
     ]
    },
    {
     "name": "stderr",
     "output_type": "stream",
     "text": [
      "133it [00:12, 10.78it/s]"
     ]
    },
    {
     "name": "stdout",
     "output_type": "stream",
     "text": [
      "tensor(1.7967, device='cuda:2', grad_fn=<MeanBackward0>) tensor(3.9024, device='cuda:2', grad_fn=<MeanBackward0>)\n",
      "tensor(0.2742, device='cuda:2', grad_fn=<AddBackward0>) tensor(0.4604, device='cuda:2', grad_fn=<DivBackward0>)\n",
      "tensor(1.7979, device='cuda:2', grad_fn=<MeanBackward0>) tensor(3.9041, device='cuda:2', grad_fn=<MeanBackward0>)\n",
      "tensor(0.2964, device='cuda:2', grad_fn=<AddBackward0>) tensor(0.4605, device='cuda:2', grad_fn=<DivBackward0>)\n",
      "tensor(1.7943, device='cuda:2', grad_fn=<MeanBackward0>) tensor(3.9017, device='cuda:2', grad_fn=<MeanBackward0>)\n",
      "tensor(0.2958, device='cuda:2', grad_fn=<AddBackward0>) tensor(0.4599, device='cuda:2', grad_fn=<DivBackward0>)\n"
     ]
    },
    {
     "name": "stderr",
     "output_type": "stream",
     "text": [
      "137it [00:13, 10.91it/s]"
     ]
    },
    {
     "name": "stdout",
     "output_type": "stream",
     "text": [
      "tensor(1.7967, device='cuda:2', grad_fn=<MeanBackward0>) tensor(3.9020, device='cuda:2', grad_fn=<MeanBackward0>)\n",
      "tensor(0.3072, device='cuda:2', grad_fn=<AddBackward0>) tensor(0.4605, device='cuda:2', grad_fn=<DivBackward0>)\n",
      "tensor(1.7914, device='cuda:2', grad_fn=<MeanBackward0>) tensor(3.9049, device='cuda:2', grad_fn=<MeanBackward0>)\n",
      "tensor(0.2806, device='cuda:2', grad_fn=<AddBackward0>) tensor(0.4587, device='cuda:2', grad_fn=<DivBackward0>)\n",
      "tensor(1.8465, device='cuda:2', grad_fn=<MeanBackward0>) tensor(3.9157, device='cuda:2', grad_fn=<MeanBackward0>)\n",
      "tensor(0.3900, device='cuda:2', grad_fn=<AddBackward0>) tensor(0.4716, device='cuda:2', grad_fn=<DivBackward0>)\n"
     ]
    },
    {
     "name": "stderr",
     "output_type": "stream",
     "text": [
      "139it [00:13, 10.92it/s]"
     ]
    },
    {
     "name": "stdout",
     "output_type": "stream",
     "text": [
      "tensor(1.8364, device='cuda:2', grad_fn=<MeanBackward0>) tensor(3.9171, device='cuda:2', grad_fn=<MeanBackward0>)\n",
      "tensor(0.3880, device='cuda:2', grad_fn=<AddBackward0>) tensor(0.4688, device='cuda:2', grad_fn=<DivBackward0>)\n",
      "tensor(1.8601, device='cuda:2', grad_fn=<MeanBackward0>) tensor(3.9204, device='cuda:2', grad_fn=<MeanBackward0>)\n",
      "tensor(0.3832, device='cuda:2', grad_fn=<AddBackward0>) tensor(0.4745, device='cuda:2', grad_fn=<DivBackward0>)\n",
      "tensor(1.8403, device='cuda:2', grad_fn=<MeanBackward0>) tensor(3.9113, device='cuda:2', grad_fn=<MeanBackward0>)\n",
      "tensor(0.3581, device='cuda:2', grad_fn=<AddBackward0>) tensor(0.4705, device='cuda:2', grad_fn=<DivBackward0>)\n"
     ]
    },
    {
     "name": "stderr",
     "output_type": "stream",
     "text": [
      "143it [00:13, 10.75it/s]"
     ]
    },
    {
     "name": "stdout",
     "output_type": "stream",
     "text": [
      "tensor(1.7645, device='cuda:2', grad_fn=<MeanBackward0>) tensor(3.8770, device='cuda:2', grad_fn=<MeanBackward0>)\n",
      "tensor(0.2631, device='cuda:2', grad_fn=<AddBackward0>) tensor(0.4551, device='cuda:2', grad_fn=<DivBackward0>)\n",
      "tensor(1.7964, device='cuda:2', grad_fn=<MeanBackward0>) tensor(3.8929, device='cuda:2', grad_fn=<MeanBackward0>)\n",
      "tensor(0.2965, device='cuda:2', grad_fn=<AddBackward0>) tensor(0.4614, device='cuda:2', grad_fn=<DivBackward0>)\n",
      "tensor(1.7861, device='cuda:2', grad_fn=<MeanBackward0>) tensor(3.8805, device='cuda:2', grad_fn=<MeanBackward0>)\n",
      "tensor(0.2814, device='cuda:2', grad_fn=<AddBackward0>) tensor(0.4603, device='cuda:2', grad_fn=<DivBackward0>)\n"
     ]
    },
    {
     "name": "stderr",
     "output_type": "stream",
     "text": [
      "145it [00:13, 10.86it/s]"
     ]
    },
    {
     "name": "stdout",
     "output_type": "stream",
     "text": [
      "tensor(1.7542, device='cuda:2', grad_fn=<MeanBackward0>) tensor(3.8570, device='cuda:2', grad_fn=<MeanBackward0>)\n",
      "tensor(0.2684, device='cuda:2', grad_fn=<AddBackward0>) tensor(0.4548, device='cuda:2', grad_fn=<DivBackward0>)\n",
      "tensor(1.7446, device='cuda:2', grad_fn=<MeanBackward0>) tensor(3.8678, device='cuda:2', grad_fn=<MeanBackward0>)\n",
      "tensor(0.3317, device='cuda:2', grad_fn=<AddBackward0>) tensor(0.4511, device='cuda:2', grad_fn=<DivBackward0>)\n",
      "tensor(1.7341, device='cuda:2', grad_fn=<MeanBackward0>) tensor(3.8736, device='cuda:2', grad_fn=<MeanBackward0>)\n",
      "tensor(0.3307, device='cuda:2', grad_fn=<AddBackward0>) tensor(0.4477, device='cuda:2', grad_fn=<DivBackward0>)\n"
     ]
    },
    {
     "name": "stderr",
     "output_type": "stream",
     "text": [
      "149it [00:14, 10.89it/s]"
     ]
    },
    {
     "name": "stdout",
     "output_type": "stream",
     "text": [
      "tensor(1.7274, device='cuda:2', grad_fn=<MeanBackward0>) tensor(3.8706, device='cuda:2', grad_fn=<MeanBackward0>)\n",
      "tensor(0.3462, device='cuda:2', grad_fn=<AddBackward0>) tensor(0.4463, device='cuda:2', grad_fn=<DivBackward0>)\n",
      "tensor(1.7207, device='cuda:2', grad_fn=<MeanBackward0>) tensor(3.8601, device='cuda:2', grad_fn=<MeanBackward0>)\n",
      "tensor(0.3186, device='cuda:2', grad_fn=<AddBackward0>) tensor(0.4458, device='cuda:2', grad_fn=<DivBackward0>)\n",
      "tensor(1.7604, device='cuda:2', grad_fn=<MeanBackward0>) tensor(3.8657, device='cuda:2', grad_fn=<MeanBackward0>)\n",
      "tensor(0.3422, device='cuda:2', grad_fn=<AddBackward0>) tensor(0.4554, device='cuda:2', grad_fn=<DivBackward0>)\n"
     ]
    },
    {
     "name": "stderr",
     "output_type": "stream",
     "text": [
      "153it [00:14, 10.95it/s]"
     ]
    },
    {
     "name": "stdout",
     "output_type": "stream",
     "text": [
      "tensor(1.6950, device='cuda:2', grad_fn=<MeanBackward0>) tensor(3.8291, device='cuda:2', grad_fn=<MeanBackward0>)\n",
      "tensor(0.3037, device='cuda:2', grad_fn=<AddBackward0>) tensor(0.4427, device='cuda:2', grad_fn=<DivBackward0>)\n",
      "tensor(1.7522, device='cuda:2', grad_fn=<MeanBackward0>) tensor(3.8398, device='cuda:2', grad_fn=<MeanBackward0>)\n",
      "tensor(0.2838, device='cuda:2', grad_fn=<AddBackward0>) tensor(0.4563, device='cuda:2', grad_fn=<DivBackward0>)\n",
      "tensor(1.7323, device='cuda:2', grad_fn=<MeanBackward0>) tensor(3.8277, device='cuda:2', grad_fn=<MeanBackward0>)\n",
      "tensor(0.2957, device='cuda:2', grad_fn=<AddBackward0>) tensor(0.4526, device='cuda:2', grad_fn=<DivBackward0>)\n"
     ]
    },
    {
     "name": "stderr",
     "output_type": "stream",
     "text": [
      "155it [00:14, 10.89it/s]"
     ]
    },
    {
     "name": "stdout",
     "output_type": "stream",
     "text": [
      "tensor(1.7384, device='cuda:2', grad_fn=<MeanBackward0>) tensor(3.8469, device='cuda:2', grad_fn=<MeanBackward0>)\n",
      "tensor(0.3709, device='cuda:2', grad_fn=<AddBackward0>) tensor(0.4519, device='cuda:2', grad_fn=<DivBackward0>)\n",
      "tensor(1.7185, device='cuda:2', grad_fn=<MeanBackward0>) tensor(3.8405, device='cuda:2', grad_fn=<MeanBackward0>)\n",
      "tensor(0.3620, device='cuda:2', grad_fn=<AddBackward0>) tensor(0.4475, device='cuda:2', grad_fn=<DivBackward0>)\n",
      "tensor(1.7011, device='cuda:2', grad_fn=<MeanBackward0>) tensor(3.8386, device='cuda:2', grad_fn=<MeanBackward0>)\n",
      "tensor(0.3539, device='cuda:2', grad_fn=<AddBackward0>) tensor(0.4431, device='cuda:2', grad_fn=<DivBackward0>)\n"
     ]
    },
    {
     "name": "stderr",
     "output_type": "stream",
     "text": [
      "157it [00:14, 10.90it/s]"
     ]
    },
    {
     "name": "stdout",
     "output_type": "stream",
     "text": [
      "tensor(1.7165, device='cuda:2', grad_fn=<MeanBackward0>) tensor(3.8560, device='cuda:2', grad_fn=<MeanBackward0>)\n",
      "tensor(0.3535, device='cuda:2', grad_fn=<AddBackward0>) tensor(0.4451, device='cuda:2', grad_fn=<DivBackward0>)\n",
      "tensor(1.7331, device='cuda:2', grad_fn=<MeanBackward0>) tensor(3.8808, device='cuda:2', grad_fn=<MeanBackward0>)\n",
      "tensor(0.4628, device='cuda:2', grad_fn=<AddBackward0>) tensor(0.4466, device='cuda:2', grad_fn=<DivBackward0>)\n",
      "tensor(1.7587, device='cuda:2', grad_fn=<MeanBackward0>) tensor(3.8863, device='cuda:2', grad_fn=<MeanBackward0>)\n",
      "tensor(0.4274, device='cuda:2', grad_fn=<AddBackward0>) tensor(0.4526, device='cuda:2', grad_fn=<DivBackward0>)\n"
     ]
    },
    {
     "name": "stderr",
     "output_type": "stream",
     "text": [
      "161it [00:15, 11.00it/s]"
     ]
    },
    {
     "name": "stdout",
     "output_type": "stream",
     "text": [
      "tensor(1.7241, device='cuda:2', grad_fn=<MeanBackward0>) tensor(3.8732, device='cuda:2', grad_fn=<MeanBackward0>)\n",
      "tensor(0.4169, device='cuda:2', grad_fn=<AddBackward0>) tensor(0.4452, device='cuda:2', grad_fn=<DivBackward0>)\n",
      "tensor(1.7229, device='cuda:2', grad_fn=<MeanBackward0>) tensor(3.8669, device='cuda:2', grad_fn=<MeanBackward0>)\n",
      "tensor(0.4012, device='cuda:2', grad_fn=<AddBackward0>) tensor(0.4456, device='cuda:2', grad_fn=<DivBackward0>)\n",
      "tensor(1.6601, device='cuda:2', grad_fn=<MeanBackward0>) tensor(3.8211, device='cuda:2', grad_fn=<MeanBackward0>)\n",
      "tensor(0.4014, device='cuda:2', grad_fn=<AddBackward0>) tensor(0.4344, device='cuda:2', grad_fn=<DivBackward0>)\n"
     ]
    },
    {
     "name": "stderr",
     "output_type": "stream",
     "text": [
      "163it [00:15, 10.94it/s]"
     ]
    },
    {
     "name": "stdout",
     "output_type": "stream",
     "text": [
      "tensor(1.6840, device='cuda:2', grad_fn=<MeanBackward0>) tensor(3.8368, device='cuda:2', grad_fn=<MeanBackward0>)\n",
      "tensor(0.3970, device='cuda:2', grad_fn=<AddBackward0>) tensor(0.4389, device='cuda:2', grad_fn=<DivBackward0>)\n",
      "tensor(1.6866, device='cuda:2', grad_fn=<MeanBackward0>) tensor(3.8222, device='cuda:2', grad_fn=<MeanBackward0>)\n",
      "tensor(0.3847, device='cuda:2', grad_fn=<AddBackward0>) tensor(0.4413, device='cuda:2', grad_fn=<DivBackward0>)\n",
      "tensor(1.6930, device='cuda:2', grad_fn=<MeanBackward0>) tensor(3.8179, device='cuda:2', grad_fn=<MeanBackward0>)\n",
      "tensor(0.3887, device='cuda:2', grad_fn=<AddBackward0>) tensor(0.4434, device='cuda:2', grad_fn=<DivBackward0>)\n"
     ]
    },
    {
     "name": "stderr",
     "output_type": "stream",
     "text": [
      "167it [00:15, 10.89it/s]"
     ]
    },
    {
     "name": "stdout",
     "output_type": "stream",
     "text": [
      "tensor(1.6599, device='cuda:2', grad_fn=<MeanBackward0>) tensor(3.8091, device='cuda:2', grad_fn=<MeanBackward0>)\n",
      "tensor(0.3543, device='cuda:2', grad_fn=<AddBackward0>) tensor(0.4358, device='cuda:2', grad_fn=<DivBackward0>)\n",
      "tensor(1.6417, device='cuda:2', grad_fn=<MeanBackward0>) tensor(3.8013, device='cuda:2', grad_fn=<MeanBackward0>)\n",
      "tensor(0.3424, device='cuda:2', grad_fn=<AddBackward0>) tensor(0.4319, device='cuda:2', grad_fn=<DivBackward0>)\n",
      "tensor(1.6421, device='cuda:2', grad_fn=<MeanBackward0>) tensor(3.8071, device='cuda:2', grad_fn=<MeanBackward0>)\n",
      "tensor(0.3460, device='cuda:2', grad_fn=<AddBackward0>) tensor(0.4313, device='cuda:2', grad_fn=<DivBackward0>)\n"
     ]
    },
    {
     "name": "stderr",
     "output_type": "stream",
     "text": [
      "169it [00:16, 10.94it/s]"
     ]
    },
    {
     "name": "stdout",
     "output_type": "stream",
     "text": [
      "tensor(1.6366, device='cuda:2', grad_fn=<MeanBackward0>) tensor(3.8023, device='cuda:2', grad_fn=<MeanBackward0>)\n",
      "tensor(0.3330, device='cuda:2', grad_fn=<AddBackward0>) tensor(0.4304, device='cuda:2', grad_fn=<DivBackward0>)\n",
      "tensor(1.6426, device='cuda:2', grad_fn=<MeanBackward0>) tensor(3.8297, device='cuda:2', grad_fn=<MeanBackward0>)\n",
      "tensor(0.3165, device='cuda:2', grad_fn=<AddBackward0>) tensor(0.4289, device='cuda:2', grad_fn=<DivBackward0>)\n",
      "tensor(1.6462, device='cuda:2', grad_fn=<MeanBackward0>) tensor(3.8189, device='cuda:2', grad_fn=<MeanBackward0>)\n",
      "tensor(0.3349, device='cuda:2', grad_fn=<AddBackward0>) tensor(0.4311, device='cuda:2', grad_fn=<DivBackward0>)\n"
     ]
    },
    {
     "name": "stderr",
     "output_type": "stream",
     "text": [
      "173it [00:16, 10.99it/s]"
     ]
    },
    {
     "name": "stdout",
     "output_type": "stream",
     "text": [
      "tensor(1.6250, device='cuda:2', grad_fn=<MeanBackward0>) tensor(3.8121, device='cuda:2', grad_fn=<MeanBackward0>)\n",
      "tensor(0.2980, device='cuda:2', grad_fn=<AddBackward0>) tensor(0.4263, device='cuda:2', grad_fn=<DivBackward0>)\n",
      "tensor(1.6233, device='cuda:2', grad_fn=<MeanBackward0>) tensor(3.8041, device='cuda:2', grad_fn=<MeanBackward0>)\n",
      "tensor(0.3232, device='cuda:2', grad_fn=<AddBackward0>) tensor(0.4267, device='cuda:2', grad_fn=<DivBackward0>)\n",
      "tensor(1.5758, device='cuda:2', grad_fn=<MeanBackward0>) tensor(3.7764, device='cuda:2', grad_fn=<MeanBackward0>)\n",
      "tensor(0.3117, device='cuda:2', grad_fn=<AddBackward0>) tensor(0.4173, device='cuda:2', grad_fn=<DivBackward0>)\n"
     ]
    },
    {
     "name": "stderr",
     "output_type": "stream",
     "text": [
      "175it [00:16, 10.82it/s]"
     ]
    },
    {
     "name": "stdout",
     "output_type": "stream",
     "text": [
      "tensor(1.6044, device='cuda:2', grad_fn=<MeanBackward0>) tensor(3.7946, device='cuda:2', grad_fn=<MeanBackward0>)\n",
      "tensor(0.2951, device='cuda:2', grad_fn=<AddBackward0>) tensor(0.4228, device='cuda:2', grad_fn=<DivBackward0>)\n",
      "tensor(1.5663, device='cuda:2', grad_fn=<MeanBackward0>) tensor(3.7738, device='cuda:2', grad_fn=<MeanBackward0>)\n",
      "tensor(0.2822, device='cuda:2', grad_fn=<AddBackward0>) tensor(0.4151, device='cuda:2', grad_fn=<DivBackward0>)\n",
      "tensor(1.5818, device='cuda:2', grad_fn=<MeanBackward0>) tensor(3.7769, device='cuda:2', grad_fn=<MeanBackward0>)\n",
      "tensor(0.2883, device='cuda:2', grad_fn=<AddBackward0>) tensor(0.4188, device='cuda:2', grad_fn=<DivBackward0>)\n"
     ]
    },
    {
     "name": "stderr",
     "output_type": "stream",
     "text": [
      "179it [00:16, 10.96it/s]"
     ]
    },
    {
     "name": "stdout",
     "output_type": "stream",
     "text": [
      "tensor(1.5804, device='cuda:2', grad_fn=<MeanBackward0>) tensor(3.7573, device='cuda:2', grad_fn=<MeanBackward0>)\n",
      "tensor(0.3649, device='cuda:2', grad_fn=<AddBackward0>) tensor(0.4206, device='cuda:2', grad_fn=<DivBackward0>)\n",
      "tensor(1.5708, device='cuda:2', grad_fn=<MeanBackward0>) tensor(3.7578, device='cuda:2', grad_fn=<MeanBackward0>)\n",
      "tensor(0.3566, device='cuda:2', grad_fn=<AddBackward0>) tensor(0.4180, device='cuda:2', grad_fn=<DivBackward0>)\n",
      "tensor(1.5918, device='cuda:2', grad_fn=<MeanBackward0>) tensor(3.7818, device='cuda:2', grad_fn=<MeanBackward0>)\n",
      "tensor(0.3570, device='cuda:2', grad_fn=<AddBackward0>) tensor(0.4209, device='cuda:2', grad_fn=<DivBackward0>)\n"
     ]
    },
    {
     "name": "stderr",
     "output_type": "stream",
     "text": [
      "181it [00:17, 10.95it/s]"
     ]
    },
    {
     "name": "stdout",
     "output_type": "stream",
     "text": [
      "tensor(1.5513, device='cuda:2', grad_fn=<MeanBackward0>) tensor(3.7396, device='cuda:2', grad_fn=<MeanBackward0>)\n",
      "tensor(0.3396, device='cuda:2', grad_fn=<AddBackward0>) tensor(0.4148, device='cuda:2', grad_fn=<DivBackward0>)\n",
      "tensor(1.5270, device='cuda:2', grad_fn=<MeanBackward0>) tensor(3.7444, device='cuda:2', grad_fn=<MeanBackward0>)\n",
      "tensor(0.2836, device='cuda:2', grad_fn=<AddBackward0>) tensor(0.4078, device='cuda:2', grad_fn=<DivBackward0>)\n",
      "tensor(1.5441, device='cuda:2', grad_fn=<MeanBackward0>) tensor(3.7495, device='cuda:2', grad_fn=<MeanBackward0>)\n",
      "tensor(0.2854, device='cuda:2', grad_fn=<AddBackward0>) tensor(0.4118, device='cuda:2', grad_fn=<DivBackward0>)\n"
     ]
    },
    {
     "name": "stderr",
     "output_type": "stream",
     "text": [
      "185it [00:17, 10.94it/s]"
     ]
    },
    {
     "name": "stdout",
     "output_type": "stream",
     "text": [
      "tensor(1.5346, device='cuda:2', grad_fn=<MeanBackward0>) tensor(3.7449, device='cuda:2', grad_fn=<MeanBackward0>)\n",
      "tensor(0.2789, device='cuda:2', grad_fn=<AddBackward0>) tensor(0.4098, device='cuda:2', grad_fn=<DivBackward0>)\n",
      "tensor(1.5211, device='cuda:2', grad_fn=<MeanBackward0>) tensor(3.7437, device='cuda:2', grad_fn=<MeanBackward0>)\n",
      "tensor(0.2893, device='cuda:2', grad_fn=<AddBackward0>) tensor(0.4063, device='cuda:2', grad_fn=<DivBackward0>)\n",
      "tensor(1.5811, device='cuda:2', grad_fn=<MeanBackward0>) tensor(3.7766, device='cuda:2', grad_fn=<MeanBackward0>)\n",
      "tensor(0.4222, device='cuda:2', grad_fn=<AddBackward0>) tensor(0.4187, device='cuda:2', grad_fn=<DivBackward0>)\n"
     ]
    },
    {
     "name": "stderr",
     "output_type": "stream",
     "text": [
      "187it [00:17, 10.98it/s]"
     ]
    },
    {
     "name": "stdout",
     "output_type": "stream",
     "text": [
      "tensor(1.5550, device='cuda:2', grad_fn=<MeanBackward0>) tensor(3.7574, device='cuda:2', grad_fn=<MeanBackward0>)\n",
      "tensor(0.4091, device='cuda:2', grad_fn=<AddBackward0>) tensor(0.4139, device='cuda:2', grad_fn=<DivBackward0>)\n",
      "tensor(1.5587, device='cuda:2', grad_fn=<MeanBackward0>) tensor(3.7513, device='cuda:2', grad_fn=<MeanBackward0>)\n",
      "tensor(0.4534, device='cuda:2', grad_fn=<AddBackward0>) tensor(0.4155, device='cuda:2', grad_fn=<DivBackward0>)\n",
      "tensor(1.5713, device='cuda:2', grad_fn=<MeanBackward0>) tensor(3.7645, device='cuda:2', grad_fn=<MeanBackward0>)\n",
      "tensor(0.4004, device='cuda:2', grad_fn=<AddBackward0>) tensor(0.4174, device='cuda:2', grad_fn=<DivBackward0>)\n"
     ]
    },
    {
     "name": "stderr",
     "output_type": "stream",
     "text": [
      "191it [00:18, 10.97it/s]"
     ]
    },
    {
     "name": "stdout",
     "output_type": "stream",
     "text": [
      "tensor(1.5771, device='cuda:2', grad_fn=<MeanBackward0>) tensor(3.7626, device='cuda:2', grad_fn=<MeanBackward0>)\n",
      "tensor(0.3285, device='cuda:2', grad_fn=<AddBackward0>) tensor(0.4191, device='cuda:2', grad_fn=<DivBackward0>)\n",
      "tensor(1.5287, device='cuda:2', grad_fn=<MeanBackward0>) tensor(3.7360, device='cuda:2', grad_fn=<MeanBackward0>)\n",
      "tensor(0.3101, device='cuda:2', grad_fn=<AddBackward0>) tensor(0.4092, device='cuda:2', grad_fn=<DivBackward0>)\n",
      "tensor(1.5180, device='cuda:2', grad_fn=<MeanBackward0>) tensor(3.7476, device='cuda:2', grad_fn=<MeanBackward0>)\n",
      "tensor(0.3088, device='cuda:2', grad_fn=<AddBackward0>) tensor(0.4051, device='cuda:2', grad_fn=<DivBackward0>)\n"
     ]
    },
    {
     "name": "stderr",
     "output_type": "stream",
     "text": [
      "193it [00:18, 10.95it/s]"
     ]
    },
    {
     "name": "stdout",
     "output_type": "stream",
     "text": [
      "tensor(1.5438, device='cuda:2', grad_fn=<MeanBackward0>) tensor(3.7490, device='cuda:2', grad_fn=<MeanBackward0>)\n",
      "tensor(0.3267, device='cuda:2', grad_fn=<AddBackward0>) tensor(0.4118, device='cuda:2', grad_fn=<DivBackward0>)\n",
      "tensor(1.4563, device='cuda:2', grad_fn=<MeanBackward0>) tensor(3.6883, device='cuda:2', grad_fn=<MeanBackward0>)\n",
      "tensor(0.2664, device='cuda:2', grad_fn=<AddBackward0>) tensor(0.3948, device='cuda:2', grad_fn=<DivBackward0>)\n",
      "tensor(1.4771, device='cuda:2', grad_fn=<MeanBackward0>) tensor(3.6912, device='cuda:2', grad_fn=<MeanBackward0>)\n",
      "tensor(0.2865, device='cuda:2', grad_fn=<AddBackward0>) tensor(0.4002, device='cuda:2', grad_fn=<DivBackward0>)\n"
     ]
    },
    {
     "name": "stderr",
     "output_type": "stream",
     "text": [
      "197it [00:18, 10.98it/s]"
     ]
    },
    {
     "name": "stdout",
     "output_type": "stream",
     "text": [
      "tensor(1.4776, device='cuda:2', grad_fn=<MeanBackward0>) tensor(3.6925, device='cuda:2', grad_fn=<MeanBackward0>)\n",
      "tensor(0.2587, device='cuda:2', grad_fn=<AddBackward0>) tensor(0.4002, device='cuda:2', grad_fn=<DivBackward0>)\n",
      "tensor(1.4837, device='cuda:2', grad_fn=<MeanBackward0>) tensor(3.6906, device='cuda:2', grad_fn=<MeanBackward0>)\n",
      "tensor(0.2504, device='cuda:2', grad_fn=<AddBackward0>) tensor(0.4020, device='cuda:2', grad_fn=<DivBackward0>)\n",
      "tensor(1.4762, device='cuda:2', grad_fn=<MeanBackward0>) tensor(3.6930, device='cuda:2', grad_fn=<MeanBackward0>)\n",
      "tensor(0.3455, device='cuda:2', grad_fn=<AddBackward0>) tensor(0.3997, device='cuda:2', grad_fn=<DivBackward0>)\n"
     ]
    },
    {
     "name": "stderr",
     "output_type": "stream",
     "text": [
      "199it [00:18, 10.93it/s]"
     ]
    },
    {
     "name": "stdout",
     "output_type": "stream",
     "text": [
      "tensor(1.4715, device='cuda:2', grad_fn=<MeanBackward0>) tensor(3.6907, device='cuda:2', grad_fn=<MeanBackward0>)\n",
      "tensor(0.3295, device='cuda:2', grad_fn=<AddBackward0>) tensor(0.3987, device='cuda:2', grad_fn=<DivBackward0>)\n",
      "tensor(1.4720, device='cuda:2', grad_fn=<MeanBackward0>) tensor(3.6974, device='cuda:2', grad_fn=<MeanBackward0>)\n",
      "tensor(0.3402, device='cuda:2', grad_fn=<AddBackward0>) tensor(0.3981, device='cuda:2', grad_fn=<DivBackward0>)\n",
      "tensor(1.4452, device='cuda:2', grad_fn=<MeanBackward0>) tensor(3.6755, device='cuda:2', grad_fn=<MeanBackward0>)\n",
      "tensor(0.3318, device='cuda:2', grad_fn=<AddBackward0>) tensor(0.3932, device='cuda:2', grad_fn=<DivBackward0>)\n"
     ]
    },
    {
     "name": "stderr",
     "output_type": "stream",
     "text": [
      "203it [00:19, 10.70it/s]"
     ]
    },
    {
     "name": "stdout",
     "output_type": "stream",
     "text": [
      "tensor(1.4569, device='cuda:2', grad_fn=<MeanBackward0>) tensor(3.7005, device='cuda:2', grad_fn=<MeanBackward0>)\n",
      "tensor(0.3630, device='cuda:2', grad_fn=<AddBackward0>) tensor(0.3937, device='cuda:2', grad_fn=<DivBackward0>)\n",
      "tensor(1.4494, device='cuda:2', grad_fn=<MeanBackward0>) tensor(3.7037, device='cuda:2', grad_fn=<MeanBackward0>)\n",
      "tensor(0.3660, device='cuda:2', grad_fn=<AddBackward0>) tensor(0.3913, device='cuda:2', grad_fn=<DivBackward0>)\n",
      "tensor(1.4519, device='cuda:2', grad_fn=<MeanBackward0>) tensor(3.6962, device='cuda:2', grad_fn=<MeanBackward0>)\n",
      "tensor(0.3710, device='cuda:2', grad_fn=<AddBackward0>) tensor(0.3928, device='cuda:2', grad_fn=<DivBackward0>)\n"
     ]
    },
    {
     "name": "stderr",
     "output_type": "stream",
     "text": [
      "207it [00:19, 10.84it/s]"
     ]
    },
    {
     "name": "stdout",
     "output_type": "stream",
     "text": [
      "tensor(1.4357, device='cuda:2', grad_fn=<MeanBackward0>) tensor(3.7088, device='cuda:2', grad_fn=<MeanBackward0>)\n",
      "tensor(0.3685, device='cuda:2', grad_fn=<AddBackward0>) tensor(0.3871, device='cuda:2', grad_fn=<DivBackward0>)\n",
      "tensor(1.4267, device='cuda:2', grad_fn=<MeanBackward0>) tensor(3.6983, device='cuda:2', grad_fn=<MeanBackward0>)\n",
      "tensor(0.3623, device='cuda:2', grad_fn=<AddBackward0>) tensor(0.3858, device='cuda:2', grad_fn=<DivBackward0>)\n",
      "tensor(1.4254, device='cuda:2', grad_fn=<MeanBackward0>) tensor(3.6956, device='cuda:2', grad_fn=<MeanBackward0>)\n",
      "tensor(0.3439, device='cuda:2', grad_fn=<AddBackward0>) tensor(0.3857, device='cuda:2', grad_fn=<DivBackward0>)\n"
     ]
    },
    {
     "name": "stderr",
     "output_type": "stream",
     "text": [
      "209it [00:19, 10.82it/s]"
     ]
    },
    {
     "name": "stdout",
     "output_type": "stream",
     "text": [
      "tensor(1.4244, device='cuda:2', grad_fn=<MeanBackward0>) tensor(3.6993, device='cuda:2', grad_fn=<MeanBackward0>)\n",
      "tensor(0.3573, device='cuda:2', grad_fn=<AddBackward0>) tensor(0.3851, device='cuda:2', grad_fn=<DivBackward0>)\n",
      "tensor(1.4193, device='cuda:2', grad_fn=<MeanBackward0>) tensor(3.6992, device='cuda:2', grad_fn=<MeanBackward0>)\n",
      "tensor(0.3596, device='cuda:2', grad_fn=<AddBackward0>) tensor(0.3837, device='cuda:2', grad_fn=<DivBackward0>)\n",
      "tensor(1.4473, device='cuda:2', grad_fn=<MeanBackward0>) tensor(3.7205, device='cuda:2', grad_fn=<MeanBackward0>)\n",
      "tensor(0.4280, device='cuda:2', grad_fn=<AddBackward0>) tensor(0.3890, device='cuda:2', grad_fn=<DivBackward0>)\n"
     ]
    },
    {
     "name": "stderr",
     "output_type": "stream",
     "text": [
      "211it [00:19, 10.92it/s]"
     ]
    },
    {
     "name": "stdout",
     "output_type": "stream",
     "text": [
      "tensor(1.4557, device='cuda:2', grad_fn=<MeanBackward0>) tensor(3.7333, device='cuda:2', grad_fn=<MeanBackward0>)\n",
      "tensor(0.4358, device='cuda:2', grad_fn=<AddBackward0>) tensor(0.3899, device='cuda:2', grad_fn=<DivBackward0>)\n",
      "tensor(1.4457, device='cuda:2', grad_fn=<MeanBackward0>) tensor(3.7282, device='cuda:2', grad_fn=<MeanBackward0>)\n",
      "tensor(0.4300, device='cuda:2', grad_fn=<AddBackward0>) tensor(0.3878, device='cuda:2', grad_fn=<DivBackward0>)\n",
      "tensor(1.4592, device='cuda:2', grad_fn=<MeanBackward0>) tensor(3.7253, device='cuda:2', grad_fn=<MeanBackward0>)\n",
      "tensor(0.4000, device='cuda:2', grad_fn=<AddBackward0>) tensor(0.3917, device='cuda:2', grad_fn=<DivBackward0>)\n"
     ]
    },
    {
     "name": "stderr",
     "output_type": "stream",
     "text": [
      "215it [00:20, 10.95it/s]"
     ]
    },
    {
     "name": "stdout",
     "output_type": "stream",
     "text": [
      "tensor(1.4055, device='cuda:2', grad_fn=<MeanBackward0>) tensor(3.6692, device='cuda:2', grad_fn=<MeanBackward0>)\n",
      "tensor(0.3419, device='cuda:2', grad_fn=<AddBackward0>) tensor(0.3830, device='cuda:2', grad_fn=<DivBackward0>)\n",
      "tensor(1.4066, device='cuda:2', grad_fn=<MeanBackward0>) tensor(3.6690, device='cuda:2', grad_fn=<MeanBackward0>)\n",
      "tensor(0.3544, device='cuda:2', grad_fn=<AddBackward0>) tensor(0.3834, device='cuda:2', grad_fn=<DivBackward0>)\n",
      "tensor(1.4169, device='cuda:2', grad_fn=<MeanBackward0>) tensor(3.6731, device='cuda:2', grad_fn=<MeanBackward0>)\n",
      "tensor(0.3345, device='cuda:2', grad_fn=<AddBackward0>) tensor(0.3857, device='cuda:2', grad_fn=<DivBackward0>)\n"
     ]
    },
    {
     "name": "stderr",
     "output_type": "stream",
     "text": [
      "217it [00:20, 10.92it/s]"
     ]
    },
    {
     "name": "stdout",
     "output_type": "stream",
     "text": [
      "tensor(1.4602, device='cuda:2', grad_fn=<MeanBackward0>) tensor(3.6795, device='cuda:2', grad_fn=<MeanBackward0>)\n",
      "tensor(0.3518, device='cuda:2', grad_fn=<AddBackward0>) tensor(0.3969, device='cuda:2', grad_fn=<DivBackward0>)\n",
      "tensor(1.4825, device='cuda:2', grad_fn=<MeanBackward0>) tensor(3.7148, device='cuda:2', grad_fn=<MeanBackward0>)\n",
      "tensor(0.3220, device='cuda:2', grad_fn=<AddBackward0>) tensor(0.3991, device='cuda:2', grad_fn=<DivBackward0>)\n",
      "tensor(1.4704, device='cuda:2', grad_fn=<MeanBackward0>) tensor(3.7111, device='cuda:2', grad_fn=<MeanBackward0>)\n",
      "tensor(0.2961, device='cuda:2', grad_fn=<AddBackward0>) tensor(0.3962, device='cuda:2', grad_fn=<DivBackward0>)\n"
     ]
    },
    {
     "name": "stderr",
     "output_type": "stream",
     "text": [
      "221it [00:20, 10.86it/s]"
     ]
    },
    {
     "name": "stdout",
     "output_type": "stream",
     "text": [
      "tensor(1.4734, device='cuda:2', grad_fn=<MeanBackward0>) tensor(3.7171, device='cuda:2', grad_fn=<MeanBackward0>)\n",
      "tensor(0.3149, device='cuda:2', grad_fn=<AddBackward0>) tensor(0.3964, device='cuda:2', grad_fn=<DivBackward0>)\n",
      "tensor(1.4617, device='cuda:2', grad_fn=<MeanBackward0>) tensor(3.7060, device='cuda:2', grad_fn=<MeanBackward0>)\n",
      "tensor(0.2875, device='cuda:2', grad_fn=<AddBackward0>) tensor(0.3944, device='cuda:2', grad_fn=<DivBackward0>)\n",
      "tensor(1.4258, device='cuda:2', grad_fn=<MeanBackward0>) tensor(3.6801, device='cuda:2', grad_fn=<MeanBackward0>)\n",
      "tensor(0.3527, device='cuda:2', grad_fn=<AddBackward0>) tensor(0.3874, device='cuda:2', grad_fn=<DivBackward0>)\n"
     ]
    },
    {
     "name": "stderr",
     "output_type": "stream",
     "text": [
      "223it [00:21, 10.85it/s]"
     ]
    },
    {
     "name": "stdout",
     "output_type": "stream",
     "text": [
      "tensor(1.4091, device='cuda:2', grad_fn=<MeanBackward0>) tensor(3.6771, device='cuda:2', grad_fn=<MeanBackward0>)\n",
      "tensor(0.3572, device='cuda:2', grad_fn=<AddBackward0>) tensor(0.3832, device='cuda:2', grad_fn=<DivBackward0>)\n",
      "tensor(1.4168, device='cuda:2', grad_fn=<MeanBackward0>) tensor(3.6686, device='cuda:2', grad_fn=<MeanBackward0>)\n",
      "tensor(0.3409, device='cuda:2', grad_fn=<AddBackward0>) tensor(0.3862, device='cuda:2', grad_fn=<DivBackward0>)\n",
      "tensor(1.4314, device='cuda:2', grad_fn=<MeanBackward0>) tensor(3.6844, device='cuda:2', grad_fn=<MeanBackward0>)\n",
      "tensor(0.3480, device='cuda:2', grad_fn=<AddBackward0>) tensor(0.3885, device='cuda:2', grad_fn=<DivBackward0>)\n"
     ]
    },
    {
     "name": "stderr",
     "output_type": "stream",
     "text": [
      "227it [00:21, 10.87it/s]"
     ]
    },
    {
     "name": "stdout",
     "output_type": "stream",
     "text": [
      "tensor(1.3726, device='cuda:2', grad_fn=<MeanBackward0>) tensor(3.6442, device='cuda:2', grad_fn=<MeanBackward0>)\n",
      "tensor(0.3140, device='cuda:2', grad_fn=<AddBackward0>) tensor(0.3766, device='cuda:2', grad_fn=<DivBackward0>)\n",
      "tensor(1.4042, device='cuda:2', grad_fn=<MeanBackward0>) tensor(3.6522, device='cuda:2', grad_fn=<MeanBackward0>)\n",
      "tensor(0.3200, device='cuda:2', grad_fn=<AddBackward0>) tensor(0.3845, device='cuda:2', grad_fn=<DivBackward0>)\n",
      "tensor(1.3678, device='cuda:2', grad_fn=<MeanBackward0>) tensor(3.6291, device='cuda:2', grad_fn=<MeanBackward0>)\n",
      "tensor(0.3141, device='cuda:2', grad_fn=<AddBackward0>) tensor(0.3769, device='cuda:2', grad_fn=<DivBackward0>)\n"
     ]
    },
    {
     "name": "stderr",
     "output_type": "stream",
     "text": [
      "229it [00:21, 10.86it/s]"
     ]
    },
    {
     "name": "stdout",
     "output_type": "stream",
     "text": [
      "tensor(1.3545, device='cuda:2', grad_fn=<MeanBackward0>) tensor(3.6310, device='cuda:2', grad_fn=<MeanBackward0>)\n",
      "tensor(0.3255, device='cuda:2', grad_fn=<AddBackward0>) tensor(0.3730, device='cuda:2', grad_fn=<DivBackward0>)\n",
      "tensor(1.3681, device='cuda:2', grad_fn=<MeanBackward0>) tensor(3.6668, device='cuda:2', grad_fn=<MeanBackward0>)\n",
      "tensor(0.3922, device='cuda:2', grad_fn=<AddBackward0>) tensor(0.3731, device='cuda:2', grad_fn=<DivBackward0>)\n",
      "tensor(1.3480, device='cuda:2', grad_fn=<MeanBackward0>) tensor(3.6441, device='cuda:2', grad_fn=<MeanBackward0>)\n",
      "tensor(0.3842, device='cuda:2', grad_fn=<AddBackward0>) tensor(0.3699, device='cuda:2', grad_fn=<DivBackward0>)\n"
     ]
    },
    {
     "name": "stderr",
     "output_type": "stream",
     "text": [
      "233it [00:21, 10.94it/s]"
     ]
    },
    {
     "name": "stdout",
     "output_type": "stream",
     "text": [
      "tensor(1.3367, device='cuda:2', grad_fn=<MeanBackward0>) tensor(3.6405, device='cuda:2', grad_fn=<MeanBackward0>)\n",
      "tensor(0.3936, device='cuda:2', grad_fn=<AddBackward0>) tensor(0.3672, device='cuda:2', grad_fn=<DivBackward0>)\n",
      "tensor(1.3550, device='cuda:2', grad_fn=<MeanBackward0>) tensor(3.6366, device='cuda:2', grad_fn=<MeanBackward0>)\n",
      "tensor(0.3867, device='cuda:2', grad_fn=<AddBackward0>) tensor(0.3726, device='cuda:2', grad_fn=<DivBackward0>)\n",
      "tensor(1.3902, device='cuda:2', grad_fn=<MeanBackward0>) tensor(3.6507, device='cuda:2', grad_fn=<MeanBackward0>)\n",
      "tensor(0.4046, device='cuda:2', grad_fn=<AddBackward0>) tensor(0.3808, device='cuda:2', grad_fn=<DivBackward0>)\n"
     ]
    },
    {
     "name": "stderr",
     "output_type": "stream",
     "text": [
      "237it [00:22, 10.95it/s]"
     ]
    },
    {
     "name": "stdout",
     "output_type": "stream",
     "text": [
      "tensor(1.3544, device='cuda:2', grad_fn=<MeanBackward0>) tensor(3.6381, device='cuda:2', grad_fn=<MeanBackward0>)\n",
      "tensor(0.3738, device='cuda:2', grad_fn=<AddBackward0>) tensor(0.3723, device='cuda:2', grad_fn=<DivBackward0>)\n",
      "tensor(1.3868, device='cuda:2', grad_fn=<MeanBackward0>) tensor(3.6474, device='cuda:2', grad_fn=<MeanBackward0>)\n",
      "tensor(0.3876, device='cuda:2', grad_fn=<AddBackward0>) tensor(0.3802, device='cuda:2', grad_fn=<DivBackward0>)\n",
      "tensor(1.3529, device='cuda:2', grad_fn=<MeanBackward0>) tensor(3.6210, device='cuda:2', grad_fn=<MeanBackward0>)\n",
      "tensor(0.3773, device='cuda:2', grad_fn=<AddBackward0>) tensor(0.3736, device='cuda:2', grad_fn=<DivBackward0>)\n"
     ]
    },
    {
     "name": "stderr",
     "output_type": "stream",
     "text": [
      "239it [00:22, 10.91it/s]"
     ]
    },
    {
     "name": "stdout",
     "output_type": "stream",
     "text": [
      "tensor(1.3991, device='cuda:2', grad_fn=<MeanBackward0>) tensor(3.6456, device='cuda:2', grad_fn=<MeanBackward0>)\n",
      "tensor(0.3059, device='cuda:2', grad_fn=<AddBackward0>) tensor(0.3838, device='cuda:2', grad_fn=<DivBackward0>)\n",
      "tensor(1.4285, device='cuda:2', grad_fn=<MeanBackward0>) tensor(3.6551, device='cuda:2', grad_fn=<MeanBackward0>)\n",
      "tensor(0.3137, device='cuda:2', grad_fn=<AddBackward0>) tensor(0.3908, device='cuda:2', grad_fn=<DivBackward0>)\n",
      "tensor(1.3741, device='cuda:2', grad_fn=<MeanBackward0>) tensor(3.6246, device='cuda:2', grad_fn=<MeanBackward0>)\n",
      "tensor(0.3077, device='cuda:2', grad_fn=<AddBackward0>) tensor(0.3791, device='cuda:2', grad_fn=<DivBackward0>)\n"
     ]
    },
    {
     "name": "stderr",
     "output_type": "stream",
     "text": [
      "241it [00:22, 10.88it/s]"
     ]
    },
    {
     "name": "stdout",
     "output_type": "stream",
     "text": [
      "tensor(1.3810, device='cuda:2', grad_fn=<MeanBackward0>) tensor(3.6379, device='cuda:2', grad_fn=<MeanBackward0>)\n",
      "tensor(0.3035, device='cuda:2', grad_fn=<AddBackward0>) tensor(0.3796, device='cuda:2', grad_fn=<DivBackward0>)\n",
      "tensor(1.3237, device='cuda:2', grad_fn=<MeanBackward0>) tensor(3.6116, device='cuda:2', grad_fn=<MeanBackward0>)\n",
      "tensor(0.3343, device='cuda:2', grad_fn=<AddBackward0>) tensor(0.3665, device='cuda:2', grad_fn=<DivBackward0>)\n",
      "tensor(1.3387, device='cuda:2', grad_fn=<MeanBackward0>) tensor(3.6088, device='cuda:2', grad_fn=<MeanBackward0>)\n",
      "tensor(0.3287, device='cuda:2', grad_fn=<AddBackward0>) tensor(0.3710, device='cuda:2', grad_fn=<DivBackward0>)\n"
     ]
    },
    {
     "name": "stderr",
     "output_type": "stream",
     "text": [
      "245it [00:23, 10.93it/s]"
     ]
    },
    {
     "name": "stdout",
     "output_type": "stream",
     "text": [
      "tensor(1.3065, device='cuda:2', grad_fn=<MeanBackward0>) tensor(3.5930, device='cuda:2', grad_fn=<MeanBackward0>)\n",
      "tensor(0.3157, device='cuda:2', grad_fn=<AddBackward0>) tensor(0.3636, device='cuda:2', grad_fn=<DivBackward0>)\n",
      "tensor(1.3123, device='cuda:2', grad_fn=<MeanBackward0>) tensor(3.5908, device='cuda:2', grad_fn=<MeanBackward0>)\n",
      "tensor(0.3291, device='cuda:2', grad_fn=<AddBackward0>) tensor(0.3655, device='cuda:2', grad_fn=<DivBackward0>)\n",
      "tensor(1.3166, device='cuda:2', grad_fn=<MeanBackward0>) tensor(3.5751, device='cuda:2', grad_fn=<MeanBackward0>)\n",
      "tensor(0.2973, device='cuda:2', grad_fn=<AddBackward0>) tensor(0.3683, device='cuda:2', grad_fn=<DivBackward0>)\n"
     ]
    },
    {
     "name": "stderr",
     "output_type": "stream",
     "text": [
      "247it [00:23, 10.71it/s]"
     ]
    },
    {
     "name": "stdout",
     "output_type": "stream",
     "text": [
      "tensor(1.3204, device='cuda:2', grad_fn=<MeanBackward0>) tensor(3.6047, device='cuda:2', grad_fn=<MeanBackward0>)\n",
      "tensor(0.2879, device='cuda:2', grad_fn=<AddBackward0>) tensor(0.3663, device='cuda:2', grad_fn=<DivBackward0>)\n",
      "tensor(1.3195, device='cuda:2', grad_fn=<MeanBackward0>) tensor(3.6104, device='cuda:2', grad_fn=<MeanBackward0>)\n",
      "tensor(0.2783, device='cuda:2', grad_fn=<AddBackward0>) tensor(0.3655, device='cuda:2', grad_fn=<DivBackward0>)\n",
      "tensor(1.3115, device='cuda:2', grad_fn=<MeanBackward0>) tensor(3.6057, device='cuda:2', grad_fn=<MeanBackward0>)\n",
      "tensor(0.2676, device='cuda:2', grad_fn=<AddBackward0>) tensor(0.3637, device='cuda:2', grad_fn=<DivBackward0>)\n"
     ]
    },
    {
     "name": "stderr",
     "output_type": "stream",
     "text": [
      "251it [00:23, 10.76it/s]"
     ]
    },
    {
     "name": "stdout",
     "output_type": "stream",
     "text": [
      "tensor(1.2905, device='cuda:2', grad_fn=<MeanBackward0>) tensor(3.5956, device='cuda:2', grad_fn=<MeanBackward0>)\n",
      "tensor(0.4021, device='cuda:2', grad_fn=<AddBackward0>) tensor(0.3589, device='cuda:2', grad_fn=<DivBackward0>)\n",
      "tensor(1.2946, device='cuda:2', grad_fn=<MeanBackward0>) tensor(3.6226, device='cuda:2', grad_fn=<MeanBackward0>)\n",
      "tensor(0.4117, device='cuda:2', grad_fn=<AddBackward0>) tensor(0.3574, device='cuda:2', grad_fn=<DivBackward0>)\n",
      "tensor(1.3029, device='cuda:2', grad_fn=<MeanBackward0>) tensor(3.6193, device='cuda:2', grad_fn=<MeanBackward0>)\n",
      "tensor(0.3951, device='cuda:2', grad_fn=<AddBackward0>) tensor(0.3600, device='cuda:2', grad_fn=<DivBackward0>)\n"
     ]
    },
    {
     "name": "stderr",
     "output_type": "stream",
     "text": [
      "255it [00:23, 10.90it/s]"
     ]
    },
    {
     "name": "stdout",
     "output_type": "stream",
     "text": [
      "tensor(1.3084, device='cuda:2', grad_fn=<MeanBackward0>) tensor(3.6192, device='cuda:2', grad_fn=<MeanBackward0>)\n",
      "tensor(0.3890, device='cuda:2', grad_fn=<AddBackward0>) tensor(0.3615, device='cuda:2', grad_fn=<DivBackward0>)\n",
      "tensor(1.3271, device='cuda:2', grad_fn=<MeanBackward0>) tensor(3.6150, device='cuda:2', grad_fn=<MeanBackward0>)\n",
      "tensor(0.3525, device='cuda:2', grad_fn=<AddBackward0>) tensor(0.3671, device='cuda:2', grad_fn=<DivBackward0>)\n",
      "tensor(1.3040, device='cuda:2', grad_fn=<MeanBackward0>) tensor(3.6205, device='cuda:2', grad_fn=<MeanBackward0>)\n",
      "tensor(0.3376, device='cuda:2', grad_fn=<AddBackward0>) tensor(0.3602, device='cuda:2', grad_fn=<DivBackward0>)\n"
     ]
    },
    {
     "name": "stderr",
     "output_type": "stream",
     "text": [
      "257it [00:24, 10.86it/s]"
     ]
    },
    {
     "name": "stdout",
     "output_type": "stream",
     "text": [
      "tensor(1.3051, device='cuda:2', grad_fn=<MeanBackward0>) tensor(3.6192, device='cuda:2', grad_fn=<MeanBackward0>)\n",
      "tensor(0.3290, device='cuda:2', grad_fn=<AddBackward0>) tensor(0.3606, device='cuda:2', grad_fn=<DivBackward0>)\n",
      "tensor(1.3080, device='cuda:2', grad_fn=<MeanBackward0>) tensor(3.6118, device='cuda:2', grad_fn=<MeanBackward0>)\n",
      "tensor(0.3275, device='cuda:2', grad_fn=<AddBackward0>) tensor(0.3621, device='cuda:2', grad_fn=<DivBackward0>)\n",
      "tensor(1.2972, device='cuda:2', grad_fn=<MeanBackward0>) tensor(3.6007, device='cuda:2', grad_fn=<MeanBackward0>)\n",
      "tensor(0.3728, device='cuda:2', grad_fn=<AddBackward0>) tensor(0.3603, device='cuda:2', grad_fn=<DivBackward0>)\n"
     ]
    },
    {
     "name": "stderr",
     "output_type": "stream",
     "text": [
      "259it [00:24, 10.89it/s]"
     ]
    },
    {
     "name": "stdout",
     "output_type": "stream",
     "text": [
      "tensor(1.3089, device='cuda:2', grad_fn=<MeanBackward0>) tensor(3.6118, device='cuda:2', grad_fn=<MeanBackward0>)\n",
      "tensor(0.3946, device='cuda:2', grad_fn=<AddBackward0>) tensor(0.3624, device='cuda:2', grad_fn=<DivBackward0>)\n",
      "tensor(1.2822, device='cuda:2', grad_fn=<MeanBackward0>) tensor(3.5864, device='cuda:2', grad_fn=<MeanBackward0>)\n",
      "tensor(0.3508, device='cuda:2', grad_fn=<AddBackward0>) tensor(0.3575, device='cuda:2', grad_fn=<DivBackward0>)\n",
      "tensor(1.2852, device='cuda:2', grad_fn=<MeanBackward0>) tensor(3.5973, device='cuda:2', grad_fn=<MeanBackward0>)\n",
      "tensor(0.3650, device='cuda:2', grad_fn=<AddBackward0>) tensor(0.3573, device='cuda:2', grad_fn=<DivBackward0>)\n"
     ]
    },
    {
     "name": "stderr",
     "output_type": "stream",
     "text": [
      "263it [00:24, 10.80it/s]"
     ]
    },
    {
     "name": "stdout",
     "output_type": "stream",
     "text": [
      "tensor(1.2784, device='cuda:2', grad_fn=<MeanBackward0>) tensor(3.5929, device='cuda:2', grad_fn=<MeanBackward0>)\n",
      "tensor(0.3586, device='cuda:2', grad_fn=<AddBackward0>) tensor(0.3558, device='cuda:2', grad_fn=<DivBackward0>)\n",
      "tensor(1.2784, device='cuda:2', grad_fn=<MeanBackward0>) tensor(3.5871, device='cuda:2', grad_fn=<MeanBackward0>)\n",
      "tensor(0.3500, device='cuda:2', grad_fn=<AddBackward0>) tensor(0.3564, device='cuda:2', grad_fn=<DivBackward0>)\n",
      "tensor(1.2507, device='cuda:2', grad_fn=<MeanBackward0>) tensor(3.5665, device='cuda:2', grad_fn=<MeanBackward0>)\n",
      "tensor(0.3573, device='cuda:2', grad_fn=<AddBackward0>) tensor(0.3507, device='cuda:2', grad_fn=<DivBackward0>)\n"
     ]
    },
    {
     "name": "stderr",
     "output_type": "stream",
     "text": [
      "265it [00:24, 10.87it/s]"
     ]
    },
    {
     "name": "stdout",
     "output_type": "stream",
     "text": [
      "tensor(1.2592, device='cuda:2', grad_fn=<MeanBackward0>) tensor(3.5737, device='cuda:2', grad_fn=<MeanBackward0>)\n",
      "tensor(0.3437, device='cuda:2', grad_fn=<AddBackward0>) tensor(0.3524, device='cuda:2', grad_fn=<DivBackward0>)\n",
      "tensor(1.2665, device='cuda:2', grad_fn=<MeanBackward0>) tensor(3.5734, device='cuda:2', grad_fn=<MeanBackward0>)\n",
      "tensor(0.3643, device='cuda:2', grad_fn=<AddBackward0>) tensor(0.3544, device='cuda:2', grad_fn=<DivBackward0>)\n",
      "tensor(1.2869, device='cuda:2', grad_fn=<MeanBackward0>) tensor(3.5788, device='cuda:2', grad_fn=<MeanBackward0>)\n",
      "tensor(0.3565, device='cuda:2', grad_fn=<AddBackward0>) tensor(0.3596, device='cuda:2', grad_fn=<DivBackward0>)\n"
     ]
    },
    {
     "name": "stderr",
     "output_type": "stream",
     "text": [
      "269it [00:25, 10.92it/s]"
     ]
    },
    {
     "name": "stdout",
     "output_type": "stream",
     "text": [
      "tensor(1.3174, device='cuda:2', grad_fn=<MeanBackward0>) tensor(3.5985, device='cuda:2', grad_fn=<MeanBackward0>)\n",
      "tensor(0.3907, device='cuda:2', grad_fn=<AddBackward0>) tensor(0.3661, device='cuda:2', grad_fn=<DivBackward0>)\n",
      "tensor(1.2687, device='cuda:2', grad_fn=<MeanBackward0>) tensor(3.5573, device='cuda:2', grad_fn=<MeanBackward0>)\n",
      "tensor(0.3536, device='cuda:2', grad_fn=<AddBackward0>) tensor(0.3566, device='cuda:2', grad_fn=<DivBackward0>)\n",
      "tensor(1.2819, device='cuda:2', grad_fn=<MeanBackward0>) tensor(3.5962, device='cuda:2', grad_fn=<MeanBackward0>)\n",
      "tensor(0.4144, device='cuda:2', grad_fn=<AddBackward0>) tensor(0.3565, device='cuda:2', grad_fn=<DivBackward0>)\n"
     ]
    },
    {
     "name": "stderr",
     "output_type": "stream",
     "text": [
      "273it [00:25, 10.97it/s]"
     ]
    },
    {
     "name": "stdout",
     "output_type": "stream",
     "text": [
      "tensor(1.2502, device='cuda:2', grad_fn=<MeanBackward0>) tensor(3.5790, device='cuda:2', grad_fn=<MeanBackward0>)\n",
      "tensor(0.4264, device='cuda:2', grad_fn=<AddBackward0>) tensor(0.3493, device='cuda:2', grad_fn=<DivBackward0>)\n",
      "tensor(1.2780, device='cuda:2', grad_fn=<MeanBackward0>) tensor(3.5875, device='cuda:2', grad_fn=<MeanBackward0>)\n",
      "tensor(0.4152, device='cuda:2', grad_fn=<AddBackward0>) tensor(0.3562, device='cuda:2', grad_fn=<DivBackward0>)\n",
      "tensor(1.2785, device='cuda:2', grad_fn=<MeanBackward0>) tensor(3.5764, device='cuda:2', grad_fn=<MeanBackward0>)\n",
      "tensor(0.4333, device='cuda:2', grad_fn=<AddBackward0>) tensor(0.3575, device='cuda:2', grad_fn=<DivBackward0>)\n"
     ]
    },
    {
     "name": "stderr",
     "output_type": "stream",
     "text": [
      "275it [00:25, 10.88it/s]"
     ]
    },
    {
     "name": "stdout",
     "output_type": "stream",
     "text": [
      "tensor(1.2484, device='cuda:2', grad_fn=<MeanBackward0>) tensor(3.5733, device='cuda:2', grad_fn=<MeanBackward0>)\n",
      "tensor(0.3830, device='cuda:2', grad_fn=<AddBackward0>) tensor(0.3494, device='cuda:2', grad_fn=<DivBackward0>)\n",
      "tensor(1.2612, device='cuda:2', grad_fn=<MeanBackward0>) tensor(3.5928, device='cuda:2', grad_fn=<MeanBackward0>)\n",
      "tensor(0.3901, device='cuda:2', grad_fn=<AddBackward0>) tensor(0.3510, device='cuda:2', grad_fn=<DivBackward0>)\n",
      "tensor(1.2428, device='cuda:2', grad_fn=<MeanBackward0>) tensor(3.5728, device='cuda:2', grad_fn=<MeanBackward0>)\n",
      "tensor(0.3788, device='cuda:2', grad_fn=<AddBackward0>) tensor(0.3478, device='cuda:2', grad_fn=<DivBackward0>)\n"
     ]
    },
    {
     "name": "stderr",
     "output_type": "stream",
     "text": [
      "277it [00:25, 10.89it/s]"
     ]
    },
    {
     "name": "stdout",
     "output_type": "stream",
     "text": [
      "tensor(1.2590, device='cuda:2', grad_fn=<MeanBackward0>) tensor(3.5871, device='cuda:2', grad_fn=<MeanBackward0>)\n",
      "tensor(0.3614, device='cuda:2', grad_fn=<AddBackward0>) tensor(0.3510, device='cuda:2', grad_fn=<DivBackward0>)\n",
      "tensor(1.2470, device='cuda:2', grad_fn=<MeanBackward0>) tensor(3.5717, device='cuda:2', grad_fn=<MeanBackward0>)\n",
      "tensor(0.4307, device='cuda:2', grad_fn=<AddBackward0>) tensor(0.3491, device='cuda:2', grad_fn=<DivBackward0>)\n",
      "tensor(1.2484, device='cuda:2', grad_fn=<MeanBackward0>) tensor(3.5774, device='cuda:2', grad_fn=<MeanBackward0>)\n",
      "tensor(0.4189, device='cuda:2', grad_fn=<AddBackward0>) tensor(0.3490, device='cuda:2', grad_fn=<DivBackward0>)\n"
     ]
    },
    {
     "name": "stderr",
     "output_type": "stream",
     "text": [
      "281it [00:26, 10.98it/s]"
     ]
    },
    {
     "name": "stdout",
     "output_type": "stream",
     "text": [
      "tensor(1.2589, device='cuda:2', grad_fn=<MeanBackward0>) tensor(3.5625, device='cuda:2', grad_fn=<MeanBackward0>)\n",
      "tensor(0.4201, device='cuda:2', grad_fn=<AddBackward0>) tensor(0.3534, device='cuda:2', grad_fn=<DivBackward0>)\n",
      "tensor(1.2358, device='cuda:2', grad_fn=<MeanBackward0>) tensor(3.5644, device='cuda:2', grad_fn=<MeanBackward0>)\n",
      "tensor(0.4284, device='cuda:2', grad_fn=<AddBackward0>) tensor(0.3467, device='cuda:2', grad_fn=<DivBackward0>)\n",
      "tensor(1.2316, device='cuda:2', grad_fn=<MeanBackward0>) tensor(3.5627, device='cuda:2', grad_fn=<MeanBackward0>)\n",
      "tensor(0.3418, device='cuda:2', grad_fn=<AddBackward0>) tensor(0.3457, device='cuda:2', grad_fn=<DivBackward0>)\n"
     ]
    },
    {
     "name": "stderr",
     "output_type": "stream",
     "text": [
      "283it [00:26, 10.83it/s]"
     ]
    },
    {
     "name": "stdout",
     "output_type": "stream",
     "text": [
      "tensor(1.2582, device='cuda:2', grad_fn=<MeanBackward0>) tensor(3.5708, device='cuda:2', grad_fn=<MeanBackward0>)\n",
      "tensor(0.3334, device='cuda:2', grad_fn=<AddBackward0>) tensor(0.3524, device='cuda:2', grad_fn=<DivBackward0>)\n",
      "tensor(1.2445, device='cuda:2', grad_fn=<MeanBackward0>) tensor(3.5733, device='cuda:2', grad_fn=<MeanBackward0>)\n",
      "tensor(0.3397, device='cuda:2', grad_fn=<AddBackward0>) tensor(0.3483, device='cuda:2', grad_fn=<DivBackward0>)\n",
      "tensor(1.2696, device='cuda:2', grad_fn=<MeanBackward0>) tensor(3.5822, device='cuda:2', grad_fn=<MeanBackward0>)\n",
      "tensor(0.3552, device='cuda:2', grad_fn=<AddBackward0>) tensor(0.3544, device='cuda:2', grad_fn=<DivBackward0>)\n"
     ]
    },
    {
     "name": "stderr",
     "output_type": "stream",
     "text": [
      "287it [00:26, 10.95it/s]"
     ]
    },
    {
     "name": "stdout",
     "output_type": "stream",
     "text": [
      "tensor(1.2379, device='cuda:2', grad_fn=<MeanBackward0>) tensor(3.5797, device='cuda:2', grad_fn=<MeanBackward0>)\n",
      "tensor(0.3682, device='cuda:2', grad_fn=<AddBackward0>) tensor(0.3458, device='cuda:2', grad_fn=<DivBackward0>)\n",
      "tensor(1.2477, device='cuda:2', grad_fn=<MeanBackward0>) tensor(3.5768, device='cuda:2', grad_fn=<MeanBackward0>)\n",
      "tensor(0.3777, device='cuda:2', grad_fn=<AddBackward0>) tensor(0.3488, device='cuda:2', grad_fn=<DivBackward0>)\n",
      "tensor(1.2256, device='cuda:2', grad_fn=<MeanBackward0>) tensor(3.5616, device='cuda:2', grad_fn=<MeanBackward0>)\n",
      "tensor(0.3604, device='cuda:2', grad_fn=<AddBackward0>) tensor(0.3441, device='cuda:2', grad_fn=<DivBackward0>)\n"
     ]
    },
    {
     "name": "stderr",
     "output_type": "stream",
     "text": [
      "289it [00:27, 10.95it/s]"
     ]
    },
    {
     "name": "stdout",
     "output_type": "stream",
     "text": [
      "tensor(1.2224, device='cuda:2', grad_fn=<MeanBackward0>) tensor(3.5481, device='cuda:2', grad_fn=<MeanBackward0>)\n",
      "tensor(0.3599, device='cuda:2', grad_fn=<AddBackward0>) tensor(0.3445, device='cuda:2', grad_fn=<DivBackward0>)\n",
      "tensor(1.1997, device='cuda:2', grad_fn=<MeanBackward0>) tensor(3.5250, device='cuda:2', grad_fn=<MeanBackward0>)\n",
      "tensor(0.4225, device='cuda:2', grad_fn=<AddBackward0>) tensor(0.3403, device='cuda:2', grad_fn=<DivBackward0>)\n",
      "tensor(1.2174, device='cuda:2', grad_fn=<MeanBackward0>) tensor(3.5301, device='cuda:2', grad_fn=<MeanBackward0>)\n",
      "tensor(0.4192, device='cuda:2', grad_fn=<AddBackward0>) tensor(0.3449, device='cuda:2', grad_fn=<DivBackward0>)\n"
     ]
    },
    {
     "name": "stderr",
     "output_type": "stream",
     "text": [
      "293it [00:27, 10.89it/s]"
     ]
    },
    {
     "name": "stdout",
     "output_type": "stream",
     "text": [
      "tensor(1.2209, device='cuda:2', grad_fn=<MeanBackward0>) tensor(3.5277, device='cuda:2', grad_fn=<MeanBackward0>)\n",
      "tensor(0.4226, device='cuda:2', grad_fn=<AddBackward0>) tensor(0.3461, device='cuda:2', grad_fn=<DivBackward0>)\n",
      "tensor(1.2087, device='cuda:2', grad_fn=<MeanBackward0>) tensor(3.5179, device='cuda:2', grad_fn=<MeanBackward0>)\n",
      "tensor(0.4210, device='cuda:2', grad_fn=<AddBackward0>) tensor(0.3436, device='cuda:2', grad_fn=<DivBackward0>)\n",
      "tensor(1.2382, device='cuda:2', grad_fn=<MeanBackward0>) tensor(3.5189, device='cuda:2', grad_fn=<MeanBackward0>)\n",
      "tensor(0.2618, device='cuda:2', grad_fn=<AddBackward0>) tensor(0.3519, device='cuda:2', grad_fn=<DivBackward0>)\n"
     ]
    },
    {
     "name": "stderr",
     "output_type": "stream",
     "text": [
      "297it [00:27, 10.97it/s]"
     ]
    },
    {
     "name": "stdout",
     "output_type": "stream",
     "text": [
      "tensor(1.2250, device='cuda:2', grad_fn=<MeanBackward0>) tensor(3.5227, device='cuda:2', grad_fn=<MeanBackward0>)\n",
      "tensor(0.2534, device='cuda:2', grad_fn=<AddBackward0>) tensor(0.3477, device='cuda:2', grad_fn=<DivBackward0>)\n",
      "tensor(1.2083, device='cuda:2', grad_fn=<MeanBackward0>) tensor(3.5130, device='cuda:2', grad_fn=<MeanBackward0>)\n",
      "tensor(0.2415, device='cuda:2', grad_fn=<AddBackward0>) tensor(0.3440, device='cuda:2', grad_fn=<DivBackward0>)\n",
      "tensor(1.2302, device='cuda:2', grad_fn=<MeanBackward0>) tensor(3.5375, device='cuda:2', grad_fn=<MeanBackward0>)\n",
      "tensor(0.2401, device='cuda:2', grad_fn=<AddBackward0>) tensor(0.3477, device='cuda:2', grad_fn=<DivBackward0>)\n"
     ]
    },
    {
     "name": "stderr",
     "output_type": "stream",
     "text": [
      "299it [00:28, 10.92it/s]"
     ]
    },
    {
     "name": "stdout",
     "output_type": "stream",
     "text": [
      "tensor(1.2326, device='cuda:2', grad_fn=<MeanBackward0>) tensor(3.5540, device='cuda:2', grad_fn=<MeanBackward0>)\n",
      "tensor(0.5085, device='cuda:2', grad_fn=<AddBackward0>) tensor(0.3468, device='cuda:2', grad_fn=<DivBackward0>)\n",
      "tensor(1.2081, device='cuda:2', grad_fn=<MeanBackward0>) tensor(3.5509, device='cuda:2', grad_fn=<MeanBackward0>)\n",
      "tensor(0.4473, device='cuda:2', grad_fn=<AddBackward0>) tensor(0.3402, device='cuda:2', grad_fn=<DivBackward0>)\n",
      "tensor(1.2104, device='cuda:2', grad_fn=<MeanBackward0>) tensor(3.5541, device='cuda:2', grad_fn=<MeanBackward0>)\n",
      "tensor(0.4432, device='cuda:2', grad_fn=<AddBackward0>) tensor(0.3406, device='cuda:2', grad_fn=<DivBackward0>)\n"
     ]
    },
    {
     "name": "stderr",
     "output_type": "stream",
     "text": [
      "301it [00:28, 10.92it/s]"
     ]
    },
    {
     "name": "stdout",
     "output_type": "stream",
     "text": [
      "tensor(1.1965, device='cuda:2', grad_fn=<MeanBackward0>) tensor(3.5517, device='cuda:2', grad_fn=<MeanBackward0>)\n",
      "tensor(0.4514, device='cuda:2', grad_fn=<AddBackward0>) tensor(0.3369, device='cuda:2', grad_fn=<DivBackward0>)\n",
      "tensor(1.2448, device='cuda:2', grad_fn=<MeanBackward0>) tensor(3.5698, device='cuda:2', grad_fn=<MeanBackward0>)\n",
      "tensor(0.2700, device='cuda:2', grad_fn=<AddBackward0>) tensor(0.3487, device='cuda:2', grad_fn=<DivBackward0>)\n",
      "tensor(1.2439, device='cuda:2', grad_fn=<MeanBackward0>) tensor(3.5711, device='cuda:2', grad_fn=<MeanBackward0>)\n",
      "tensor(0.2615, device='cuda:2', grad_fn=<AddBackward0>) tensor(0.3483, device='cuda:2', grad_fn=<DivBackward0>)\n"
     ]
    },
    {
     "name": "stderr",
     "output_type": "stream",
     "text": [
      "305it [00:28, 10.91it/s]"
     ]
    },
    {
     "name": "stdout",
     "output_type": "stream",
     "text": [
      "tensor(1.2336, device='cuda:2', grad_fn=<MeanBackward0>) tensor(3.5720, device='cuda:2', grad_fn=<MeanBackward0>)\n",
      "tensor(0.2629, device='cuda:2', grad_fn=<AddBackward0>) tensor(0.3454, device='cuda:2', grad_fn=<DivBackward0>)\n",
      "tensor(1.2595, device='cuda:2', grad_fn=<MeanBackward0>) tensor(3.5796, device='cuda:2', grad_fn=<MeanBackward0>)\n",
      "tensor(0.2684, device='cuda:2', grad_fn=<AddBackward0>) tensor(0.3519, device='cuda:2', grad_fn=<DivBackward0>)\n",
      "tensor(1.2581, device='cuda:2', grad_fn=<MeanBackward0>) tensor(3.5670, device='cuda:2', grad_fn=<MeanBackward0>)\n",
      "tensor(0.3162, device='cuda:2', grad_fn=<AddBackward0>) tensor(0.3527, device='cuda:2', grad_fn=<DivBackward0>)\n"
     ]
    },
    {
     "name": "stderr",
     "output_type": "stream",
     "text": [
      "307it [00:28, 10.93it/s]"
     ]
    },
    {
     "name": "stdout",
     "output_type": "stream",
     "text": [
      "tensor(1.2176, device='cuda:2', grad_fn=<MeanBackward0>) tensor(3.5619, device='cuda:2', grad_fn=<MeanBackward0>)\n",
      "tensor(0.3108, device='cuda:2', grad_fn=<AddBackward0>) tensor(0.3418, device='cuda:2', grad_fn=<DivBackward0>)\n",
      "tensor(1.2601, device='cuda:2', grad_fn=<MeanBackward0>) tensor(3.5696, device='cuda:2', grad_fn=<MeanBackward0>)\n",
      "tensor(0.3124, device='cuda:2', grad_fn=<AddBackward0>) tensor(0.3530, device='cuda:2', grad_fn=<DivBackward0>)\n",
      "tensor(1.2222, device='cuda:2', grad_fn=<MeanBackward0>) tensor(3.5575, device='cuda:2', grad_fn=<MeanBackward0>)\n",
      "tensor(0.3032, device='cuda:2', grad_fn=<AddBackward0>) tensor(0.3436, device='cuda:2', grad_fn=<DivBackward0>)\n"
     ]
    },
    {
     "name": "stderr",
     "output_type": "stream",
     "text": [
      "311it [00:29, 10.90it/s]"
     ]
    },
    {
     "name": "stdout",
     "output_type": "stream",
     "text": [
      "tensor(1.2061, device='cuda:2', grad_fn=<MeanBackward0>) tensor(3.5421, device='cuda:2', grad_fn=<MeanBackward0>)\n",
      "tensor(0.4144, device='cuda:2', grad_fn=<AddBackward0>) tensor(0.3405, device='cuda:2', grad_fn=<DivBackward0>)\n",
      "tensor(1.2249, device='cuda:2', grad_fn=<MeanBackward0>) tensor(3.5396, device='cuda:2', grad_fn=<MeanBackward0>)\n",
      "tensor(0.4270, device='cuda:2', grad_fn=<AddBackward0>) tensor(0.3460, device='cuda:2', grad_fn=<DivBackward0>)\n",
      "tensor(1.1734, device='cuda:2', grad_fn=<MeanBackward0>) tensor(3.5129, device='cuda:2', grad_fn=<MeanBackward0>)\n",
      "tensor(0.3959, device='cuda:2', grad_fn=<AddBackward0>) tensor(0.3340, device='cuda:2', grad_fn=<DivBackward0>)\n"
     ]
    },
    {
     "name": "stderr",
     "output_type": "stream",
     "text": [
      "313it [00:29, 10.97it/s]"
     ]
    },
    {
     "name": "stdout",
     "output_type": "stream",
     "text": [
      "tensor(1.1766, device='cuda:2', grad_fn=<MeanBackward0>) tensor(3.5213, device='cuda:2', grad_fn=<MeanBackward0>)\n",
      "tensor(0.4032, device='cuda:2', grad_fn=<AddBackward0>) tensor(0.3341, device='cuda:2', grad_fn=<DivBackward0>)\n",
      "tensor(1.1642, device='cuda:2', grad_fn=<MeanBackward0>) tensor(3.5155, device='cuda:2', grad_fn=<MeanBackward0>)\n",
      "tensor(0.2934, device='cuda:2', grad_fn=<AddBackward0>) tensor(0.3312, device='cuda:2', grad_fn=<DivBackward0>)\n",
      "tensor(1.1613, device='cuda:2', grad_fn=<MeanBackward0>) tensor(3.4953, device='cuda:2', grad_fn=<MeanBackward0>)\n",
      "tensor(0.2662, device='cuda:2', grad_fn=<AddBackward0>) tensor(0.3322, device='cuda:2', grad_fn=<DivBackward0>)\n"
     ]
    },
    {
     "name": "stderr",
     "output_type": "stream",
     "text": [
      "317it [00:29, 10.89it/s]"
     ]
    },
    {
     "name": "stdout",
     "output_type": "stream",
     "text": [
      "tensor(1.1632, device='cuda:2', grad_fn=<MeanBackward0>) tensor(3.5117, device='cuda:2', grad_fn=<MeanBackward0>)\n",
      "tensor(0.2603, device='cuda:2', grad_fn=<AddBackward0>) tensor(0.3312, device='cuda:2', grad_fn=<DivBackward0>)\n",
      "tensor(1.1725, device='cuda:2', grad_fn=<MeanBackward0>) tensor(3.5118, device='cuda:2', grad_fn=<MeanBackward0>)\n",
      "tensor(0.2643, device='cuda:2', grad_fn=<AddBackward0>) tensor(0.3339, device='cuda:2', grad_fn=<DivBackward0>)\n",
      "tensor(1.1935, device='cuda:2', grad_fn=<MeanBackward0>) tensor(3.5366, device='cuda:2', grad_fn=<MeanBackward0>)\n",
      "tensor(0.4073, device='cuda:2', grad_fn=<AddBackward0>) tensor(0.3375, device='cuda:2', grad_fn=<DivBackward0>)\n"
     ]
    },
    {
     "name": "stderr",
     "output_type": "stream",
     "text": [
      "319it [00:29, 10.79it/s]"
     ]
    },
    {
     "name": "stdout",
     "output_type": "stream",
     "text": [
      "tensor(1.1977, device='cuda:2', grad_fn=<MeanBackward0>) tensor(3.5333, device='cuda:2', grad_fn=<MeanBackward0>)\n",
      "tensor(0.4184, device='cuda:2', grad_fn=<AddBackward0>) tensor(0.3390, device='cuda:2', grad_fn=<DivBackward0>)\n",
      "tensor(1.2052, device='cuda:2', grad_fn=<MeanBackward0>) tensor(3.5296, device='cuda:2', grad_fn=<MeanBackward0>)\n",
      "tensor(0.4283, device='cuda:2', grad_fn=<AddBackward0>) tensor(0.3415, device='cuda:2', grad_fn=<DivBackward0>)\n",
      "tensor(1.2094, device='cuda:2', grad_fn=<MeanBackward0>) tensor(3.5210, device='cuda:2', grad_fn=<MeanBackward0>)\n",
      "tensor(0.4656, device='cuda:2', grad_fn=<AddBackward0>) tensor(0.3435, device='cuda:2', grad_fn=<DivBackward0>)\n"
     ]
    },
    {
     "name": "stderr",
     "output_type": "stream",
     "text": [
      "323it [00:30, 10.88it/s]"
     ]
    },
    {
     "name": "stdout",
     "output_type": "stream",
     "text": [
      "tensor(1.1708, device='cuda:2', grad_fn=<MeanBackward0>) tensor(3.5084, device='cuda:2', grad_fn=<MeanBackward0>)\n",
      "tensor(0.3099, device='cuda:2', grad_fn=<AddBackward0>) tensor(0.3337, device='cuda:2', grad_fn=<DivBackward0>)\n",
      "tensor(1.1804, device='cuda:2', grad_fn=<MeanBackward0>) tensor(3.5065, device='cuda:2', grad_fn=<MeanBackward0>)\n",
      "tensor(0.3303, device='cuda:2', grad_fn=<AddBackward0>) tensor(0.3366, device='cuda:2', grad_fn=<DivBackward0>)\n",
      "tensor(1.2005, device='cuda:2', grad_fn=<MeanBackward0>) tensor(3.5257, device='cuda:2', grad_fn=<MeanBackward0>)\n",
      "tensor(0.3092, device='cuda:2', grad_fn=<AddBackward0>) tensor(0.3405, device='cuda:2', grad_fn=<DivBackward0>)\n"
     ]
    },
    {
     "name": "stderr",
     "output_type": "stream",
     "text": [
      "325it [00:30, 10.89it/s]"
     ]
    },
    {
     "name": "stdout",
     "output_type": "stream",
     "text": [
      "tensor(1.1890, device='cuda:2', grad_fn=<MeanBackward0>) tensor(3.4977, device='cuda:2', grad_fn=<MeanBackward0>)\n",
      "tensor(0.3133, device='cuda:2', grad_fn=<AddBackward0>) tensor(0.3399, device='cuda:2', grad_fn=<DivBackward0>)\n",
      "tensor(1.1718, device='cuda:2', grad_fn=<MeanBackward0>) tensor(3.5068, device='cuda:2', grad_fn=<MeanBackward0>)\n",
      "tensor(0.3778, device='cuda:2', grad_fn=<AddBackward0>) tensor(0.3341, device='cuda:2', grad_fn=<DivBackward0>)\n",
      "tensor(1.1460, device='cuda:2', grad_fn=<MeanBackward0>) tensor(3.4963, device='cuda:2', grad_fn=<MeanBackward0>)\n",
      "tensor(0.3674, device='cuda:2', grad_fn=<AddBackward0>) tensor(0.3278, device='cuda:2', grad_fn=<DivBackward0>)\n"
     ]
    },
    {
     "name": "stderr",
     "output_type": "stream",
     "text": [
      "329it [00:30, 10.85it/s]"
     ]
    },
    {
     "name": "stdout",
     "output_type": "stream",
     "text": [
      "tensor(1.1549, device='cuda:2', grad_fn=<MeanBackward0>) tensor(3.4987, device='cuda:2', grad_fn=<MeanBackward0>)\n",
      "tensor(0.3932, device='cuda:2', grad_fn=<AddBackward0>) tensor(0.3301, device='cuda:2', grad_fn=<DivBackward0>)\n",
      "tensor(1.1739, device='cuda:2', grad_fn=<MeanBackward0>) tensor(3.5101, device='cuda:2', grad_fn=<MeanBackward0>)\n",
      "tensor(0.3651, device='cuda:2', grad_fn=<AddBackward0>) tensor(0.3344, device='cuda:2', grad_fn=<DivBackward0>)\n",
      "tensor(1.1794, device='cuda:2', grad_fn=<MeanBackward0>) tensor(3.5192, device='cuda:2', grad_fn=<MeanBackward0>)\n",
      "tensor(0.3569, device='cuda:2', grad_fn=<AddBackward0>) tensor(0.3351, device='cuda:2', grad_fn=<DivBackward0>)\n"
     ]
    },
    {
     "name": "stderr",
     "output_type": "stream",
     "text": [
      "331it [00:30, 10.86it/s]"
     ]
    },
    {
     "name": "stdout",
     "output_type": "stream",
     "text": [
      "tensor(1.1885, device='cuda:2', grad_fn=<MeanBackward0>) tensor(3.5316, device='cuda:2', grad_fn=<MeanBackward0>)\n",
      "tensor(0.3690, device='cuda:2', grad_fn=<AddBackward0>) tensor(0.3365, device='cuda:2', grad_fn=<DivBackward0>)\n",
      "tensor(1.1597, device='cuda:2', grad_fn=<MeanBackward0>) tensor(3.5290, device='cuda:2', grad_fn=<MeanBackward0>)\n",
      "tensor(0.3562, device='cuda:2', grad_fn=<AddBackward0>) tensor(0.3286, device='cuda:2', grad_fn=<DivBackward0>)\n",
      "tensor(1.1636, device='cuda:2', grad_fn=<MeanBackward0>) tensor(3.5303, device='cuda:2', grad_fn=<MeanBackward0>)\n",
      "tensor(0.3616, device='cuda:2', grad_fn=<AddBackward0>) tensor(0.3296, device='cuda:2', grad_fn=<DivBackward0>)\n"
     ]
    },
    {
     "name": "stderr",
     "output_type": "stream",
     "text": [
      "335it [00:31, 10.84it/s]"
     ]
    },
    {
     "name": "stdout",
     "output_type": "stream",
     "text": [
      "tensor(1.2201, device='cuda:2', grad_fn=<MeanBackward0>) tensor(3.5594, device='cuda:2', grad_fn=<MeanBackward0>)\n",
      "tensor(0.3847, device='cuda:2', grad_fn=<AddBackward0>) tensor(0.3428, device='cuda:2', grad_fn=<DivBackward0>)\n",
      "tensor(1.2029, device='cuda:2', grad_fn=<MeanBackward0>) tensor(3.5581, device='cuda:2', grad_fn=<MeanBackward0>)\n",
      "tensor(0.3747, device='cuda:2', grad_fn=<AddBackward0>) tensor(0.3381, device='cuda:2', grad_fn=<DivBackward0>)\n",
      "tensor(1.1846, device='cuda:2', grad_fn=<MeanBackward0>) tensor(3.5411, device='cuda:2', grad_fn=<MeanBackward0>)\n",
      "tensor(0.3701, device='cuda:2', grad_fn=<AddBackward0>) tensor(0.3345, device='cuda:2', grad_fn=<DivBackward0>)\n"
     ]
    },
    {
     "name": "stderr",
     "output_type": "stream",
     "text": [
      "339it [00:31, 10.94it/s]"
     ]
    },
    {
     "name": "stdout",
     "output_type": "stream",
     "text": [
      "tensor(1.1731, device='cuda:2', grad_fn=<MeanBackward0>) tensor(3.5308, device='cuda:2', grad_fn=<MeanBackward0>)\n",
      "tensor(0.3705, device='cuda:2', grad_fn=<AddBackward0>) tensor(0.3322, device='cuda:2', grad_fn=<DivBackward0>)\n",
      "tensor(1.1496, device='cuda:2', grad_fn=<MeanBackward0>) tensor(3.5189, device='cuda:2', grad_fn=<MeanBackward0>)\n",
      "tensor(0.3091, device='cuda:2', grad_fn=<AddBackward0>) tensor(0.3267, device='cuda:2', grad_fn=<DivBackward0>)\n",
      "tensor(1.1284, device='cuda:2', grad_fn=<MeanBackward0>) tensor(3.5019, device='cuda:2', grad_fn=<MeanBackward0>)\n",
      "tensor(0.2937, device='cuda:2', grad_fn=<AddBackward0>) tensor(0.3222, device='cuda:2', grad_fn=<DivBackward0>)\n"
     ]
    },
    {
     "name": "stderr",
     "output_type": "stream",
     "text": [
      "341it [00:31, 10.38it/s]"
     ]
    },
    {
     "name": "stdout",
     "output_type": "stream",
     "text": [
      "tensor(1.1426, device='cuda:2', grad_fn=<MeanBackward0>) tensor(3.4856, device='cuda:2', grad_fn=<MeanBackward0>)\n",
      "tensor(0.3047, device='cuda:2', grad_fn=<AddBackward0>) tensor(0.3278, device='cuda:2', grad_fn=<DivBackward0>)\n",
      "tensor(1.1683, device='cuda:2', grad_fn=<MeanBackward0>) tensor(3.5098, device='cuda:2', grad_fn=<MeanBackward0>)\n",
      "tensor(0.3325, device='cuda:2', grad_fn=<AddBackward0>) tensor(0.3329, device='cuda:2', grad_fn=<DivBackward0>)\n"
     ]
    },
    {
     "name": "stderr",
     "output_type": "stream",
     "text": [
      "343it [00:32, 10.53it/s]"
     ]
    },
    {
     "name": "stdout",
     "output_type": "stream",
     "text": [
      "tensor(1.1268, device='cuda:2', grad_fn=<MeanBackward0>) tensor(3.4831, device='cuda:2', grad_fn=<MeanBackward0>)\n",
      "tensor(0.2771, device='cuda:2', grad_fn=<AddBackward0>) tensor(0.3235, device='cuda:2', grad_fn=<DivBackward0>)\n",
      "tensor(1.1447, device='cuda:2', grad_fn=<MeanBackward0>) tensor(3.4824, device='cuda:2', grad_fn=<MeanBackward0>)\n",
      "tensor(0.2702, device='cuda:2', grad_fn=<AddBackward0>) tensor(0.3287, device='cuda:2', grad_fn=<DivBackward0>)\n",
      "tensor(1.1564, device='cuda:2', grad_fn=<MeanBackward0>) tensor(3.4926, device='cuda:2', grad_fn=<MeanBackward0>)\n",
      "tensor(0.2698, device='cuda:2', grad_fn=<AddBackward0>) tensor(0.3311, device='cuda:2', grad_fn=<DivBackward0>)\n"
     ]
    },
    {
     "name": "stderr",
     "output_type": "stream",
     "text": [
      "347it [00:32, 10.76it/s]"
     ]
    },
    {
     "name": "stdout",
     "output_type": "stream",
     "text": [
      "tensor(1.1581, device='cuda:2', grad_fn=<MeanBackward0>) tensor(3.4944, device='cuda:2', grad_fn=<MeanBackward0>)\n",
      "tensor(0.2653, device='cuda:2', grad_fn=<AddBackward0>) tensor(0.3314, device='cuda:2', grad_fn=<DivBackward0>)\n",
      "tensor(1.1409, device='cuda:2', grad_fn=<MeanBackward0>) tensor(3.4810, device='cuda:2', grad_fn=<MeanBackward0>)\n",
      "tensor(0.4382, device='cuda:2', grad_fn=<AddBackward0>) tensor(0.3277, device='cuda:2', grad_fn=<DivBackward0>)\n",
      "tensor(1.1461, device='cuda:2', grad_fn=<MeanBackward0>) tensor(3.4794, device='cuda:2', grad_fn=<MeanBackward0>)\n",
      "tensor(0.4137, device='cuda:2', grad_fn=<AddBackward0>) tensor(0.3294, device='cuda:2', grad_fn=<DivBackward0>)\n"
     ]
    },
    {
     "name": "stderr",
     "output_type": "stream",
     "text": [
      "349it [00:32, 10.80it/s]"
     ]
    },
    {
     "name": "stdout",
     "output_type": "stream",
     "text": [
      "tensor(1.1450, device='cuda:2', grad_fn=<MeanBackward0>) tensor(3.4802, device='cuda:2', grad_fn=<MeanBackward0>)\n",
      "tensor(0.4102, device='cuda:2', grad_fn=<AddBackward0>) tensor(0.3290, device='cuda:2', grad_fn=<DivBackward0>)\n",
      "tensor(1.1458, device='cuda:2', grad_fn=<MeanBackward0>) tensor(3.4875, device='cuda:2', grad_fn=<MeanBackward0>)\n",
      "tensor(0.3986, device='cuda:2', grad_fn=<AddBackward0>) tensor(0.3285, device='cuda:2', grad_fn=<DivBackward0>)\n",
      "tensor(1.1324, device='cuda:2', grad_fn=<MeanBackward0>) tensor(3.5007, device='cuda:2', grad_fn=<MeanBackward0>)\n",
      "tensor(0.3574, device='cuda:2', grad_fn=<AddBackward0>) tensor(0.3235, device='cuda:2', grad_fn=<DivBackward0>)\n"
     ]
    },
    {
     "name": "stderr",
     "output_type": "stream",
     "text": [
      "351it [00:32, 10.81it/s]"
     ]
    },
    {
     "name": "stdout",
     "output_type": "stream",
     "text": [
      "tensor(1.1594, device='cuda:2', grad_fn=<MeanBackward0>) tensor(3.5243, device='cuda:2', grad_fn=<MeanBackward0>)\n",
      "tensor(0.3397, device='cuda:2', grad_fn=<AddBackward0>) tensor(0.3290, device='cuda:2', grad_fn=<DivBackward0>)\n",
      "tensor(1.1521, device='cuda:2', grad_fn=<MeanBackward0>) tensor(3.5332, device='cuda:2', grad_fn=<MeanBackward0>)\n",
      "tensor(0.3352, device='cuda:2', grad_fn=<AddBackward0>) tensor(0.3261, device='cuda:2', grad_fn=<DivBackward0>)\n",
      "tensor(1.1651, device='cuda:2', grad_fn=<MeanBackward0>) tensor(3.5394, device='cuda:2', grad_fn=<MeanBackward0>)\n",
      "tensor(0.3338, device='cuda:2', grad_fn=<AddBackward0>) tensor(0.3292, device='cuda:2', grad_fn=<DivBackward0>)\n"
     ]
    },
    {
     "name": "stderr",
     "output_type": "stream",
     "text": [
      "355it [00:33, 10.77it/s]"
     ]
    },
    {
     "name": "stdout",
     "output_type": "stream",
     "text": [
      "tensor(1.1965, device='cuda:2', grad_fn=<MeanBackward0>) tensor(3.5666, device='cuda:2', grad_fn=<MeanBackward0>)\n",
      "tensor(0.3429, device='cuda:2', grad_fn=<AddBackward0>) tensor(0.3355, device='cuda:2', grad_fn=<DivBackward0>)\n",
      "tensor(1.1896, device='cuda:2', grad_fn=<MeanBackward0>) tensor(3.5479, device='cuda:2', grad_fn=<MeanBackward0>)\n",
      "tensor(0.3289, device='cuda:2', grad_fn=<AddBackward0>) tensor(0.3353, device='cuda:2', grad_fn=<DivBackward0>)\n",
      "tensor(1.1691, device='cuda:2', grad_fn=<MeanBackward0>) tensor(3.5433, device='cuda:2', grad_fn=<MeanBackward0>)\n",
      "tensor(0.3208, device='cuda:2', grad_fn=<AddBackward0>) tensor(0.3299, device='cuda:2', grad_fn=<DivBackward0>)\n"
     ]
    },
    {
     "name": "stderr",
     "output_type": "stream",
     "text": [
      "357it [00:33, 10.85it/s]"
     ]
    },
    {
     "name": "stdout",
     "output_type": "stream",
     "text": [
      "tensor(1.1545, device='cuda:2', grad_fn=<MeanBackward0>) tensor(3.5294, device='cuda:2', grad_fn=<MeanBackward0>)\n",
      "tensor(0.3047, device='cuda:2', grad_fn=<AddBackward0>) tensor(0.3271, device='cuda:2', grad_fn=<DivBackward0>)\n",
      "tensor(1.1951, device='cuda:2', grad_fn=<MeanBackward0>) tensor(3.5290, device='cuda:2', grad_fn=<MeanBackward0>)\n",
      "tensor(0.3859, device='cuda:2', grad_fn=<AddBackward0>) tensor(0.3387, device='cuda:2', grad_fn=<DivBackward0>)\n",
      "tensor(1.2192, device='cuda:2', grad_fn=<MeanBackward0>) tensor(3.5256, device='cuda:2', grad_fn=<MeanBackward0>)\n",
      "tensor(0.3885, device='cuda:2', grad_fn=<AddBackward0>) tensor(0.3458, device='cuda:2', grad_fn=<DivBackward0>)\n"
     ]
    },
    {
     "name": "stderr",
     "output_type": "stream",
     "text": [
      "361it [00:33, 10.90it/s]"
     ]
    },
    {
     "name": "stdout",
     "output_type": "stream",
     "text": [
      "tensor(1.1969, device='cuda:2', grad_fn=<MeanBackward0>) tensor(3.5220, device='cuda:2', grad_fn=<MeanBackward0>)\n",
      "tensor(0.3616, device='cuda:2', grad_fn=<AddBackward0>) tensor(0.3398, device='cuda:2', grad_fn=<DivBackward0>)\n",
      "tensor(1.1999, device='cuda:2', grad_fn=<MeanBackward0>) tensor(3.5068, device='cuda:2', grad_fn=<MeanBackward0>)\n",
      "tensor(0.3787, device='cuda:2', grad_fn=<AddBackward0>) tensor(0.3422, device='cuda:2', grad_fn=<DivBackward0>)\n",
      "tensor(1.1317, device='cuda:2', grad_fn=<MeanBackward0>) tensor(3.4914, device='cuda:2', grad_fn=<MeanBackward0>)\n",
      "tensor(0.2903, device='cuda:2', grad_fn=<AddBackward0>) tensor(0.3241, device='cuda:2', grad_fn=<DivBackward0>)\n"
     ]
    },
    {
     "name": "stderr",
     "output_type": "stream",
     "text": [
      "363it [00:33, 10.82it/s]"
     ]
    },
    {
     "name": "stdout",
     "output_type": "stream",
     "text": [
      "tensor(1.1330, device='cuda:2', grad_fn=<MeanBackward0>) tensor(3.4751, device='cuda:2', grad_fn=<MeanBackward0>)\n",
      "tensor(0.2891, device='cuda:2', grad_fn=<AddBackward0>) tensor(0.3260, device='cuda:2', grad_fn=<DivBackward0>)\n",
      "tensor(1.1362, device='cuda:2', grad_fn=<MeanBackward0>) tensor(3.4741, device='cuda:2', grad_fn=<MeanBackward0>)\n",
      "tensor(0.2969, device='cuda:2', grad_fn=<AddBackward0>) tensor(0.3271, device='cuda:2', grad_fn=<DivBackward0>)\n",
      "tensor(1.1205, device='cuda:2', grad_fn=<MeanBackward0>) tensor(3.4664, device='cuda:2', grad_fn=<MeanBackward0>)\n",
      "tensor(0.2866, device='cuda:2', grad_fn=<AddBackward0>) tensor(0.3233, device='cuda:2', grad_fn=<DivBackward0>)\n"
     ]
    },
    {
     "name": "stderr",
     "output_type": "stream",
     "text": [
      "367it [00:34, 10.86it/s]"
     ]
    },
    {
     "name": "stdout",
     "output_type": "stream",
     "text": [
      "tensor(1.1453, device='cuda:2', grad_fn=<MeanBackward0>) tensor(3.4788, device='cuda:2', grad_fn=<MeanBackward0>)\n",
      "tensor(0.3011, device='cuda:2', grad_fn=<AddBackward0>) tensor(0.3292, device='cuda:2', grad_fn=<DivBackward0>)\n",
      "tensor(1.1287, device='cuda:2', grad_fn=<MeanBackward0>) tensor(3.4758, device='cuda:2', grad_fn=<MeanBackward0>)\n",
      "tensor(0.2830, device='cuda:2', grad_fn=<AddBackward0>) tensor(0.3247, device='cuda:2', grad_fn=<DivBackward0>)\n",
      "tensor(1.1330, device='cuda:2', grad_fn=<MeanBackward0>) tensor(3.4921, device='cuda:2', grad_fn=<MeanBackward0>)\n",
      "tensor(0.2908, device='cuda:2', grad_fn=<AddBackward0>) tensor(0.3245, device='cuda:2', grad_fn=<DivBackward0>)\n"
     ]
    },
    {
     "name": "stderr",
     "output_type": "stream",
     "text": [
      "369it [00:34, 10.87it/s]"
     ]
    },
    {
     "name": "stdout",
     "output_type": "stream",
     "text": [
      "tensor(1.1453, device='cuda:2', grad_fn=<MeanBackward0>) tensor(3.5039, device='cuda:2', grad_fn=<MeanBackward0>)\n",
      "tensor(0.2958, device='cuda:2', grad_fn=<AddBackward0>) tensor(0.3269, device='cuda:2', grad_fn=<DivBackward0>)\n",
      "tensor(1.1945, device='cuda:2', grad_fn=<MeanBackward0>) tensor(3.5450, device='cuda:2', grad_fn=<MeanBackward0>)\n",
      "tensor(0.3465, device='cuda:2', grad_fn=<AddBackward0>) tensor(0.3370, device='cuda:2', grad_fn=<DivBackward0>)\n",
      "tensor(1.1922, device='cuda:2', grad_fn=<MeanBackward0>) tensor(3.5469, device='cuda:2', grad_fn=<MeanBackward0>)\n",
      "tensor(0.3516, device='cuda:2', grad_fn=<AddBackward0>) tensor(0.3361, device='cuda:2', grad_fn=<DivBackward0>)\n"
     ]
    },
    {
     "name": "stderr",
     "output_type": "stream",
     "text": [
      "373it [00:34, 10.86it/s]"
     ]
    },
    {
     "name": "stdout",
     "output_type": "stream",
     "text": [
      "tensor(1.2040, device='cuda:2', grad_fn=<MeanBackward0>) tensor(3.5575, device='cuda:2', grad_fn=<MeanBackward0>)\n",
      "tensor(0.3477, device='cuda:2', grad_fn=<AddBackward0>) tensor(0.3384, device='cuda:2', grad_fn=<DivBackward0>)\n",
      "tensor(1.1915, device='cuda:2', grad_fn=<MeanBackward0>) tensor(3.5443, device='cuda:2', grad_fn=<MeanBackward0>)\n",
      "tensor(0.3396, device='cuda:2', grad_fn=<AddBackward0>) tensor(0.3362, device='cuda:2', grad_fn=<DivBackward0>)\n",
      "tensor(1.1715, device='cuda:2', grad_fn=<MeanBackward0>) tensor(3.5318, device='cuda:2', grad_fn=<MeanBackward0>)\n",
      "tensor(0.4425, device='cuda:2', grad_fn=<AddBackward0>) tensor(0.3317, device='cuda:2', grad_fn=<DivBackward0>)\n"
     ]
    },
    {
     "name": "stderr",
     "output_type": "stream",
     "text": [
      "375it [00:35, 10.83it/s]"
     ]
    },
    {
     "name": "stdout",
     "output_type": "stream",
     "text": [
      "tensor(1.1475, device='cuda:2', grad_fn=<MeanBackward0>) tensor(3.5201, device='cuda:2', grad_fn=<MeanBackward0>)\n",
      "tensor(0.4314, device='cuda:2', grad_fn=<AddBackward0>) tensor(0.3260, device='cuda:2', grad_fn=<DivBackward0>)\n",
      "tensor(1.1643, device='cuda:2', grad_fn=<MeanBackward0>) tensor(3.5108, device='cuda:2', grad_fn=<MeanBackward0>)\n",
      "tensor(0.4274, device='cuda:2', grad_fn=<AddBackward0>) tensor(0.3316, device='cuda:2', grad_fn=<DivBackward0>)\n",
      "tensor(1.1397, device='cuda:2', grad_fn=<MeanBackward0>) tensor(3.4907, device='cuda:2', grad_fn=<MeanBackward0>)\n",
      "tensor(0.4234, device='cuda:2', grad_fn=<AddBackward0>) tensor(0.3265, device='cuda:2', grad_fn=<DivBackward0>)\n"
     ]
    },
    {
     "name": "stderr",
     "output_type": "stream",
     "text": [
      "379it [00:35, 10.86it/s]"
     ]
    },
    {
     "name": "stdout",
     "output_type": "stream",
     "text": [
      "tensor(1.1636, device='cuda:2', grad_fn=<MeanBackward0>) tensor(3.4973, device='cuda:2', grad_fn=<MeanBackward0>)\n",
      "tensor(0.3654, device='cuda:2', grad_fn=<AddBackward0>) tensor(0.3327, device='cuda:2', grad_fn=<DivBackward0>)\n",
      "tensor(1.1664, device='cuda:2', grad_fn=<MeanBackward0>) tensor(3.5104, device='cuda:2', grad_fn=<MeanBackward0>)\n",
      "tensor(0.3486, device='cuda:2', grad_fn=<AddBackward0>) tensor(0.3323, device='cuda:2', grad_fn=<DivBackward0>)\n",
      "tensor(1.1698, device='cuda:2', grad_fn=<MeanBackward0>) tensor(3.5040, device='cuda:2', grad_fn=<MeanBackward0>)\n",
      "tensor(0.3248, device='cuda:2', grad_fn=<AddBackward0>) tensor(0.3338, device='cuda:2', grad_fn=<DivBackward0>)\n"
     ]
    },
    {
     "name": "stderr",
     "output_type": "stream",
     "text": [
      "381it [00:35, 10.84it/s]"
     ]
    },
    {
     "name": "stdout",
     "output_type": "stream",
     "text": [
      "tensor(1.1727, device='cuda:2', grad_fn=<MeanBackward0>) tensor(3.5156, device='cuda:2', grad_fn=<MeanBackward0>)\n",
      "tensor(0.3317, device='cuda:2', grad_fn=<AddBackward0>) tensor(0.3336, device='cuda:2', grad_fn=<DivBackward0>)\n",
      "tensor(1.1442, device='cuda:2', grad_fn=<MeanBackward0>) tensor(3.5040, device='cuda:2', grad_fn=<MeanBackward0>)\n",
      "tensor(0.3628, device='cuda:2', grad_fn=<AddBackward0>) tensor(0.3265, device='cuda:2', grad_fn=<DivBackward0>)\n",
      "tensor(1.1164, device='cuda:2', grad_fn=<MeanBackward0>) tensor(3.4930, device='cuda:2', grad_fn=<MeanBackward0>)\n",
      "tensor(0.3784, device='cuda:2', grad_fn=<AddBackward0>) tensor(0.3196, device='cuda:2', grad_fn=<DivBackward0>)\n"
     ]
    },
    {
     "name": "stderr",
     "output_type": "stream",
     "text": [
      "385it [00:35, 10.85it/s]"
     ]
    },
    {
     "name": "stdout",
     "output_type": "stream",
     "text": [
      "tensor(1.1366, device='cuda:2', grad_fn=<MeanBackward0>) tensor(3.4985, device='cuda:2', grad_fn=<MeanBackward0>)\n",
      "tensor(0.3596, device='cuda:2', grad_fn=<AddBackward0>) tensor(0.3249, device='cuda:2', grad_fn=<DivBackward0>)\n",
      "tensor(1.1065, device='cuda:2', grad_fn=<MeanBackward0>) tensor(3.4892, device='cuda:2', grad_fn=<MeanBackward0>)\n",
      "tensor(0.3422, device='cuda:2', grad_fn=<AddBackward0>) tensor(0.3171, device='cuda:2', grad_fn=<DivBackward0>)\n",
      "tensor(1.1288, device='cuda:2', grad_fn=<MeanBackward0>) tensor(3.4875, device='cuda:2', grad_fn=<MeanBackward0>)\n",
      "tensor(0.2657, device='cuda:2', grad_fn=<AddBackward0>) tensor(0.3237, device='cuda:2', grad_fn=<DivBackward0>)\n"
     ]
    },
    {
     "name": "stderr",
     "output_type": "stream",
     "text": [
      "387it [00:36, 10.57it/s]"
     ]
    },
    {
     "name": "stdout",
     "output_type": "stream",
     "text": [
      "tensor(1.1229, device='cuda:2', grad_fn=<MeanBackward0>) tensor(3.4810, device='cuda:2', grad_fn=<MeanBackward0>)\n",
      "tensor(0.2444, device='cuda:2', grad_fn=<AddBackward0>) tensor(0.3226, device='cuda:2', grad_fn=<DivBackward0>)\n",
      "tensor(1.1168, device='cuda:2', grad_fn=<MeanBackward0>) tensor(3.4743, device='cuda:2', grad_fn=<MeanBackward0>)\n",
      "tensor(0.2466, device='cuda:2', grad_fn=<AddBackward0>) tensor(0.3214, device='cuda:2', grad_fn=<DivBackward0>)\n",
      "tensor(1.1189, device='cuda:2', grad_fn=<MeanBackward0>) tensor(3.4838, device='cuda:2', grad_fn=<MeanBackward0>)\n",
      "tensor(0.2417, device='cuda:2', grad_fn=<AddBackward0>) tensor(0.3212, device='cuda:2', grad_fn=<DivBackward0>)\n"
     ]
    },
    {
     "name": "stderr",
     "output_type": "stream",
     "text": [
      "391it [00:36, 10.63it/s]"
     ]
    },
    {
     "name": "stdout",
     "output_type": "stream",
     "text": [
      "tensor(1.1166, device='cuda:2', grad_fn=<MeanBackward0>) tensor(3.4790, device='cuda:2', grad_fn=<MeanBackward0>)\n",
      "tensor(0.3064, device='cuda:2', grad_fn=<AddBackward0>) tensor(0.3209, device='cuda:2', grad_fn=<DivBackward0>)\n",
      "tensor(1.1094, device='cuda:2', grad_fn=<MeanBackward0>) tensor(3.4672, device='cuda:2', grad_fn=<MeanBackward0>)\n",
      "tensor(0.3114, device='cuda:2', grad_fn=<AddBackward0>) tensor(0.3200, device='cuda:2', grad_fn=<DivBackward0>)\n",
      "tensor(1.1009, device='cuda:2', grad_fn=<MeanBackward0>) tensor(3.4683, device='cuda:2', grad_fn=<MeanBackward0>)\n",
      "tensor(0.2945, device='cuda:2', grad_fn=<AddBackward0>) tensor(0.3174, device='cuda:2', grad_fn=<DivBackward0>)\n"
     ]
    },
    {
     "name": "stderr",
     "output_type": "stream",
     "text": [
      "393it [00:36, 10.69it/s]"
     ]
    },
    {
     "name": "stdout",
     "output_type": "stream",
     "text": [
      "tensor(1.0857, device='cuda:2', grad_fn=<MeanBackward0>) tensor(3.4639, device='cuda:2', grad_fn=<MeanBackward0>)\n",
      "tensor(0.3027, device='cuda:2', grad_fn=<AddBackward0>) tensor(0.3134, device='cuda:2', grad_fn=<DivBackward0>)\n",
      "tensor(1.1159, device='cuda:2', grad_fn=<MeanBackward0>) tensor(3.4729, device='cuda:2', grad_fn=<MeanBackward0>)\n",
      "tensor(0.3964, device='cuda:2', grad_fn=<AddBackward0>) tensor(0.3213, device='cuda:2', grad_fn=<DivBackward0>)\n",
      "tensor(1.0774, device='cuda:2', grad_fn=<MeanBackward0>) tensor(3.4601, device='cuda:2', grad_fn=<MeanBackward0>)\n",
      "tensor(0.3960, device='cuda:2', grad_fn=<AddBackward0>) tensor(0.3114, device='cuda:2', grad_fn=<DivBackward0>)\n"
     ]
    },
    {
     "name": "stderr",
     "output_type": "stream",
     "text": [
      "397it [00:37, 10.75it/s]"
     ]
    },
    {
     "name": "stdout",
     "output_type": "stream",
     "text": [
      "tensor(1.0743, device='cuda:2', grad_fn=<MeanBackward0>) tensor(3.4485, device='cuda:2', grad_fn=<MeanBackward0>)\n",
      "tensor(0.3769, device='cuda:2', grad_fn=<AddBackward0>) tensor(0.3115, device='cuda:2', grad_fn=<DivBackward0>)\n",
      "tensor(1.0735, device='cuda:2', grad_fn=<MeanBackward0>) tensor(3.4555, device='cuda:2', grad_fn=<MeanBackward0>)\n",
      "tensor(0.3937, device='cuda:2', grad_fn=<AddBackward0>) tensor(0.3107, device='cuda:2', grad_fn=<DivBackward0>)\n",
      "tensor(1.0799, device='cuda:2', grad_fn=<MeanBackward0>) tensor(3.4707, device='cuda:2', grad_fn=<MeanBackward0>)\n",
      "tensor(0.4523, device='cuda:2', grad_fn=<AddBackward0>) tensor(0.3112, device='cuda:2', grad_fn=<DivBackward0>)\n"
     ]
    },
    {
     "name": "stderr",
     "output_type": "stream",
     "text": [
      "399it [00:37, 10.77it/s]"
     ]
    },
    {
     "name": "stdout",
     "output_type": "stream",
     "text": [
      "tensor(1.1114, device='cuda:2', grad_fn=<MeanBackward0>) tensor(3.4857, device='cuda:2', grad_fn=<MeanBackward0>)\n",
      "tensor(0.4387, device='cuda:2', grad_fn=<AddBackward0>) tensor(0.3188, device='cuda:2', grad_fn=<DivBackward0>)\n",
      "tensor(1.1447, device='cuda:2', grad_fn=<MeanBackward0>) tensor(3.5137, device='cuda:2', grad_fn=<MeanBackward0>)\n",
      "tensor(0.4558, device='cuda:2', grad_fn=<AddBackward0>) tensor(0.3258, device='cuda:2', grad_fn=<DivBackward0>)\n",
      "tensor(1.1135, device='cuda:2', grad_fn=<MeanBackward0>) tensor(3.4981, device='cuda:2', grad_fn=<MeanBackward0>)\n",
      "tensor(0.4342, device='cuda:2', grad_fn=<AddBackward0>) tensor(0.3183, device='cuda:2', grad_fn=<DivBackward0>)\n"
     ]
    },
    {
     "name": "stderr",
     "output_type": "stream",
     "text": [
      "403it [00:37, 10.82it/s]"
     ]
    },
    {
     "name": "stdout",
     "output_type": "stream",
     "text": [
      "tensor(1.1314, device='cuda:2', grad_fn=<MeanBackward0>) tensor(3.5111, device='cuda:2', grad_fn=<MeanBackward0>)\n",
      "tensor(0.3205, device='cuda:2', grad_fn=<AddBackward0>) tensor(0.3222, device='cuda:2', grad_fn=<DivBackward0>)\n",
      "tensor(1.1171, device='cuda:2', grad_fn=<MeanBackward0>) tensor(3.4999, device='cuda:2', grad_fn=<MeanBackward0>)\n",
      "tensor(0.3376, device='cuda:2', grad_fn=<AddBackward0>) tensor(0.3192, device='cuda:2', grad_fn=<DivBackward0>)\n",
      "tensor(1.0941, device='cuda:2', grad_fn=<MeanBackward0>) tensor(3.4759, device='cuda:2', grad_fn=<MeanBackward0>)\n",
      "tensor(0.3282, device='cuda:2', grad_fn=<AddBackward0>) tensor(0.3148, device='cuda:2', grad_fn=<DivBackward0>)\n"
     ]
    },
    {
     "name": "stderr",
     "output_type": "stream",
     "text": [
      "405it [00:37, 10.83it/s]"
     ]
    },
    {
     "name": "stdout",
     "output_type": "stream",
     "text": [
      "tensor(1.1123, device='cuda:2', grad_fn=<MeanBackward0>) tensor(3.4899, device='cuda:2', grad_fn=<MeanBackward0>)\n",
      "tensor(0.3009, device='cuda:2', grad_fn=<AddBackward0>) tensor(0.3187, device='cuda:2', grad_fn=<DivBackward0>)\n",
      "tensor(1.1083, device='cuda:2', grad_fn=<MeanBackward0>) tensor(3.4667, device='cuda:2', grad_fn=<MeanBackward0>)\n",
      "tensor(0.3468, device='cuda:2', grad_fn=<AddBackward0>) tensor(0.3197, device='cuda:2', grad_fn=<DivBackward0>)\n",
      "tensor(1.0912, device='cuda:2', grad_fn=<MeanBackward0>) tensor(3.4700, device='cuda:2', grad_fn=<MeanBackward0>)\n",
      "tensor(0.3532, device='cuda:2', grad_fn=<AddBackward0>) tensor(0.3145, device='cuda:2', grad_fn=<DivBackward0>)\n"
     ]
    },
    {
     "name": "stderr",
     "output_type": "stream",
     "text": [
      "409it [00:38, 10.84it/s]"
     ]
    },
    {
     "name": "stdout",
     "output_type": "stream",
     "text": [
      "tensor(1.0863, device='cuda:2', grad_fn=<MeanBackward0>) tensor(3.4530, device='cuda:2', grad_fn=<MeanBackward0>)\n",
      "tensor(0.3412, device='cuda:2', grad_fn=<AddBackward0>) tensor(0.3146, device='cuda:2', grad_fn=<DivBackward0>)\n",
      "tensor(1.0925, device='cuda:2', grad_fn=<MeanBackward0>) tensor(3.4548, device='cuda:2', grad_fn=<MeanBackward0>)\n",
      "tensor(0.3464, device='cuda:2', grad_fn=<AddBackward0>) tensor(0.3162, device='cuda:2', grad_fn=<DivBackward0>)\n",
      "tensor(1.0856, device='cuda:2', grad_fn=<MeanBackward0>) tensor(3.4579, device='cuda:2', grad_fn=<MeanBackward0>)\n",
      "tensor(0.3502, device='cuda:2', grad_fn=<AddBackward0>) tensor(0.3140, device='cuda:2', grad_fn=<DivBackward0>)\n"
     ]
    },
    {
     "name": "stderr",
     "output_type": "stream",
     "text": [
      "411it [00:38, 10.86it/s]"
     ]
    },
    {
     "name": "stdout",
     "output_type": "stream",
     "text": [
      "tensor(1.0962, device='cuda:2', grad_fn=<MeanBackward0>) tensor(3.4611, device='cuda:2', grad_fn=<MeanBackward0>)\n",
      "tensor(0.2977, device='cuda:2', grad_fn=<AddBackward0>) tensor(0.3167, device='cuda:2', grad_fn=<DivBackward0>)\n",
      "tensor(1.1108, device='cuda:2', grad_fn=<MeanBackward0>) tensor(3.4719, device='cuda:2', grad_fn=<MeanBackward0>)\n",
      "tensor(0.3062, device='cuda:2', grad_fn=<AddBackward0>) tensor(0.3199, device='cuda:2', grad_fn=<DivBackward0>)\n",
      "tensor(1.1027, device='cuda:2', grad_fn=<MeanBackward0>) tensor(3.4860, device='cuda:2', grad_fn=<MeanBackward0>)\n",
      "tensor(0.3016, device='cuda:2', grad_fn=<AddBackward0>) tensor(0.3163, device='cuda:2', grad_fn=<DivBackward0>)\n"
     ]
    },
    {
     "name": "stderr",
     "output_type": "stream",
     "text": [
      "415it [00:38, 10.86it/s]"
     ]
    },
    {
     "name": "stdout",
     "output_type": "stream",
     "text": [
      "tensor(1.1026, device='cuda:2', grad_fn=<MeanBackward0>) tensor(3.4874, device='cuda:2', grad_fn=<MeanBackward0>)\n",
      "tensor(0.3418, device='cuda:2', grad_fn=<AddBackward0>) tensor(0.3162, device='cuda:2', grad_fn=<DivBackward0>)\n",
      "tensor(1.1042, device='cuda:2', grad_fn=<MeanBackward0>) tensor(3.4694, device='cuda:2', grad_fn=<MeanBackward0>)\n",
      "tensor(0.3473, device='cuda:2', grad_fn=<AddBackward0>) tensor(0.3183, device='cuda:2', grad_fn=<DivBackward0>)\n",
      "tensor(1.1056, device='cuda:2', grad_fn=<MeanBackward0>) tensor(3.4879, device='cuda:2', grad_fn=<MeanBackward0>)\n",
      "tensor(0.3350, device='cuda:2', grad_fn=<AddBackward0>) tensor(0.3170, device='cuda:2', grad_fn=<DivBackward0>)\n"
     ]
    },
    {
     "name": "stderr",
     "output_type": "stream",
     "text": [
      "417it [00:38, 10.83it/s]"
     ]
    },
    {
     "name": "stdout",
     "output_type": "stream",
     "text": [
      "tensor(1.1147, device='cuda:2', grad_fn=<MeanBackward0>) tensor(3.4913, device='cuda:2', grad_fn=<MeanBackward0>)\n",
      "tensor(0.3416, device='cuda:2', grad_fn=<AddBackward0>) tensor(0.3193, device='cuda:2', grad_fn=<DivBackward0>)\n",
      "tensor(1.0810, device='cuda:2', grad_fn=<MeanBackward0>) tensor(3.4863, device='cuda:2', grad_fn=<MeanBackward0>)\n",
      "tensor(0.3427, device='cuda:2', grad_fn=<AddBackward0>) tensor(0.3101, device='cuda:2', grad_fn=<DivBackward0>)\n",
      "tensor(1.0842, device='cuda:2', grad_fn=<MeanBackward0>) tensor(3.4821, device='cuda:2', grad_fn=<MeanBackward0>)\n",
      "tensor(0.3292, device='cuda:2', grad_fn=<AddBackward0>) tensor(0.3114, device='cuda:2', grad_fn=<DivBackward0>)\n"
     ]
    },
    {
     "name": "stderr",
     "output_type": "stream",
     "text": [
      "421it [00:39, 10.76it/s]"
     ]
    },
    {
     "name": "stdout",
     "output_type": "stream",
     "text": [
      "tensor(1.0763, device='cuda:2', grad_fn=<MeanBackward0>) tensor(3.4774, device='cuda:2', grad_fn=<MeanBackward0>)\n",
      "tensor(0.3119, device='cuda:2', grad_fn=<AddBackward0>) tensor(0.3095, device='cuda:2', grad_fn=<DivBackward0>)\n",
      "tensor(1.0613, device='cuda:2', grad_fn=<MeanBackward0>) tensor(3.4650, device='cuda:2', grad_fn=<MeanBackward0>)\n",
      "tensor(0.3134, device='cuda:2', grad_fn=<AddBackward0>) tensor(0.3063, device='cuda:2', grad_fn=<DivBackward0>)\n",
      "tensor(1.0954, device='cuda:2', grad_fn=<MeanBackward0>) tensor(3.4649, device='cuda:2', grad_fn=<MeanBackward0>)\n",
      "tensor(0.3438, device='cuda:2', grad_fn=<AddBackward0>) tensor(0.3162, device='cuda:2', grad_fn=<DivBackward0>)\n"
     ]
    },
    {
     "name": "stderr",
     "output_type": "stream",
     "text": [
      "423it [00:39, 10.79it/s]"
     ]
    },
    {
     "name": "stdout",
     "output_type": "stream",
     "text": [
      "tensor(1.0805, device='cuda:2', grad_fn=<MeanBackward0>) tensor(3.4575, device='cuda:2', grad_fn=<MeanBackward0>)\n",
      "tensor(0.3324, device='cuda:2', grad_fn=<AddBackward0>) tensor(0.3125, device='cuda:2', grad_fn=<DivBackward0>)\n",
      "tensor(1.0866, device='cuda:2', grad_fn=<MeanBackward0>) tensor(3.4528, device='cuda:2', grad_fn=<MeanBackward0>)\n",
      "tensor(0.3393, device='cuda:2', grad_fn=<AddBackward0>) tensor(0.3147, device='cuda:2', grad_fn=<DivBackward0>)\n",
      "tensor(1.0808, device='cuda:2', grad_fn=<MeanBackward0>) tensor(3.4507, device='cuda:2', grad_fn=<MeanBackward0>)\n",
      "tensor(0.3365, device='cuda:2', grad_fn=<AddBackward0>) tensor(0.3132, device='cuda:2', grad_fn=<DivBackward0>)\n"
     ]
    },
    {
     "name": "stderr",
     "output_type": "stream",
     "text": [
      "427it [00:39, 10.78it/s]"
     ]
    },
    {
     "name": "stdout",
     "output_type": "stream",
     "text": [
      "tensor(1.0418, device='cuda:2', grad_fn=<MeanBackward0>) tensor(3.4437, device='cuda:2', grad_fn=<MeanBackward0>)\n",
      "tensor(0.4338, device='cuda:2', grad_fn=<AddBackward0>) tensor(0.3025, device='cuda:2', grad_fn=<DivBackward0>)\n",
      "tensor(1.0393, device='cuda:2', grad_fn=<MeanBackward0>) tensor(3.4527, device='cuda:2', grad_fn=<MeanBackward0>)\n",
      "tensor(0.4198, device='cuda:2', grad_fn=<AddBackward0>) tensor(0.3010, device='cuda:2', grad_fn=<DivBackward0>)\n",
      "tensor(1.0435, device='cuda:2', grad_fn=<MeanBackward0>) tensor(3.4504, device='cuda:2', grad_fn=<MeanBackward0>)\n",
      "tensor(0.4106, device='cuda:2', grad_fn=<AddBackward0>) tensor(0.3024, device='cuda:2', grad_fn=<DivBackward0>)\n"
     ]
    },
    {
     "name": "stderr",
     "output_type": "stream",
     "text": [
      "429it [00:40, 10.83it/s]"
     ]
    },
    {
     "name": "stdout",
     "output_type": "stream",
     "text": [
      "tensor(1.0522, device='cuda:2', grad_fn=<MeanBackward0>) tensor(3.4590, device='cuda:2', grad_fn=<MeanBackward0>)\n",
      "tensor(0.4057, device='cuda:2', grad_fn=<AddBackward0>) tensor(0.3042, device='cuda:2', grad_fn=<DivBackward0>)\n",
      "tensor(1.1215, device='cuda:2', grad_fn=<MeanBackward0>) tensor(3.4991, device='cuda:2', grad_fn=<MeanBackward0>)\n",
      "tensor(0.2703, device='cuda:2', grad_fn=<AddBackward0>) tensor(0.3205, device='cuda:2', grad_fn=<DivBackward0>)\n",
      "tensor(1.1206, device='cuda:2', grad_fn=<MeanBackward0>) tensor(3.5091, device='cuda:2', grad_fn=<MeanBackward0>)\n",
      "tensor(0.2762, device='cuda:2', grad_fn=<AddBackward0>) tensor(0.3193, device='cuda:2', grad_fn=<DivBackward0>)\n"
     ]
    },
    {
     "name": "stderr",
     "output_type": "stream",
     "text": [
      "433it [00:40, 10.82it/s]"
     ]
    },
    {
     "name": "stdout",
     "output_type": "stream",
     "text": [
      "tensor(1.1077, device='cuda:2', grad_fn=<MeanBackward0>) tensor(3.5008, device='cuda:2', grad_fn=<MeanBackward0>)\n",
      "tensor(0.2918, device='cuda:2', grad_fn=<AddBackward0>) tensor(0.3164, device='cuda:2', grad_fn=<DivBackward0>)\n",
      "tensor(1.1189, device='cuda:2', grad_fn=<MeanBackward0>) tensor(3.5071, device='cuda:2', grad_fn=<MeanBackward0>)\n",
      "tensor(0.2539, device='cuda:2', grad_fn=<AddBackward0>) tensor(0.3190, device='cuda:2', grad_fn=<DivBackward0>)\n",
      "tensor(1.0506, device='cuda:2', grad_fn=<MeanBackward0>) tensor(3.4629, device='cuda:2', grad_fn=<MeanBackward0>)\n",
      "tensor(0.2599, device='cuda:2', grad_fn=<AddBackward0>) tensor(0.3034, device='cuda:2', grad_fn=<DivBackward0>)\n"
     ]
    },
    {
     "name": "stderr",
     "output_type": "stream",
     "text": [
      "435it [00:40, 10.83it/s]"
     ]
    },
    {
     "name": "stdout",
     "output_type": "stream",
     "text": [
      "tensor(1.0343, device='cuda:2', grad_fn=<MeanBackward0>) tensor(3.4541, device='cuda:2', grad_fn=<MeanBackward0>)\n",
      "tensor(0.2588, device='cuda:2', grad_fn=<AddBackward0>) tensor(0.2994, device='cuda:2', grad_fn=<DivBackward0>)\n",
      "tensor(1.0508, device='cuda:2', grad_fn=<MeanBackward0>) tensor(3.4517, device='cuda:2', grad_fn=<MeanBackward0>)\n",
      "tensor(0.2502, device='cuda:2', grad_fn=<AddBackward0>) tensor(0.3044, device='cuda:2', grad_fn=<DivBackward0>)\n",
      "tensor(1.0556, device='cuda:2', grad_fn=<MeanBackward0>) tensor(3.4450, device='cuda:2', grad_fn=<MeanBackward0>)\n",
      "tensor(0.2543, device='cuda:2', grad_fn=<AddBackward0>) tensor(0.3064, device='cuda:2', grad_fn=<DivBackward0>)\n"
     ]
    },
    {
     "name": "stderr",
     "output_type": "stream",
     "text": [
      "439it [00:40, 10.82it/s]"
     ]
    },
    {
     "name": "stdout",
     "output_type": "stream",
     "text": [
      "tensor(1.0468, device='cuda:2', grad_fn=<MeanBackward0>) tensor(3.4317, device='cuda:2', grad_fn=<MeanBackward0>)\n",
      "tensor(0.4025, device='cuda:2', grad_fn=<AddBackward0>) tensor(0.3050, device='cuda:2', grad_fn=<DivBackward0>)\n",
      "tensor(1.0692, device='cuda:2', grad_fn=<MeanBackward0>) tensor(3.4351, device='cuda:2', grad_fn=<MeanBackward0>)\n",
      "tensor(0.3972, device='cuda:2', grad_fn=<AddBackward0>) tensor(0.3113, device='cuda:2', grad_fn=<DivBackward0>)\n",
      "tensor(1.0522, device='cuda:2', grad_fn=<MeanBackward0>) tensor(3.4217, device='cuda:2', grad_fn=<MeanBackward0>)\n",
      "tensor(0.4046, device='cuda:2', grad_fn=<AddBackward0>) tensor(0.3075, device='cuda:2', grad_fn=<DivBackward0>)\n"
     ]
    },
    {
     "name": "stderr",
     "output_type": "stream",
     "text": [
      "441it [00:41, 10.77it/s]"
     ]
    },
    {
     "name": "stdout",
     "output_type": "stream",
     "text": [
      "tensor(1.0531, device='cuda:2', grad_fn=<MeanBackward0>) tensor(3.4166, device='cuda:2', grad_fn=<MeanBackward0>)\n",
      "tensor(0.3917, device='cuda:2', grad_fn=<AddBackward0>) tensor(0.3082, device='cuda:2', grad_fn=<DivBackward0>)\n",
      "tensor(1.1065, device='cuda:2', grad_fn=<MeanBackward0>) tensor(3.4620, device='cuda:2', grad_fn=<MeanBackward0>)\n",
      "tensor(0.3648, device='cuda:2', grad_fn=<AddBackward0>) tensor(0.3196, device='cuda:2', grad_fn=<DivBackward0>)\n",
      "tensor(1.0828, device='cuda:2', grad_fn=<MeanBackward0>) tensor(3.4579, device='cuda:2', grad_fn=<MeanBackward0>)\n",
      "tensor(0.3292, device='cuda:2', grad_fn=<AddBackward0>) tensor(0.3132, device='cuda:2', grad_fn=<DivBackward0>)\n"
     ]
    },
    {
     "name": "stderr",
     "output_type": "stream",
     "text": [
      "445it [00:41, 10.81it/s]"
     ]
    },
    {
     "name": "stdout",
     "output_type": "stream",
     "text": [
      "tensor(1.0812, device='cuda:2', grad_fn=<MeanBackward0>) tensor(3.4525, device='cuda:2', grad_fn=<MeanBackward0>)\n",
      "tensor(0.3136, device='cuda:2', grad_fn=<AddBackward0>) tensor(0.3132, device='cuda:2', grad_fn=<DivBackward0>)\n",
      "tensor(1.0910, device='cuda:2', grad_fn=<MeanBackward0>) tensor(3.4618, device='cuda:2', grad_fn=<MeanBackward0>)\n",
      "tensor(0.3242, device='cuda:2', grad_fn=<AddBackward0>) tensor(0.3152, device='cuda:2', grad_fn=<DivBackward0>)\n",
      "tensor(1.0840, device='cuda:2', grad_fn=<MeanBackward0>) tensor(3.4583, device='cuda:2', grad_fn=<MeanBackward0>)\n",
      "tensor(0.3575, device='cuda:2', grad_fn=<AddBackward0>) tensor(0.3135, device='cuda:2', grad_fn=<DivBackward0>)\n"
     ]
    },
    {
     "name": "stderr",
     "output_type": "stream",
     "text": [
      "447it [00:41, 10.81it/s]"
     ]
    },
    {
     "name": "stdout",
     "output_type": "stream",
     "text": [
      "tensor(1.0803, device='cuda:2', grad_fn=<MeanBackward0>) tensor(3.4535, device='cuda:2', grad_fn=<MeanBackward0>)\n",
      "tensor(0.3560, device='cuda:2', grad_fn=<AddBackward0>) tensor(0.3128, device='cuda:2', grad_fn=<DivBackward0>)\n",
      "tensor(1.0901, device='cuda:2', grad_fn=<MeanBackward0>) tensor(3.4613, device='cuda:2', grad_fn=<MeanBackward0>)\n",
      "tensor(0.3700, device='cuda:2', grad_fn=<AddBackward0>) tensor(0.3149, device='cuda:2', grad_fn=<DivBackward0>)\n",
      "tensor(1.0787, device='cuda:2', grad_fn=<MeanBackward0>) tensor(3.4545, device='cuda:2', grad_fn=<MeanBackward0>)\n",
      "tensor(0.3581, device='cuda:2', grad_fn=<AddBackward0>) tensor(0.3123, device='cuda:2', grad_fn=<DivBackward0>)\n"
     ]
    },
    {
     "name": "stderr",
     "output_type": "stream",
     "text": [
      "451it [00:42, 10.81it/s]"
     ]
    },
    {
     "name": "stdout",
     "output_type": "stream",
     "text": [
      "tensor(1.0929, device='cuda:2', grad_fn=<MeanBackward0>) tensor(3.4605, device='cuda:2', grad_fn=<MeanBackward0>)\n",
      "tensor(0.2913, device='cuda:2', grad_fn=<AddBackward0>) tensor(0.3158, device='cuda:2', grad_fn=<DivBackward0>)\n",
      "tensor(1.1028, device='cuda:2', grad_fn=<MeanBackward0>) tensor(3.4664, device='cuda:2', grad_fn=<MeanBackward0>)\n",
      "tensor(0.2819, device='cuda:2', grad_fn=<AddBackward0>) tensor(0.3181, device='cuda:2', grad_fn=<DivBackward0>)\n",
      "tensor(1.0962, device='cuda:2', grad_fn=<MeanBackward0>) tensor(3.4690, device='cuda:2', grad_fn=<MeanBackward0>)\n",
      "tensor(0.2928, device='cuda:2', grad_fn=<AddBackward0>) tensor(0.3160, device='cuda:2', grad_fn=<DivBackward0>)\n"
     ]
    },
    {
     "name": "stderr",
     "output_type": "stream",
     "text": [
      "453it [00:42, 10.77it/s]"
     ]
    },
    {
     "name": "stdout",
     "output_type": "stream",
     "text": [
      "tensor(1.0940, device='cuda:2', grad_fn=<MeanBackward0>) tensor(3.4597, device='cuda:2', grad_fn=<MeanBackward0>)\n",
      "tensor(0.2805, device='cuda:2', grad_fn=<AddBackward0>) tensor(0.3162, device='cuda:2', grad_fn=<DivBackward0>)\n",
      "tensor(1.0505, device='cuda:2', grad_fn=<MeanBackward0>) tensor(3.4463, device='cuda:2', grad_fn=<MeanBackward0>)\n",
      "tensor(0.2605, device='cuda:2', grad_fn=<AddBackward0>) tensor(0.3048, device='cuda:2', grad_fn=<DivBackward0>)\n",
      "tensor(1.0388, device='cuda:2', grad_fn=<MeanBackward0>) tensor(3.4421, device='cuda:2', grad_fn=<MeanBackward0>)\n",
      "tensor(0.2568, device='cuda:2', grad_fn=<AddBackward0>) tensor(0.3018, device='cuda:2', grad_fn=<DivBackward0>)\n"
     ]
    },
    {
     "name": "stderr",
     "output_type": "stream",
     "text": [
      "457it [00:42, 10.79it/s]"
     ]
    },
    {
     "name": "stdout",
     "output_type": "stream",
     "text": [
      "tensor(1.0705, device='cuda:2', grad_fn=<MeanBackward0>) tensor(3.4570, device='cuda:2', grad_fn=<MeanBackward0>)\n",
      "tensor(0.2600, device='cuda:2', grad_fn=<AddBackward0>) tensor(0.3097, device='cuda:2', grad_fn=<DivBackward0>)\n",
      "tensor(1.0589, device='cuda:2', grad_fn=<MeanBackward0>) tensor(3.4544, device='cuda:2', grad_fn=<MeanBackward0>)\n",
      "tensor(0.2632, device='cuda:2', grad_fn=<AddBackward0>) tensor(0.3065, device='cuda:2', grad_fn=<DivBackward0>)\n",
      "tensor(1.0697, device='cuda:2', grad_fn=<MeanBackward0>) tensor(3.4492, device='cuda:2', grad_fn=<MeanBackward0>)\n",
      "tensor(0.3543, device='cuda:2', grad_fn=<AddBackward0>) tensor(0.3101, device='cuda:2', grad_fn=<DivBackward0>)\n"
     ]
    },
    {
     "name": "stderr",
     "output_type": "stream",
     "text": [
      "459it [00:42, 10.84it/s]"
     ]
    },
    {
     "name": "stdout",
     "output_type": "stream",
     "text": [
      "tensor(1.0526, device='cuda:2', grad_fn=<MeanBackward0>) tensor(3.4424, device='cuda:2', grad_fn=<MeanBackward0>)\n",
      "tensor(0.3544, device='cuda:2', grad_fn=<AddBackward0>) tensor(0.3058, device='cuda:2', grad_fn=<DivBackward0>)\n",
      "tensor(1.0628, device='cuda:2', grad_fn=<MeanBackward0>) tensor(3.4552, device='cuda:2', grad_fn=<MeanBackward0>)\n",
      "tensor(0.3602, device='cuda:2', grad_fn=<AddBackward0>) tensor(0.3076, device='cuda:2', grad_fn=<DivBackward0>)\n",
      "tensor(1.0539, device='cuda:2', grad_fn=<MeanBackward0>) tensor(3.4465, device='cuda:2', grad_fn=<MeanBackward0>)\n",
      "tensor(0.3498, device='cuda:2', grad_fn=<AddBackward0>) tensor(0.3058, device='cuda:2', grad_fn=<DivBackward0>)\n"
     ]
    },
    {
     "name": "stderr",
     "output_type": "stream",
     "text": [
      "463it [00:43, 10.83it/s]"
     ]
    },
    {
     "name": "stdout",
     "output_type": "stream",
     "text": [
      "tensor(1.0968, device='cuda:2', grad_fn=<MeanBackward0>) tensor(3.4909, device='cuda:2', grad_fn=<MeanBackward0>)\n",
      "tensor(0.3141, device='cuda:2', grad_fn=<AddBackward0>) tensor(0.3142, device='cuda:2', grad_fn=<DivBackward0>)\n",
      "tensor(1.1144, device='cuda:2', grad_fn=<MeanBackward0>) tensor(3.5037, device='cuda:2', grad_fn=<MeanBackward0>)\n",
      "tensor(0.3075, device='cuda:2', grad_fn=<AddBackward0>) tensor(0.3181, device='cuda:2', grad_fn=<DivBackward0>)\n",
      "tensor(1.0769, device='cuda:2', grad_fn=<MeanBackward0>) tensor(3.4778, device='cuda:2', grad_fn=<MeanBackward0>)\n",
      "tensor(0.3125, device='cuda:2', grad_fn=<AddBackward0>) tensor(0.3096, device='cuda:2', grad_fn=<DivBackward0>)\n"
     ]
    },
    {
     "name": "stderr",
     "output_type": "stream",
     "text": [
      "465it [00:43, 10.81it/s]"
     ]
    },
    {
     "name": "stdout",
     "output_type": "stream",
     "text": [
      "tensor(1.1310, device='cuda:2', grad_fn=<MeanBackward0>) tensor(3.5066, device='cuda:2', grad_fn=<MeanBackward0>)\n",
      "tensor(0.2957, device='cuda:2', grad_fn=<AddBackward0>) tensor(0.3225, device='cuda:2', grad_fn=<DivBackward0>)\n",
      "tensor(1.0680, device='cuda:2', grad_fn=<MeanBackward0>) tensor(3.4667, device='cuda:2', grad_fn=<MeanBackward0>)\n",
      "tensor(0.3234, device='cuda:2', grad_fn=<AddBackward0>) tensor(0.3081, device='cuda:2', grad_fn=<DivBackward0>)\n",
      "tensor(1.0814, device='cuda:2', grad_fn=<MeanBackward0>) tensor(3.4645, device='cuda:2', grad_fn=<MeanBackward0>)\n",
      "tensor(0.3385, device='cuda:2', grad_fn=<AddBackward0>) tensor(0.3121, device='cuda:2', grad_fn=<DivBackward0>)\n"
     ]
    },
    {
     "name": "stderr",
     "output_type": "stream",
     "text": [
      "469it [00:43, 10.80it/s]"
     ]
    },
    {
     "name": "stdout",
     "output_type": "stream",
     "text": [
      "tensor(1.0680, device='cuda:2', grad_fn=<MeanBackward0>) tensor(3.4675, device='cuda:2', grad_fn=<MeanBackward0>)\n",
      "tensor(0.3281, device='cuda:2', grad_fn=<AddBackward0>) tensor(0.3080, device='cuda:2', grad_fn=<DivBackward0>)\n",
      "tensor(1.0678, device='cuda:2', grad_fn=<MeanBackward0>) tensor(3.4466, device='cuda:2', grad_fn=<MeanBackward0>)\n",
      "tensor(0.3120, device='cuda:2', grad_fn=<AddBackward0>) tensor(0.3098, device='cuda:2', grad_fn=<DivBackward0>)\n",
      "tensor(1.0389, device='cuda:2', grad_fn=<MeanBackward0>) tensor(3.4239, device='cuda:2', grad_fn=<MeanBackward0>)\n",
      "tensor(0.3447, device='cuda:2', grad_fn=<AddBackward0>) tensor(0.3034, device='cuda:2', grad_fn=<DivBackward0>)\n"
     ]
    },
    {
     "name": "stderr",
     "output_type": "stream",
     "text": [
      "471it [00:43, 10.78it/s]"
     ]
    },
    {
     "name": "stdout",
     "output_type": "stream",
     "text": [
      "tensor(1.0310, device='cuda:2', grad_fn=<MeanBackward0>) tensor(3.4311, device='cuda:2', grad_fn=<MeanBackward0>)\n",
      "tensor(0.3500, device='cuda:2', grad_fn=<AddBackward0>) tensor(0.3005, device='cuda:2', grad_fn=<DivBackward0>)\n",
      "tensor(1.0169, device='cuda:2', grad_fn=<MeanBackward0>) tensor(3.4191, device='cuda:2', grad_fn=<MeanBackward0>)\n",
      "tensor(0.3532, device='cuda:2', grad_fn=<AddBackward0>) tensor(0.2974, device='cuda:2', grad_fn=<DivBackward0>)\n",
      "tensor(1.0401, device='cuda:2', grad_fn=<MeanBackward0>) tensor(3.4275, device='cuda:2', grad_fn=<MeanBackward0>)\n",
      "tensor(0.3492, device='cuda:2', grad_fn=<AddBackward0>) tensor(0.3035, device='cuda:2', grad_fn=<DivBackward0>)\n"
     ]
    },
    {
     "name": "stderr",
     "output_type": "stream",
     "text": [
      "475it [00:44, 10.79it/s]"
     ]
    },
    {
     "name": "stdout",
     "output_type": "stream",
     "text": [
      "tensor(1.0460, device='cuda:2', grad_fn=<MeanBackward0>) tensor(3.4296, device='cuda:2', grad_fn=<MeanBackward0>)\n",
      "tensor(0.3534, device='cuda:2', grad_fn=<AddBackward0>) tensor(0.3050, device='cuda:2', grad_fn=<DivBackward0>)\n",
      "tensor(1.0066, device='cuda:2', grad_fn=<MeanBackward0>) tensor(3.4128, device='cuda:2', grad_fn=<MeanBackward0>)\n",
      "tensor(0.3383, device='cuda:2', grad_fn=<AddBackward0>) tensor(0.2949, device='cuda:2', grad_fn=<DivBackward0>)\n",
      "tensor(1.0199, device='cuda:2', grad_fn=<MeanBackward0>) tensor(3.4241, device='cuda:2', grad_fn=<MeanBackward0>)\n",
      "tensor(0.3331, device='cuda:2', grad_fn=<AddBackward0>) tensor(0.2979, device='cuda:2', grad_fn=<DivBackward0>)\n"
     ]
    },
    {
     "name": "stderr",
     "output_type": "stream",
     "text": [
      "477it [00:44, 10.76it/s]"
     ]
    },
    {
     "name": "stdout",
     "output_type": "stream",
     "text": [
      "tensor(1.0265, device='cuda:2', grad_fn=<MeanBackward0>) tensor(3.4172, device='cuda:2', grad_fn=<MeanBackward0>)\n",
      "tensor(0.3133, device='cuda:2', grad_fn=<AddBackward0>) tensor(0.3004, device='cuda:2', grad_fn=<DivBackward0>)\n",
      "tensor(1.0227, device='cuda:2', grad_fn=<MeanBackward0>) tensor(3.4390, device='cuda:2', grad_fn=<MeanBackward0>)\n",
      "tensor(0.3024, device='cuda:2', grad_fn=<AddBackward0>) tensor(0.2974, device='cuda:2', grad_fn=<DivBackward0>)\n",
      "tensor(1.0231, device='cuda:2', grad_fn=<MeanBackward0>) tensor(3.4316, device='cuda:2', grad_fn=<MeanBackward0>)\n",
      "tensor(0.3003, device='cuda:2', grad_fn=<AddBackward0>) tensor(0.2981, device='cuda:2', grad_fn=<DivBackward0>)\n"
     ]
    },
    {
     "name": "stderr",
     "output_type": "stream",
     "text": [
      "481it [00:44, 10.87it/s]"
     ]
    },
    {
     "name": "stdout",
     "output_type": "stream",
     "text": [
      "tensor(1.0271, device='cuda:2', grad_fn=<MeanBackward0>) tensor(3.4331, device='cuda:2', grad_fn=<MeanBackward0>)\n",
      "tensor(0.2967, device='cuda:2', grad_fn=<AddBackward0>) tensor(0.2992, device='cuda:2', grad_fn=<DivBackward0>)\n",
      "tensor(1.0130, device='cuda:2', grad_fn=<MeanBackward0>) tensor(3.4296, device='cuda:2', grad_fn=<MeanBackward0>)\n",
      "tensor(0.2978, device='cuda:2', grad_fn=<AddBackward0>) tensor(0.2954, device='cuda:2', grad_fn=<DivBackward0>)\n",
      "tensor(1.0412, device='cuda:2', grad_fn=<MeanBackward0>) tensor(3.4361, device='cuda:2', grad_fn=<MeanBackward0>)\n",
      "tensor(0.3338, device='cuda:2', grad_fn=<AddBackward0>) tensor(0.3030, device='cuda:2', grad_fn=<DivBackward0>)\n"
     ]
    },
    {
     "name": "stderr",
     "output_type": "stream",
     "text": [
      "483it [00:45, 10.82it/s]"
     ]
    },
    {
     "name": "stdout",
     "output_type": "stream",
     "text": [
      "tensor(1.0294, device='cuda:2', grad_fn=<MeanBackward0>) tensor(3.4173, device='cuda:2', grad_fn=<MeanBackward0>)\n",
      "tensor(0.3325, device='cuda:2', grad_fn=<AddBackward0>) tensor(0.3012, device='cuda:2', grad_fn=<DivBackward0>)\n",
      "tensor(1.0451, device='cuda:2', grad_fn=<MeanBackward0>) tensor(3.4249, device='cuda:2', grad_fn=<MeanBackward0>)\n",
      "tensor(0.3309, device='cuda:2', grad_fn=<AddBackward0>) tensor(0.3051, device='cuda:2', grad_fn=<DivBackward0>)\n",
      "tensor(1.0291, device='cuda:2', grad_fn=<MeanBackward0>) tensor(3.4185, device='cuda:2', grad_fn=<MeanBackward0>)\n",
      "tensor(0.3367, device='cuda:2', grad_fn=<AddBackward0>) tensor(0.3010, device='cuda:2', grad_fn=<DivBackward0>)\n"
     ]
    },
    {
     "name": "stderr",
     "output_type": "stream",
     "text": [
      "487it [00:45, 10.81it/s]"
     ]
    },
    {
     "name": "stdout",
     "output_type": "stream",
     "text": [
      "tensor(1.0819, device='cuda:2', grad_fn=<MeanBackward0>) tensor(3.4544, device='cuda:2', grad_fn=<MeanBackward0>)\n",
      "tensor(0.2976, device='cuda:2', grad_fn=<AddBackward0>) tensor(0.3132, device='cuda:2', grad_fn=<DivBackward0>)\n",
      "tensor(1.0667, device='cuda:2', grad_fn=<MeanBackward0>) tensor(3.4435, device='cuda:2', grad_fn=<MeanBackward0>)\n",
      "tensor(0.2795, device='cuda:2', grad_fn=<AddBackward0>) tensor(0.3098, device='cuda:2', grad_fn=<DivBackward0>)\n",
      "tensor(1.0745, device='cuda:2', grad_fn=<MeanBackward0>) tensor(3.4498, device='cuda:2', grad_fn=<MeanBackward0>)\n",
      "tensor(0.2744, device='cuda:2', grad_fn=<AddBackward0>) tensor(0.3115, device='cuda:2', grad_fn=<DivBackward0>)\n"
     ]
    },
    {
     "name": "stderr",
     "output_type": "stream",
     "text": [
      "489it [00:45, 10.79it/s]"
     ]
    },
    {
     "name": "stdout",
     "output_type": "stream",
     "text": [
      "tensor(1.0762, device='cuda:2', grad_fn=<MeanBackward0>) tensor(3.4536, device='cuda:2', grad_fn=<MeanBackward0>)\n",
      "tensor(0.2798, device='cuda:2', grad_fn=<AddBackward0>) tensor(0.3116, device='cuda:2', grad_fn=<DivBackward0>)\n",
      "tensor(1.0522, device='cuda:2', grad_fn=<MeanBackward0>) tensor(3.4535, device='cuda:2', grad_fn=<MeanBackward0>)\n",
      "tensor(0.4333, device='cuda:2', grad_fn=<AddBackward0>) tensor(0.3047, device='cuda:2', grad_fn=<DivBackward0>)\n",
      "tensor(1.0440, device='cuda:2', grad_fn=<MeanBackward0>) tensor(3.4516, device='cuda:2', grad_fn=<MeanBackward0>)\n",
      "tensor(0.4318, device='cuda:2', grad_fn=<AddBackward0>) tensor(0.3025, device='cuda:2', grad_fn=<DivBackward0>)\n"
     ]
    },
    {
     "name": "stderr",
     "output_type": "stream",
     "text": [
      "493it [00:45, 10.81it/s]"
     ]
    },
    {
     "name": "stdout",
     "output_type": "stream",
     "text": [
      "tensor(1.0729, device='cuda:2', grad_fn=<MeanBackward0>) tensor(3.4505, device='cuda:2', grad_fn=<MeanBackward0>)\n",
      "tensor(0.4311, device='cuda:2', grad_fn=<AddBackward0>) tensor(0.3109, device='cuda:2', grad_fn=<DivBackward0>)\n",
      "tensor(1.0342, device='cuda:2', grad_fn=<MeanBackward0>) tensor(3.4350, device='cuda:2', grad_fn=<MeanBackward0>)\n",
      "tensor(0.4199, device='cuda:2', grad_fn=<AddBackward0>) tensor(0.3011, device='cuda:2', grad_fn=<DivBackward0>)\n",
      "tensor(1.0946, device='cuda:2', grad_fn=<MeanBackward0>) tensor(3.4546, device='cuda:2', grad_fn=<MeanBackward0>)\n",
      "tensor(0.2183, device='cuda:2', grad_fn=<AddBackward0>) tensor(0.3169, device='cuda:2', grad_fn=<DivBackward0>)\n"
     ]
    },
    {
     "name": "stderr",
     "output_type": "stream",
     "text": [
      "495it [00:46, 10.77it/s]"
     ]
    },
    {
     "name": "stdout",
     "output_type": "stream",
     "text": [
      "tensor(1.0947, device='cuda:2', grad_fn=<MeanBackward0>) tensor(3.4581, device='cuda:2', grad_fn=<MeanBackward0>)\n",
      "tensor(0.2377, device='cuda:2', grad_fn=<AddBackward0>) tensor(0.3166, device='cuda:2', grad_fn=<DivBackward0>)\n",
      "tensor(1.0810, device='cuda:2', grad_fn=<MeanBackward0>) tensor(3.4489, device='cuda:2', grad_fn=<MeanBackward0>)\n",
      "tensor(0.2105, device='cuda:2', grad_fn=<AddBackward0>) tensor(0.3134, device='cuda:2', grad_fn=<DivBackward0>)\n",
      "tensor(1.0839, device='cuda:2', grad_fn=<MeanBackward0>) tensor(3.4618, device='cuda:2', grad_fn=<MeanBackward0>)\n",
      "tensor(0.2101, device='cuda:2', grad_fn=<AddBackward0>) tensor(0.3131, device='cuda:2', grad_fn=<DivBackward0>)\n"
     ]
    },
    {
     "name": "stderr",
     "output_type": "stream",
     "text": [
      "499it [00:46, 10.85it/s]"
     ]
    },
    {
     "name": "stdout",
     "output_type": "stream",
     "text": [
      "tensor(1.0055, device='cuda:2', grad_fn=<MeanBackward0>) tensor(3.4246, device='cuda:2', grad_fn=<MeanBackward0>)\n",
      "tensor(0.3838, device='cuda:2', grad_fn=<AddBackward0>) tensor(0.2936, device='cuda:2', grad_fn=<DivBackward0>)\n",
      "tensor(1.0025, device='cuda:2', grad_fn=<MeanBackward0>) tensor(3.4197, device='cuda:2', grad_fn=<MeanBackward0>)\n",
      "tensor(0.3846, device='cuda:2', grad_fn=<AddBackward0>) tensor(0.2931, device='cuda:2', grad_fn=<DivBackward0>)\n",
      "tensor(1.0060, device='cuda:2', grad_fn=<MeanBackward0>) tensor(3.4253, device='cuda:2', grad_fn=<MeanBackward0>)\n",
      "tensor(0.3837, device='cuda:2', grad_fn=<AddBackward0>) tensor(0.2937, device='cuda:2', grad_fn=<DivBackward0>)\n"
     ]
    },
    {
     "name": "stderr",
     "output_type": "stream",
     "text": [
      "501it [00:46, 10.81it/s]"
     ]
    },
    {
     "name": "stdout",
     "output_type": "stream",
     "text": [
      "tensor(1.0066, device='cuda:2', grad_fn=<MeanBackward0>) tensor(3.4207, device='cuda:2', grad_fn=<MeanBackward0>)\n",
      "tensor(0.3869, device='cuda:2', grad_fn=<AddBackward0>) tensor(0.2943, device='cuda:2', grad_fn=<DivBackward0>)\n",
      "tensor(1.0363, device='cuda:2', grad_fn=<MeanBackward0>) tensor(3.4250, device='cuda:2', grad_fn=<MeanBackward0>)\n",
      "tensor(0.3493, device='cuda:2', grad_fn=<AddBackward0>) tensor(0.3026, device='cuda:2', grad_fn=<DivBackward0>)\n",
      "tensor(1.0540, device='cuda:2', grad_fn=<MeanBackward0>) tensor(3.4342, device='cuda:2', grad_fn=<MeanBackward0>)\n",
      "tensor(0.3474, device='cuda:2', grad_fn=<AddBackward0>) tensor(0.3069, device='cuda:2', grad_fn=<DivBackward0>)\n"
     ]
    },
    {
     "name": "stderr",
     "output_type": "stream",
     "text": [
      "505it [00:47, 10.81it/s]"
     ]
    },
    {
     "name": "stdout",
     "output_type": "stream",
     "text": [
      "tensor(1.0463, device='cuda:2', grad_fn=<MeanBackward0>) tensor(3.4235, device='cuda:2', grad_fn=<MeanBackward0>)\n",
      "tensor(0.3448, device='cuda:2', grad_fn=<AddBackward0>) tensor(0.3056, device='cuda:2', grad_fn=<DivBackward0>)\n",
      "tensor(1.0541, device='cuda:2', grad_fn=<MeanBackward0>) tensor(3.4349, device='cuda:2', grad_fn=<MeanBackward0>)\n",
      "tensor(0.3503, device='cuda:2', grad_fn=<AddBackward0>) tensor(0.3069, device='cuda:2', grad_fn=<DivBackward0>)\n",
      "tensor(0.9899, device='cuda:2', grad_fn=<MeanBackward0>) tensor(3.4136, device='cuda:2', grad_fn=<MeanBackward0>)\n",
      "tensor(0.3617, device='cuda:2', grad_fn=<AddBackward0>) tensor(0.2900, device='cuda:2', grad_fn=<DivBackward0>)\n"
     ]
    },
    {
     "name": "stderr",
     "output_type": "stream",
     "text": [
      "507it [00:47, 10.75it/s]"
     ]
    },
    {
     "name": "stdout",
     "output_type": "stream",
     "text": [
      "tensor(0.9919, device='cuda:2', grad_fn=<MeanBackward0>) tensor(3.4025, device='cuda:2', grad_fn=<MeanBackward0>)\n",
      "tensor(0.3566, device='cuda:2', grad_fn=<AddBackward0>) tensor(0.2915, device='cuda:2', grad_fn=<DivBackward0>)\n",
      "tensor(0.9825, device='cuda:2', grad_fn=<MeanBackward0>) tensor(3.3995, device='cuda:2', grad_fn=<MeanBackward0>)\n",
      "tensor(0.3503, device='cuda:2', grad_fn=<AddBackward0>) tensor(0.2890, device='cuda:2', grad_fn=<DivBackward0>)\n",
      "tensor(0.9746, device='cuda:2', grad_fn=<MeanBackward0>) tensor(3.3987, device='cuda:2', grad_fn=<MeanBackward0>)\n",
      "tensor(0.3621, device='cuda:2', grad_fn=<AddBackward0>) tensor(0.2867, device='cuda:2', grad_fn=<DivBackward0>)\n"
     ]
    },
    {
     "name": "stderr",
     "output_type": "stream",
     "text": [
      "511it [00:47, 10.77it/s]"
     ]
    },
    {
     "name": "stdout",
     "output_type": "stream",
     "text": [
      "tensor(1.0092, device='cuda:2', grad_fn=<MeanBackward0>) tensor(3.4156, device='cuda:2', grad_fn=<MeanBackward0>)\n",
      "tensor(0.3605, device='cuda:2', grad_fn=<AddBackward0>) tensor(0.2955, device='cuda:2', grad_fn=<DivBackward0>)\n",
      "tensor(1.0171, device='cuda:2', grad_fn=<MeanBackward0>) tensor(3.4177, device='cuda:2', grad_fn=<MeanBackward0>)\n",
      "tensor(0.3484, device='cuda:2', grad_fn=<AddBackward0>) tensor(0.2976, device='cuda:2', grad_fn=<DivBackward0>)\n",
      "tensor(1.0235, device='cuda:2', grad_fn=<MeanBackward0>) tensor(3.4334, device='cuda:2', grad_fn=<MeanBackward0>)\n",
      "tensor(0.3682, device='cuda:2', grad_fn=<AddBackward0>) tensor(0.2981, device='cuda:2', grad_fn=<DivBackward0>)\n"
     ]
    },
    {
     "name": "stderr",
     "output_type": "stream",
     "text": [
      "513it [00:47, 10.71it/s]"
     ]
    },
    {
     "name": "stdout",
     "output_type": "stream",
     "text": [
      "tensor(1.0296, device='cuda:2', grad_fn=<MeanBackward0>) tensor(3.4354, device='cuda:2', grad_fn=<MeanBackward0>)\n",
      "tensor(0.3617, device='cuda:2', grad_fn=<AddBackward0>) tensor(0.2997, device='cuda:2', grad_fn=<DivBackward0>)\n",
      "tensor(1.0508, device='cuda:2', grad_fn=<MeanBackward0>) tensor(3.4513, device='cuda:2', grad_fn=<MeanBackward0>)\n",
      "tensor(0.3429, device='cuda:2', grad_fn=<AddBackward0>) tensor(0.3045, device='cuda:2', grad_fn=<DivBackward0>)\n",
      "tensor(1.0438, device='cuda:2', grad_fn=<MeanBackward0>) tensor(3.4589, device='cuda:2', grad_fn=<MeanBackward0>)\n",
      "tensor(0.3189, device='cuda:2', grad_fn=<AddBackward0>) tensor(0.3018, device='cuda:2', grad_fn=<DivBackward0>)\n"
     ]
    },
    {
     "name": "stderr",
     "output_type": "stream",
     "text": [
      "517it [00:48, 10.78it/s]"
     ]
    },
    {
     "name": "stdout",
     "output_type": "stream",
     "text": [
      "tensor(1.0362, device='cuda:2', grad_fn=<MeanBackward0>) tensor(3.4576, device='cuda:2', grad_fn=<MeanBackward0>)\n",
      "tensor(0.3136, device='cuda:2', grad_fn=<AddBackward0>) tensor(0.2997, device='cuda:2', grad_fn=<DivBackward0>)\n",
      "tensor(1.0410, device='cuda:2', grad_fn=<MeanBackward0>) tensor(3.4544, device='cuda:2', grad_fn=<MeanBackward0>)\n",
      "tensor(0.3182, device='cuda:2', grad_fn=<AddBackward0>) tensor(0.3014, device='cuda:2', grad_fn=<DivBackward0>)\n",
      "tensor(0.9999, device='cuda:2', grad_fn=<MeanBackward0>) tensor(3.4312, device='cuda:2', grad_fn=<MeanBackward0>)\n",
      "tensor(0.3737, device='cuda:2', grad_fn=<AddBackward0>) tensor(0.2914, device='cuda:2', grad_fn=<DivBackward0>)\n"
     ]
    },
    {
     "name": "stderr",
     "output_type": "stream",
     "text": [
      "519it [00:48, 10.79it/s]"
     ]
    },
    {
     "name": "stdout",
     "output_type": "stream",
     "text": [
      "tensor(1.0221, device='cuda:2', grad_fn=<MeanBackward0>) tensor(3.4262, device='cuda:2', grad_fn=<MeanBackward0>)\n",
      "tensor(0.3547, device='cuda:2', grad_fn=<AddBackward0>) tensor(0.2983, device='cuda:2', grad_fn=<DivBackward0>)\n",
      "tensor(0.9903, device='cuda:2', grad_fn=<MeanBackward0>) tensor(3.4186, device='cuda:2', grad_fn=<MeanBackward0>)\n",
      "tensor(0.3617, device='cuda:2', grad_fn=<AddBackward0>) tensor(0.2897, device='cuda:2', grad_fn=<DivBackward0>)\n",
      "tensor(1.0026, device='cuda:2', grad_fn=<MeanBackward0>) tensor(3.4237, device='cuda:2', grad_fn=<MeanBackward0>)\n",
      "tensor(0.3728, device='cuda:2', grad_fn=<AddBackward0>) tensor(0.2929, device='cuda:2', grad_fn=<DivBackward0>)\n"
     ]
    },
    {
     "name": "stderr",
     "output_type": "stream",
     "text": [
      "523it [00:48, 10.78it/s]"
     ]
    },
    {
     "name": "stdout",
     "output_type": "stream",
     "text": [
      "tensor(1.0200, device='cuda:2', grad_fn=<MeanBackward0>) tensor(3.4212, device='cuda:2', grad_fn=<MeanBackward0>)\n",
      "tensor(0.3678, device='cuda:2', grad_fn=<AddBackward0>) tensor(0.2981, device='cuda:2', grad_fn=<DivBackward0>)\n",
      "tensor(1.0175, device='cuda:2', grad_fn=<MeanBackward0>) tensor(3.4136, device='cuda:2', grad_fn=<MeanBackward0>)\n",
      "tensor(0.3656, device='cuda:2', grad_fn=<AddBackward0>) tensor(0.2981, device='cuda:2', grad_fn=<DivBackward0>)\n",
      "tensor(1.0273, device='cuda:2', grad_fn=<MeanBackward0>) tensor(3.4159, device='cuda:2', grad_fn=<MeanBackward0>)\n",
      "tensor(0.3609, device='cuda:2', grad_fn=<AddBackward0>) tensor(0.3008, device='cuda:2', grad_fn=<DivBackward0>)\n"
     ]
    },
    {
     "name": "stderr",
     "output_type": "stream",
     "text": [
      "525it [00:48, 10.77it/s]"
     ]
    },
    {
     "name": "stdout",
     "output_type": "stream",
     "text": [
      "tensor(0.9905, device='cuda:2', grad_fn=<MeanBackward0>) tensor(3.4022, device='cuda:2', grad_fn=<MeanBackward0>)\n",
      "tensor(0.3575, device='cuda:2', grad_fn=<AddBackward0>) tensor(0.2911, device='cuda:2', grad_fn=<DivBackward0>)\n",
      "tensor(1.0053, device='cuda:2', grad_fn=<MeanBackward0>) tensor(3.4126, device='cuda:2', grad_fn=<MeanBackward0>)\n",
      "tensor(0.3114, device='cuda:2', grad_fn=<AddBackward0>) tensor(0.2946, device='cuda:2', grad_fn=<DivBackward0>)\n",
      "tensor(1.0107, device='cuda:2', grad_fn=<MeanBackward0>) tensor(3.4144, device='cuda:2', grad_fn=<MeanBackward0>)\n",
      "tensor(0.3121, device='cuda:2', grad_fn=<AddBackward0>) tensor(0.2960, device='cuda:2', grad_fn=<DivBackward0>)\n"
     ]
    },
    {
     "name": "stderr",
     "output_type": "stream",
     "text": [
      "529it [00:49, 10.80it/s]"
     ]
    },
    {
     "name": "stdout",
     "output_type": "stream",
     "text": [
      "tensor(1.0214, device='cuda:2', grad_fn=<MeanBackward0>) tensor(3.4191, device='cuda:2', grad_fn=<MeanBackward0>)\n",
      "tensor(0.2941, device='cuda:2', grad_fn=<AddBackward0>) tensor(0.2987, device='cuda:2', grad_fn=<DivBackward0>)\n",
      "tensor(1.0047, device='cuda:2', grad_fn=<MeanBackward0>) tensor(3.4079, device='cuda:2', grad_fn=<MeanBackward0>)\n",
      "tensor(0.3086, device='cuda:2', grad_fn=<AddBackward0>) tensor(0.2948, device='cuda:2', grad_fn=<DivBackward0>)\n",
      "tensor(0.9950, device='cuda:2', grad_fn=<MeanBackward0>) tensor(3.4101, device='cuda:2', grad_fn=<MeanBackward0>)\n",
      "tensor(0.2792, device='cuda:2', grad_fn=<AddBackward0>) tensor(0.2918, device='cuda:2', grad_fn=<DivBackward0>)\n"
     ]
    },
    {
     "name": "stderr",
     "output_type": "stream",
     "text": [
      "531it [00:49, 10.76it/s]"
     ]
    },
    {
     "name": "stdout",
     "output_type": "stream",
     "text": [
      "tensor(1.0093, device='cuda:2', grad_fn=<MeanBackward0>) tensor(3.4122, device='cuda:2', grad_fn=<MeanBackward0>)\n",
      "tensor(0.2684, device='cuda:2', grad_fn=<AddBackward0>) tensor(0.2958, device='cuda:2', grad_fn=<DivBackward0>)\n",
      "tensor(0.9958, device='cuda:2', grad_fn=<MeanBackward0>) tensor(3.4150, device='cuda:2', grad_fn=<MeanBackward0>)\n",
      "tensor(0.2550, device='cuda:2', grad_fn=<AddBackward0>) tensor(0.2916, device='cuda:2', grad_fn=<DivBackward0>)\n",
      "tensor(0.9836, device='cuda:2', grad_fn=<MeanBackward0>) tensor(3.4150, device='cuda:2', grad_fn=<MeanBackward0>)\n",
      "tensor(0.2562, device='cuda:2', grad_fn=<AddBackward0>) tensor(0.2880, device='cuda:2', grad_fn=<DivBackward0>)\n"
     ]
    },
    {
     "name": "stderr",
     "output_type": "stream",
     "text": [
      "535it [00:49, 10.80it/s]"
     ]
    },
    {
     "name": "stdout",
     "output_type": "stream",
     "text": [
      "tensor(1.0090, device='cuda:2', grad_fn=<MeanBackward0>) tensor(3.4315, device='cuda:2', grad_fn=<MeanBackward0>)\n",
      "tensor(0.3889, device='cuda:2', grad_fn=<AddBackward0>) tensor(0.2940, device='cuda:2', grad_fn=<DivBackward0>)\n",
      "tensor(1.0247, device='cuda:2', grad_fn=<MeanBackward0>) tensor(3.4379, device='cuda:2', grad_fn=<MeanBackward0>)\n",
      "tensor(0.3838, device='cuda:2', grad_fn=<AddBackward0>) tensor(0.2981, device='cuda:2', grad_fn=<DivBackward0>)\n",
      "tensor(1.0387, device='cuda:2', grad_fn=<MeanBackward0>) tensor(3.4505, device='cuda:2', grad_fn=<MeanBackward0>)\n",
      "tensor(0.3824, device='cuda:2', grad_fn=<AddBackward0>) tensor(0.3010, device='cuda:2', grad_fn=<DivBackward0>)\n"
     ]
    },
    {
     "name": "stderr",
     "output_type": "stream",
     "text": [
      "537it [00:50, 10.81it/s]"
     ]
    },
    {
     "name": "stdout",
     "output_type": "stream",
     "text": [
      "tensor(1.0126, device='cuda:2', grad_fn=<MeanBackward0>) tensor(3.4386, device='cuda:2', grad_fn=<MeanBackward0>)\n",
      "tensor(0.3674, device='cuda:2', grad_fn=<AddBackward0>) tensor(0.2945, device='cuda:2', grad_fn=<DivBackward0>)\n",
      "tensor(1.0144, device='cuda:2', grad_fn=<MeanBackward0>) tensor(3.4355, device='cuda:2', grad_fn=<MeanBackward0>)\n",
      "tensor(0.2750, device='cuda:2', grad_fn=<AddBackward0>) tensor(0.2953, device='cuda:2', grad_fn=<DivBackward0>)\n",
      "tensor(1.0512, device='cuda:2', grad_fn=<MeanBackward0>) tensor(3.4542, device='cuda:2', grad_fn=<MeanBackward0>)\n",
      "tensor(0.2830, device='cuda:2', grad_fn=<AddBackward0>) tensor(0.3043, device='cuda:2', grad_fn=<DivBackward0>)\n"
     ]
    },
    {
     "name": "stderr",
     "output_type": "stream",
     "text": [
      "541it [00:50, 10.84it/s]"
     ]
    },
    {
     "name": "stdout",
     "output_type": "stream",
     "text": [
      "tensor(1.0350, device='cuda:2', grad_fn=<MeanBackward0>) tensor(3.4431, device='cuda:2', grad_fn=<MeanBackward0>)\n",
      "tensor(0.2581, device='cuda:2', grad_fn=<AddBackward0>) tensor(0.3006, device='cuda:2', grad_fn=<DivBackward0>)\n",
      "tensor(1.0192, device='cuda:2', grad_fn=<MeanBackward0>) tensor(3.4361, device='cuda:2', grad_fn=<MeanBackward0>)\n",
      "tensor(0.2894, device='cuda:2', grad_fn=<AddBackward0>) tensor(0.2966, device='cuda:2', grad_fn=<DivBackward0>)\n",
      "tensor(1.0092, device='cuda:2', grad_fn=<MeanBackward0>) tensor(3.4226, device='cuda:2', grad_fn=<MeanBackward0>)\n",
      "tensor(0.3721, device='cuda:2', grad_fn=<AddBackward0>) tensor(0.2948, device='cuda:2', grad_fn=<DivBackward0>)\n"
     ]
    },
    {
     "name": "stderr",
     "output_type": "stream",
     "text": [
      "543it [00:50, 10.84it/s]"
     ]
    },
    {
     "name": "stdout",
     "output_type": "stream",
     "text": [
      "tensor(1.0181, device='cuda:2', grad_fn=<MeanBackward0>) tensor(3.4203, device='cuda:2', grad_fn=<MeanBackward0>)\n",
      "tensor(0.3749, device='cuda:2', grad_fn=<AddBackward0>) tensor(0.2976, device='cuda:2', grad_fn=<DivBackward0>)\n",
      "tensor(1.0064, device='cuda:2', grad_fn=<MeanBackward0>) tensor(3.4106, device='cuda:2', grad_fn=<MeanBackward0>)\n",
      "tensor(0.3837, device='cuda:2', grad_fn=<AddBackward0>) tensor(0.2951, device='cuda:2', grad_fn=<DivBackward0>)\n",
      "tensor(1.0046, device='cuda:2', grad_fn=<MeanBackward0>) tensor(3.4267, device='cuda:2', grad_fn=<MeanBackward0>)\n",
      "tensor(0.3739, device='cuda:2', grad_fn=<AddBackward0>) tensor(0.2932, device='cuda:2', grad_fn=<DivBackward0>)\n"
     ]
    },
    {
     "name": "stderr",
     "output_type": "stream",
     "text": [
      "547it [00:50, 10.74it/s]"
     ]
    },
    {
     "name": "stdout",
     "output_type": "stream",
     "text": [
      "tensor(0.9589, device='cuda:2', grad_fn=<MeanBackward0>) tensor(3.4093, device='cuda:2', grad_fn=<MeanBackward0>)\n",
      "tensor(0.3106, device='cuda:2', grad_fn=<AddBackward0>) tensor(0.2813, device='cuda:2', grad_fn=<DivBackward0>)\n",
      "tensor(0.9719, device='cuda:2', grad_fn=<MeanBackward0>) tensor(3.4023, device='cuda:2', grad_fn=<MeanBackward0>)\n",
      "tensor(0.3053, device='cuda:2', grad_fn=<AddBackward0>) tensor(0.2857, device='cuda:2', grad_fn=<DivBackward0>)\n",
      "tensor(0.9755, device='cuda:2', grad_fn=<MeanBackward0>) tensor(3.4087, device='cuda:2', grad_fn=<MeanBackward0>)\n",
      "tensor(0.3278, device='cuda:2', grad_fn=<AddBackward0>) tensor(0.2862, device='cuda:2', grad_fn=<DivBackward0>)\n"
     ]
    },
    {
     "name": "stderr",
     "output_type": "stream",
     "text": [
      "549it [00:51, 10.73it/s]"
     ]
    },
    {
     "name": "stdout",
     "output_type": "stream",
     "text": [
      "tensor(0.9586, device='cuda:2', grad_fn=<MeanBackward0>) tensor(3.3886, device='cuda:2', grad_fn=<MeanBackward0>)\n",
      "tensor(0.3034, device='cuda:2', grad_fn=<AddBackward0>) tensor(0.2829, device='cuda:2', grad_fn=<DivBackward0>)\n",
      "tensor(0.9898, device='cuda:2', grad_fn=<MeanBackward0>) tensor(3.3928, device='cuda:2', grad_fn=<MeanBackward0>)\n",
      "tensor(0.2733, device='cuda:2', grad_fn=<AddBackward0>) tensor(0.2917, device='cuda:2', grad_fn=<DivBackward0>)\n",
      "tensor(0.9793, device='cuda:2', grad_fn=<MeanBackward0>) "
     ]
    },
    {
     "name": "stderr",
     "output_type": "stream",
     "text": [
      "551it [00:51, 10.50it/s]"
     ]
    },
    {
     "name": "stdout",
     "output_type": "stream",
     "text": [
      "tensor(3.3912, device='cuda:2', grad_fn=<MeanBackward0>)\n",
      "tensor(0.2692, device='cuda:2', grad_fn=<AddBackward0>) tensor(0.2888, device='cuda:2', grad_fn=<DivBackward0>)\n",
      "tensor(0.9962, device='cuda:2', grad_fn=<MeanBackward0>) tensor(3.3964, device='cuda:2', grad_fn=<MeanBackward0>)\n",
      "tensor(0.2688, device='cuda:2', grad_fn=<AddBackward0>) tensor(0.2933, device='cuda:2', grad_fn=<DivBackward0>)\n",
      "tensor(0.9864, device='cuda:2', grad_fn=<MeanBackward0>) tensor(3.3972, device='cuda:2', grad_fn=<MeanBackward0>)\n",
      "tensor(0.2957, device='cuda:2', grad_fn=<AddBackward0>) tensor(0.2904, device='cuda:2', grad_fn=<DivBackward0>)\n"
     ]
    },
    {
     "name": "stderr",
     "output_type": "stream",
     "text": [
      "555it [00:51, 10.67it/s]"
     ]
    },
    {
     "name": "stdout",
     "output_type": "stream",
     "text": [
      "tensor(0.9573, device='cuda:2', grad_fn=<MeanBackward0>) tensor(3.3930, device='cuda:2', grad_fn=<MeanBackward0>)\n",
      "tensor(0.3163, device='cuda:2', grad_fn=<AddBackward0>) tensor(0.2821, device='cuda:2', grad_fn=<DivBackward0>)\n",
      "tensor(0.9812, device='cuda:2', grad_fn=<MeanBackward0>) tensor(3.4091, device='cuda:2', grad_fn=<MeanBackward0>)\n",
      "tensor(0.2987, device='cuda:2', grad_fn=<AddBackward0>) tensor(0.2878, device='cuda:2', grad_fn=<DivBackward0>)\n",
      "tensor(1.0093, device='cuda:2', grad_fn=<MeanBackward0>) tensor(3.4242, device='cuda:2', grad_fn=<MeanBackward0>)\n",
      "tensor(0.3293, device='cuda:2', grad_fn=<AddBackward0>) tensor(0.2948, device='cuda:2', grad_fn=<DivBackward0>)\n"
     ]
    },
    {
     "name": "stderr",
     "output_type": "stream",
     "text": [
      "557it [00:51, 10.66it/s]"
     ]
    },
    {
     "name": "stdout",
     "output_type": "stream",
     "text": [
      "tensor(0.9932, device='cuda:2', grad_fn=<MeanBackward0>) tensor(3.4137, device='cuda:2', grad_fn=<MeanBackward0>)\n",
      "tensor(0.2967, device='cuda:2', grad_fn=<AddBackward0>) tensor(0.2909, device='cuda:2', grad_fn=<DivBackward0>)\n",
      "tensor(0.9774, device='cuda:2', grad_fn=<MeanBackward0>) tensor(3.4124, device='cuda:2', grad_fn=<MeanBackward0>)\n",
      "tensor(0.3809, device='cuda:2', grad_fn=<AddBackward0>) tensor(0.2864, device='cuda:2', grad_fn=<DivBackward0>)\n",
      "tensor(0.9870, device='cuda:2', grad_fn=<MeanBackward0>) tensor(3.4071, device='cuda:2', grad_fn=<MeanBackward0>)\n",
      "tensor(0.3594, device='cuda:2', grad_fn=<AddBackward0>) tensor(0.2897, device='cuda:2', grad_fn=<DivBackward0>)\n"
     ]
    },
    {
     "name": "stderr",
     "output_type": "stream",
     "text": [
      "561it [00:52, 10.63it/s]"
     ]
    },
    {
     "name": "stdout",
     "output_type": "stream",
     "text": [
      "tensor(0.9845, device='cuda:2', grad_fn=<MeanBackward0>) tensor(3.4036, device='cuda:2', grad_fn=<MeanBackward0>)\n",
      "tensor(0.3572, device='cuda:2', grad_fn=<AddBackward0>) tensor(0.2892, device='cuda:2', grad_fn=<DivBackward0>)\n",
      "tensor(0.9748, device='cuda:2', grad_fn=<MeanBackward0>) tensor(3.4023, device='cuda:2', grad_fn=<MeanBackward0>)\n",
      "tensor(0.3521, device='cuda:2', grad_fn=<AddBackward0>) tensor(0.2865, device='cuda:2', grad_fn=<DivBackward0>)\n",
      "tensor(1.0153, device='cuda:2', grad_fn=<MeanBackward0>) tensor(3.4308, device='cuda:2', grad_fn=<MeanBackward0>)\n",
      "tensor(0.4038, device='cuda:2', grad_fn=<AddBackward0>) tensor(0.2959, device='cuda:2', grad_fn=<DivBackward0>)\n"
     ]
    },
    {
     "name": "stderr",
     "output_type": "stream",
     "text": [
      "563it [00:52, 10.60it/s]"
     ]
    },
    {
     "name": "stdout",
     "output_type": "stream",
     "text": [
      "tensor(1.0238, device='cuda:2', grad_fn=<MeanBackward0>) tensor(3.4441, device='cuda:2', grad_fn=<MeanBackward0>)\n",
      "tensor(0.4039, device='cuda:2', grad_fn=<AddBackward0>) tensor(0.2972, device='cuda:2', grad_fn=<DivBackward0>)\n",
      "tensor(1.0241, device='cuda:2', grad_fn=<MeanBackward0>) tensor(3.4322, device='cuda:2', grad_fn=<MeanBackward0>)\n",
      "tensor(0.4118, device='cuda:2', grad_fn=<AddBackward0>) tensor(0.2984, device='cuda:2', grad_fn=<DivBackward0>)\n",
      "tensor(1.0100, device='cuda:2', grad_fn=<MeanBackward0>) tensor(3.4247, device='cuda:2', grad_fn=<MeanBackward0>)\n",
      "tensor(0.4003, device='cuda:2', grad_fn=<AddBackward0>) tensor(0.2949, device='cuda:2', grad_fn=<DivBackward0>)\n"
     ]
    },
    {
     "name": "stderr",
     "output_type": "stream",
     "text": [
      "567it [00:52, 10.57it/s]"
     ]
    },
    {
     "name": "stdout",
     "output_type": "stream",
     "text": [
      "tensor(0.9980, device='cuda:2', grad_fn=<MeanBackward0>) tensor(3.3941, device='cuda:2', grad_fn=<MeanBackward0>)\n",
      "tensor(0.3241, device='cuda:2', grad_fn=<AddBackward0>) tensor(0.2940, device='cuda:2', grad_fn=<DivBackward0>)\n",
      "tensor(0.9961, device='cuda:2', grad_fn=<MeanBackward0>) tensor(3.4090, device='cuda:2', grad_fn=<MeanBackward0>)\n",
      "tensor(0.3315, device='cuda:2', grad_fn=<AddBackward0>) tensor(0.2922, device='cuda:2', grad_fn=<DivBackward0>)\n",
      "tensor(1.0122, device='cuda:2', grad_fn=<MeanBackward0>) tensor(3.4145, device='cuda:2', grad_fn=<MeanBackward0>)\n",
      "tensor(0.3096, device='cuda:2', grad_fn=<AddBackward0>) tensor(0.2964, device='cuda:2', grad_fn=<DivBackward0>)\n"
     ]
    },
    {
     "name": "stderr",
     "output_type": "stream",
     "text": [
      "569it [00:53, 10.62it/s]"
     ]
    },
    {
     "name": "stdout",
     "output_type": "stream",
     "text": [
      "tensor(1.0024, device='cuda:2', grad_fn=<MeanBackward0>) tensor(3.4251, device='cuda:2', grad_fn=<MeanBackward0>)\n",
      "tensor(0.3060, device='cuda:2', grad_fn=<AddBackward0>) tensor(0.2927, device='cuda:2', grad_fn=<DivBackward0>)\n",
      "tensor(0.9586, device='cuda:2', grad_fn=<MeanBackward0>) tensor(3.3961, device='cuda:2', grad_fn=<MeanBackward0>)\n",
      "tensor(0.2184, device='cuda:2', grad_fn=<AddBackward0>) tensor(0.2823, device='cuda:2', grad_fn=<DivBackward0>)\n",
      "tensor(0.9570, device='cuda:2', grad_fn=<MeanBackward0>) tensor(3.3943, device='cuda:2', grad_fn=<MeanBackward0>)\n",
      "tensor(0.2192, device='cuda:2', grad_fn=<AddBackward0>) tensor(0.2819, device='cuda:2', grad_fn=<DivBackward0>)\n"
     ]
    },
    {
     "name": "stderr",
     "output_type": "stream",
     "text": [
      "573it [00:53, 10.73it/s]"
     ]
    },
    {
     "name": "stdout",
     "output_type": "stream",
     "text": [
      "tensor(0.9661, device='cuda:2', grad_fn=<MeanBackward0>) tensor(3.4030, device='cuda:2', grad_fn=<MeanBackward0>)\n",
      "tensor(0.2221, device='cuda:2', grad_fn=<AddBackward0>) tensor(0.2839, device='cuda:2', grad_fn=<DivBackward0>)\n",
      "tensor(0.9605, device='cuda:2', grad_fn=<MeanBackward0>) tensor(3.3951, device='cuda:2', grad_fn=<MeanBackward0>)\n",
      "tensor(0.2148, device='cuda:2', grad_fn=<AddBackward0>) tensor(0.2829, device='cuda:2', grad_fn=<DivBackward0>)\n",
      "tensor(1.0189, device='cuda:2', grad_fn=<MeanBackward0>) tensor(3.4419, device='cuda:2', grad_fn=<MeanBackward0>)\n",
      "tensor(0.3267, device='cuda:2', grad_fn=<AddBackward0>) tensor(0.2960, device='cuda:2', grad_fn=<DivBackward0>)\n"
     ]
    },
    {
     "name": "stderr",
     "output_type": "stream",
     "text": [
      "575it [00:53, 10.47it/s]"
     ]
    },
    {
     "name": "stdout",
     "output_type": "stream",
     "text": [
      "tensor(1.0348, device='cuda:2', grad_fn=<MeanBackward0>) tensor(3.4355, device='cuda:2', grad_fn=<MeanBackward0>)\n",
      "tensor(0.3276, device='cuda:2', grad_fn=<AddBackward0>) tensor(0.3012, device='cuda:2', grad_fn=<DivBackward0>)\n",
      "tensor(1.0270, device='cuda:2', grad_fn=<MeanBackward0>) tensor(3.4342, device='cuda:2', grad_fn=<MeanBackward0>)\n",
      "tensor(0.3285, device='cuda:2', grad_fn=<AddBackward0>) tensor(0.2991, device='cuda:2', grad_fn=<DivBackward0>)\n",
      "tensor(1.0638, device='cuda:2', grad_fn=<MeanBackward0>) tensor(3.4434, device='cuda:2', grad_fn=<MeanBackward0>)\n",
      "tensor(0.3178, device='cuda:2', grad_fn=<AddBackward0>) tensor(0.3089, device='cuda:2', grad_fn=<DivBackward0>)\n"
     ]
    },
    {
     "name": "stderr",
     "output_type": "stream",
     "text": [
      "579it [00:54, 10.63it/s]"
     ]
    },
    {
     "name": "stdout",
     "output_type": "stream",
     "text": [
      "tensor(0.9694, device='cuda:2', grad_fn=<MeanBackward0>) tensor(3.3928, device='cuda:2', grad_fn=<MeanBackward0>)\n",
      "tensor(0.3562, device='cuda:2', grad_fn=<AddBackward0>) tensor(0.2857, device='cuda:2', grad_fn=<DivBackward0>)\n",
      "tensor(0.9734, device='cuda:2', grad_fn=<MeanBackward0>) tensor(3.3917, device='cuda:2', grad_fn=<MeanBackward0>)\n",
      "tensor(0.3717, device='cuda:2', grad_fn=<AddBackward0>) tensor(0.2870, device='cuda:2', grad_fn=<DivBackward0>)\n",
      "tensor(0.9727, device='cuda:2', grad_fn=<MeanBackward0>) tensor(3.3937, device='cuda:2', grad_fn=<MeanBackward0>)\n",
      "tensor(0.3831, device='cuda:2', grad_fn=<AddBackward0>) tensor(0.2866, device='cuda:2', grad_fn=<DivBackward0>)\n"
     ]
    },
    {
     "name": "stderr",
     "output_type": "stream",
     "text": [
      "581it [00:54, 10.67it/s]"
     ]
    },
    {
     "name": "stdout",
     "output_type": "stream",
     "text": [
      "tensor(0.9550, device='cuda:2', grad_fn=<MeanBackward0>) tensor(3.3857, device='cuda:2', grad_fn=<MeanBackward0>)\n",
      "tensor(0.3424, device='cuda:2', grad_fn=<AddBackward0>) tensor(0.2821, device='cuda:2', grad_fn=<DivBackward0>)\n",
      "tensor(0.9840, device='cuda:2', grad_fn=<MeanBackward0>) tensor(3.4051, device='cuda:2', grad_fn=<MeanBackward0>)\n",
      "tensor(0.2833, device='cuda:2', grad_fn=<AddBackward0>) tensor(0.2890, device='cuda:2', grad_fn=<DivBackward0>)\n",
      "tensor(0.9974, device='cuda:2', grad_fn=<MeanBackward0>) tensor(3.4032, device='cuda:2', grad_fn=<MeanBackward0>)\n",
      "tensor(0.2647, device='cuda:2', grad_fn=<AddBackward0>) tensor(0.2931, device='cuda:2', grad_fn=<DivBackward0>)\n"
     ]
    },
    {
     "name": "stderr",
     "output_type": "stream",
     "text": [
      "585it [00:54, 10.70it/s]"
     ]
    },
    {
     "name": "stdout",
     "output_type": "stream",
     "text": [
      "tensor(1.0040, device='cuda:2', grad_fn=<MeanBackward0>) tensor(3.4217, device='cuda:2', grad_fn=<MeanBackward0>)\n",
      "tensor(0.2610, device='cuda:2', grad_fn=<AddBackward0>) tensor(0.2934, device='cuda:2', grad_fn=<DivBackward0>)\n",
      "tensor(1.0170, device='cuda:2', grad_fn=<MeanBackward0>) tensor(3.4260, device='cuda:2', grad_fn=<MeanBackward0>)\n",
      "tensor(0.2855, device='cuda:2', grad_fn=<AddBackward0>) tensor(0.2968, device='cuda:2', grad_fn=<DivBackward0>)\n",
      "tensor(1.0255, device='cuda:2', grad_fn=<MeanBackward0>) tensor(3.4397, device='cuda:2', grad_fn=<MeanBackward0>)\n",
      "tensor(0.3430, device='cuda:2', grad_fn=<AddBackward0>) tensor(0.2981, device='cuda:2', grad_fn=<DivBackward0>)\n"
     ]
    },
    {
     "name": "stderr",
     "output_type": "stream",
     "text": [
      "587it [00:54, 10.77it/s]"
     ]
    },
    {
     "name": "stdout",
     "output_type": "stream",
     "text": [
      "tensor(1.0112, device='cuda:2', grad_fn=<MeanBackward0>) tensor(3.4379, device='cuda:2', grad_fn=<MeanBackward0>)\n",
      "tensor(0.3248, device='cuda:2', grad_fn=<AddBackward0>) tensor(0.2941, device='cuda:2', grad_fn=<DivBackward0>)\n",
      "tensor(1.0113, device='cuda:2', grad_fn=<MeanBackward0>) tensor(3.4361, device='cuda:2', grad_fn=<MeanBackward0>)\n",
      "tensor(0.3527, device='cuda:2', grad_fn=<AddBackward0>) tensor(0.2943, device='cuda:2', grad_fn=<DivBackward0>)\n"
     ]
    },
    {
     "name": "stderr",
     "output_type": "stream",
     "text": [
      "589it [00:54, 10.28it/s]"
     ]
    },
    {
     "name": "stdout",
     "output_type": "stream",
     "text": [
      "tensor(1.0124, device='cuda:2', grad_fn=<MeanBackward0>) tensor(3.4326, device='cuda:2', grad_fn=<MeanBackward0>)\n",
      "tensor(0.3674, device='cuda:2', grad_fn=<AddBackward0>) tensor(0.2949, device='cuda:2', grad_fn=<DivBackward0>)\n",
      "tensor(0.9583, device='cuda:2', grad_fn=<MeanBackward0>) tensor(3.4043, device='cuda:2', grad_fn=<MeanBackward0>)\n",
      "tensor(0.3556, device='cuda:2', grad_fn=<AddBackward0>) tensor(0.2815, device='cuda:2', grad_fn=<DivBackward0>)\n",
      "tensor(0.9631, device='cuda:2', grad_fn=<MeanBackward0>) tensor(3.4163, device='cuda:2', grad_fn=<MeanBackward0>)\n",
      "tensor(0.3603, device='cuda:2', grad_fn=<AddBackward0>) tensor(0.2819, device='cuda:2', grad_fn=<DivBackward0>)\n"
     ]
    },
    {
     "name": "stderr",
     "output_type": "stream",
     "text": [
      "593it [00:55, 10.56it/s]"
     ]
    },
    {
     "name": "stdout",
     "output_type": "stream",
     "text": [
      "tensor(0.9742, device='cuda:2', grad_fn=<MeanBackward0>) tensor(3.4112, device='cuda:2', grad_fn=<MeanBackward0>)\n",
      "tensor(0.3753, device='cuda:2', grad_fn=<AddBackward0>) tensor(0.2856, device='cuda:2', grad_fn=<DivBackward0>)\n",
      "tensor(0.9552, device='cuda:2', grad_fn=<MeanBackward0>) tensor(3.4104, device='cuda:2', grad_fn=<MeanBackward0>)\n",
      "tensor(0.3571, device='cuda:2', grad_fn=<AddBackward0>) tensor(0.2801, device='cuda:2', grad_fn=<DivBackward0>)\n",
      "tensor(0.9820, device='cuda:2', grad_fn=<MeanBackward0>) tensor(3.4024, device='cuda:2', grad_fn=<MeanBackward0>)\n",
      "tensor(0.2391, device='cuda:2', grad_fn=<AddBackward0>) tensor(0.2886, device='cuda:2', grad_fn=<DivBackward0>)\n"
     ]
    },
    {
     "name": "stderr",
     "output_type": "stream",
     "text": [
      "595it [00:55, 10.62it/s]"
     ]
    },
    {
     "name": "stdout",
     "output_type": "stream",
     "text": [
      "tensor(0.9564, device='cuda:2', grad_fn=<MeanBackward0>) tensor(3.4074, device='cuda:2', grad_fn=<MeanBackward0>)\n",
      "tensor(0.2337, device='cuda:2', grad_fn=<AddBackward0>) tensor(0.2807, device='cuda:2', grad_fn=<DivBackward0>)\n",
      "tensor(0.9524, device='cuda:2', grad_fn=<MeanBackward0>) tensor(3.3984, device='cuda:2', grad_fn=<MeanBackward0>)\n",
      "tensor(0.2269, device='cuda:2', grad_fn=<AddBackward0>) tensor(0.2803, device='cuda:2', grad_fn=<DivBackward0>)\n",
      "tensor(0.9517, device='cuda:2', grad_fn=<MeanBackward0>) tensor(3.3946, device='cuda:2', grad_fn=<MeanBackward0>)\n",
      "tensor(0.2343, device='cuda:2', grad_fn=<AddBackward0>) tensor(0.2804, device='cuda:2', grad_fn=<DivBackward0>)\n"
     ]
    },
    {
     "name": "stderr",
     "output_type": "stream",
     "text": [
      "599it [00:55, 10.72it/s]"
     ]
    },
    {
     "name": "stdout",
     "output_type": "stream",
     "text": [
      "tensor(0.9674, device='cuda:2', grad_fn=<MeanBackward0>) tensor(3.4104, device='cuda:2', grad_fn=<MeanBackward0>)\n",
      "tensor(0.4060, device='cuda:2', grad_fn=<AddBackward0>) tensor(0.2837, device='cuda:2', grad_fn=<DivBackward0>)\n",
      "tensor(0.9672, device='cuda:2', grad_fn=<MeanBackward0>) tensor(3.4086, device='cuda:2', grad_fn=<MeanBackward0>)\n",
      "tensor(0.4001, device='cuda:2', grad_fn=<AddBackward0>) tensor(0.2837, device='cuda:2', grad_fn=<DivBackward0>)\n",
      "tensor(0.9750, device='cuda:2', grad_fn=<MeanBackward0>) tensor(3.4175, device='cuda:2', grad_fn=<MeanBackward0>)\n",
      "tensor(0.3841, device='cuda:2', grad_fn=<AddBackward0>) tensor(0.2853, device='cuda:2', grad_fn=<DivBackward0>)\n"
     ]
    },
    {
     "name": "stderr",
     "output_type": "stream",
     "text": [
      "601it [00:56, 10.65it/s]"
     ]
    },
    {
     "name": "stdout",
     "output_type": "stream",
     "text": [
      "tensor(0.9684, device='cuda:2', grad_fn=<MeanBackward0>) tensor(3.3950, device='cuda:2', grad_fn=<MeanBackward0>)\n",
      "tensor(0.3893, device='cuda:2', grad_fn=<AddBackward0>) tensor(0.2852, device='cuda:2', grad_fn=<DivBackward0>)\n",
      "tensor(0.9797, device='cuda:2', grad_fn=<MeanBackward0>) tensor(3.4077, device='cuda:2', grad_fn=<MeanBackward0>)\n",
      "tensor(0.2686, device='cuda:2', grad_fn=<AddBackward0>) tensor(0.2875, device='cuda:2', grad_fn=<DivBackward0>)\n",
      "tensor(0.9794, device='cuda:2', grad_fn=<MeanBackward0>) tensor(3.4029, device='cuda:2', grad_fn=<MeanBackward0>)\n",
      "tensor(0.2540, device='cuda:2', grad_fn=<AddBackward0>) tensor(0.2878, device='cuda:2', grad_fn=<DivBackward0>)\n"
     ]
    },
    {
     "name": "stderr",
     "output_type": "stream",
     "text": [
      "605it [00:56, 10.69it/s]"
     ]
    },
    {
     "name": "stdout",
     "output_type": "stream",
     "text": [
      "tensor(0.9760, device='cuda:2', grad_fn=<MeanBackward0>) tensor(3.4040, device='cuda:2', grad_fn=<MeanBackward0>)\n",
      "tensor(0.2422, device='cuda:2', grad_fn=<AddBackward0>) tensor(0.2867, device='cuda:2', grad_fn=<DivBackward0>)\n",
      "tensor(0.9699, device='cuda:2', grad_fn=<MeanBackward0>) tensor(3.3951, device='cuda:2', grad_fn=<MeanBackward0>)\n",
      "tensor(0.2442, device='cuda:2', grad_fn=<AddBackward0>) tensor(0.2857, device='cuda:2', grad_fn=<DivBackward0>)\n",
      "tensor(0.9427, device='cuda:2', grad_fn=<MeanBackward0>) tensor(3.3818, device='cuda:2', grad_fn=<MeanBackward0>)\n",
      "tensor(0.4077, device='cuda:2', grad_fn=<AddBackward0>) tensor(0.2787, device='cuda:2', grad_fn=<DivBackward0>)\n"
     ]
    },
    {
     "name": "stderr",
     "output_type": "stream",
     "text": [
      "607it [00:56, 10.73it/s]"
     ]
    },
    {
     "name": "stdout",
     "output_type": "stream",
     "text": [
      "tensor(0.9370, device='cuda:2', grad_fn=<MeanBackward0>) tensor(3.3800, device='cuda:2', grad_fn=<MeanBackward0>)\n",
      "tensor(0.3664, device='cuda:2', grad_fn=<AddBackward0>) tensor(0.2772, device='cuda:2', grad_fn=<DivBackward0>)\n",
      "tensor(0.9421, device='cuda:2', grad_fn=<MeanBackward0>) tensor(3.3901, device='cuda:2', grad_fn=<MeanBackward0>)\n",
      "tensor(0.3702, device='cuda:2', grad_fn=<AddBackward0>) tensor(0.2779, device='cuda:2', grad_fn=<DivBackward0>)\n",
      "tensor(0.9459, device='cuda:2', grad_fn=<MeanBackward0>) tensor(3.3916, device='cuda:2', grad_fn=<MeanBackward0>)\n",
      "tensor(0.3681, device='cuda:2', grad_fn=<AddBackward0>) tensor(0.2789, device='cuda:2', grad_fn=<DivBackward0>)\n"
     ]
    },
    {
     "name": "stderr",
     "output_type": "stream",
     "text": [
      "611it [00:57, 10.69it/s]"
     ]
    },
    {
     "name": "stdout",
     "output_type": "stream",
     "text": [
      "tensor(0.9813, device='cuda:2', grad_fn=<MeanBackward0>) tensor(3.3937, device='cuda:2', grad_fn=<MeanBackward0>)\n",
      "tensor(0.2936, device='cuda:2', grad_fn=<AddBackward0>) tensor(0.2892, device='cuda:2', grad_fn=<DivBackward0>)\n",
      "tensor(0.9619, device='cuda:2', grad_fn=<MeanBackward0>) tensor(3.3923, device='cuda:2', grad_fn=<MeanBackward0>)\n",
      "tensor(0.2949, device='cuda:2', grad_fn=<AddBackward0>) tensor(0.2836, device='cuda:2', grad_fn=<DivBackward0>)\n",
      "tensor(0.9841, device='cuda:2', grad_fn=<MeanBackward0>) tensor(3.3955, device='cuda:2', grad_fn=<MeanBackward0>)\n",
      "tensor(0.2945, device='cuda:2', grad_fn=<AddBackward0>) tensor(0.2898, device='cuda:2', grad_fn=<DivBackward0>)\n"
     ]
    },
    {
     "name": "stderr",
     "output_type": "stream",
     "text": [
      "613it [00:57, 10.67it/s]"
     ]
    },
    {
     "name": "stdout",
     "output_type": "stream",
     "text": [
      "tensor(0.9608, device='cuda:2', grad_fn=<MeanBackward0>) tensor(3.3859, device='cuda:2', grad_fn=<MeanBackward0>)\n",
      "tensor(0.2955, device='cuda:2', grad_fn=<AddBackward0>) tensor(0.2838, device='cuda:2', grad_fn=<DivBackward0>)\n",
      "tensor(0.9557, device='cuda:2', grad_fn=<MeanBackward0>) tensor(3.3746, device='cuda:2', grad_fn=<MeanBackward0>)\n",
      "tensor(0.2834, device='cuda:2', grad_fn=<AddBackward0>) tensor(0.2832, device='cuda:2', grad_fn=<DivBackward0>)\n",
      "tensor(0.9635, device='cuda:2', grad_fn=<MeanBackward0>) tensor(3.3777, device='cuda:2', grad_fn=<MeanBackward0>)\n",
      "tensor(0.3151, device='cuda:2', grad_fn=<AddBackward0>) tensor(0.2853, device='cuda:2', grad_fn=<DivBackward0>)\n"
     ]
    },
    {
     "name": "stderr",
     "output_type": "stream",
     "text": [
      "617it [00:57, 10.70it/s]"
     ]
    },
    {
     "name": "stdout",
     "output_type": "stream",
     "text": [
      "tensor(0.9796, device='cuda:2', grad_fn=<MeanBackward0>) tensor(3.3908, device='cuda:2', grad_fn=<MeanBackward0>)\n",
      "tensor(0.2885, device='cuda:2', grad_fn=<AddBackward0>) tensor(0.2889, device='cuda:2', grad_fn=<DivBackward0>)\n",
      "tensor(0.9483, device='cuda:2', grad_fn=<MeanBackward0>) tensor(3.3803, device='cuda:2', grad_fn=<MeanBackward0>)\n",
      "tensor(0.2844, device='cuda:2', grad_fn=<AddBackward0>) tensor(0.2805, device='cuda:2', grad_fn=<DivBackward0>)\n",
      "tensor(0.9369, device='cuda:2', grad_fn=<MeanBackward0>) tensor(3.3681, device='cuda:2', grad_fn=<MeanBackward0>)\n",
      "tensor(0.2736, device='cuda:2', grad_fn=<AddBackward0>) tensor(0.2782, device='cuda:2', grad_fn=<DivBackward0>)\n"
     ]
    },
    {
     "name": "stderr",
     "output_type": "stream",
     "text": [
      "619it [00:57, 10.65it/s]"
     ]
    },
    {
     "name": "stdout",
     "output_type": "stream",
     "text": [
      "tensor(0.9352, device='cuda:2', grad_fn=<MeanBackward0>) tensor(3.3722, device='cuda:2', grad_fn=<MeanBackward0>)\n",
      "tensor(0.2864, device='cuda:2', grad_fn=<AddBackward0>) tensor(0.2773, device='cuda:2', grad_fn=<DivBackward0>)\n",
      "tensor(0.9460, device='cuda:2', grad_fn=<MeanBackward0>) tensor(3.3749, device='cuda:2', grad_fn=<MeanBackward0>)\n",
      "tensor(0.2618, device='cuda:2', grad_fn=<AddBackward0>) tensor(0.2803, device='cuda:2', grad_fn=<DivBackward0>)\n",
      "tensor(0.9512, device='cuda:2', grad_fn=<MeanBackward0>) tensor(3.3900, device='cuda:2', grad_fn=<MeanBackward0>)\n",
      "tensor(0.3047, device='cuda:2', grad_fn=<AddBackward0>) tensor(0.2806, device='cuda:2', grad_fn=<DivBackward0>)\n"
     ]
    },
    {
     "name": "stderr",
     "output_type": "stream",
     "text": [
      "623it [00:58, 10.67it/s]"
     ]
    },
    {
     "name": "stdout",
     "output_type": "stream",
     "text": [
      "tensor(0.9366, device='cuda:2', grad_fn=<MeanBackward0>) tensor(3.3969, device='cuda:2', grad_fn=<MeanBackward0>)\n",
      "tensor(0.3752, device='cuda:2', grad_fn=<AddBackward0>) tensor(0.2757, device='cuda:2', grad_fn=<DivBackward0>)\n",
      "tensor(0.9378, device='cuda:2', grad_fn=<MeanBackward0>) tensor(3.3998, device='cuda:2', grad_fn=<MeanBackward0>)\n",
      "tensor(0.3799, device='cuda:2', grad_fn=<AddBackward0>) tensor(0.2758, device='cuda:2', grad_fn=<DivBackward0>)\n",
      "tensor(0.9489, device='cuda:2', grad_fn=<MeanBackward0>) tensor(3.4140, device='cuda:2', grad_fn=<MeanBackward0>)\n",
      "tensor(0.3793, device='cuda:2', grad_fn=<AddBackward0>) tensor(0.2780, device='cuda:2', grad_fn=<DivBackward0>)\n"
     ]
    },
    {
     "name": "stderr",
     "output_type": "stream",
     "text": [
      "625it [00:58, 10.64it/s]"
     ]
    },
    {
     "name": "stdout",
     "output_type": "stream",
     "text": [
      "tensor(0.9401, device='cuda:2', grad_fn=<MeanBackward0>) tensor(3.4035, device='cuda:2', grad_fn=<MeanBackward0>)\n",
      "tensor(0.3835, device='cuda:2', grad_fn=<AddBackward0>) tensor(0.2762, device='cuda:2', grad_fn=<DivBackward0>)\n",
      "tensor(0.9668, device='cuda:2', grad_fn=<MeanBackward0>) tensor(3.4170, device='cuda:2', grad_fn=<MeanBackward0>)\n",
      "tensor(0.2862, device='cuda:2', grad_fn=<AddBackward0>) tensor(0.2829, device='cuda:2', grad_fn=<DivBackward0>)\n",
      "tensor(0.9551, device='cuda:2', grad_fn=<MeanBackward0>) tensor(3.4045, device='cuda:2', grad_fn=<MeanBackward0>)\n",
      "tensor(0.2773, device='cuda:2', grad_fn=<AddBackward0>) tensor(0.2805, device='cuda:2', grad_fn=<DivBackward0>)\n"
     ]
    },
    {
     "name": "stderr",
     "output_type": "stream",
     "text": [
      "629it [00:58, 10.68it/s]"
     ]
    },
    {
     "name": "stdout",
     "output_type": "stream",
     "text": [
      "tensor(0.9589, device='cuda:2', grad_fn=<MeanBackward0>) tensor(3.4076, device='cuda:2', grad_fn=<MeanBackward0>)\n",
      "tensor(0.2872, device='cuda:2', grad_fn=<AddBackward0>) tensor(0.2814, device='cuda:2', grad_fn=<DivBackward0>)\n",
      "tensor(0.9407, device='cuda:2', grad_fn=<MeanBackward0>) tensor(3.3914, device='cuda:2', grad_fn=<MeanBackward0>)\n",
      "tensor(0.2647, device='cuda:2', grad_fn=<AddBackward0>) tensor(0.2774, device='cuda:2', grad_fn=<DivBackward0>)\n",
      "tensor(0.9750, device='cuda:2', grad_fn=<MeanBackward0>) tensor(3.4043, device='cuda:2', grad_fn=<MeanBackward0>)\n",
      "tensor(0.4063, device='cuda:2', grad_fn=<AddBackward0>) tensor(0.2864, device='cuda:2', grad_fn=<DivBackward0>)\n"
     ]
    },
    {
     "name": "stderr",
     "output_type": "stream",
     "text": [
      "631it [00:58, 10.75it/s]"
     ]
    },
    {
     "name": "stdout",
     "output_type": "stream",
     "text": [
      "tensor(0.9816, device='cuda:2', grad_fn=<MeanBackward0>) tensor(3.4080, device='cuda:2', grad_fn=<MeanBackward0>)\n",
      "tensor(0.3965, device='cuda:2', grad_fn=<AddBackward0>) tensor(0.2880, device='cuda:2', grad_fn=<DivBackward0>)\n",
      "tensor(0.9954, device='cuda:2', grad_fn=<MeanBackward0>) tensor(3.4112, device='cuda:2', grad_fn=<MeanBackward0>)\n",
      "tensor(0.4166, device='cuda:2', grad_fn=<AddBackward0>) tensor(0.2918, device='cuda:2', grad_fn=<DivBackward0>)\n",
      "tensor(0.9769, device='cuda:2', grad_fn=<MeanBackward0>) tensor(3.4014, device='cuda:2', grad_fn=<MeanBackward0>)\n",
      "tensor(0.4125, device='cuda:2', grad_fn=<AddBackward0>) tensor(0.2872, device='cuda:2', grad_fn=<DivBackward0>)\n"
     ]
    },
    {
     "name": "stderr",
     "output_type": "stream",
     "text": [
      "635it [00:59, 10.69it/s]"
     ]
    },
    {
     "name": "stdout",
     "output_type": "stream",
     "text": [
      "tensor(0.9479, device='cuda:2', grad_fn=<MeanBackward0>) tensor(3.3799, device='cuda:2', grad_fn=<MeanBackward0>)\n",
      "tensor(0.3637, device='cuda:2', grad_fn=<AddBackward0>) tensor(0.2805, device='cuda:2', grad_fn=<DivBackward0>)\n",
      "tensor(0.9471, device='cuda:2', grad_fn=<MeanBackward0>) tensor(3.3783, device='cuda:2', grad_fn=<MeanBackward0>)\n",
      "tensor(0.3661, device='cuda:2', grad_fn=<AddBackward0>) tensor(0.2803, device='cuda:2', grad_fn=<DivBackward0>)\n",
      "tensor(0.9648, device='cuda:2', grad_fn=<MeanBackward0>) tensor(3.3968, device='cuda:2', grad_fn=<MeanBackward0>)\n",
      "tensor(0.3747, device='cuda:2', grad_fn=<AddBackward0>) tensor(0.2840, device='cuda:2', grad_fn=<DivBackward0>)\n"
     ]
    },
    {
     "name": "stderr",
     "output_type": "stream",
     "text": [
      "637it [00:59, 10.71it/s]"
     ]
    },
    {
     "name": "stdout",
     "output_type": "stream",
     "text": [
      "tensor(0.9741, device='cuda:2', grad_fn=<MeanBackward0>) tensor(3.3890, device='cuda:2', grad_fn=<MeanBackward0>)\n",
      "tensor(0.3666, device='cuda:2', grad_fn=<AddBackward0>) tensor(0.2874, device='cuda:2', grad_fn=<DivBackward0>)\n",
      "tensor(0.9455, device='cuda:2', grad_fn=<MeanBackward0>) tensor(3.3800, device='cuda:2', grad_fn=<MeanBackward0>)\n",
      "tensor(0.3447, device='cuda:2', grad_fn=<AddBackward0>) tensor(0.2797, device='cuda:2', grad_fn=<DivBackward0>)\n",
      "tensor(0.9933, device='cuda:2', grad_fn=<MeanBackward0>) tensor(3.4059, device='cuda:2', grad_fn=<MeanBackward0>)\n",
      "tensor(0.3715, device='cuda:2', grad_fn=<AddBackward0>) tensor(0.2916, device='cuda:2', grad_fn=<DivBackward0>)\n"
     ]
    },
    {
     "name": "stderr",
     "output_type": "stream",
     "text": [
      "641it [00:59, 10.63it/s]"
     ]
    },
    {
     "name": "stdout",
     "output_type": "stream",
     "text": [
      "tensor(0.9727, device='cuda:2', grad_fn=<MeanBackward0>) tensor(3.3918, device='cuda:2', grad_fn=<MeanBackward0>)\n",
      "tensor(0.3527, device='cuda:2', grad_fn=<AddBackward0>) tensor(0.2868, device='cuda:2', grad_fn=<DivBackward0>)\n",
      "tensor(0.9953, device='cuda:2', grad_fn=<MeanBackward0>) tensor(3.3982, device='cuda:2', grad_fn=<MeanBackward0>)\n",
      "tensor(0.3426, device='cuda:2', grad_fn=<AddBackward0>) tensor(0.2929, device='cuda:2', grad_fn=<DivBackward0>)\n",
      "tensor(0.9496, device='cuda:2', grad_fn=<MeanBackward0>) tensor(3.3936, device='cuda:2', grad_fn=<MeanBackward0>)\n",
      "tensor(0.3394, device='cuda:2', grad_fn=<AddBackward0>) tensor(0.2798, device='cuda:2', grad_fn=<DivBackward0>)\n"
     ]
    },
    {
     "name": "stderr",
     "output_type": "stream",
     "text": [
      "643it [01:00, 10.70it/s]"
     ]
    },
    {
     "name": "stdout",
     "output_type": "stream",
     "text": [
      "tensor(0.9438, device='cuda:2', grad_fn=<MeanBackward0>) tensor(3.3976, device='cuda:2', grad_fn=<MeanBackward0>)\n",
      "tensor(0.3295, device='cuda:2', grad_fn=<AddBackward0>) tensor(0.2778, device='cuda:2', grad_fn=<DivBackward0>)\n",
      "tensor(0.9448, device='cuda:2', grad_fn=<MeanBackward0>) tensor(3.3961, device='cuda:2', grad_fn=<MeanBackward0>)\n",
      "tensor(0.3387, device='cuda:2', grad_fn=<AddBackward0>) tensor(0.2782, device='cuda:2', grad_fn=<DivBackward0>)\n",
      "tensor(0.9559, device='cuda:2', grad_fn=<MeanBackward0>) tensor(3.3908, device='cuda:2', grad_fn=<MeanBackward0>)\n",
      "tensor(0.3352, device='cuda:2', grad_fn=<AddBackward0>) tensor(0.2819, device='cuda:2', grad_fn=<DivBackward0>)\n"
     ]
    },
    {
     "name": "stderr",
     "output_type": "stream",
     "text": [
      "647it [01:00, 10.67it/s]"
     ]
    },
    {
     "name": "stdout",
     "output_type": "stream",
     "text": [
      "tensor(0.9247, device='cuda:2', grad_fn=<MeanBackward0>) tensor(3.3848, device='cuda:2', grad_fn=<MeanBackward0>)\n",
      "tensor(0.4104, device='cuda:2', grad_fn=<AddBackward0>) tensor(0.2732, device='cuda:2', grad_fn=<DivBackward0>)\n",
      "tensor(0.9111, device='cuda:2', grad_fn=<MeanBackward0>) tensor(3.3657, device='cuda:2', grad_fn=<MeanBackward0>)\n",
      "tensor(0.4142, device='cuda:2', grad_fn=<AddBackward0>) tensor(0.2707, device='cuda:2', grad_fn=<DivBackward0>)\n",
      "tensor(0.9265, device='cuda:2', grad_fn=<MeanBackward0>) tensor(3.3760, device='cuda:2', grad_fn=<MeanBackward0>)\n",
      "tensor(0.4160, device='cuda:2', grad_fn=<AddBackward0>) tensor(0.2744, device='cuda:2', grad_fn=<DivBackward0>)\n"
     ]
    },
    {
     "name": "stderr",
     "output_type": "stream",
     "text": [
      "649it [01:00, 10.65it/s]"
     ]
    },
    {
     "name": "stdout",
     "output_type": "stream",
     "text": [
      "tensor(0.9068, device='cuda:2', grad_fn=<MeanBackward0>) tensor(3.3702, device='cuda:2', grad_fn=<MeanBackward0>)\n",
      "tensor(0.4053, device='cuda:2', grad_fn=<AddBackward0>) tensor(0.2691, device='cuda:2', grad_fn=<DivBackward0>)\n",
      "tensor(0.9137, device='cuda:2', grad_fn=<MeanBackward0>) tensor(3.3690, device='cuda:2', grad_fn=<MeanBackward0>)\n",
      "tensor(0.4051, device='cuda:2', grad_fn=<AddBackward0>) tensor(0.2712, device='cuda:2', grad_fn=<DivBackward0>)\n",
      "tensor(0.9258, device='cuda:2', grad_fn=<MeanBackward0>) tensor(3.3726, device='cuda:2', grad_fn=<MeanBackward0>)\n",
      "tensor(0.4120, device='cuda:2', grad_fn=<AddBackward0>) tensor(0.2745, device='cuda:2', grad_fn=<DivBackward0>)\n"
     ]
    },
    {
     "name": "stderr",
     "output_type": "stream",
     "text": [
      "653it [01:00, 10.68it/s]"
     ]
    },
    {
     "name": "stdout",
     "output_type": "stream",
     "text": [
      "tensor(0.9206, device='cuda:2', grad_fn=<MeanBackward0>) tensor(3.3669, device='cuda:2', grad_fn=<MeanBackward0>)\n",
      "tensor(0.4117, device='cuda:2', grad_fn=<AddBackward0>) tensor(0.2734, device='cuda:2', grad_fn=<DivBackward0>)\n",
      "tensor(0.9202, device='cuda:2', grad_fn=<MeanBackward0>) tensor(3.3680, device='cuda:2', grad_fn=<MeanBackward0>)\n",
      "tensor(0.4110, device='cuda:2', grad_fn=<AddBackward0>) tensor(0.2732, device='cuda:2', grad_fn=<DivBackward0>)\n",
      "tensor(0.9879, device='cuda:2', grad_fn=<MeanBackward0>) tensor(3.4013, device='cuda:2', grad_fn=<MeanBackward0>)\n",
      "tensor(0.3664, device='cuda:2', grad_fn=<AddBackward0>) tensor(0.2904, device='cuda:2', grad_fn=<DivBackward0>)\n"
     ]
    },
    {
     "name": "stderr",
     "output_type": "stream",
     "text": [
      "655it [01:01, 10.66it/s]"
     ]
    },
    {
     "name": "stdout",
     "output_type": "stream",
     "text": [
      "tensor(0.9927, device='cuda:2', grad_fn=<MeanBackward0>) tensor(3.4171, device='cuda:2', grad_fn=<MeanBackward0>)\n",
      "tensor(0.3526, device='cuda:2', grad_fn=<AddBackward0>) tensor(0.2905, device='cuda:2', grad_fn=<DivBackward0>)\n",
      "tensor(0.9645, device='cuda:2', grad_fn=<MeanBackward0>) tensor(3.4021, device='cuda:2', grad_fn=<MeanBackward0>)\n",
      "tensor(0.3406, device='cuda:2', grad_fn=<AddBackward0>) tensor(0.2835, device='cuda:2', grad_fn=<DivBackward0>)\n",
      "tensor(0.9788, device='cuda:2', grad_fn=<MeanBackward0>) tensor(3.4220, device='cuda:2', grad_fn=<MeanBackward0>)\n",
      "tensor(0.3425, device='cuda:2', grad_fn=<AddBackward0>) tensor(0.2860, device='cuda:2', grad_fn=<DivBackward0>)\n"
     ]
    },
    {
     "name": "stderr",
     "output_type": "stream",
     "text": [
      "659it [01:01, 10.66it/s]"
     ]
    },
    {
     "name": "stdout",
     "output_type": "stream",
     "text": [
      "tensor(0.9475, device='cuda:2', grad_fn=<MeanBackward0>) tensor(3.3971, device='cuda:2', grad_fn=<MeanBackward0>)\n",
      "tensor(0.3232, device='cuda:2', grad_fn=<AddBackward0>) tensor(0.2789, device='cuda:2', grad_fn=<DivBackward0>)\n",
      "tensor(0.9739, device='cuda:2', grad_fn=<MeanBackward0>) tensor(3.4201, device='cuda:2', grad_fn=<MeanBackward0>)\n",
      "tensor(0.3207, device='cuda:2', grad_fn=<AddBackward0>) tensor(0.2847, device='cuda:2', grad_fn=<DivBackward0>)\n",
      "tensor(0.9639, device='cuda:2', grad_fn=<MeanBackward0>) tensor(3.4248, device='cuda:2', grad_fn=<MeanBackward0>)\n",
      "tensor(0.3159, device='cuda:2', grad_fn=<AddBackward0>) tensor(0.2815, device='cuda:2', grad_fn=<DivBackward0>)\n"
     ]
    },
    {
     "name": "stderr",
     "output_type": "stream",
     "text": [
      "661it [01:01, 10.73it/s]"
     ]
    },
    {
     "name": "stdout",
     "output_type": "stream",
     "text": [
      "tensor(0.9538, device='cuda:2', grad_fn=<MeanBackward0>) tensor(3.4028, device='cuda:2', grad_fn=<MeanBackward0>)\n",
      "tensor(0.3214, device='cuda:2', grad_fn=<AddBackward0>) tensor(0.2803, device='cuda:2', grad_fn=<DivBackward0>)\n",
      "tensor(0.9475, device='cuda:2', grad_fn=<MeanBackward0>) tensor(3.3968, device='cuda:2', grad_fn=<MeanBackward0>)\n",
      "tensor(0.2680, device='cuda:2', grad_fn=<AddBackward0>) tensor(0.2789, device='cuda:2', grad_fn=<DivBackward0>)\n",
      "tensor(0.9472, device='cuda:2', grad_fn=<MeanBackward0>) tensor(3.4002, device='cuda:2', grad_fn=<MeanBackward0>)\n",
      "tensor(0.2458, device='cuda:2', grad_fn=<AddBackward0>) tensor(0.2786, device='cuda:2', grad_fn=<DivBackward0>)\n"
     ]
    },
    {
     "name": "stderr",
     "output_type": "stream",
     "text": [
      "665it [01:02, 10.59it/s]"
     ]
    },
    {
     "name": "stdout",
     "output_type": "stream",
     "text": [
      "tensor(0.9305, device='cuda:2', grad_fn=<MeanBackward0>) tensor(3.3900, device='cuda:2', grad_fn=<MeanBackward0>)\n",
      "tensor(0.2472, device='cuda:2', grad_fn=<AddBackward0>) tensor(0.2745, device='cuda:2', grad_fn=<DivBackward0>)\n",
      "tensor(0.9463, device='cuda:2', grad_fn=<MeanBackward0>) tensor(3.3976, device='cuda:2', grad_fn=<MeanBackward0>)\n",
      "tensor(0.2456, device='cuda:2', grad_fn=<AddBackward0>) tensor(0.2785, device='cuda:2', grad_fn=<DivBackward0>)\n",
      "tensor(0.9064, device='cuda:2', grad_fn=<MeanBackward0>) tensor(3.3705, device='cuda:2', grad_fn=<MeanBackward0>)\n",
      "tensor(0.4290, device='cuda:2', grad_fn=<AddBackward0>) tensor(0.2689, device='cuda:2', grad_fn=<DivBackward0>)\n"
     ]
    },
    {
     "name": "stderr",
     "output_type": "stream",
     "text": [
      "667it [01:02, 10.66it/s]"
     ]
    },
    {
     "name": "stdout",
     "output_type": "stream",
     "text": [
      "tensor(0.9109, device='cuda:2', grad_fn=<MeanBackward0>) tensor(3.3735, device='cuda:2', grad_fn=<MeanBackward0>)\n",
      "tensor(0.4259, device='cuda:2', grad_fn=<AddBackward0>) tensor(0.2700, device='cuda:2', grad_fn=<DivBackward0>)\n",
      "tensor(0.9021, device='cuda:2', grad_fn=<MeanBackward0>) tensor(3.3684, device='cuda:2', grad_fn=<MeanBackward0>)\n",
      "tensor(0.4060, device='cuda:2', grad_fn=<AddBackward0>) tensor(0.2678, device='cuda:2', grad_fn=<DivBackward0>)\n",
      "tensor(0.9316, device='cuda:2', grad_fn=<MeanBackward0>) tensor(3.3835, device='cuda:2', grad_fn=<MeanBackward0>)\n",
      "tensor(0.4068, device='cuda:2', grad_fn=<AddBackward0>) tensor(0.2753, device='cuda:2', grad_fn=<DivBackward0>)\n"
     ]
    },
    {
     "name": "stderr",
     "output_type": "stream",
     "text": [
      "671it [01:02, 10.67it/s]"
     ]
    },
    {
     "name": "stdout",
     "output_type": "stream",
     "text": [
      "tensor(0.9463, device='cuda:2', grad_fn=<MeanBackward0>) tensor(3.3937, device='cuda:2', grad_fn=<MeanBackward0>)\n",
      "tensor(0.4509, device='cuda:2', grad_fn=<AddBackward0>) tensor(0.2788, device='cuda:2', grad_fn=<DivBackward0>)\n",
      "tensor(0.9265, device='cuda:2', grad_fn=<MeanBackward0>) tensor(3.3907, device='cuda:2', grad_fn=<MeanBackward0>)\n",
      "tensor(0.4028, device='cuda:2', grad_fn=<AddBackward0>) tensor(0.2732, device='cuda:2', grad_fn=<DivBackward0>)\n"
     ]
    },
    {
     "name": "stderr",
     "output_type": "stream",
     "text": [
      "673it [01:02, 10.25it/s]"
     ]
    },
    {
     "name": "stdout",
     "output_type": "stream",
     "text": [
      "tensor(0.9593, device='cuda:2', grad_fn=<MeanBackward0>) tensor(3.4023, device='cuda:2', grad_fn=<MeanBackward0>)\n",
      "tensor(0.3977, device='cuda:2', grad_fn=<AddBackward0>) tensor(0.2819, device='cuda:2', grad_fn=<DivBackward0>)\n",
      "tensor(0.9465, device='cuda:2', grad_fn=<MeanBackward0>) tensor(3.3895, device='cuda:2', grad_fn=<MeanBackward0>)\n",
      "tensor(0.3930, device='cuda:2', grad_fn=<AddBackward0>) tensor(0.2792, device='cuda:2', grad_fn=<DivBackward0>)\n",
      "tensor(0.9563, device='cuda:2', grad_fn=<MeanBackward0>) tensor(3.3842, device='cuda:2', grad_fn=<MeanBackward0>)\n",
      "tensor(0.3586, device='cuda:2', grad_fn=<AddBackward0>) tensor(0.2826, device='cuda:2', grad_fn=<DivBackward0>)\n"
     ]
    },
    {
     "name": "stderr",
     "output_type": "stream",
     "text": [
      "675it [01:03, 10.38it/s]"
     ]
    },
    {
     "name": "stdout",
     "output_type": "stream",
     "text": [
      "tensor(0.9354, device='cuda:2', grad_fn=<MeanBackward0>) tensor(3.3695, device='cuda:2', grad_fn=<MeanBackward0>)\n",
      "tensor(0.3406, device='cuda:2', grad_fn=<AddBackward0>) tensor(0.2776, device='cuda:2', grad_fn=<DivBackward0>)\n",
      "tensor(0.9196, device='cuda:2', grad_fn=<MeanBackward0>) tensor(3.3634, device='cuda:2', grad_fn=<MeanBackward0>)\n",
      "tensor(0.3344, device='cuda:2', grad_fn=<AddBackward0>) tensor(0.2734, device='cuda:2', grad_fn=<DivBackward0>)\n",
      "tensor(0.9372, device='cuda:2', grad_fn=<MeanBackward0>) tensor(3.3769, device='cuda:2', grad_fn=<MeanBackward0>)\n",
      "tensor(0.3705, device='cuda:2', grad_fn=<AddBackward0>) tensor(0.2775, device='cuda:2', grad_fn=<DivBackward0>)\n"
     ]
    },
    {
     "name": "stderr",
     "output_type": "stream",
     "text": [
      "679it [01:03, 10.49it/s]"
     ]
    },
    {
     "name": "stdout",
     "output_type": "stream",
     "text": [
      "tensor(0.8988, device='cuda:2', grad_fn=<MeanBackward0>) tensor(3.3601, device='cuda:2', grad_fn=<MeanBackward0>)\n",
      "tensor(0.3708, device='cuda:2', grad_fn=<AddBackward0>) tensor(0.2675, device='cuda:2', grad_fn=<DivBackward0>)\n",
      "tensor(0.9090, device='cuda:2', grad_fn=<MeanBackward0>) tensor(3.3677, device='cuda:2', grad_fn=<MeanBackward0>)\n",
      "tensor(0.3655, device='cuda:2', grad_fn=<AddBackward0>) tensor(0.2699, device='cuda:2', grad_fn=<DivBackward0>)\n",
      "tensor(0.8978, device='cuda:2', grad_fn=<MeanBackward0>) tensor(3.3633, device='cuda:2', grad_fn=<MeanBackward0>)\n",
      "tensor(0.3631, device='cuda:2', grad_fn=<AddBackward0>) tensor(0.2669, device='cuda:2', grad_fn=<DivBackward0>)\n"
     ]
    },
    {
     "name": "stderr",
     "output_type": "stream",
     "text": [
      "681it [01:03, 10.58it/s]"
     ]
    },
    {
     "name": "stdout",
     "output_type": "stream",
     "text": [
      "tensor(0.8931, device='cuda:2', grad_fn=<MeanBackward0>) tensor(3.3694, device='cuda:2', grad_fn=<MeanBackward0>)\n",
      "tensor(0.3612, device='cuda:2', grad_fn=<AddBackward0>) tensor(0.2651, device='cuda:2', grad_fn=<DivBackward0>)\n",
      "tensor(0.9307, device='cuda:2', grad_fn=<MeanBackward0>) tensor(3.3879, device='cuda:2', grad_fn=<MeanBackward0>)\n",
      "tensor(0.3513, device='cuda:2', grad_fn=<AddBackward0>) tensor(0.2747, device='cuda:2', grad_fn=<DivBackward0>)\n",
      "tensor(0.9029, device='cuda:2', grad_fn=<MeanBackward0>) tensor(3.3722, device='cuda:2', grad_fn=<MeanBackward0>)\n",
      "tensor(0.3344, device='cuda:2', grad_fn=<AddBackward0>) tensor(0.2678, device='cuda:2', grad_fn=<DivBackward0>)\n"
     ]
    },
    {
     "name": "stderr",
     "output_type": "stream",
     "text": [
      "685it [01:03, 10.61it/s]"
     ]
    },
    {
     "name": "stdout",
     "output_type": "stream",
     "text": [
      "tensor(0.9151, device='cuda:2', grad_fn=<MeanBackward0>) tensor(3.3869, device='cuda:2', grad_fn=<MeanBackward0>)\n",
      "tensor(0.3195, device='cuda:2', grad_fn=<AddBackward0>) tensor(0.2702, device='cuda:2', grad_fn=<DivBackward0>)\n",
      "tensor(0.9147, device='cuda:2', grad_fn=<MeanBackward0>) tensor(3.3847, device='cuda:2', grad_fn=<MeanBackward0>)\n",
      "tensor(0.3025, device='cuda:2', grad_fn=<AddBackward0>) tensor(0.2703, device='cuda:2', grad_fn=<DivBackward0>)\n",
      "tensor(0.9403, device='cuda:2', grad_fn=<MeanBackward0>) tensor(3.3957, device='cuda:2', grad_fn=<MeanBackward0>)\n",
      "tensor(0.4076, device='cuda:2', grad_fn=<AddBackward0>) tensor(0.2769, device='cuda:2', grad_fn=<DivBackward0>)\n"
     ]
    },
    {
     "name": "stderr",
     "output_type": "stream",
     "text": [
      "687it [01:04, 10.63it/s]"
     ]
    },
    {
     "name": "stdout",
     "output_type": "stream",
     "text": [
      "tensor(0.9313, device='cuda:2', grad_fn=<MeanBackward0>) tensor(3.3825, device='cuda:2', grad_fn=<MeanBackward0>)\n",
      "tensor(0.3500, device='cuda:2', grad_fn=<AddBackward0>) tensor(0.2753, device='cuda:2', grad_fn=<DivBackward0>)\n",
      "tensor(0.9375, device='cuda:2', grad_fn=<MeanBackward0>) tensor(3.3932, device='cuda:2', grad_fn=<MeanBackward0>)\n",
      "tensor(0.3521, device='cuda:2', grad_fn=<AddBackward0>) tensor(0.2763, device='cuda:2', grad_fn=<DivBackward0>)\n",
      "tensor(0.9499, device='cuda:2', grad_fn=<MeanBackward0>) tensor(3.3916, device='cuda:2', grad_fn=<MeanBackward0>)\n",
      "tensor(0.3294, device='cuda:2', grad_fn=<AddBackward0>) tensor(0.2801, device='cuda:2', grad_fn=<DivBackward0>)\n"
     ]
    },
    {
     "name": "stderr",
     "output_type": "stream",
     "text": [
      "691it [01:04, 10.64it/s]"
     ]
    },
    {
     "name": "stdout",
     "output_type": "stream",
     "text": [
      "tensor(0.9865, device='cuda:2', grad_fn=<MeanBackward0>) tensor(3.3958, device='cuda:2', grad_fn=<MeanBackward0>)\n",
      "tensor(0.3994, device='cuda:2', grad_fn=<AddBackward0>) tensor(0.2905, device='cuda:2', grad_fn=<DivBackward0>)\n",
      "tensor(0.9996, device='cuda:2', grad_fn=<MeanBackward0>) tensor(3.3928, device='cuda:2', grad_fn=<MeanBackward0>)\n",
      "tensor(0.3674, device='cuda:2', grad_fn=<AddBackward0>) tensor(0.2946, device='cuda:2', grad_fn=<DivBackward0>)\n",
      "tensor(0.9992, device='cuda:2', grad_fn=<MeanBackward0>) tensor(3.3958, device='cuda:2', grad_fn=<MeanBackward0>)\n",
      "tensor(0.3631, device='cuda:2', grad_fn=<AddBackward0>) tensor(0.2942, device='cuda:2', grad_fn=<DivBackward0>)\n"
     ]
    },
    {
     "name": "stderr",
     "output_type": "stream",
     "text": [
      "693it [01:04, 10.59it/s]"
     ]
    },
    {
     "name": "stdout",
     "output_type": "stream",
     "text": [
      "tensor(0.9888, device='cuda:2', grad_fn=<MeanBackward0>) tensor(3.3805, device='cuda:2', grad_fn=<MeanBackward0>)\n",
      "tensor(0.3579, device='cuda:2', grad_fn=<AddBackward0>) tensor(0.2925, device='cuda:2', grad_fn=<DivBackward0>)\n",
      "tensor(0.9420, device='cuda:2', grad_fn=<MeanBackward0>) tensor(3.3778, device='cuda:2', grad_fn=<MeanBackward0>)\n",
      "tensor(0.3605, device='cuda:2', grad_fn=<AddBackward0>) tensor(0.2789, device='cuda:2', grad_fn=<DivBackward0>)\n",
      "tensor(0.9356, device='cuda:2', grad_fn=<MeanBackward0>) tensor(3.3651, device='cuda:2', grad_fn=<MeanBackward0>)\n",
      "tensor(0.3740, device='cuda:2', grad_fn=<AddBackward0>) tensor(0.2780, device='cuda:2', grad_fn=<DivBackward0>)\n"
     ]
    },
    {
     "name": "stderr",
     "output_type": "stream",
     "text": [
      "697it [01:05, 10.66it/s]"
     ]
    },
    {
     "name": "stdout",
     "output_type": "stream",
     "text": [
      "tensor(0.9753, device='cuda:2', grad_fn=<MeanBackward0>) tensor(3.3856, device='cuda:2', grad_fn=<MeanBackward0>)\n",
      "tensor(0.3608, device='cuda:2', grad_fn=<AddBackward0>) tensor(0.2881, device='cuda:2', grad_fn=<DivBackward0>)\n",
      "tensor(0.9463, device='cuda:2', grad_fn=<MeanBackward0>) tensor(3.3815, device='cuda:2', grad_fn=<MeanBackward0>)\n",
      "tensor(0.3545, device='cuda:2', grad_fn=<AddBackward0>) tensor(0.2798, device='cuda:2', grad_fn=<DivBackward0>)\n",
      "tensor(0.9613, device='cuda:2', grad_fn=<MeanBackward0>) tensor(3.3871, device='cuda:2', grad_fn=<MeanBackward0>)\n",
      "tensor(0.4187, device='cuda:2', grad_fn=<AddBackward0>) tensor(0.2838, device='cuda:2', grad_fn=<DivBackward0>)\n"
     ]
    },
    {
     "name": "stderr",
     "output_type": "stream",
     "text": [
      "699it [01:05, 10.65it/s]"
     ]
    },
    {
     "name": "stdout",
     "output_type": "stream",
     "text": [
      "tensor(0.9916, device='cuda:2', grad_fn=<MeanBackward0>) tensor(3.3987, device='cuda:2', grad_fn=<MeanBackward0>)\n",
      "tensor(0.4059, device='cuda:2', grad_fn=<AddBackward0>) tensor(0.2918, device='cuda:2', grad_fn=<DivBackward0>)\n",
      "tensor(0.9631, device='cuda:2', grad_fn=<MeanBackward0>) tensor(3.4025, device='cuda:2', grad_fn=<MeanBackward0>)\n",
      "tensor(0.4028, device='cuda:2', grad_fn=<AddBackward0>) tensor(0.2831, device='cuda:2', grad_fn=<DivBackward0>)\n",
      "tensor(0.9404, device='cuda:2', grad_fn=<MeanBackward0>) tensor(3.3841, device='cuda:2', grad_fn=<MeanBackward0>)\n",
      "tensor(0.3932, device='cuda:2', grad_fn=<AddBackward0>) tensor(0.2779, device='cuda:2', grad_fn=<DivBackward0>)\n"
     ]
    },
    {
     "name": "stderr",
     "output_type": "stream",
     "text": [
      "703it [01:05, 10.68it/s]"
     ]
    },
    {
     "name": "stdout",
     "output_type": "stream",
     "text": [
      "tensor(0.9467, device='cuda:2', grad_fn=<MeanBackward0>) tensor(3.4079, device='cuda:2', grad_fn=<MeanBackward0>)\n",
      "tensor(0.3757, device='cuda:2', grad_fn=<AddBackward0>) tensor(0.2778, device='cuda:2', grad_fn=<DivBackward0>)\n",
      "tensor(0.9353, device='cuda:2', grad_fn=<MeanBackward0>) tensor(3.4113, device='cuda:2', grad_fn=<MeanBackward0>)\n",
      "tensor(0.3628, device='cuda:2', grad_fn=<AddBackward0>) tensor(0.2742, device='cuda:2', grad_fn=<DivBackward0>)\n",
      "tensor(0.9402, device='cuda:2', grad_fn=<MeanBackward0>) tensor(3.4110, device='cuda:2', grad_fn=<MeanBackward0>)\n",
      "tensor(0.3261, device='cuda:2', grad_fn=<AddBackward0>) tensor(0.2756, device='cuda:2', grad_fn=<DivBackward0>)\n"
     ]
    },
    {
     "name": "stderr",
     "output_type": "stream",
     "text": [
      "705it [01:05, 10.69it/s]"
     ]
    },
    {
     "name": "stdout",
     "output_type": "stream",
     "text": [
      "tensor(0.9457, device='cuda:2', grad_fn=<MeanBackward0>) tensor(3.4148, device='cuda:2', grad_fn=<MeanBackward0>)\n",
      "tensor(0.3383, device='cuda:2', grad_fn=<AddBackward0>) tensor(0.2769, device='cuda:2', grad_fn=<DivBackward0>)\n",
      "tensor(0.9468, device='cuda:2', grad_fn=<MeanBackward0>) tensor(3.3889, device='cuda:2', grad_fn=<MeanBackward0>)\n",
      "tensor(0.3955, device='cuda:2', grad_fn=<AddBackward0>) tensor(0.2794, device='cuda:2', grad_fn=<DivBackward0>)\n",
      "tensor(0.9517, device='cuda:2', grad_fn=<MeanBackward0>) tensor(3.3901, device='cuda:2', grad_fn=<MeanBackward0>)\n",
      "tensor(0.3807, device='cuda:2', grad_fn=<AddBackward0>) tensor(0.2807, device='cuda:2', grad_fn=<DivBackward0>)\n"
     ]
    },
    {
     "name": "stderr",
     "output_type": "stream",
     "text": [
      "709it [01:06, 10.50it/s]"
     ]
    },
    {
     "name": "stdout",
     "output_type": "stream",
     "text": [
      "tensor(0.9419, device='cuda:2', grad_fn=<MeanBackward0>) tensor(3.3923, device='cuda:2', grad_fn=<MeanBackward0>)\n",
      "tensor(0.3809, device='cuda:2', grad_fn=<AddBackward0>) tensor(0.2777, device='cuda:2', grad_fn=<DivBackward0>)\n",
      "tensor(0.9406, device='cuda:2', grad_fn=<MeanBackward0>) tensor(3.3807, device='cuda:2', grad_fn=<MeanBackward0>)\n",
      "tensor(0.3735, device='cuda:2', grad_fn=<AddBackward0>) tensor(0.2782, device='cuda:2', grad_fn=<DivBackward0>)\n",
      "tensor(0.9767, device='cuda:2', grad_fn=<MeanBackward0>) tensor(3.4105, device='cuda:2', grad_fn=<MeanBackward0>)\n"
     ]
    },
    {
     "name": "stderr",
     "output_type": "stream",
     "text": [
      "711it [01:06, 10.48it/s]"
     ]
    },
    {
     "name": "stdout",
     "output_type": "stream",
     "text": [
      "tensor(0.3537, device='cuda:2', grad_fn=<AddBackward0>) tensor(0.2864, device='cuda:2', grad_fn=<DivBackward0>)\n",
      "tensor(0.9781, device='cuda:2', grad_fn=<MeanBackward0>) tensor(3.4082, device='cuda:2', grad_fn=<MeanBackward0>)\n",
      "tensor(0.3472, device='cuda:2', grad_fn=<AddBackward0>) tensor(0.2870, device='cuda:2', grad_fn=<DivBackward0>)\n",
      "tensor(0.9862, device='cuda:2', grad_fn=<MeanBackward0>) tensor(3.4141, device='cuda:2', grad_fn=<MeanBackward0>)\n",
      "tensor(0.3527, device='cuda:2', grad_fn=<AddBackward0>) tensor(0.2888, device='cuda:2', grad_fn=<DivBackward0>)\n"
     ]
    },
    {
     "name": "stderr",
     "output_type": "stream",
     "text": [
      "713it [01:06, 10.53it/s]"
     ]
    },
    {
     "name": "stdout",
     "output_type": "stream",
     "text": [
      "tensor(1.0040, device='cuda:2', grad_fn=<MeanBackward0>) tensor(3.4281, device='cuda:2', grad_fn=<MeanBackward0>)\n",
      "tensor(0.3508, device='cuda:2', grad_fn=<AddBackward0>) tensor(0.2929, device='cuda:2', grad_fn=<DivBackward0>)\n",
      "tensor(1.0236, device='cuda:2', grad_fn=<MeanBackward0>) tensor(3.4377, device='cuda:2', grad_fn=<MeanBackward0>)\n",
      "tensor(0.2989, device='cuda:2', grad_fn=<AddBackward0>) tensor(0.2978, device='cuda:2', grad_fn=<DivBackward0>)\n",
      "tensor(1.0073, device='cuda:2', grad_fn=<MeanBackward0>) tensor(3.4227, device='cuda:2', grad_fn=<MeanBackward0>)\n",
      "tensor(0.2845, device='cuda:2', grad_fn=<AddBackward0>) tensor(0.2943, device='cuda:2', grad_fn=<DivBackward0>)\n"
     ]
    },
    {
     "name": "stderr",
     "output_type": "stream",
     "text": [
      "717it [01:06, 10.62it/s]"
     ]
    },
    {
     "name": "stdout",
     "output_type": "stream",
     "text": [
      "tensor(1.0257, device='cuda:2', grad_fn=<MeanBackward0>) tensor(3.4345, device='cuda:2', grad_fn=<MeanBackward0>)\n",
      "tensor(0.2794, device='cuda:2', grad_fn=<AddBackward0>) tensor(0.2986, device='cuda:2', grad_fn=<DivBackward0>)\n",
      "tensor(1.0089, device='cuda:2', grad_fn=<MeanBackward0>) tensor(3.4263, device='cuda:2', grad_fn=<MeanBackward0>)\n",
      "tensor(0.2784, device='cuda:2', grad_fn=<AddBackward0>) tensor(0.2945, device='cuda:2', grad_fn=<DivBackward0>)\n",
      "tensor(0.9136, device='cuda:2', grad_fn=<MeanBackward0>) tensor(3.3540, device='cuda:2', grad_fn=<MeanBackward0>)\n",
      "tensor(0.3487, device='cuda:2', grad_fn=<AddBackward0>) tensor(0.2724, device='cuda:2', grad_fn=<DivBackward0>)\n"
     ]
    },
    {
     "name": "stderr",
     "output_type": "stream",
     "text": [
      "719it [01:07, 10.62it/s]"
     ]
    },
    {
     "name": "stdout",
     "output_type": "stream",
     "text": [
      "tensor(0.9157, device='cuda:2', grad_fn=<MeanBackward0>) tensor(3.3530, device='cuda:2', grad_fn=<MeanBackward0>)\n",
      "tensor(0.3457, device='cuda:2', grad_fn=<AddBackward0>) tensor(0.2731, device='cuda:2', grad_fn=<DivBackward0>)\n",
      "tensor(0.9115, device='cuda:2', grad_fn=<MeanBackward0>) tensor(3.3445, device='cuda:2', grad_fn=<MeanBackward0>)\n",
      "tensor(0.3358, device='cuda:2', grad_fn=<AddBackward0>) tensor(0.2725, device='cuda:2', grad_fn=<DivBackward0>)\n",
      "tensor(0.8991, device='cuda:2', grad_fn=<MeanBackward0>) tensor(3.3408, device='cuda:2', grad_fn=<MeanBackward0>)\n",
      "tensor(0.3479, device='cuda:2', grad_fn=<AddBackward0>) tensor(0.2691, device='cuda:2', grad_fn=<DivBackward0>)\n"
     ]
    },
    {
     "name": "stderr",
     "output_type": "stream",
     "text": [
      "723it [01:07, 10.46it/s]"
     ]
    },
    {
     "name": "stdout",
     "output_type": "stream",
     "text": [
      "tensor(0.9102, device='cuda:2', grad_fn=<MeanBackward0>) tensor(3.3504, device='cuda:2', grad_fn=<MeanBackward0>)\n",
      "tensor(0.3853, device='cuda:2', grad_fn=<AddBackward0>) tensor(0.2717, device='cuda:2', grad_fn=<DivBackward0>)\n",
      "tensor(0.9082, device='cuda:2', grad_fn=<MeanBackward0>) tensor(3.3577, device='cuda:2', grad_fn=<MeanBackward0>)\n",
      "tensor(0.3485, device='cuda:2', grad_fn=<AddBackward0>) tensor(0.2705, device='cuda:2', grad_fn=<DivBackward0>)\n",
      "tensor(0.9196, device='cuda:2', grad_fn=<MeanBackward0>) tensor(3.3729, device='cuda:2', grad_fn=<MeanBackward0>)\n",
      "tensor(0.3351, device='cuda:2', grad_fn=<AddBackward0>) tensor(0.2726, device='cuda:2', grad_fn=<DivBackward0>)\n"
     ]
    },
    {
     "name": "stderr",
     "output_type": "stream",
     "text": [
      "725it [01:07, 10.34it/s]"
     ]
    },
    {
     "name": "stdout",
     "output_type": "stream",
     "text": [
      "tensor(0.9296, device='cuda:2', grad_fn=<MeanBackward0>) tensor(3.3810, device='cuda:2', grad_fn=<MeanBackward0>)\n",
      "tensor(0.3535, device='cuda:2', grad_fn=<AddBackward0>) tensor(0.2749, device='cuda:2', grad_fn=<DivBackward0>)\n",
      "tensor(1.0094, device='cuda:2', grad_fn=<MeanBackward0>) tensor(3.4225, device='cuda:2', grad_fn=<MeanBackward0>)\n",
      "tensor(0.2883, device='cuda:2', grad_fn=<AddBackward0>) tensor(0.2949, device='cuda:2', grad_fn=<DivBackward0>)\n",
      "tensor(0.9959, device='cuda:2', grad_fn=<MeanBackward0>) tensor(3.4182, device='cuda:2', grad_fn=<MeanBackward0>)\n",
      "tensor(0.2803, device='cuda:2', grad_fn=<AddBackward0>) tensor(0.2914, device='cuda:2', grad_fn=<DivBackward0>)\n"
     ]
    },
    {
     "name": "stderr",
     "output_type": "stream",
     "text": [
      "729it [01:08, 10.41it/s]"
     ]
    },
    {
     "name": "stdout",
     "output_type": "stream",
     "text": [
      "tensor(0.9756, device='cuda:2', grad_fn=<MeanBackward0>) tensor(3.4109, device='cuda:2', grad_fn=<MeanBackward0>)\n",
      "tensor(0.2729, device='cuda:2', grad_fn=<AddBackward0>) tensor(0.2860, device='cuda:2', grad_fn=<DivBackward0>)\n",
      "tensor(0.9949, device='cuda:2', grad_fn=<MeanBackward0>) tensor(3.4101, device='cuda:2', grad_fn=<MeanBackward0>)\n",
      "tensor(0.2935, device='cuda:2', grad_fn=<AddBackward0>) tensor(0.2918, device='cuda:2', grad_fn=<DivBackward0>)\n",
      "tensor(0.9025, device='cuda:2', grad_fn=<MeanBackward0>) tensor(3.3693, device='cuda:2', grad_fn=<MeanBackward0>)\n",
      "tensor(0.4663, device='cuda:2', grad_fn=<AddBackward0>) tensor(0.2679, device='cuda:2', grad_fn=<DivBackward0>)\n"
     ]
    },
    {
     "name": "stderr",
     "output_type": "stream",
     "text": [
      "731it [01:08, 10.16it/s]"
     ]
    },
    {
     "name": "stdout",
     "output_type": "stream",
     "text": [
      "tensor(0.8938, device='cuda:2', grad_fn=<MeanBackward0>) tensor(3.3574, device='cuda:2', grad_fn=<MeanBackward0>)\n",
      "tensor(0.4590, device='cuda:2', grad_fn=<AddBackward0>) tensor(0.2662, device='cuda:2', grad_fn=<DivBackward0>)\n",
      "tensor(0.8853, device='cuda:2', grad_fn=<MeanBackward0>) tensor(3.3572, device='cuda:2', grad_fn=<MeanBackward0>)\n",
      "tensor(0.4682, device='cuda:2', grad_fn=<AddBackward0>) tensor(0.2637, device='cuda:2', grad_fn=<DivBackward0>)\n",
      "tensor(0.8874, device='cuda:2', grad_fn=<MeanBackward0>) tensor(3.3515, device='cuda:2', grad_fn=<MeanBackward0>)\n",
      "tensor(0.4620, device='cuda:2', grad_fn=<AddBackward0>) tensor(0.2648, device='cuda:2', grad_fn=<DivBackward0>)\n"
     ]
    },
    {
     "name": "stderr",
     "output_type": "stream",
     "text": [
      "735it [01:08, 10.40it/s]"
     ]
    },
    {
     "name": "stdout",
     "output_type": "stream",
     "text": [
      "tensor(0.9040, device='cuda:2', grad_fn=<MeanBackward0>) tensor(3.3682, device='cuda:2', grad_fn=<MeanBackward0>)\n",
      "tensor(0.3328, device='cuda:2', grad_fn=<AddBackward0>) tensor(0.2684, device='cuda:2', grad_fn=<DivBackward0>)\n",
      "tensor(0.9104, device='cuda:2', grad_fn=<MeanBackward0>) tensor(3.3669, device='cuda:2', grad_fn=<MeanBackward0>)\n",
      "tensor(0.3465, device='cuda:2', grad_fn=<AddBackward0>) tensor(0.2704, device='cuda:2', grad_fn=<DivBackward0>)\n",
      "tensor(0.9180, device='cuda:2', grad_fn=<MeanBackward0>) tensor(3.3764, device='cuda:2', grad_fn=<MeanBackward0>)\n",
      "tensor(0.3418, device='cuda:2', grad_fn=<AddBackward0>) tensor(0.2719, device='cuda:2', grad_fn=<DivBackward0>)\n"
     ]
    },
    {
     "name": "stderr",
     "output_type": "stream",
     "text": [
      "737it [01:08, 10.47it/s]"
     ]
    },
    {
     "name": "stdout",
     "output_type": "stream",
     "text": [
      "tensor(0.9008, device='cuda:2', grad_fn=<MeanBackward0>) tensor(3.3633, device='cuda:2', grad_fn=<MeanBackward0>)\n",
      "tensor(0.3277, device='cuda:2', grad_fn=<AddBackward0>) tensor(0.2678, device='cuda:2', grad_fn=<DivBackward0>)\n",
      "tensor(0.9217, device='cuda:2', grad_fn=<MeanBackward0>) tensor(3.3765, device='cuda:2', grad_fn=<MeanBackward0>)\n",
      "tensor(0.2621, device='cuda:2', grad_fn=<AddBackward0>) tensor(0.2730, device='cuda:2', grad_fn=<DivBackward0>)\n",
      "tensor(0.8891, device='cuda:2', grad_fn=<MeanBackward0>) tensor(3.3580, device='cuda:2', grad_fn=<MeanBackward0>)\n",
      "tensor(0.2650, device='cuda:2', grad_fn=<AddBackward0>) tensor(0.2648, device='cuda:2', grad_fn=<DivBackward0>)\n"
     ]
    },
    {
     "name": "stderr",
     "output_type": "stream",
     "text": [
      "741it [01:09, 10.53it/s]"
     ]
    },
    {
     "name": "stdout",
     "output_type": "stream",
     "text": [
      "tensor(0.9045, device='cuda:2', grad_fn=<MeanBackward0>) tensor(3.3651, device='cuda:2', grad_fn=<MeanBackward0>)\n",
      "tensor(0.2631, device='cuda:2', grad_fn=<AddBackward0>) tensor(0.2688, device='cuda:2', grad_fn=<DivBackward0>)\n",
      "tensor(0.9059, device='cuda:2', grad_fn=<MeanBackward0>) tensor(3.3652, device='cuda:2', grad_fn=<MeanBackward0>)\n",
      "tensor(0.2888, device='cuda:2', grad_fn=<AddBackward0>) tensor(0.2692, device='cuda:2', grad_fn=<DivBackward0>)\n",
      "tensor(0.8959, device='cuda:2', grad_fn=<MeanBackward0>) tensor(3.3675, device='cuda:2', grad_fn=<MeanBackward0>)\n",
      "tensor(0.3175, device='cuda:2', grad_fn=<AddBackward0>) tensor(0.2660, device='cuda:2', grad_fn=<DivBackward0>)\n"
     ]
    },
    {
     "name": "stderr",
     "output_type": "stream",
     "text": [
      "743it [01:09, 10.55it/s]"
     ]
    },
    {
     "name": "stdout",
     "output_type": "stream",
     "text": [
      "tensor(0.9138, device='cuda:2', grad_fn=<MeanBackward0>) tensor(3.3699, device='cuda:2', grad_fn=<MeanBackward0>)\n",
      "tensor(0.3173, device='cuda:2', grad_fn=<AddBackward0>) tensor(0.2712, device='cuda:2', grad_fn=<DivBackward0>)\n",
      "tensor(0.9052, device='cuda:2', grad_fn=<MeanBackward0>) tensor(3.3660, device='cuda:2', grad_fn=<MeanBackward0>)\n",
      "tensor(0.3095, device='cuda:2', grad_fn=<AddBackward0>) tensor(0.2689, device='cuda:2', grad_fn=<DivBackward0>)\n",
      "tensor(0.9023, device='cuda:2', grad_fn=<MeanBackward0>) tensor(3.3660, device='cuda:2', grad_fn=<MeanBackward0>)\n",
      "tensor(0.3085, device='cuda:2', grad_fn=<AddBackward0>) tensor(0.2681, device='cuda:2', grad_fn=<DivBackward0>)\n"
     ]
    },
    {
     "name": "stderr",
     "output_type": "stream",
     "text": [
      "747it [01:09, 10.62it/s]"
     ]
    },
    {
     "name": "stdout",
     "output_type": "stream",
     "text": [
      "tensor(0.9556, device='cuda:2', grad_fn=<MeanBackward0>) tensor(3.3989, device='cuda:2', grad_fn=<MeanBackward0>)\n",
      "tensor(0.3300, device='cuda:2', grad_fn=<AddBackward0>) tensor(0.2811, device='cuda:2', grad_fn=<DivBackward0>)\n",
      "tensor(0.9487, device='cuda:2', grad_fn=<MeanBackward0>) tensor(3.3916, device='cuda:2', grad_fn=<MeanBackward0>)\n",
      "tensor(0.3250, device='cuda:2', grad_fn=<AddBackward0>) tensor(0.2797, device='cuda:2', grad_fn=<DivBackward0>)\n",
      "tensor(0.9611, device='cuda:2', grad_fn=<MeanBackward0>) tensor(3.3986, device='cuda:2', grad_fn=<MeanBackward0>)\n",
      "tensor(0.3259, device='cuda:2', grad_fn=<AddBackward0>) tensor(0.2828, device='cuda:2', grad_fn=<DivBackward0>)\n"
     ]
    },
    {
     "name": "stderr",
     "output_type": "stream",
     "text": [
      "749it [01:10, 10.73it/s]"
     ]
    },
    {
     "name": "stdout",
     "output_type": "stream",
     "text": [
      "tensor(0.9336, device='cuda:2', grad_fn=<MeanBackward0>) tensor(3.3849, device='cuda:2', grad_fn=<MeanBackward0>)\n",
      "tensor(0.3214, device='cuda:2', grad_fn=<AddBackward0>) tensor(0.2758, device='cuda:2', grad_fn=<DivBackward0>)\n",
      "tensor(0.9176, device='cuda:2', grad_fn=<MeanBackward0>) tensor(3.3674, device='cuda:2', grad_fn=<MeanBackward0>)\n",
      "tensor(0.2823, device='cuda:2', grad_fn=<AddBackward0>) tensor(0.2725, device='cuda:2', grad_fn=<DivBackward0>)\n",
      "tensor(0.9148, device='cuda:2', grad_fn=<MeanBackward0>) tensor(3.3696, device='cuda:2', grad_fn=<MeanBackward0>)\n",
      "tensor(0.2877, device='cuda:2', grad_fn=<AddBackward0>) tensor(0.2715, device='cuda:2', grad_fn=<DivBackward0>)\n"
     ]
    },
    {
     "name": "stderr",
     "output_type": "stream",
     "text": [
      "753it [01:10, 10.50it/s]"
     ]
    },
    {
     "name": "stdout",
     "output_type": "stream",
     "text": [
      "tensor(0.9238, device='cuda:2', grad_fn=<MeanBackward0>) tensor(3.3660, device='cuda:2', grad_fn=<MeanBackward0>)\n",
      "tensor(0.2820, device='cuda:2', grad_fn=<AddBackward0>) tensor(0.2745, device='cuda:2', grad_fn=<DivBackward0>)\n",
      "tensor(0.9359, device='cuda:2', grad_fn=<MeanBackward0>) tensor(3.3856, device='cuda:2', grad_fn=<MeanBackward0>)\n",
      "tensor(0.2859, device='cuda:2', grad_fn=<AddBackward0>) tensor(0.2764, device='cuda:2', grad_fn=<DivBackward0>)\n",
      "tensor(0.8818, device='cuda:2', grad_fn=<MeanBackward0>) tensor(3.3454, device='cuda:2', grad_fn=<MeanBackward0>)\n",
      "tensor(0.3397, device='cuda:2', grad_fn=<AddBackward0>) tensor(0.2636, device='cuda:2', grad_fn=<DivBackward0>)\n"
     ]
    },
    {
     "name": "stderr",
     "output_type": "stream",
     "text": [
      "755it [01:10, 10.50it/s]"
     ]
    },
    {
     "name": "stdout",
     "output_type": "stream",
     "text": [
      "tensor(0.8690, device='cuda:2', grad_fn=<MeanBackward0>) tensor(3.3475, device='cuda:2', grad_fn=<MeanBackward0>)\n",
      "tensor(0.3372, device='cuda:2', grad_fn=<AddBackward0>) tensor(0.2596, device='cuda:2', grad_fn=<DivBackward0>)\n",
      "tensor(0.8893, device='cuda:2', grad_fn=<MeanBackward0>) tensor(3.3526, device='cuda:2', grad_fn=<MeanBackward0>)\n",
      "tensor(0.3320, device='cuda:2', grad_fn=<AddBackward0>) tensor(0.2653, device='cuda:2', grad_fn=<DivBackward0>)\n",
      "tensor(0.8747, device='cuda:2', grad_fn=<MeanBackward0>) tensor(3.3460, device='cuda:2', grad_fn=<MeanBackward0>)\n",
      "tensor(0.3457, device='cuda:2', grad_fn=<AddBackward0>) tensor(0.2614, device='cuda:2', grad_fn=<DivBackward0>)\n"
     ]
    },
    {
     "name": "stderr",
     "output_type": "stream",
     "text": [
      "759it [01:10, 10.56it/s]"
     ]
    },
    {
     "name": "stdout",
     "output_type": "stream",
     "text": [
      "tensor(0.9229, device='cuda:2', grad_fn=<MeanBackward0>) tensor(3.3762, device='cuda:2', grad_fn=<MeanBackward0>)\n",
      "tensor(0.3076, device='cuda:2', grad_fn=<AddBackward0>) tensor(0.2734, device='cuda:2', grad_fn=<DivBackward0>)\n",
      "tensor(0.9338, device='cuda:2', grad_fn=<MeanBackward0>) tensor(3.3726, device='cuda:2', grad_fn=<MeanBackward0>)\n",
      "tensor(0.2816, device='cuda:2', grad_fn=<AddBackward0>) tensor(0.2769, device='cuda:2', grad_fn=<DivBackward0>)\n",
      "tensor(0.9340, device='cuda:2', grad_fn=<MeanBackward0>) tensor(3.3785, device='cuda:2', grad_fn=<MeanBackward0>)\n",
      "tensor(0.2703, device='cuda:2', grad_fn=<AddBackward0>) tensor(0.2765, device='cuda:2', grad_fn=<DivBackward0>)\n"
     ]
    },
    {
     "name": "stderr",
     "output_type": "stream",
     "text": [
      "761it [01:11, 10.56it/s]"
     ]
    },
    {
     "name": "stdout",
     "output_type": "stream",
     "text": [
      "tensor(0.9533, device='cuda:2', grad_fn=<MeanBackward0>) tensor(3.3833, device='cuda:2', grad_fn=<MeanBackward0>)\n",
      "tensor(0.2682, device='cuda:2', grad_fn=<AddBackward0>) tensor(0.2818, device='cuda:2', grad_fn=<DivBackward0>)\n",
      "tensor(0.9094, device='cuda:2', grad_fn=<MeanBackward0>) tensor(3.3732, device='cuda:2', grad_fn=<MeanBackward0>)\n",
      "tensor(0.3245, device='cuda:2', grad_fn=<AddBackward0>) tensor(0.2696, device='cuda:2', grad_fn=<DivBackward0>)\n",
      "tensor(0.8936, device='cuda:2', grad_fn=<MeanBackward0>) tensor(3.3716, device='cuda:2', grad_fn=<MeanBackward0>)\n",
      "tensor(0.3188, device='cuda:2', grad_fn=<AddBackward0>) tensor(0.2650, device='cuda:2', grad_fn=<DivBackward0>)\n"
     ]
    },
    {
     "name": "stderr",
     "output_type": "stream",
     "text": [
      "765it [01:11, 10.47it/s]"
     ]
    },
    {
     "name": "stdout",
     "output_type": "stream",
     "text": [
      "tensor(0.9077, device='cuda:2', grad_fn=<MeanBackward0>) tensor(3.3728, device='cuda:2', grad_fn=<MeanBackward0>)\n",
      "tensor(0.3187, device='cuda:2', grad_fn=<AddBackward0>) tensor(0.2691, device='cuda:2', grad_fn=<DivBackward0>)\n",
      "tensor(0.8938, device='cuda:2', grad_fn=<MeanBackward0>) tensor(3.3662, device='cuda:2', grad_fn=<MeanBackward0>)\n",
      "tensor(0.3101, device='cuda:2', grad_fn=<AddBackward0>) tensor(0.2655, device='cuda:2', grad_fn=<DivBackward0>)\n",
      "tensor(0.8864, device='cuda:2', grad_fn=<MeanBackward0>) tensor(3.3508, device='cuda:2', grad_fn=<MeanBackward0>)\n"
     ]
    },
    {
     "name": "stderr",
     "output_type": "stream",
     "text": [
      "767it [01:11, 10.26it/s]"
     ]
    },
    {
     "name": "stdout",
     "output_type": "stream",
     "text": [
      "tensor(0.3556, device='cuda:2', grad_fn=<AddBackward0>) tensor(0.2645, device='cuda:2', grad_fn=<DivBackward0>)\n",
      "tensor(0.8937, device='cuda:2', grad_fn=<MeanBackward0>) tensor(3.3558, device='cuda:2', grad_fn=<MeanBackward0>)\n",
      "tensor(0.3522, device='cuda:2', grad_fn=<AddBackward0>) tensor(0.2663, device='cuda:2', grad_fn=<DivBackward0>)\n"
     ]
    },
    {
     "name": "stderr",
     "output_type": "stream",
     "text": [
      "769it [01:11, 10.04it/s]"
     ]
    },
    {
     "name": "stdout",
     "output_type": "stream",
     "text": [
      "tensor(0.8950, device='cuda:2', grad_fn=<MeanBackward0>) tensor(3.3496, device='cuda:2', grad_fn=<MeanBackward0>)\n",
      "tensor(0.3507, device='cuda:2', grad_fn=<AddBackward0>) tensor(0.2672, device='cuda:2', grad_fn=<DivBackward0>)\n",
      "tensor(0.9265, device='cuda:2', grad_fn=<MeanBackward0>) tensor(3.3540, device='cuda:2', grad_fn=<MeanBackward0>)\n",
      "tensor(0.3341, device='cuda:2', grad_fn=<AddBackward0>) tensor(0.2762, device='cuda:2', grad_fn=<DivBackward0>)\n"
     ]
    },
    {
     "name": "stderr",
     "output_type": "stream",
     "text": [
      "771it [01:12,  9.92it/s]"
     ]
    },
    {
     "name": "stdout",
     "output_type": "stream",
     "text": [
      "tensor(0.8862, device='cuda:2', grad_fn=<MeanBackward0>) tensor(3.3308, device='cuda:2', grad_fn=<MeanBackward0>)\n",
      "tensor(0.3384, device='cuda:2', grad_fn=<AddBackward0>) tensor(0.2661, device='cuda:2', grad_fn=<DivBackward0>)\n",
      "tensor(0.8948, device='cuda:2', grad_fn=<MeanBackward0>) tensor(3.3393, device='cuda:2', grad_fn=<MeanBackward0>)\n",
      "tensor(0.3265, device='cuda:2', grad_fn=<AddBackward0>) tensor(0.2680, device='cuda:2', grad_fn=<DivBackward0>)\n"
     ]
    },
    {
     "name": "stderr",
     "output_type": "stream",
     "text": [
      "773it [01:12,  9.83it/s]"
     ]
    },
    {
     "name": "stdout",
     "output_type": "stream",
     "text": [
      "tensor(0.8792, device='cuda:2', grad_fn=<MeanBackward0>) tensor(3.3410, device='cuda:2', grad_fn=<MeanBackward0>)\n",
      "tensor(0.3296, device='cuda:2', grad_fn=<AddBackward0>) tensor(0.2632, device='cuda:2', grad_fn=<DivBackward0>)\n",
      "tensor(0.9207, device='cuda:2', grad_fn=<MeanBackward0>) tensor(3.3639, device='cuda:2', grad_fn=<MeanBackward0>)\n",
      "tensor(0.3178, device='cuda:2', grad_fn=<AddBackward0>) tensor(0.2737, device='cuda:2', grad_fn=<DivBackward0>)\n"
     ]
    },
    {
     "name": "stderr",
     "output_type": "stream",
     "text": [
      "775it [01:12,  9.75it/s]"
     ]
    },
    {
     "name": "stdout",
     "output_type": "stream",
     "text": [
      "tensor(0.8774, device='cuda:2', grad_fn=<MeanBackward0>) tensor(3.3513, device='cuda:2', grad_fn=<MeanBackward0>)\n",
      "tensor(0.3562, device='cuda:2', grad_fn=<AddBackward0>) tensor(0.2618, device='cuda:2', grad_fn=<DivBackward0>)\n",
      "tensor(0.8824, device='cuda:2', grad_fn=<MeanBackward0>) tensor(3.3644, device='cuda:2', grad_fn=<MeanBackward0>)\n",
      "tensor(0.3495, device='cuda:2', grad_fn=<AddBackward0>) tensor(0.2623, device='cuda:2', grad_fn=<DivBackward0>)\n"
     ]
    },
    {
     "name": "stderr",
     "output_type": "stream",
     "text": [
      "777it [01:12,  9.67it/s]"
     ]
    },
    {
     "name": "stdout",
     "output_type": "stream",
     "text": [
      "tensor(0.8698, device='cuda:2', grad_fn=<MeanBackward0>) tensor(3.3566, device='cuda:2', grad_fn=<MeanBackward0>)\n",
      "tensor(0.3652, device='cuda:2', grad_fn=<AddBackward0>) tensor(0.2591, device='cuda:2', grad_fn=<DivBackward0>)\n",
      "tensor(0.8649, device='cuda:2', grad_fn=<MeanBackward0>) tensor(3.3596, device='cuda:2', grad_fn=<MeanBackward0>)\n",
      "tensor(0.3640, device='cuda:2', grad_fn=<AddBackward0>) tensor(0.2574, device='cuda:2', grad_fn=<DivBackward0>)\n"
     ]
    },
    {
     "name": "stderr",
     "output_type": "stream",
     "text": [
      "779it [01:13,  9.59it/s]"
     ]
    },
    {
     "name": "stdout",
     "output_type": "stream",
     "text": [
      "tensor(0.9167, device='cuda:2', grad_fn=<MeanBackward0>) tensor(3.3880, device='cuda:2', grad_fn=<MeanBackward0>)\n",
      "tensor(0.3448, device='cuda:2', grad_fn=<AddBackward0>) tensor(0.2706, device='cuda:2', grad_fn=<DivBackward0>)\n",
      "tensor(0.9144, device='cuda:2', grad_fn=<MeanBackward0>) tensor(3.3735, device='cuda:2', grad_fn=<MeanBackward0>)\n",
      "tensor(0.3083, device='cuda:2', grad_fn=<AddBackward0>) tensor(0.2710, device='cuda:2', grad_fn=<DivBackward0>)\n"
     ]
    },
    {
     "name": "stderr",
     "output_type": "stream",
     "text": [
      "781it [01:13,  9.58it/s]"
     ]
    },
    {
     "name": "stdout",
     "output_type": "stream",
     "text": [
      "tensor(0.9254, device='cuda:2', grad_fn=<MeanBackward0>) tensor(3.3772, device='cuda:2', grad_fn=<MeanBackward0>)\n",
      "tensor(0.2977, device='cuda:2', grad_fn=<AddBackward0>) tensor(0.2740, device='cuda:2', grad_fn=<DivBackward0>)\n",
      "tensor(0.9095, device='cuda:2', grad_fn=<MeanBackward0>) tensor(3.3595, device='cuda:2', grad_fn=<MeanBackward0>)\n",
      "tensor(0.3146, device='cuda:2', grad_fn=<AddBackward0>) tensor(0.2707, device='cuda:2', grad_fn=<DivBackward0>)\n"
     ]
    },
    {
     "name": "stderr",
     "output_type": "stream",
     "text": [
      "783it [01:13,  9.59it/s]"
     ]
    },
    {
     "name": "stdout",
     "output_type": "stream",
     "text": [
      "tensor(0.9126, device='cuda:2', grad_fn=<MeanBackward0>) tensor(3.3538, device='cuda:2', grad_fn=<MeanBackward0>)\n",
      "tensor(0.3343, device='cuda:2', grad_fn=<AddBackward0>) tensor(0.2721, device='cuda:2', grad_fn=<DivBackward0>)\n",
      "tensor(0.9053, device='cuda:2', grad_fn=<MeanBackward0>) tensor(3.3494, device='cuda:2', grad_fn=<MeanBackward0>)\n",
      "tensor(0.3264, device='cuda:2', grad_fn=<AddBackward0>) tensor(0.2703, device='cuda:2', grad_fn=<DivBackward0>)\n"
     ]
    },
    {
     "name": "stderr",
     "output_type": "stream",
     "text": [
      "785it [01:13,  9.63it/s]"
     ]
    },
    {
     "name": "stdout",
     "output_type": "stream",
     "text": [
      "tensor(0.9208, device='cuda:2', grad_fn=<MeanBackward0>) tensor(3.3587, device='cuda:2', grad_fn=<MeanBackward0>)\n",
      "tensor(0.3224, device='cuda:2', grad_fn=<AddBackward0>) tensor(0.2742, device='cuda:2', grad_fn=<DivBackward0>)\n",
      "tensor(0.9199, device='cuda:2', grad_fn=<MeanBackward0>) tensor(3.3575, device='cuda:2', grad_fn=<MeanBackward0>)\n",
      "tensor(0.3332, device='cuda:2', grad_fn=<AddBackward0>) tensor(0.2740, device='cuda:2', grad_fn=<DivBackward0>)\n"
     ]
    },
    {
     "name": "stderr",
     "output_type": "stream",
     "text": [
      "787it [01:13,  9.65it/s]"
     ]
    },
    {
     "name": "stdout",
     "output_type": "stream",
     "text": [
      "tensor(0.8804, device='cuda:2', grad_fn=<MeanBackward0>) tensor(3.3508, device='cuda:2', grad_fn=<MeanBackward0>)\n",
      "tensor(0.4160, device='cuda:2', grad_fn=<AddBackward0>) tensor(0.2628, device='cuda:2', grad_fn=<DivBackward0>)\n",
      "tensor(0.8661, device='cuda:2', grad_fn=<MeanBackward0>) tensor(3.3437, device='cuda:2', grad_fn=<MeanBackward0>)\n",
      "tensor(0.4021, device='cuda:2', grad_fn=<AddBackward0>) tensor(0.2590, device='cuda:2', grad_fn=<DivBackward0>)\n",
      "tensor(0.8831, device='cuda:2', grad_fn=<MeanBackward0>) tensor(3.3410, device='cuda:2', grad_fn=<MeanBackward0>)\n"
     ]
    },
    {
     "name": "stderr",
     "output_type": "stream",
     "text": [
      "789it [01:14,  9.92it/s]"
     ]
    },
    {
     "name": "stdout",
     "output_type": "stream",
     "text": [
      "tensor(0.3963, device='cuda:2', grad_fn=<AddBackward0>) tensor(0.2643, device='cuda:2', grad_fn=<DivBackward0>)\n",
      "tensor(0.8543, device='cuda:2', grad_fn=<MeanBackward0>) tensor(3.3375, device='cuda:2', grad_fn=<MeanBackward0>)\n",
      "tensor(0.3922, device='cuda:2', grad_fn=<AddBackward0>) tensor(0.2560, device='cuda:2', grad_fn=<DivBackward0>)\n",
      "tensor(0.9109, device='cuda:2', grad_fn=<MeanBackward0>) tensor(3.3720, device='cuda:2', grad_fn=<MeanBackward0>)\n",
      "tensor(0.3295, device='cuda:2', grad_fn=<AddBackward0>) tensor(0.2701, device='cuda:2', grad_fn=<DivBackward0>)\n"
     ]
    },
    {
     "name": "stderr",
     "output_type": "stream",
     "text": [
      "792it [01:14, 10.11it/s]"
     ]
    },
    {
     "name": "stdout",
     "output_type": "stream",
     "text": [
      "tensor(0.9112, device='cuda:2', grad_fn=<MeanBackward0>) tensor(3.3696, device='cuda:2', grad_fn=<MeanBackward0>)\n",
      "tensor(0.3215, device='cuda:2', grad_fn=<AddBackward0>) tensor(0.2704, device='cuda:2', grad_fn=<DivBackward0>)\n",
      "tensor(0.9083, device='cuda:2', grad_fn=<MeanBackward0>) tensor(3.3692, device='cuda:2', grad_fn=<MeanBackward0>)\n",
      "tensor(0.3281, device='cuda:2', grad_fn=<AddBackward0>) tensor(0.2696, device='cuda:2', grad_fn=<DivBackward0>)\n",
      "tensor(0.9186, device='cuda:2', grad_fn=<MeanBackward0>) tensor(3.3746, device='cuda:2', grad_fn=<MeanBackward0>)\n",
      "tensor(0.3175, device='cuda:2', grad_fn=<AddBackward0>) tensor(0.2722, device='cuda:2', grad_fn=<DivBackward0>)\n"
     ]
    },
    {
     "name": "stderr",
     "output_type": "stream",
     "text": [
      "794it [01:14,  9.96it/s]"
     ]
    },
    {
     "name": "stdout",
     "output_type": "stream",
     "text": [
      "tensor(0.9289, device='cuda:2', grad_fn=<MeanBackward0>) tensor(3.3876, device='cuda:2', grad_fn=<MeanBackward0>)\n",
      "tensor(0.2745, device='cuda:2', grad_fn=<AddBackward0>) tensor(0.2742, device='cuda:2', grad_fn=<DivBackward0>)\n",
      "tensor(0.9216, device='cuda:2', grad_fn=<MeanBackward0>) tensor(3.3876, device='cuda:2', grad_fn=<MeanBackward0>)\n",
      "tensor(0.2821, device='cuda:2', grad_fn=<AddBackward0>) tensor(0.2721, device='cuda:2', grad_fn=<DivBackward0>)\n",
      "tensor(0.9122, device='cuda:2', grad_fn=<MeanBackward0>) tensor(3.3803, device='cuda:2', grad_fn=<MeanBackward0>)\n",
      "tensor(0.2392, device='cuda:2', grad_fn=<AddBackward0>) tensor(0.2699, device='cuda:2', grad_fn=<DivBackward0>)\n"
     ]
    },
    {
     "name": "stderr",
     "output_type": "stream",
     "text": [
      "798it [01:14, 10.27it/s]"
     ]
    },
    {
     "name": "stdout",
     "output_type": "stream",
     "text": [
      "tensor(0.9053, device='cuda:2', grad_fn=<MeanBackward0>) tensor(3.3624, device='cuda:2', grad_fn=<MeanBackward0>)\n",
      "tensor(0.2477, device='cuda:2', grad_fn=<AddBackward0>) tensor(0.2692, device='cuda:2', grad_fn=<DivBackward0>)\n",
      "tensor(0.9002, device='cuda:2', grad_fn=<MeanBackward0>) tensor(3.3661, device='cuda:2', grad_fn=<MeanBackward0>)\n",
      "tensor(0.2535, device='cuda:2', grad_fn=<AddBackward0>) tensor(0.2674, device='cuda:2', grad_fn=<DivBackward0>)\n",
      "tensor(0.8910, device='cuda:2', grad_fn=<MeanBackward0>) tensor(3.3649, device='cuda:2', grad_fn=<MeanBackward0>)\n",
      "tensor(0.2406, device='cuda:2', grad_fn=<AddBackward0>) tensor(0.2648, device='cuda:2', grad_fn=<DivBackward0>)\n"
     ]
    },
    {
     "name": "stderr",
     "output_type": "stream",
     "text": [
      "800it [01:15, 10.35it/s]"
     ]
    },
    {
     "name": "stdout",
     "output_type": "stream",
     "text": [
      "tensor(0.8750, device='cuda:2', grad_fn=<MeanBackward0>) tensor(3.3490, device='cuda:2', grad_fn=<MeanBackward0>)\n",
      "tensor(0.2394, device='cuda:2', grad_fn=<AddBackward0>) tensor(0.2613, device='cuda:2', grad_fn=<DivBackward0>)\n",
      "tensor(0.8759, device='cuda:2', grad_fn=<MeanBackward0>) tensor(3.3522, device='cuda:2', grad_fn=<MeanBackward0>)\n",
      "tensor(0.2330, device='cuda:2', grad_fn=<AddBackward0>) tensor(0.2613, device='cuda:2', grad_fn=<DivBackward0>)\n",
      "tensor(0.8756, device='cuda:2', grad_fn=<MeanBackward0>) tensor(3.3434, device='cuda:2', grad_fn=<MeanBackward0>)\n",
      "tensor(0.3642, device='cuda:2', grad_fn=<AddBackward0>) tensor(0.2619, device='cuda:2', grad_fn=<DivBackward0>)\n"
     ]
    },
    {
     "name": "stderr",
     "output_type": "stream",
     "text": [
      "804it [01:15, 10.55it/s]"
     ]
    },
    {
     "name": "stdout",
     "output_type": "stream",
     "text": [
      "tensor(0.8744, device='cuda:2', grad_fn=<MeanBackward0>) tensor(3.3301, device='cuda:2', grad_fn=<MeanBackward0>)\n",
      "tensor(0.3679, device='cuda:2', grad_fn=<AddBackward0>) tensor(0.2626, device='cuda:2', grad_fn=<DivBackward0>)\n",
      "tensor(0.8740, device='cuda:2', grad_fn=<MeanBackward0>) tensor(3.3372, device='cuda:2', grad_fn=<MeanBackward0>)\n",
      "tensor(0.3658, device='cuda:2', grad_fn=<AddBackward0>) tensor(0.2619, device='cuda:2', grad_fn=<DivBackward0>)\n"
     ]
    },
    {
     "name": "stderr",
     "output_type": "stream",
     "text": [
      "806it [01:15, 10.26it/s]"
     ]
    },
    {
     "name": "stdout",
     "output_type": "stream",
     "text": [
      "tensor(0.8797, device='cuda:2', grad_fn=<MeanBackward0>) tensor(3.3399, device='cuda:2', grad_fn=<MeanBackward0>)\n",
      "tensor(0.3635, device='cuda:2', grad_fn=<AddBackward0>) tensor(0.2634, device='cuda:2', grad_fn=<DivBackward0>)\n",
      "tensor(0.9251, device='cuda:2', grad_fn=<MeanBackward0>) tensor(3.3647, device='cuda:2', grad_fn=<MeanBackward0>)\n",
      "tensor(0.3450, device='cuda:2', grad_fn=<AddBackward0>) tensor(0.2749, device='cuda:2', grad_fn=<DivBackward0>)\n",
      "tensor(0.9106, device='cuda:2', grad_fn=<MeanBackward0>) tensor(3.3751, device='cuda:2', grad_fn=<MeanBackward0>)\n",
      "tensor(0.3280, device='cuda:2', grad_fn=<AddBackward0>) tensor(0.2698, device='cuda:2', grad_fn=<DivBackward0>)\n"
     ]
    },
    {
     "name": "stderr",
     "output_type": "stream",
     "text": [
      "808it [01:15, 10.40it/s]"
     ]
    },
    {
     "name": "stdout",
     "output_type": "stream",
     "text": [
      "tensor(0.9426, device='cuda:2', grad_fn=<MeanBackward0>) tensor(3.3983, device='cuda:2', grad_fn=<MeanBackward0>)\n",
      "tensor(0.3397, device='cuda:2', grad_fn=<AddBackward0>) tensor(0.2774, device='cuda:2', grad_fn=<DivBackward0>)\n",
      "tensor(0.9182, device='cuda:2', grad_fn=<MeanBackward0>) tensor(3.3788, device='cuda:2', grad_fn=<MeanBackward0>)\n",
      "tensor(0.3513, device='cuda:2', grad_fn=<AddBackward0>) tensor(0.2718, device='cuda:2', grad_fn=<DivBackward0>)\n",
      "tensor(0.8613, device='cuda:2', grad_fn=<MeanBackward0>) tensor(3.3489, device='cuda:2', grad_fn=<MeanBackward0>)\n",
      "tensor(0.3316, device='cuda:2', grad_fn=<AddBackward0>) tensor(0.2572, device='cuda:2', grad_fn=<DivBackward0>)\n"
     ]
    },
    {
     "name": "stderr",
     "output_type": "stream",
     "text": [
      "812it [01:16, 10.47it/s]"
     ]
    },
    {
     "name": "stdout",
     "output_type": "stream",
     "text": [
      "tensor(0.8750, device='cuda:2', grad_fn=<MeanBackward0>) tensor(3.3627, device='cuda:2', grad_fn=<MeanBackward0>)\n",
      "tensor(0.3249, device='cuda:2', grad_fn=<AddBackward0>) tensor(0.2602, device='cuda:2', grad_fn=<DivBackward0>)\n",
      "tensor(0.8727, device='cuda:2', grad_fn=<MeanBackward0>) tensor(3.3589, device='cuda:2', grad_fn=<MeanBackward0>)\n",
      "tensor(0.3231, device='cuda:2', grad_fn=<AddBackward0>) tensor(0.2598, device='cuda:2', grad_fn=<DivBackward0>)\n",
      "tensor(0.8870, device='cuda:2', grad_fn=<MeanBackward0>) tensor(3.3686, device='cuda:2', grad_fn=<MeanBackward0>)\n",
      "tensor(0.3175, device='cuda:2', grad_fn=<AddBackward0>) tensor(0.2633, device='cuda:2', grad_fn=<DivBackward0>)\n"
     ]
    },
    {
     "name": "stderr",
     "output_type": "stream",
     "text": [
      "814it [01:16, 10.50it/s]"
     ]
    },
    {
     "name": "stdout",
     "output_type": "stream",
     "text": [
      "tensor(0.9081, device='cuda:2', grad_fn=<MeanBackward0>) tensor(3.3687, device='cuda:2', grad_fn=<MeanBackward0>)\n",
      "tensor(0.2549, device='cuda:2', grad_fn=<AddBackward0>) tensor(0.2696, device='cuda:2', grad_fn=<DivBackward0>)\n",
      "tensor(0.8980, device='cuda:2', grad_fn=<MeanBackward0>) tensor(3.3608, device='cuda:2', grad_fn=<MeanBackward0>)\n",
      "tensor(0.2783, device='cuda:2', grad_fn=<AddBackward0>) tensor(0.2672, device='cuda:2', grad_fn=<DivBackward0>)\n",
      "tensor(0.8965, device='cuda:2', grad_fn=<MeanBackward0>) tensor(3.3485, device='cuda:2', grad_fn=<MeanBackward0>)\n",
      "tensor(0.2579, device='cuda:2', grad_fn=<AddBackward0>) tensor(0.2677, device='cuda:2', grad_fn=<DivBackward0>)\n"
     ]
    },
    {
     "name": "stderr",
     "output_type": "stream",
     "text": [
      "818it [01:16, 10.52it/s]"
     ]
    },
    {
     "name": "stdout",
     "output_type": "stream",
     "text": [
      "tensor(0.8921, device='cuda:2', grad_fn=<MeanBackward0>) tensor(3.3495, device='cuda:2', grad_fn=<MeanBackward0>)\n",
      "tensor(0.2451, device='cuda:2', grad_fn=<AddBackward0>) tensor(0.2663, device='cuda:2', grad_fn=<DivBackward0>)\n",
      "tensor(0.9148, device='cuda:2', grad_fn=<MeanBackward0>) tensor(3.3484, device='cuda:2', grad_fn=<MeanBackward0>)\n",
      "tensor(0.3084, device='cuda:2', grad_fn=<AddBackward0>) tensor(0.2732, device='cuda:2', grad_fn=<DivBackward0>)\n",
      "tensor(0.8963, device='cuda:2', grad_fn=<MeanBackward0>) tensor(3.3439, device='cuda:2', grad_fn=<MeanBackward0>)\n",
      "tensor(0.2950, device='cuda:2', grad_fn=<AddBackward0>) tensor(0.2680, device='cuda:2', grad_fn=<DivBackward0>)\n"
     ]
    },
    {
     "name": "stderr",
     "output_type": "stream",
     "text": [
      "820it [01:17, 10.54it/s]"
     ]
    },
    {
     "name": "stdout",
     "output_type": "stream",
     "text": [
      "tensor(0.8934, device='cuda:2', grad_fn=<MeanBackward0>) tensor(3.3467, device='cuda:2', grad_fn=<MeanBackward0>)\n",
      "tensor(0.3035, device='cuda:2', grad_fn=<AddBackward0>) tensor(0.2670, device='cuda:2', grad_fn=<DivBackward0>)\n",
      "tensor(0.8965, device='cuda:2', grad_fn=<MeanBackward0>) tensor(3.3508, device='cuda:2', grad_fn=<MeanBackward0>)\n",
      "tensor(0.2972, device='cuda:2', grad_fn=<AddBackward0>) tensor(0.2675, device='cuda:2', grad_fn=<DivBackward0>)\n",
      "tensor(0.9097, device='cuda:2', grad_fn=<MeanBackward0>) tensor(3.3619, device='cuda:2', grad_fn=<MeanBackward0>)\n",
      "tensor(0.3211, device='cuda:2', grad_fn=<AddBackward0>) tensor(0.2706, device='cuda:2', grad_fn=<DivBackward0>)\n"
     ]
    },
    {
     "name": "stderr",
     "output_type": "stream",
     "text": [
      "824it [01:17, 10.55it/s]"
     ]
    },
    {
     "name": "stdout",
     "output_type": "stream",
     "text": [
      "tensor(0.8724, device='cuda:2', grad_fn=<MeanBackward0>) tensor(3.3390, device='cuda:2', grad_fn=<MeanBackward0>)\n",
      "tensor(0.3045, device='cuda:2', grad_fn=<AddBackward0>) tensor(0.2613, device='cuda:2', grad_fn=<DivBackward0>)\n",
      "tensor(0.8805, device='cuda:2', grad_fn=<MeanBackward0>) tensor(3.3419, device='cuda:2', grad_fn=<MeanBackward0>)\n",
      "tensor(0.3061, device='cuda:2', grad_fn=<AddBackward0>) tensor(0.2635, device='cuda:2', grad_fn=<DivBackward0>)\n",
      "tensor(0.8995, device='cuda:2', grad_fn=<MeanBackward0>) tensor(3.3566, device='cuda:2', grad_fn=<MeanBackward0>)\n",
      "tensor(0.3185, device='cuda:2', grad_fn=<AddBackward0>) tensor(0.2680, device='cuda:2', grad_fn=<DivBackward0>)\n"
     ]
    },
    {
     "name": "stderr",
     "output_type": "stream",
     "text": [
      "826it [01:17, 10.10it/s]"
     ]
    },
    {
     "name": "stdout",
     "output_type": "stream",
     "text": [
      "tensor(0.8918, device='cuda:2', grad_fn=<MeanBackward0>) tensor(3.3531, device='cuda:2', grad_fn=<MeanBackward0>)\n",
      "tensor(0.2468, device='cuda:2', grad_fn=<AddBackward0>) tensor(0.2660, device='cuda:2', grad_fn=<DivBackward0>)\n",
      "tensor(0.8837, device='cuda:2', grad_fn=<MeanBackward0>) tensor(3.3497, device='cuda:2', grad_fn=<MeanBackward0>)\n",
      "tensor(0.2503, device='cuda:2', grad_fn=<AddBackward0>) tensor(0.2638, device='cuda:2', grad_fn=<DivBackward0>)\n",
      "tensor(0.8815, device='cuda:2', grad_fn=<MeanBackward0>) tensor(3.3593, device='cuda:2', grad_fn=<MeanBackward0>)\n",
      "tensor(0.2544, device='cuda:2', grad_fn=<AddBackward0>) tensor(0.2624, device='cuda:2', grad_fn=<DivBackward0>)\n"
     ]
    },
    {
     "name": "stderr",
     "output_type": "stream",
     "text": [
      "830it [01:17, 10.56it/s]"
     ]
    },
    {
     "name": "stdout",
     "output_type": "stream",
     "text": [
      "tensor(0.8843, device='cuda:2', grad_fn=<MeanBackward0>) tensor(3.3515, device='cuda:2', grad_fn=<MeanBackward0>)\n",
      "tensor(0.2439, device='cuda:2', grad_fn=<AddBackward0>) tensor(0.2638, device='cuda:2', grad_fn=<DivBackward0>)\n",
      "tensor(0.8996, device='cuda:2', grad_fn=<MeanBackward0>) tensor(3.3636, device='cuda:2', grad_fn=<MeanBackward0>)\n",
      "tensor(0.2604, device='cuda:2', grad_fn=<AddBackward0>) tensor(0.2674, device='cuda:2', grad_fn=<DivBackward0>)\n",
      "tensor(0.9266, device='cuda:2', grad_fn=<MeanBackward0>) tensor(3.3855, device='cuda:2', grad_fn=<MeanBackward0>)\n",
      "tensor(0.2649, device='cuda:2', grad_fn=<AddBackward0>) tensor(0.2737, device='cuda:2', grad_fn=<DivBackward0>)\n"
     ]
    },
    {
     "name": "stderr",
     "output_type": "stream",
     "text": [
      "832it [01:18, 10.48it/s]"
     ]
    },
    {
     "name": "stdout",
     "output_type": "stream",
     "text": [
      "tensor(0.9133, device='cuda:2', grad_fn=<MeanBackward0>) tensor(3.3772, device='cuda:2', grad_fn=<MeanBackward0>)\n",
      "tensor(0.2652, device='cuda:2', grad_fn=<AddBackward0>) tensor(0.2704, device='cuda:2', grad_fn=<DivBackward0>)\n",
      "tensor(0.9388, device='cuda:2', grad_fn=<MeanBackward0>) tensor(3.3833, device='cuda:2', grad_fn=<MeanBackward0>)\n",
      "tensor(0.2590, device='cuda:2', grad_fn=<AddBackward0>) tensor(0.2775, device='cuda:2', grad_fn=<DivBackward0>)\n",
      "tensor(0.9075, device='cuda:2', grad_fn=<MeanBackward0>) tensor(3.3696, device='cuda:2', grad_fn=<MeanBackward0>)\n",
      "tensor(0.4185, device='cuda:2', grad_fn=<AddBackward0>) tensor(0.2693, device='cuda:2', grad_fn=<DivBackward0>)\n"
     ]
    },
    {
     "name": "stderr",
     "output_type": "stream",
     "text": [
      "836it [01:18, 10.51it/s]"
     ]
    },
    {
     "name": "stdout",
     "output_type": "stream",
     "text": [
      "tensor(0.9021, device='cuda:2', grad_fn=<MeanBackward0>) tensor(3.3577, device='cuda:2', grad_fn=<MeanBackward0>)\n",
      "tensor(0.3864, device='cuda:2', grad_fn=<AddBackward0>) tensor(0.2687, device='cuda:2', grad_fn=<DivBackward0>)\n",
      "tensor(0.9117, device='cuda:2', grad_fn=<MeanBackward0>) tensor(3.3669, device='cuda:2', grad_fn=<MeanBackward0>)\n",
      "tensor(0.3733, device='cuda:2', grad_fn=<AddBackward0>) tensor(0.2708, device='cuda:2', grad_fn=<DivBackward0>)\n",
      "tensor(0.9019, device='cuda:2', grad_fn=<MeanBackward0>) tensor(3.3563, device='cuda:2', grad_fn=<MeanBackward0>)\n",
      "tensor(0.3845, device='cuda:2', grad_fn=<AddBackward0>) tensor(0.2687, device='cuda:2', grad_fn=<DivBackward0>)\n"
     ]
    },
    {
     "name": "stderr",
     "output_type": "stream",
     "text": [
      "838it [01:18, 10.50it/s]"
     ]
    },
    {
     "name": "stdout",
     "output_type": "stream",
     "text": [
      "tensor(0.9326, device='cuda:2', grad_fn=<MeanBackward0>) tensor(3.3711, device='cuda:2', grad_fn=<MeanBackward0>)\n",
      "tensor(0.2905, device='cuda:2', grad_fn=<AddBackward0>) tensor(0.2767, device='cuda:2', grad_fn=<DivBackward0>)\n",
      "tensor(0.9322, device='cuda:2', grad_fn=<MeanBackward0>) tensor(3.3763, device='cuda:2', grad_fn=<MeanBackward0>)\n",
      "tensor(0.3039, device='cuda:2', grad_fn=<AddBackward0>) tensor(0.2761, device='cuda:2', grad_fn=<DivBackward0>)\n",
      "tensor(0.8980, device='cuda:2', grad_fn=<MeanBackward0>) tensor(3.3594, device='cuda:2', grad_fn=<MeanBackward0>)\n",
      "tensor(0.2881, device='cuda:2', grad_fn=<AddBackward0>) tensor(0.2673, device='cuda:2', grad_fn=<DivBackward0>)\n"
     ]
    },
    {
     "name": "stderr",
     "output_type": "stream",
     "text": [
      "842it [01:19, 10.34it/s]"
     ]
    },
    {
     "name": "stdout",
     "output_type": "stream",
     "text": [
      "tensor(0.9133, device='cuda:2', grad_fn=<MeanBackward0>) tensor(3.3559, device='cuda:2', grad_fn=<MeanBackward0>)\n",
      "tensor(0.2766, device='cuda:2', grad_fn=<AddBackward0>) tensor(0.2721, device='cuda:2', grad_fn=<DivBackward0>)\n",
      "tensor(0.9146, device='cuda:2', grad_fn=<MeanBackward0>) tensor(3.3572, device='cuda:2', grad_fn=<MeanBackward0>)\n",
      "tensor(0.3409, device='cuda:2', grad_fn=<AddBackward0>) tensor(0.2724, device='cuda:2', grad_fn=<DivBackward0>)\n",
      "tensor(0.9279, device='cuda:2', grad_fn=<MeanBackward0>) tensor(3.3732, device='cuda:2', grad_fn=<MeanBackward0>)\n",
      "tensor(0.3319, device='cuda:2', grad_fn=<AddBackward0>) "
     ]
    },
    {
     "name": "stderr",
     "output_type": "stream",
     "text": [
      "844it [01:19, 10.39it/s]"
     ]
    },
    {
     "name": "stdout",
     "output_type": "stream",
     "text": [
      "tensor(0.2751, device='cuda:2', grad_fn=<DivBackward0>)\n",
      "tensor(0.9291, device='cuda:2', grad_fn=<MeanBackward0>) tensor(3.3781, device='cuda:2', grad_fn=<MeanBackward0>)\n",
      "tensor(0.3360, device='cuda:2', grad_fn=<AddBackward0>) tensor(0.2750, device='cuda:2', grad_fn=<DivBackward0>)\n",
      "tensor(0.9311, device='cuda:2', grad_fn=<MeanBackward0>) tensor(3.3865, device='cuda:2', grad_fn=<MeanBackward0>)\n"
     ]
    },
    {
     "name": "stderr",
     "output_type": "stream",
     "text": [
      "846it [01:19, 10.07it/s]"
     ]
    },
    {
     "name": "stdout",
     "output_type": "stream",
     "text": [
      "tensor(0.3444, device='cuda:2', grad_fn=<AddBackward0>) tensor(0.2750, device='cuda:2', grad_fn=<DivBackward0>)\n",
      "tensor(0.8685, device='cuda:2', grad_fn=<MeanBackward0>) tensor(3.3465, device='cuda:2', grad_fn=<MeanBackward0>)\n",
      "tensor(0.2994, device='cuda:2', grad_fn=<AddBackward0>) tensor(0.2595, device='cuda:2', grad_fn=<DivBackward0>)\n",
      "tensor(0.8644, device='cuda:2', grad_fn=<MeanBackward0>) tensor(3.3457, device='cuda:2', grad_fn=<MeanBackward0>)\n",
      "tensor(0.3012, device='cuda:2', grad_fn=<AddBackward0>) tensor(0.2584, device='cuda:2', grad_fn=<DivBackward0>)\n"
     ]
    },
    {
     "name": "stderr",
     "output_type": "stream",
     "text": [
      "848it [01:19, 10.26it/s]"
     ]
    },
    {
     "name": "stdout",
     "output_type": "stream",
     "text": [
      "tensor(0.8784, device='cuda:2', grad_fn=<MeanBackward0>) tensor(3.3496, device='cuda:2', grad_fn=<MeanBackward0>)\n",
      "tensor(0.3048, device='cuda:2', grad_fn=<AddBackward0>) tensor(0.2622, device='cuda:2', grad_fn=<DivBackward0>)\n",
      "tensor(0.8696, device='cuda:2', grad_fn=<MeanBackward0>) tensor(3.3481, device='cuda:2', grad_fn=<MeanBackward0>)\n",
      "tensor(0.3046, device='cuda:2', grad_fn=<AddBackward0>) tensor(0.2597, device='cuda:2', grad_fn=<DivBackward0>)\n",
      "tensor(0.8672, device='cuda:2', grad_fn=<MeanBackward0>) tensor(3.3525, device='cuda:2', grad_fn=<MeanBackward0>)\n",
      "tensor(0.4032, device='cuda:2', grad_fn=<AddBackward0>) tensor(0.2587, device='cuda:2', grad_fn=<DivBackward0>)\n"
     ]
    },
    {
     "name": "stderr",
     "output_type": "stream",
     "text": [
      "852it [01:20, 10.48it/s]"
     ]
    },
    {
     "name": "stdout",
     "output_type": "stream",
     "text": [
      "tensor(0.8636, device='cuda:2', grad_fn=<MeanBackward0>) tensor(3.3515, device='cuda:2', grad_fn=<MeanBackward0>)\n",
      "tensor(0.3989, device='cuda:2', grad_fn=<AddBackward0>) tensor(0.2577, device='cuda:2', grad_fn=<DivBackward0>)\n",
      "tensor(0.8607, device='cuda:2', grad_fn=<MeanBackward0>) tensor(3.3451, device='cuda:2', grad_fn=<MeanBackward0>)\n",
      "tensor(0.3989, device='cuda:2', grad_fn=<AddBackward0>) tensor(0.2573, device='cuda:2', grad_fn=<DivBackward0>)\n",
      "tensor(0.8537, device='cuda:2', grad_fn=<MeanBackward0>) tensor(3.3468, device='cuda:2', grad_fn=<MeanBackward0>)\n",
      "tensor(0.3873, device='cuda:2', grad_fn=<AddBackward0>) tensor(0.2551, device='cuda:2', grad_fn=<DivBackward0>)\n"
     ]
    },
    {
     "name": "stderr",
     "output_type": "stream",
     "text": [
      "854it [01:20, 10.57it/s]"
     ]
    },
    {
     "name": "stdout",
     "output_type": "stream",
     "text": [
      "tensor(0.9092, device='cuda:2', grad_fn=<MeanBackward0>) tensor(3.3612, device='cuda:2', grad_fn=<MeanBackward0>)\n",
      "tensor(0.2739, device='cuda:2', grad_fn=<AddBackward0>) tensor(0.2705, device='cuda:2', grad_fn=<DivBackward0>)\n",
      "tensor(0.9006, device='cuda:2', grad_fn=<MeanBackward0>) tensor(3.3589, device='cuda:2', grad_fn=<MeanBackward0>)\n",
      "tensor(0.2464, device='cuda:2', grad_fn=<AddBackward0>) tensor(0.2681, device='cuda:2', grad_fn=<DivBackward0>)\n",
      "tensor(0.9088, device='cuda:2', grad_fn=<MeanBackward0>) tensor(3.3601, device='cuda:2', grad_fn=<MeanBackward0>)\n",
      "tensor(0.2506, device='cuda:2', grad_fn=<AddBackward0>) tensor(0.2705, device='cuda:2', grad_fn=<DivBackward0>)\n"
     ]
    },
    {
     "name": "stderr",
     "output_type": "stream",
     "text": [
      "858it [01:20, 10.61it/s]"
     ]
    },
    {
     "name": "stdout",
     "output_type": "stream",
     "text": [
      "tensor(0.9160, device='cuda:2', grad_fn=<MeanBackward0>) tensor(3.3727, device='cuda:2', grad_fn=<MeanBackward0>)\n",
      "tensor(0.2590, device='cuda:2', grad_fn=<AddBackward0>) tensor(0.2716, device='cuda:2', grad_fn=<DivBackward0>)\n",
      "tensor(0.9051, device='cuda:2', grad_fn=<MeanBackward0>) tensor(3.3738, device='cuda:2', grad_fn=<MeanBackward0>)\n",
      "tensor(0.4338, device='cuda:2', grad_fn=<AddBackward0>) tensor(0.2683, device='cuda:2', grad_fn=<DivBackward0>)\n",
      "tensor(0.9133, device='cuda:2', grad_fn=<MeanBackward0>) tensor(3.3795, device='cuda:2', grad_fn=<MeanBackward0>)\n",
      "tensor(0.4072, device='cuda:2', grad_fn=<AddBackward0>) tensor(0.2703, device='cuda:2', grad_fn=<DivBackward0>)\n"
     ]
    },
    {
     "name": "stderr",
     "output_type": "stream",
     "text": [
      "860it [01:20, 10.67it/s]"
     ]
    },
    {
     "name": "stdout",
     "output_type": "stream",
     "text": [
      "tensor(0.9244, device='cuda:2', grad_fn=<MeanBackward0>) tensor(3.3809, device='cuda:2', grad_fn=<MeanBackward0>)\n",
      "tensor(0.4028, device='cuda:2', grad_fn=<AddBackward0>) tensor(0.2734, device='cuda:2', grad_fn=<DivBackward0>)\n",
      "tensor(0.9130, device='cuda:2', grad_fn=<MeanBackward0>) tensor(3.3959, device='cuda:2', grad_fn=<MeanBackward0>)\n",
      "tensor(0.4025, device='cuda:2', grad_fn=<AddBackward0>) tensor(0.2689, device='cuda:2', grad_fn=<DivBackward0>)\n",
      "tensor(0.8711, device='cuda:2', grad_fn=<MeanBackward0>) tensor(3.3658, device='cuda:2', grad_fn=<MeanBackward0>)\n",
      "tensor(0.2612, device='cuda:2', grad_fn=<AddBackward0>) tensor(0.2588, device='cuda:2', grad_fn=<DivBackward0>)\n"
     ]
    },
    {
     "name": "stderr",
     "output_type": "stream",
     "text": [
      "864it [01:21, 10.75it/s]"
     ]
    },
    {
     "name": "stdout",
     "output_type": "stream",
     "text": [
      "tensor(0.8968, device='cuda:2', grad_fn=<MeanBackward0>) tensor(3.3782, device='cuda:2', grad_fn=<MeanBackward0>)\n",
      "tensor(0.2494, device='cuda:2', grad_fn=<AddBackward0>) tensor(0.2655, device='cuda:2', grad_fn=<DivBackward0>)\n",
      "tensor(0.8890, device='cuda:2', grad_fn=<MeanBackward0>) tensor(3.3703, device='cuda:2', grad_fn=<MeanBackward0>)\n",
      "tensor(0.2419, device='cuda:2', grad_fn=<AddBackward0>) tensor(0.2638, device='cuda:2', grad_fn=<DivBackward0>)\n",
      "tensor(0.8848, device='cuda:2', grad_fn=<MeanBackward0>) tensor(3.3636, device='cuda:2', grad_fn=<MeanBackward0>)\n",
      "tensor(0.2462, device='cuda:2', grad_fn=<AddBackward0>) tensor(0.2631, device='cuda:2', grad_fn=<DivBackward0>)\n"
     ]
    },
    {
     "name": "stderr",
     "output_type": "stream",
     "text": [
      "866it [01:21, 10.70it/s]"
     ]
    },
    {
     "name": "stdout",
     "output_type": "stream",
     "text": [
      "tensor(0.9003, device='cuda:2', grad_fn=<MeanBackward0>) tensor(3.3749, device='cuda:2', grad_fn=<MeanBackward0>)\n",
      "tensor(0.3096, device='cuda:2', grad_fn=<AddBackward0>) tensor(0.2668, device='cuda:2', grad_fn=<DivBackward0>)\n",
      "tensor(0.8952, device='cuda:2', grad_fn=<MeanBackward0>) tensor(3.3591, device='cuda:2', grad_fn=<MeanBackward0>)\n",
      "tensor(0.2838, device='cuda:2', grad_fn=<AddBackward0>) tensor(0.2665, device='cuda:2', grad_fn=<DivBackward0>)\n",
      "tensor(0.8722, device='cuda:2', grad_fn=<MeanBackward0>) tensor(3.3509, device='cuda:2', grad_fn=<MeanBackward0>)\n",
      "tensor(0.2959, device='cuda:2', grad_fn=<AddBackward0>) tensor(0.2603, device='cuda:2', grad_fn=<DivBackward0>)\n"
     ]
    },
    {
     "name": "stderr",
     "output_type": "stream",
     "text": [
      "870it [01:21, 10.57it/s]"
     ]
    },
    {
     "name": "stdout",
     "output_type": "stream",
     "text": [
      "tensor(0.8645, device='cuda:2', grad_fn=<MeanBackward0>) tensor(3.3391, device='cuda:2', grad_fn=<MeanBackward0>)\n",
      "tensor(0.2887, device='cuda:2', grad_fn=<AddBackward0>) tensor(0.2589, device='cuda:2', grad_fn=<DivBackward0>)\n",
      "tensor(0.8522, device='cuda:2', grad_fn=<MeanBackward0>) tensor(3.3355, device='cuda:2', grad_fn=<MeanBackward0>)\n",
      "tensor(0.3158, device='cuda:2', grad_fn=<AddBackward0>) tensor(0.2555, device='cuda:2', grad_fn=<DivBackward0>)\n",
      "tensor(0.8622, device='cuda:2', grad_fn=<MeanBackward0>) tensor(3.3379, device='cuda:2', grad_fn=<MeanBackward0>)\n",
      "tensor(0.3176, device='cuda:2', grad_fn=<AddBackward0>) tensor(0.2583, device='cuda:2', grad_fn=<DivBackward0>)\n"
     ]
    },
    {
     "name": "stderr",
     "output_type": "stream",
     "text": [
      "872it [01:21, 10.57it/s]"
     ]
    },
    {
     "name": "stdout",
     "output_type": "stream",
     "text": [
      "tensor(0.8663, device='cuda:2', grad_fn=<MeanBackward0>) tensor(3.3266, device='cuda:2', grad_fn=<MeanBackward0>)\n",
      "tensor(0.3072, device='cuda:2', grad_fn=<AddBackward0>) tensor(0.2604, device='cuda:2', grad_fn=<DivBackward0>)\n",
      "tensor(0.8810, device='cuda:2', grad_fn=<MeanBackward0>) tensor(3.3466, device='cuda:2', grad_fn=<MeanBackward0>)\n",
      "tensor(0.3558, device='cuda:2', grad_fn=<AddBackward0>) tensor(0.2632, device='cuda:2', grad_fn=<DivBackward0>)\n",
      "tensor(0.9273, device='cuda:2', grad_fn=<MeanBackward0>) tensor(3.3590, device='cuda:2', grad_fn=<MeanBackward0>)\n",
      "tensor(0.3215, device='cuda:2', grad_fn=<AddBackward0>) tensor(0.2761, device='cuda:2', grad_fn=<DivBackward0>)\n"
     ]
    },
    {
     "name": "stderr",
     "output_type": "stream",
     "text": [
      "876it [01:22, 10.63it/s]"
     ]
    },
    {
     "name": "stdout",
     "output_type": "stream",
     "text": [
      "tensor(0.9096, device='cuda:2', grad_fn=<MeanBackward0>) tensor(3.3577, device='cuda:2', grad_fn=<MeanBackward0>)\n",
      "tensor(0.3063, device='cuda:2', grad_fn=<AddBackward0>) tensor(0.2709, device='cuda:2', grad_fn=<DivBackward0>)\n",
      "tensor(0.9143, device='cuda:2', grad_fn=<MeanBackward0>) tensor(3.3624, device='cuda:2', grad_fn=<MeanBackward0>)\n",
      "tensor(0.3034, device='cuda:2', grad_fn=<AddBackward0>) tensor(0.2719, device='cuda:2', grad_fn=<DivBackward0>)\n",
      "tensor(0.9343, device='cuda:2', grad_fn=<MeanBackward0>) tensor(3.3780, device='cuda:2', grad_fn=<MeanBackward0>)\n",
      "tensor(0.2928, device='cuda:2', grad_fn=<AddBackward0>) tensor(0.2766, device='cuda:2', grad_fn=<DivBackward0>)\n"
     ]
    },
    {
     "name": "stderr",
     "output_type": "stream",
     "text": [
      "878it [01:22, 10.65it/s]"
     ]
    },
    {
     "name": "stdout",
     "output_type": "stream",
     "text": [
      "tensor(0.9168, device='cuda:2', grad_fn=<MeanBackward0>) tensor(3.3842, device='cuda:2', grad_fn=<MeanBackward0>)\n",
      "tensor(0.4158, device='cuda:2', grad_fn=<AddBackward0>) tensor(0.2709, device='cuda:2', grad_fn=<DivBackward0>)\n",
      "tensor(0.9220, device='cuda:2', grad_fn=<MeanBackward0>) tensor(3.3800, device='cuda:2', grad_fn=<MeanBackward0>)\n",
      "tensor(0.3820, device='cuda:2', grad_fn=<AddBackward0>) tensor(0.2728, device='cuda:2', grad_fn=<DivBackward0>)\n",
      "tensor(0.9369, device='cuda:2', grad_fn=<MeanBackward0>) tensor(3.4000, device='cuda:2', grad_fn=<MeanBackward0>)\n",
      "tensor(0.3887, device='cuda:2', grad_fn=<AddBackward0>) tensor(0.2756, device='cuda:2', grad_fn=<DivBackward0>)\n"
     ]
    },
    {
     "name": "stderr",
     "output_type": "stream",
     "text": [
      "882it [01:22, 10.50it/s]"
     ]
    },
    {
     "name": "stdout",
     "output_type": "stream",
     "text": [
      "tensor(0.9224, device='cuda:2', grad_fn=<MeanBackward0>) tensor(3.3847, device='cuda:2', grad_fn=<MeanBackward0>)\n",
      "tensor(0.3772, device='cuda:2', grad_fn=<AddBackward0>) tensor(0.2725, device='cuda:2', grad_fn=<DivBackward0>)\n",
      "tensor(0.8780, device='cuda:2', grad_fn=<MeanBackward0>) tensor(3.3501, device='cuda:2', grad_fn=<MeanBackward0>)\n",
      "tensor(0.3409, device='cuda:2', grad_fn=<AddBackward0>) tensor(0.2621, device='cuda:2', grad_fn=<DivBackward0>)\n",
      "tensor(0.8787, device='cuda:2', grad_fn=<MeanBackward0>) tensor(3.3457, device='cuda:2', grad_fn=<MeanBackward0>)\n",
      "tensor(0.3300, device='cuda:2', grad_fn=<AddBackward0>) tensor(0.2626, device='cuda:2', grad_fn=<DivBackward0>)\n"
     ]
    },
    {
     "name": "stderr",
     "output_type": "stream",
     "text": [
      "884it [01:23, 10.48it/s]"
     ]
    },
    {
     "name": "stdout",
     "output_type": "stream",
     "text": [
      "tensor(0.8963, device='cuda:2', grad_fn=<MeanBackward0>) tensor(3.3574, device='cuda:2', grad_fn=<MeanBackward0>)\n",
      "tensor(0.3323, device='cuda:2', grad_fn=<AddBackward0>) tensor(0.2670, device='cuda:2', grad_fn=<DivBackward0>)\n",
      "tensor(0.8914, device='cuda:2', grad_fn=<MeanBackward0>) tensor(3.3541, device='cuda:2', grad_fn=<MeanBackward0>)\n",
      "tensor(0.3351, device='cuda:2', grad_fn=<AddBackward0>) tensor(0.2658, device='cuda:2', grad_fn=<DivBackward0>)\n",
      "tensor(0.9415, device='cuda:2', grad_fn=<MeanBackward0>) tensor(3.3785, device='cuda:2', grad_fn=<MeanBackward0>)\n",
      "tensor(0.3473, device='cuda:2', grad_fn=<AddBackward0>) tensor(0.2787, device='cuda:2', grad_fn=<DivBackward0>)\n"
     ]
    },
    {
     "name": "stderr",
     "output_type": "stream",
     "text": [
      "888it [01:23, 10.46it/s]"
     ]
    },
    {
     "name": "stdout",
     "output_type": "stream",
     "text": [
      "tensor(0.9212, device='cuda:2', grad_fn=<MeanBackward0>) tensor(3.3718, device='cuda:2', grad_fn=<MeanBackward0>)\n",
      "tensor(0.3156, device='cuda:2', grad_fn=<AddBackward0>) tensor(0.2732, device='cuda:2', grad_fn=<DivBackward0>)\n",
      "tensor(0.9231, device='cuda:2', grad_fn=<MeanBackward0>) tensor(3.3728, device='cuda:2', grad_fn=<MeanBackward0>)\n",
      "tensor(0.3228, device='cuda:2', grad_fn=<AddBackward0>) tensor(0.2737, device='cuda:2', grad_fn=<DivBackward0>)\n",
      "tensor(0.9263, device='cuda:2', grad_fn=<MeanBackward0>) tensor(3.3827, device='cuda:2', grad_fn=<MeanBackward0>)\n",
      "tensor(0.3219, device='cuda:2', grad_fn=<AddBackward0>) tensor(0.2738, device='cuda:2', grad_fn=<DivBackward0>)\n"
     ]
    },
    {
     "name": "stderr",
     "output_type": "stream",
     "text": [
      "890it [01:23, 10.49it/s]"
     ]
    },
    {
     "name": "stdout",
     "output_type": "stream",
     "text": [
      "tensor(0.9241, device='cuda:2', grad_fn=<MeanBackward0>) tensor(3.3831, device='cuda:2', grad_fn=<MeanBackward0>)\n",
      "tensor(0.4160, device='cuda:2', grad_fn=<AddBackward0>) tensor(0.2731, device='cuda:2', grad_fn=<DivBackward0>)\n",
      "tensor(0.9142, device='cuda:2', grad_fn=<MeanBackward0>) tensor(3.3845, device='cuda:2', grad_fn=<MeanBackward0>)\n",
      "tensor(0.4214, device='cuda:2', grad_fn=<AddBackward0>) tensor(0.2701, device='cuda:2', grad_fn=<DivBackward0>)\n",
      "tensor(0.9566, device='cuda:2', grad_fn=<MeanBackward0>) tensor(3.3991, device='cuda:2', grad_fn=<MeanBackward0>)\n",
      "tensor(0.4645, device='cuda:2', grad_fn=<AddBackward0>) tensor(0.2814, device='cuda:2', grad_fn=<DivBackward0>)\n"
     ]
    },
    {
     "name": "stderr",
     "output_type": "stream",
     "text": [
      "894it [01:24, 10.52it/s]"
     ]
    },
    {
     "name": "stdout",
     "output_type": "stream",
     "text": [
      "tensor(0.9180, device='cuda:2', grad_fn=<MeanBackward0>) tensor(3.3766, device='cuda:2', grad_fn=<MeanBackward0>)\n",
      "tensor(0.4140, device='cuda:2', grad_fn=<AddBackward0>) tensor(0.2719, device='cuda:2', grad_fn=<DivBackward0>)\n",
      "tensor(0.9032, device='cuda:2', grad_fn=<MeanBackward0>) tensor(3.3692, device='cuda:2', grad_fn=<MeanBackward0>)\n",
      "tensor(0.3573, device='cuda:2', grad_fn=<AddBackward0>) tensor(0.2681, device='cuda:2', grad_fn=<DivBackward0>)\n",
      "tensor(0.8935, device='cuda:2', grad_fn=<MeanBackward0>) tensor(3.3575, device='cuda:2', grad_fn=<MeanBackward0>)\n",
      "tensor(0.3547, device='cuda:2', grad_fn=<AddBackward0>) tensor(0.2661, device='cuda:2', grad_fn=<DivBackward0>)\n"
     ]
    },
    {
     "name": "stderr",
     "output_type": "stream",
     "text": [
      "897it [01:24, 10.63it/s]"
     ]
    },
    {
     "name": "stdout",
     "output_type": "stream",
     "text": [
      "tensor(0.8945, device='cuda:2', grad_fn=<MeanBackward0>) tensor(3.3489, device='cuda:2', grad_fn=<MeanBackward0>)\n",
      "tensor(0.3612, device='cuda:2', grad_fn=<AddBackward0>) tensor(0.2671, device='cuda:2', grad_fn=<DivBackward0>)\n",
      "tensor(0.8941, device='cuda:2', grad_fn=<MeanBackward0>) tensor(3.3529, device='cuda:2', grad_fn=<MeanBackward0>)\n",
      "tensor(0.3768, device='cuda:2', grad_fn=<AddBackward0>) tensor(0.2667, device='cuda:2', grad_fn=<DivBackward0>)\n"
     ]
    },
    {
     "name": "stderr",
     "output_type": "stream",
     "text": [
      "\n"
     ]
    },
    {
     "ename": "KeyboardInterrupt",
     "evalue": "",
     "output_type": "error",
     "traceback": [
      "\u001b[0;31m---------------------------------------------------------------------------\u001b[0m",
      "\u001b[0;31mKeyboardInterrupt\u001b[0m                         Traceback (most recent call last)",
      "Cell \u001b[0;32mIn[1], line 210\u001b[0m\n\u001b[1;32m    206\u001b[0m start_loss  \u001b[38;5;241m=\u001b[39m model\u001b[38;5;241m.\u001b[39mtest_model(test_loader, device)\n\u001b[1;32m    207\u001b[0m \u001b[38;5;66;03m# out_str = '{} | Test performance on {}->{}: Round 0 (B=0): {:.2f}'.format(method, source, target, start_perf)\u001b[39;00m\n\u001b[1;32m    208\u001b[0m \n\u001b[1;32m    209\u001b[0m \u001b[38;5;66;03m# Шаг дообучения модели с использованием центроидов\u001b[39;00m\n\u001b[0;32m--> 210\u001b[0m \u001b[43mmodel\u001b[49m\u001b[38;5;241;43m.\u001b[39;49m\u001b[43mfinetune_model_on_centroids\u001b[49m\u001b[43m(\u001b[49m\u001b[43mcentroids\u001b[49m\u001b[43m,\u001b[49m\u001b[43m \u001b[49m\u001b[43mtrain_loader\u001b[49m\u001b[43m,\u001b[49m\u001b[43m \u001b[49m\u001b[43mmodel\u001b[49m\u001b[43m)\u001b[49m\n\u001b[1;32m    212\u001b[0m \u001b[38;5;66;03m# Тестируем производительность модели после дообучения\u001b[39;00m\n\u001b[1;32m    213\u001b[0m test_perf \u001b[38;5;241m=\u001b[39m model\u001b[38;5;241m.\u001b[39mtest_model(test_loader, device)\n",
      "File \u001b[0;32m~/MedImSeg-Lab24/src/notebooks/../unet.py:94\u001b[0m, in \u001b[0;36mLightningSegmentationModel.finetune_model_on_centroids\u001b[0;34m(self, centroids, data_loader, model)\u001b[0m\n\u001b[1;32m     91\u001b[0m optimizer\u001b[38;5;241m.\u001b[39mzero_grad()\n\u001b[1;32m     93\u001b[0m \u001b[38;5;66;03m# Получаем эмбеддинги с модели\u001b[39;00m\n\u001b[0;32m---> 94\u001b[0m outputs, embeddings_pen \u001b[38;5;241m=\u001b[39m \u001b[43mmodel\u001b[49m\u001b[43m(\u001b[49m\u001b[43mdata\u001b[49m\u001b[43m,\u001b[49m\u001b[43m \u001b[49m\u001b[43mwith_emb\u001b[49m\u001b[38;5;241;43m=\u001b[39;49m\u001b[38;5;28;43;01mTrue\u001b[39;49;00m\u001b[43m)\u001b[49m\n\u001b[1;32m     96\u001b[0m \u001b[38;5;66;03m# Преобразуем эмбеддинги в формат, удобный для вычисления расстояний\u001b[39;00m\n\u001b[1;32m     97\u001b[0m _, emb_dim, _, _ \u001b[38;5;241m=\u001b[39m embeddings_pen\u001b[38;5;241m.\u001b[39mshape\n",
      "File \u001b[0;32m~/MedImSeg-Lab24/CLUE/lib/python3.8/site-packages/torch/nn/modules/module.py:1553\u001b[0m, in \u001b[0;36mModule._wrapped_call_impl\u001b[0;34m(self, *args, **kwargs)\u001b[0m\n\u001b[1;32m   1551\u001b[0m     \u001b[38;5;28;01mreturn\u001b[39;00m \u001b[38;5;28mself\u001b[39m\u001b[38;5;241m.\u001b[39m_compiled_call_impl(\u001b[38;5;241m*\u001b[39margs, \u001b[38;5;241m*\u001b[39m\u001b[38;5;241m*\u001b[39mkwargs)  \u001b[38;5;66;03m# type: ignore[misc]\u001b[39;00m\n\u001b[1;32m   1552\u001b[0m \u001b[38;5;28;01melse\u001b[39;00m:\n\u001b[0;32m-> 1553\u001b[0m     \u001b[38;5;28;01mreturn\u001b[39;00m \u001b[38;5;28;43mself\u001b[39;49m\u001b[38;5;241;43m.\u001b[39;49m\u001b[43m_call_impl\u001b[49m\u001b[43m(\u001b[49m\u001b[38;5;241;43m*\u001b[39;49m\u001b[43margs\u001b[49m\u001b[43m,\u001b[49m\u001b[43m \u001b[49m\u001b[38;5;241;43m*\u001b[39;49m\u001b[38;5;241;43m*\u001b[39;49m\u001b[43mkwargs\u001b[49m\u001b[43m)\u001b[49m\n",
      "File \u001b[0;32m~/MedImSeg-Lab24/CLUE/lib/python3.8/site-packages/torch/nn/modules/module.py:1562\u001b[0m, in \u001b[0;36mModule._call_impl\u001b[0;34m(self, *args, **kwargs)\u001b[0m\n\u001b[1;32m   1557\u001b[0m \u001b[38;5;66;03m# If we don't have any hooks, we want to skip the rest of the logic in\u001b[39;00m\n\u001b[1;32m   1558\u001b[0m \u001b[38;5;66;03m# this function, and just call forward.\u001b[39;00m\n\u001b[1;32m   1559\u001b[0m \u001b[38;5;28;01mif\u001b[39;00m \u001b[38;5;129;01mnot\u001b[39;00m (\u001b[38;5;28mself\u001b[39m\u001b[38;5;241m.\u001b[39m_backward_hooks \u001b[38;5;129;01mor\u001b[39;00m \u001b[38;5;28mself\u001b[39m\u001b[38;5;241m.\u001b[39m_backward_pre_hooks \u001b[38;5;129;01mor\u001b[39;00m \u001b[38;5;28mself\u001b[39m\u001b[38;5;241m.\u001b[39m_forward_hooks \u001b[38;5;129;01mor\u001b[39;00m \u001b[38;5;28mself\u001b[39m\u001b[38;5;241m.\u001b[39m_forward_pre_hooks\n\u001b[1;32m   1560\u001b[0m         \u001b[38;5;129;01mor\u001b[39;00m _global_backward_pre_hooks \u001b[38;5;129;01mor\u001b[39;00m _global_backward_hooks\n\u001b[1;32m   1561\u001b[0m         \u001b[38;5;129;01mor\u001b[39;00m _global_forward_hooks \u001b[38;5;129;01mor\u001b[39;00m _global_forward_pre_hooks):\n\u001b[0;32m-> 1562\u001b[0m     \u001b[38;5;28;01mreturn\u001b[39;00m \u001b[43mforward_call\u001b[49m\u001b[43m(\u001b[49m\u001b[38;5;241;43m*\u001b[39;49m\u001b[43margs\u001b[49m\u001b[43m,\u001b[49m\u001b[43m \u001b[49m\u001b[38;5;241;43m*\u001b[39;49m\u001b[38;5;241;43m*\u001b[39;49m\u001b[43mkwargs\u001b[49m\u001b[43m)\u001b[49m\n\u001b[1;32m   1564\u001b[0m \u001b[38;5;28;01mtry\u001b[39;00m:\n\u001b[1;32m   1565\u001b[0m     result \u001b[38;5;241m=\u001b[39m \u001b[38;5;28;01mNone\u001b[39;00m\n",
      "File \u001b[0;32m~/MedImSeg-Lab24/src/notebooks/../unet.py:76\u001b[0m, in \u001b[0;36mLightningSegmentationModel.forward\u001b[0;34m(self, inputs, with_emb)\u001b[0m\n\u001b[1;32m     73\u001b[0m \u001b[38;5;28;01mdef\u001b[39;00m \u001b[38;5;21mforward\u001b[39m(\u001b[38;5;28mself\u001b[39m, inputs, with_emb\u001b[38;5;241m=\u001b[39m\u001b[38;5;28;01mFalse\u001b[39;00m):        \n\u001b[1;32m     74\u001b[0m     \u001b[38;5;28;01mif\u001b[39;00m with_emb:\n\u001b[1;32m     75\u001b[0m         \u001b[38;5;66;03m# For CLUE we need embedings from the penultimate layer\u001b[39;00m\n\u001b[0;32m---> 76\u001b[0m         emb \u001b[38;5;241m=\u001b[39m \u001b[38;5;28;43mself\u001b[39;49m\u001b[38;5;241;43m.\u001b[39;49m\u001b[43mmodel\u001b[49m\u001b[38;5;241;43m.\u001b[39;49m\u001b[43mmodel\u001b[49m\u001b[43m[\u001b[49m\u001b[43m:\u001b[49m\u001b[38;5;241;43m-\u001b[39;49m\u001b[38;5;241;43m1\u001b[39;49m\u001b[43m]\u001b[49m\u001b[43m(\u001b[49m\u001b[43minputs\u001b[49m\u001b[43m)\u001b[49m\n\u001b[1;32m     77\u001b[0m         pred \u001b[38;5;241m=\u001b[39m \u001b[38;5;28mself\u001b[39m\u001b[38;5;241m.\u001b[39mmodel\u001b[38;5;241m.\u001b[39mmodel[\u001b[38;5;241m-\u001b[39m\u001b[38;5;241m1\u001b[39m](emb)\n\u001b[1;32m     78\u001b[0m         \u001b[38;5;28;01mreturn\u001b[39;00m pred, emb\n",
      "File \u001b[0;32m~/MedImSeg-Lab24/CLUE/lib/python3.8/site-packages/torch/nn/modules/module.py:1553\u001b[0m, in \u001b[0;36mModule._wrapped_call_impl\u001b[0;34m(self, *args, **kwargs)\u001b[0m\n\u001b[1;32m   1551\u001b[0m     \u001b[38;5;28;01mreturn\u001b[39;00m \u001b[38;5;28mself\u001b[39m\u001b[38;5;241m.\u001b[39m_compiled_call_impl(\u001b[38;5;241m*\u001b[39margs, \u001b[38;5;241m*\u001b[39m\u001b[38;5;241m*\u001b[39mkwargs)  \u001b[38;5;66;03m# type: ignore[misc]\u001b[39;00m\n\u001b[1;32m   1552\u001b[0m \u001b[38;5;28;01melse\u001b[39;00m:\n\u001b[0;32m-> 1553\u001b[0m     \u001b[38;5;28;01mreturn\u001b[39;00m \u001b[38;5;28;43mself\u001b[39;49m\u001b[38;5;241;43m.\u001b[39;49m\u001b[43m_call_impl\u001b[49m\u001b[43m(\u001b[49m\u001b[38;5;241;43m*\u001b[39;49m\u001b[43margs\u001b[49m\u001b[43m,\u001b[49m\u001b[43m \u001b[49m\u001b[38;5;241;43m*\u001b[39;49m\u001b[38;5;241;43m*\u001b[39;49m\u001b[43mkwargs\u001b[49m\u001b[43m)\u001b[49m\n",
      "File \u001b[0;32m~/MedImSeg-Lab24/CLUE/lib/python3.8/site-packages/torch/nn/modules/module.py:1562\u001b[0m, in \u001b[0;36mModule._call_impl\u001b[0;34m(self, *args, **kwargs)\u001b[0m\n\u001b[1;32m   1557\u001b[0m \u001b[38;5;66;03m# If we don't have any hooks, we want to skip the rest of the logic in\u001b[39;00m\n\u001b[1;32m   1558\u001b[0m \u001b[38;5;66;03m# this function, and just call forward.\u001b[39;00m\n\u001b[1;32m   1559\u001b[0m \u001b[38;5;28;01mif\u001b[39;00m \u001b[38;5;129;01mnot\u001b[39;00m (\u001b[38;5;28mself\u001b[39m\u001b[38;5;241m.\u001b[39m_backward_hooks \u001b[38;5;129;01mor\u001b[39;00m \u001b[38;5;28mself\u001b[39m\u001b[38;5;241m.\u001b[39m_backward_pre_hooks \u001b[38;5;129;01mor\u001b[39;00m \u001b[38;5;28mself\u001b[39m\u001b[38;5;241m.\u001b[39m_forward_hooks \u001b[38;5;129;01mor\u001b[39;00m \u001b[38;5;28mself\u001b[39m\u001b[38;5;241m.\u001b[39m_forward_pre_hooks\n\u001b[1;32m   1560\u001b[0m         \u001b[38;5;129;01mor\u001b[39;00m _global_backward_pre_hooks \u001b[38;5;129;01mor\u001b[39;00m _global_backward_hooks\n\u001b[1;32m   1561\u001b[0m         \u001b[38;5;129;01mor\u001b[39;00m _global_forward_hooks \u001b[38;5;129;01mor\u001b[39;00m _global_forward_pre_hooks):\n\u001b[0;32m-> 1562\u001b[0m     \u001b[38;5;28;01mreturn\u001b[39;00m \u001b[43mforward_call\u001b[49m\u001b[43m(\u001b[49m\u001b[38;5;241;43m*\u001b[39;49m\u001b[43margs\u001b[49m\u001b[43m,\u001b[49m\u001b[43m \u001b[49m\u001b[38;5;241;43m*\u001b[39;49m\u001b[38;5;241;43m*\u001b[39;49m\u001b[43mkwargs\u001b[49m\u001b[43m)\u001b[49m\n\u001b[1;32m   1564\u001b[0m \u001b[38;5;28;01mtry\u001b[39;00m:\n\u001b[1;32m   1565\u001b[0m     result \u001b[38;5;241m=\u001b[39m \u001b[38;5;28;01mNone\u001b[39;00m\n",
      "File \u001b[0;32m~/MedImSeg-Lab24/CLUE/lib/python3.8/site-packages/torch/nn/modules/container.py:219\u001b[0m, in \u001b[0;36mSequential.forward\u001b[0;34m(self, input)\u001b[0m\n\u001b[1;32m    217\u001b[0m \u001b[38;5;28;01mdef\u001b[39;00m \u001b[38;5;21mforward\u001b[39m(\u001b[38;5;28mself\u001b[39m, \u001b[38;5;28minput\u001b[39m):\n\u001b[1;32m    218\u001b[0m     \u001b[38;5;28;01mfor\u001b[39;00m module \u001b[38;5;129;01min\u001b[39;00m \u001b[38;5;28mself\u001b[39m:\n\u001b[0;32m--> 219\u001b[0m         \u001b[38;5;28minput\u001b[39m \u001b[38;5;241m=\u001b[39m \u001b[43mmodule\u001b[49m\u001b[43m(\u001b[49m\u001b[38;5;28;43minput\u001b[39;49m\u001b[43m)\u001b[49m\n\u001b[1;32m    220\u001b[0m     \u001b[38;5;28;01mreturn\u001b[39;00m \u001b[38;5;28minput\u001b[39m\n",
      "File \u001b[0;32m~/MedImSeg-Lab24/CLUE/lib/python3.8/site-packages/torch/nn/modules/module.py:1553\u001b[0m, in \u001b[0;36mModule._wrapped_call_impl\u001b[0;34m(self, *args, **kwargs)\u001b[0m\n\u001b[1;32m   1551\u001b[0m     \u001b[38;5;28;01mreturn\u001b[39;00m \u001b[38;5;28mself\u001b[39m\u001b[38;5;241m.\u001b[39m_compiled_call_impl(\u001b[38;5;241m*\u001b[39margs, \u001b[38;5;241m*\u001b[39m\u001b[38;5;241m*\u001b[39mkwargs)  \u001b[38;5;66;03m# type: ignore[misc]\u001b[39;00m\n\u001b[1;32m   1552\u001b[0m \u001b[38;5;28;01melse\u001b[39;00m:\n\u001b[0;32m-> 1553\u001b[0m     \u001b[38;5;28;01mreturn\u001b[39;00m \u001b[38;5;28;43mself\u001b[39;49m\u001b[38;5;241;43m.\u001b[39;49m\u001b[43m_call_impl\u001b[49m\u001b[43m(\u001b[49m\u001b[38;5;241;43m*\u001b[39;49m\u001b[43margs\u001b[49m\u001b[43m,\u001b[49m\u001b[43m \u001b[49m\u001b[38;5;241;43m*\u001b[39;49m\u001b[38;5;241;43m*\u001b[39;49m\u001b[43mkwargs\u001b[49m\u001b[43m)\u001b[49m\n",
      "File \u001b[0;32m~/MedImSeg-Lab24/CLUE/lib/python3.8/site-packages/torch/nn/modules/module.py:1562\u001b[0m, in \u001b[0;36mModule._call_impl\u001b[0;34m(self, *args, **kwargs)\u001b[0m\n\u001b[1;32m   1557\u001b[0m \u001b[38;5;66;03m# If we don't have any hooks, we want to skip the rest of the logic in\u001b[39;00m\n\u001b[1;32m   1558\u001b[0m \u001b[38;5;66;03m# this function, and just call forward.\u001b[39;00m\n\u001b[1;32m   1559\u001b[0m \u001b[38;5;28;01mif\u001b[39;00m \u001b[38;5;129;01mnot\u001b[39;00m (\u001b[38;5;28mself\u001b[39m\u001b[38;5;241m.\u001b[39m_backward_hooks \u001b[38;5;129;01mor\u001b[39;00m \u001b[38;5;28mself\u001b[39m\u001b[38;5;241m.\u001b[39m_backward_pre_hooks \u001b[38;5;129;01mor\u001b[39;00m \u001b[38;5;28mself\u001b[39m\u001b[38;5;241m.\u001b[39m_forward_hooks \u001b[38;5;129;01mor\u001b[39;00m \u001b[38;5;28mself\u001b[39m\u001b[38;5;241m.\u001b[39m_forward_pre_hooks\n\u001b[1;32m   1560\u001b[0m         \u001b[38;5;129;01mor\u001b[39;00m _global_backward_pre_hooks \u001b[38;5;129;01mor\u001b[39;00m _global_backward_hooks\n\u001b[1;32m   1561\u001b[0m         \u001b[38;5;129;01mor\u001b[39;00m _global_forward_hooks \u001b[38;5;129;01mor\u001b[39;00m _global_forward_pre_hooks):\n\u001b[0;32m-> 1562\u001b[0m     \u001b[38;5;28;01mreturn\u001b[39;00m \u001b[43mforward_call\u001b[49m\u001b[43m(\u001b[49m\u001b[38;5;241;43m*\u001b[39;49m\u001b[43margs\u001b[49m\u001b[43m,\u001b[49m\u001b[43m \u001b[49m\u001b[38;5;241;43m*\u001b[39;49m\u001b[38;5;241;43m*\u001b[39;49m\u001b[43mkwargs\u001b[49m\u001b[43m)\u001b[49m\n\u001b[1;32m   1564\u001b[0m \u001b[38;5;28;01mtry\u001b[39;00m:\n\u001b[1;32m   1565\u001b[0m     result \u001b[38;5;241m=\u001b[39m \u001b[38;5;28;01mNone\u001b[39;00m\n",
      "File \u001b[0;32m~/MedImSeg-Lab24/src/notebooks/../unet.py:574\u001b[0m, in \u001b[0;36mSkipConnection.forward\u001b[0;34m(self, x)\u001b[0m\n\u001b[1;32m    573\u001b[0m \u001b[38;5;28;01mdef\u001b[39;00m \u001b[38;5;21mforward\u001b[39m(\u001b[38;5;28mself\u001b[39m, x: torch\u001b[38;5;241m.\u001b[39mTensor) \u001b[38;5;241m-\u001b[39m\u001b[38;5;241m>\u001b[39m torch\u001b[38;5;241m.\u001b[39mTensor:\n\u001b[0;32m--> 574\u001b[0m     y \u001b[38;5;241m=\u001b[39m \u001b[38;5;28;43mself\u001b[39;49m\u001b[38;5;241;43m.\u001b[39;49m\u001b[43msubmodule\u001b[49m\u001b[43m(\u001b[49m\u001b[43mx\u001b[49m\u001b[43m)\u001b[49m\n\u001b[1;32m    575\u001b[0m     x \u001b[38;5;241m=\u001b[39m \u001b[38;5;28mself\u001b[39m\u001b[38;5;241m.\u001b[39mswivel(x)\n\u001b[1;32m    576\u001b[0m     \u001b[38;5;28;01mif\u001b[39;00m \u001b[38;5;28mself\u001b[39m\u001b[38;5;241m.\u001b[39mmode \u001b[38;5;241m==\u001b[39m \u001b[38;5;124m\"\u001b[39m\u001b[38;5;124mcat\u001b[39m\u001b[38;5;124m\"\u001b[39m:\n",
      "File \u001b[0;32m~/MedImSeg-Lab24/CLUE/lib/python3.8/site-packages/torch/nn/modules/module.py:1553\u001b[0m, in \u001b[0;36mModule._wrapped_call_impl\u001b[0;34m(self, *args, **kwargs)\u001b[0m\n\u001b[1;32m   1551\u001b[0m     \u001b[38;5;28;01mreturn\u001b[39;00m \u001b[38;5;28mself\u001b[39m\u001b[38;5;241m.\u001b[39m_compiled_call_impl(\u001b[38;5;241m*\u001b[39margs, \u001b[38;5;241m*\u001b[39m\u001b[38;5;241m*\u001b[39mkwargs)  \u001b[38;5;66;03m# type: ignore[misc]\u001b[39;00m\n\u001b[1;32m   1552\u001b[0m \u001b[38;5;28;01melse\u001b[39;00m:\n\u001b[0;32m-> 1553\u001b[0m     \u001b[38;5;28;01mreturn\u001b[39;00m \u001b[38;5;28;43mself\u001b[39;49m\u001b[38;5;241;43m.\u001b[39;49m\u001b[43m_call_impl\u001b[49m\u001b[43m(\u001b[49m\u001b[38;5;241;43m*\u001b[39;49m\u001b[43margs\u001b[49m\u001b[43m,\u001b[49m\u001b[43m \u001b[49m\u001b[38;5;241;43m*\u001b[39;49m\u001b[38;5;241;43m*\u001b[39;49m\u001b[43mkwargs\u001b[49m\u001b[43m)\u001b[49m\n",
      "File \u001b[0;32m~/MedImSeg-Lab24/CLUE/lib/python3.8/site-packages/torch/nn/modules/module.py:1562\u001b[0m, in \u001b[0;36mModule._call_impl\u001b[0;34m(self, *args, **kwargs)\u001b[0m\n\u001b[1;32m   1557\u001b[0m \u001b[38;5;66;03m# If we don't have any hooks, we want to skip the rest of the logic in\u001b[39;00m\n\u001b[1;32m   1558\u001b[0m \u001b[38;5;66;03m# this function, and just call forward.\u001b[39;00m\n\u001b[1;32m   1559\u001b[0m \u001b[38;5;28;01mif\u001b[39;00m \u001b[38;5;129;01mnot\u001b[39;00m (\u001b[38;5;28mself\u001b[39m\u001b[38;5;241m.\u001b[39m_backward_hooks \u001b[38;5;129;01mor\u001b[39;00m \u001b[38;5;28mself\u001b[39m\u001b[38;5;241m.\u001b[39m_backward_pre_hooks \u001b[38;5;129;01mor\u001b[39;00m \u001b[38;5;28mself\u001b[39m\u001b[38;5;241m.\u001b[39m_forward_hooks \u001b[38;5;129;01mor\u001b[39;00m \u001b[38;5;28mself\u001b[39m\u001b[38;5;241m.\u001b[39m_forward_pre_hooks\n\u001b[1;32m   1560\u001b[0m         \u001b[38;5;129;01mor\u001b[39;00m _global_backward_pre_hooks \u001b[38;5;129;01mor\u001b[39;00m _global_backward_hooks\n\u001b[1;32m   1561\u001b[0m         \u001b[38;5;129;01mor\u001b[39;00m _global_forward_hooks \u001b[38;5;129;01mor\u001b[39;00m _global_forward_pre_hooks):\n\u001b[0;32m-> 1562\u001b[0m     \u001b[38;5;28;01mreturn\u001b[39;00m \u001b[43mforward_call\u001b[49m\u001b[43m(\u001b[49m\u001b[38;5;241;43m*\u001b[39;49m\u001b[43margs\u001b[49m\u001b[43m,\u001b[49m\u001b[43m \u001b[49m\u001b[38;5;241;43m*\u001b[39;49m\u001b[38;5;241;43m*\u001b[39;49m\u001b[43mkwargs\u001b[49m\u001b[43m)\u001b[49m\n\u001b[1;32m   1564\u001b[0m \u001b[38;5;28;01mtry\u001b[39;00m:\n\u001b[1;32m   1565\u001b[0m     result \u001b[38;5;241m=\u001b[39m \u001b[38;5;28;01mNone\u001b[39;00m\n",
      "File \u001b[0;32m~/MedImSeg-Lab24/CLUE/lib/python3.8/site-packages/torch/nn/modules/container.py:219\u001b[0m, in \u001b[0;36mSequential.forward\u001b[0;34m(self, input)\u001b[0m\n\u001b[1;32m    217\u001b[0m \u001b[38;5;28;01mdef\u001b[39;00m \u001b[38;5;21mforward\u001b[39m(\u001b[38;5;28mself\u001b[39m, \u001b[38;5;28minput\u001b[39m):\n\u001b[1;32m    218\u001b[0m     \u001b[38;5;28;01mfor\u001b[39;00m module \u001b[38;5;129;01min\u001b[39;00m \u001b[38;5;28mself\u001b[39m:\n\u001b[0;32m--> 219\u001b[0m         \u001b[38;5;28minput\u001b[39m \u001b[38;5;241m=\u001b[39m \u001b[43mmodule\u001b[49m\u001b[43m(\u001b[49m\u001b[38;5;28;43minput\u001b[39;49m\u001b[43m)\u001b[49m\n\u001b[1;32m    220\u001b[0m     \u001b[38;5;28;01mreturn\u001b[39;00m \u001b[38;5;28minput\u001b[39m\n",
      "File \u001b[0;32m~/MedImSeg-Lab24/CLUE/lib/python3.8/site-packages/torch/nn/modules/module.py:1553\u001b[0m, in \u001b[0;36mModule._wrapped_call_impl\u001b[0;34m(self, *args, **kwargs)\u001b[0m\n\u001b[1;32m   1551\u001b[0m     \u001b[38;5;28;01mreturn\u001b[39;00m \u001b[38;5;28mself\u001b[39m\u001b[38;5;241m.\u001b[39m_compiled_call_impl(\u001b[38;5;241m*\u001b[39margs, \u001b[38;5;241m*\u001b[39m\u001b[38;5;241m*\u001b[39mkwargs)  \u001b[38;5;66;03m# type: ignore[misc]\u001b[39;00m\n\u001b[1;32m   1552\u001b[0m \u001b[38;5;28;01melse\u001b[39;00m:\n\u001b[0;32m-> 1553\u001b[0m     \u001b[38;5;28;01mreturn\u001b[39;00m \u001b[38;5;28;43mself\u001b[39;49m\u001b[38;5;241;43m.\u001b[39;49m\u001b[43m_call_impl\u001b[49m\u001b[43m(\u001b[49m\u001b[38;5;241;43m*\u001b[39;49m\u001b[43margs\u001b[49m\u001b[43m,\u001b[49m\u001b[43m \u001b[49m\u001b[38;5;241;43m*\u001b[39;49m\u001b[38;5;241;43m*\u001b[39;49m\u001b[43mkwargs\u001b[49m\u001b[43m)\u001b[49m\n",
      "File \u001b[0;32m~/MedImSeg-Lab24/CLUE/lib/python3.8/site-packages/torch/nn/modules/module.py:1562\u001b[0m, in \u001b[0;36mModule._call_impl\u001b[0;34m(self, *args, **kwargs)\u001b[0m\n\u001b[1;32m   1557\u001b[0m \u001b[38;5;66;03m# If we don't have any hooks, we want to skip the rest of the logic in\u001b[39;00m\n\u001b[1;32m   1558\u001b[0m \u001b[38;5;66;03m# this function, and just call forward.\u001b[39;00m\n\u001b[1;32m   1559\u001b[0m \u001b[38;5;28;01mif\u001b[39;00m \u001b[38;5;129;01mnot\u001b[39;00m (\u001b[38;5;28mself\u001b[39m\u001b[38;5;241m.\u001b[39m_backward_hooks \u001b[38;5;129;01mor\u001b[39;00m \u001b[38;5;28mself\u001b[39m\u001b[38;5;241m.\u001b[39m_backward_pre_hooks \u001b[38;5;129;01mor\u001b[39;00m \u001b[38;5;28mself\u001b[39m\u001b[38;5;241m.\u001b[39m_forward_hooks \u001b[38;5;129;01mor\u001b[39;00m \u001b[38;5;28mself\u001b[39m\u001b[38;5;241m.\u001b[39m_forward_pre_hooks\n\u001b[1;32m   1560\u001b[0m         \u001b[38;5;129;01mor\u001b[39;00m _global_backward_pre_hooks \u001b[38;5;129;01mor\u001b[39;00m _global_backward_hooks\n\u001b[1;32m   1561\u001b[0m         \u001b[38;5;129;01mor\u001b[39;00m _global_forward_hooks \u001b[38;5;129;01mor\u001b[39;00m _global_forward_pre_hooks):\n\u001b[0;32m-> 1562\u001b[0m     \u001b[38;5;28;01mreturn\u001b[39;00m \u001b[43mforward_call\u001b[49m\u001b[43m(\u001b[49m\u001b[38;5;241;43m*\u001b[39;49m\u001b[43margs\u001b[49m\u001b[43m,\u001b[49m\u001b[43m \u001b[49m\u001b[38;5;241;43m*\u001b[39;49m\u001b[38;5;241;43m*\u001b[39;49m\u001b[43mkwargs\u001b[49m\u001b[43m)\u001b[49m\n\u001b[1;32m   1564\u001b[0m \u001b[38;5;28;01mtry\u001b[39;00m:\n\u001b[1;32m   1565\u001b[0m     result \u001b[38;5;241m=\u001b[39m \u001b[38;5;28;01mNone\u001b[39;00m\n",
      "File \u001b[0;32m~/MedImSeg-Lab24/src/notebooks/../unet.py:574\u001b[0m, in \u001b[0;36mSkipConnection.forward\u001b[0;34m(self, x)\u001b[0m\n\u001b[1;32m    573\u001b[0m \u001b[38;5;28;01mdef\u001b[39;00m \u001b[38;5;21mforward\u001b[39m(\u001b[38;5;28mself\u001b[39m, x: torch\u001b[38;5;241m.\u001b[39mTensor) \u001b[38;5;241m-\u001b[39m\u001b[38;5;241m>\u001b[39m torch\u001b[38;5;241m.\u001b[39mTensor:\n\u001b[0;32m--> 574\u001b[0m     y \u001b[38;5;241m=\u001b[39m \u001b[38;5;28;43mself\u001b[39;49m\u001b[38;5;241;43m.\u001b[39;49m\u001b[43msubmodule\u001b[49m\u001b[43m(\u001b[49m\u001b[43mx\u001b[49m\u001b[43m)\u001b[49m\n\u001b[1;32m    575\u001b[0m     x \u001b[38;5;241m=\u001b[39m \u001b[38;5;28mself\u001b[39m\u001b[38;5;241m.\u001b[39mswivel(x)\n\u001b[1;32m    576\u001b[0m     \u001b[38;5;28;01mif\u001b[39;00m \u001b[38;5;28mself\u001b[39m\u001b[38;5;241m.\u001b[39mmode \u001b[38;5;241m==\u001b[39m \u001b[38;5;124m\"\u001b[39m\u001b[38;5;124mcat\u001b[39m\u001b[38;5;124m\"\u001b[39m:\n",
      "File \u001b[0;32m~/MedImSeg-Lab24/CLUE/lib/python3.8/site-packages/torch/nn/modules/module.py:1553\u001b[0m, in \u001b[0;36mModule._wrapped_call_impl\u001b[0;34m(self, *args, **kwargs)\u001b[0m\n\u001b[1;32m   1551\u001b[0m     \u001b[38;5;28;01mreturn\u001b[39;00m \u001b[38;5;28mself\u001b[39m\u001b[38;5;241m.\u001b[39m_compiled_call_impl(\u001b[38;5;241m*\u001b[39margs, \u001b[38;5;241m*\u001b[39m\u001b[38;5;241m*\u001b[39mkwargs)  \u001b[38;5;66;03m# type: ignore[misc]\u001b[39;00m\n\u001b[1;32m   1552\u001b[0m \u001b[38;5;28;01melse\u001b[39;00m:\n\u001b[0;32m-> 1553\u001b[0m     \u001b[38;5;28;01mreturn\u001b[39;00m \u001b[38;5;28;43mself\u001b[39;49m\u001b[38;5;241;43m.\u001b[39;49m\u001b[43m_call_impl\u001b[49m\u001b[43m(\u001b[49m\u001b[38;5;241;43m*\u001b[39;49m\u001b[43margs\u001b[49m\u001b[43m,\u001b[49m\u001b[43m \u001b[49m\u001b[38;5;241;43m*\u001b[39;49m\u001b[38;5;241;43m*\u001b[39;49m\u001b[43mkwargs\u001b[49m\u001b[43m)\u001b[49m\n",
      "File \u001b[0;32m~/MedImSeg-Lab24/CLUE/lib/python3.8/site-packages/torch/nn/modules/module.py:1562\u001b[0m, in \u001b[0;36mModule._call_impl\u001b[0;34m(self, *args, **kwargs)\u001b[0m\n\u001b[1;32m   1557\u001b[0m \u001b[38;5;66;03m# If we don't have any hooks, we want to skip the rest of the logic in\u001b[39;00m\n\u001b[1;32m   1558\u001b[0m \u001b[38;5;66;03m# this function, and just call forward.\u001b[39;00m\n\u001b[1;32m   1559\u001b[0m \u001b[38;5;28;01mif\u001b[39;00m \u001b[38;5;129;01mnot\u001b[39;00m (\u001b[38;5;28mself\u001b[39m\u001b[38;5;241m.\u001b[39m_backward_hooks \u001b[38;5;129;01mor\u001b[39;00m \u001b[38;5;28mself\u001b[39m\u001b[38;5;241m.\u001b[39m_backward_pre_hooks \u001b[38;5;129;01mor\u001b[39;00m \u001b[38;5;28mself\u001b[39m\u001b[38;5;241m.\u001b[39m_forward_hooks \u001b[38;5;129;01mor\u001b[39;00m \u001b[38;5;28mself\u001b[39m\u001b[38;5;241m.\u001b[39m_forward_pre_hooks\n\u001b[1;32m   1560\u001b[0m         \u001b[38;5;129;01mor\u001b[39;00m _global_backward_pre_hooks \u001b[38;5;129;01mor\u001b[39;00m _global_backward_hooks\n\u001b[1;32m   1561\u001b[0m         \u001b[38;5;129;01mor\u001b[39;00m _global_forward_hooks \u001b[38;5;129;01mor\u001b[39;00m _global_forward_pre_hooks):\n\u001b[0;32m-> 1562\u001b[0m     \u001b[38;5;28;01mreturn\u001b[39;00m \u001b[43mforward_call\u001b[49m\u001b[43m(\u001b[49m\u001b[38;5;241;43m*\u001b[39;49m\u001b[43margs\u001b[49m\u001b[43m,\u001b[49m\u001b[43m \u001b[49m\u001b[38;5;241;43m*\u001b[39;49m\u001b[38;5;241;43m*\u001b[39;49m\u001b[43mkwargs\u001b[49m\u001b[43m)\u001b[49m\n\u001b[1;32m   1564\u001b[0m \u001b[38;5;28;01mtry\u001b[39;00m:\n\u001b[1;32m   1565\u001b[0m     result \u001b[38;5;241m=\u001b[39m \u001b[38;5;28;01mNone\u001b[39;00m\n",
      "File \u001b[0;32m~/MedImSeg-Lab24/CLUE/lib/python3.8/site-packages/torch/nn/modules/container.py:219\u001b[0m, in \u001b[0;36mSequential.forward\u001b[0;34m(self, input)\u001b[0m\n\u001b[1;32m    217\u001b[0m \u001b[38;5;28;01mdef\u001b[39;00m \u001b[38;5;21mforward\u001b[39m(\u001b[38;5;28mself\u001b[39m, \u001b[38;5;28minput\u001b[39m):\n\u001b[1;32m    218\u001b[0m     \u001b[38;5;28;01mfor\u001b[39;00m module \u001b[38;5;129;01min\u001b[39;00m \u001b[38;5;28mself\u001b[39m:\n\u001b[0;32m--> 219\u001b[0m         \u001b[38;5;28minput\u001b[39m \u001b[38;5;241m=\u001b[39m \u001b[43mmodule\u001b[49m\u001b[43m(\u001b[49m\u001b[38;5;28;43minput\u001b[39;49m\u001b[43m)\u001b[49m\n\u001b[1;32m    220\u001b[0m     \u001b[38;5;28;01mreturn\u001b[39;00m \u001b[38;5;28minput\u001b[39m\n",
      "File \u001b[0;32m~/MedImSeg-Lab24/CLUE/lib/python3.8/site-packages/torch/nn/modules/module.py:1553\u001b[0m, in \u001b[0;36mModule._wrapped_call_impl\u001b[0;34m(self, *args, **kwargs)\u001b[0m\n\u001b[1;32m   1551\u001b[0m     \u001b[38;5;28;01mreturn\u001b[39;00m \u001b[38;5;28mself\u001b[39m\u001b[38;5;241m.\u001b[39m_compiled_call_impl(\u001b[38;5;241m*\u001b[39margs, \u001b[38;5;241m*\u001b[39m\u001b[38;5;241m*\u001b[39mkwargs)  \u001b[38;5;66;03m# type: ignore[misc]\u001b[39;00m\n\u001b[1;32m   1552\u001b[0m \u001b[38;5;28;01melse\u001b[39;00m:\n\u001b[0;32m-> 1553\u001b[0m     \u001b[38;5;28;01mreturn\u001b[39;00m \u001b[38;5;28;43mself\u001b[39;49m\u001b[38;5;241;43m.\u001b[39;49m\u001b[43m_call_impl\u001b[49m\u001b[43m(\u001b[49m\u001b[38;5;241;43m*\u001b[39;49m\u001b[43margs\u001b[49m\u001b[43m,\u001b[49m\u001b[43m \u001b[49m\u001b[38;5;241;43m*\u001b[39;49m\u001b[38;5;241;43m*\u001b[39;49m\u001b[43mkwargs\u001b[49m\u001b[43m)\u001b[49m\n",
      "File \u001b[0;32m~/MedImSeg-Lab24/CLUE/lib/python3.8/site-packages/torch/nn/modules/module.py:1562\u001b[0m, in \u001b[0;36mModule._call_impl\u001b[0;34m(self, *args, **kwargs)\u001b[0m\n\u001b[1;32m   1557\u001b[0m \u001b[38;5;66;03m# If we don't have any hooks, we want to skip the rest of the logic in\u001b[39;00m\n\u001b[1;32m   1558\u001b[0m \u001b[38;5;66;03m# this function, and just call forward.\u001b[39;00m\n\u001b[1;32m   1559\u001b[0m \u001b[38;5;28;01mif\u001b[39;00m \u001b[38;5;129;01mnot\u001b[39;00m (\u001b[38;5;28mself\u001b[39m\u001b[38;5;241m.\u001b[39m_backward_hooks \u001b[38;5;129;01mor\u001b[39;00m \u001b[38;5;28mself\u001b[39m\u001b[38;5;241m.\u001b[39m_backward_pre_hooks \u001b[38;5;129;01mor\u001b[39;00m \u001b[38;5;28mself\u001b[39m\u001b[38;5;241m.\u001b[39m_forward_hooks \u001b[38;5;129;01mor\u001b[39;00m \u001b[38;5;28mself\u001b[39m\u001b[38;5;241m.\u001b[39m_forward_pre_hooks\n\u001b[1;32m   1560\u001b[0m         \u001b[38;5;129;01mor\u001b[39;00m _global_backward_pre_hooks \u001b[38;5;129;01mor\u001b[39;00m _global_backward_hooks\n\u001b[1;32m   1561\u001b[0m         \u001b[38;5;129;01mor\u001b[39;00m _global_forward_hooks \u001b[38;5;129;01mor\u001b[39;00m _global_forward_pre_hooks):\n\u001b[0;32m-> 1562\u001b[0m     \u001b[38;5;28;01mreturn\u001b[39;00m \u001b[43mforward_call\u001b[49m\u001b[43m(\u001b[49m\u001b[38;5;241;43m*\u001b[39;49m\u001b[43margs\u001b[49m\u001b[43m,\u001b[49m\u001b[43m \u001b[49m\u001b[38;5;241;43m*\u001b[39;49m\u001b[38;5;241;43m*\u001b[39;49m\u001b[43mkwargs\u001b[49m\u001b[43m)\u001b[49m\n\u001b[1;32m   1564\u001b[0m \u001b[38;5;28;01mtry\u001b[39;00m:\n\u001b[1;32m   1565\u001b[0m     result \u001b[38;5;241m=\u001b[39m \u001b[38;5;28;01mNone\u001b[39;00m\n",
      "File \u001b[0;32m~/MedImSeg-Lab24/CLUE/lib/python3.8/site-packages/monai/networks/blocks/convolutions.py:317\u001b[0m, in \u001b[0;36mResidualUnit.forward\u001b[0;34m(self, x)\u001b[0m\n\u001b[1;32m    315\u001b[0m \u001b[38;5;28;01mdef\u001b[39;00m \u001b[38;5;21mforward\u001b[39m(\u001b[38;5;28mself\u001b[39m, x: torch\u001b[38;5;241m.\u001b[39mTensor) \u001b[38;5;241m-\u001b[39m\u001b[38;5;241m>\u001b[39m torch\u001b[38;5;241m.\u001b[39mTensor:\n\u001b[1;32m    316\u001b[0m     res: torch\u001b[38;5;241m.\u001b[39mTensor \u001b[38;5;241m=\u001b[39m \u001b[38;5;28mself\u001b[39m\u001b[38;5;241m.\u001b[39mresidual(x)  \u001b[38;5;66;03m# create the additive residual from x\u001b[39;00m\n\u001b[0;32m--> 317\u001b[0m     cx: torch\u001b[38;5;241m.\u001b[39mTensor \u001b[38;5;241m=\u001b[39m \u001b[38;5;28;43mself\u001b[39;49m\u001b[38;5;241;43m.\u001b[39;49m\u001b[43mconv\u001b[49m\u001b[43m(\u001b[49m\u001b[43mx\u001b[49m\u001b[43m)\u001b[49m  \u001b[38;5;66;03m# apply x to sequence of operations\u001b[39;00m\n\u001b[1;32m    318\u001b[0m     \u001b[38;5;28;01mreturn\u001b[39;00m cx \u001b[38;5;241m+\u001b[39m res\n",
      "File \u001b[0;32m~/MedImSeg-Lab24/CLUE/lib/python3.8/site-packages/torch/nn/modules/module.py:1553\u001b[0m, in \u001b[0;36mModule._wrapped_call_impl\u001b[0;34m(self, *args, **kwargs)\u001b[0m\n\u001b[1;32m   1551\u001b[0m     \u001b[38;5;28;01mreturn\u001b[39;00m \u001b[38;5;28mself\u001b[39m\u001b[38;5;241m.\u001b[39m_compiled_call_impl(\u001b[38;5;241m*\u001b[39margs, \u001b[38;5;241m*\u001b[39m\u001b[38;5;241m*\u001b[39mkwargs)  \u001b[38;5;66;03m# type: ignore[misc]\u001b[39;00m\n\u001b[1;32m   1552\u001b[0m \u001b[38;5;28;01melse\u001b[39;00m:\n\u001b[0;32m-> 1553\u001b[0m     \u001b[38;5;28;01mreturn\u001b[39;00m \u001b[38;5;28;43mself\u001b[39;49m\u001b[38;5;241;43m.\u001b[39;49m\u001b[43m_call_impl\u001b[49m\u001b[43m(\u001b[49m\u001b[38;5;241;43m*\u001b[39;49m\u001b[43margs\u001b[49m\u001b[43m,\u001b[49m\u001b[43m \u001b[49m\u001b[38;5;241;43m*\u001b[39;49m\u001b[38;5;241;43m*\u001b[39;49m\u001b[43mkwargs\u001b[49m\u001b[43m)\u001b[49m\n",
      "File \u001b[0;32m~/MedImSeg-Lab24/CLUE/lib/python3.8/site-packages/torch/nn/modules/module.py:1562\u001b[0m, in \u001b[0;36mModule._call_impl\u001b[0;34m(self, *args, **kwargs)\u001b[0m\n\u001b[1;32m   1557\u001b[0m \u001b[38;5;66;03m# If we don't have any hooks, we want to skip the rest of the logic in\u001b[39;00m\n\u001b[1;32m   1558\u001b[0m \u001b[38;5;66;03m# this function, and just call forward.\u001b[39;00m\n\u001b[1;32m   1559\u001b[0m \u001b[38;5;28;01mif\u001b[39;00m \u001b[38;5;129;01mnot\u001b[39;00m (\u001b[38;5;28mself\u001b[39m\u001b[38;5;241m.\u001b[39m_backward_hooks \u001b[38;5;129;01mor\u001b[39;00m \u001b[38;5;28mself\u001b[39m\u001b[38;5;241m.\u001b[39m_backward_pre_hooks \u001b[38;5;129;01mor\u001b[39;00m \u001b[38;5;28mself\u001b[39m\u001b[38;5;241m.\u001b[39m_forward_hooks \u001b[38;5;129;01mor\u001b[39;00m \u001b[38;5;28mself\u001b[39m\u001b[38;5;241m.\u001b[39m_forward_pre_hooks\n\u001b[1;32m   1560\u001b[0m         \u001b[38;5;129;01mor\u001b[39;00m _global_backward_pre_hooks \u001b[38;5;129;01mor\u001b[39;00m _global_backward_hooks\n\u001b[1;32m   1561\u001b[0m         \u001b[38;5;129;01mor\u001b[39;00m _global_forward_hooks \u001b[38;5;129;01mor\u001b[39;00m _global_forward_pre_hooks):\n\u001b[0;32m-> 1562\u001b[0m     \u001b[38;5;28;01mreturn\u001b[39;00m \u001b[43mforward_call\u001b[49m\u001b[43m(\u001b[49m\u001b[38;5;241;43m*\u001b[39;49m\u001b[43margs\u001b[49m\u001b[43m,\u001b[49m\u001b[43m \u001b[49m\u001b[38;5;241;43m*\u001b[39;49m\u001b[38;5;241;43m*\u001b[39;49m\u001b[43mkwargs\u001b[49m\u001b[43m)\u001b[49m\n\u001b[1;32m   1564\u001b[0m \u001b[38;5;28;01mtry\u001b[39;00m:\n\u001b[1;32m   1565\u001b[0m     result \u001b[38;5;241m=\u001b[39m \u001b[38;5;28;01mNone\u001b[39;00m\n",
      "File \u001b[0;32m~/MedImSeg-Lab24/CLUE/lib/python3.8/site-packages/torch/nn/modules/container.py:219\u001b[0m, in \u001b[0;36mSequential.forward\u001b[0;34m(self, input)\u001b[0m\n\u001b[1;32m    217\u001b[0m \u001b[38;5;28;01mdef\u001b[39;00m \u001b[38;5;21mforward\u001b[39m(\u001b[38;5;28mself\u001b[39m, \u001b[38;5;28minput\u001b[39m):\n\u001b[1;32m    218\u001b[0m     \u001b[38;5;28;01mfor\u001b[39;00m module \u001b[38;5;129;01min\u001b[39;00m \u001b[38;5;28mself\u001b[39m:\n\u001b[0;32m--> 219\u001b[0m         \u001b[38;5;28minput\u001b[39m \u001b[38;5;241m=\u001b[39m \u001b[43mmodule\u001b[49m\u001b[43m(\u001b[49m\u001b[38;5;28;43minput\u001b[39;49m\u001b[43m)\u001b[49m\n\u001b[1;32m    220\u001b[0m     \u001b[38;5;28;01mreturn\u001b[39;00m \u001b[38;5;28minput\u001b[39m\n",
      "File \u001b[0;32m~/MedImSeg-Lab24/CLUE/lib/python3.8/site-packages/torch/nn/modules/module.py:1553\u001b[0m, in \u001b[0;36mModule._wrapped_call_impl\u001b[0;34m(self, *args, **kwargs)\u001b[0m\n\u001b[1;32m   1551\u001b[0m     \u001b[38;5;28;01mreturn\u001b[39;00m \u001b[38;5;28mself\u001b[39m\u001b[38;5;241m.\u001b[39m_compiled_call_impl(\u001b[38;5;241m*\u001b[39margs, \u001b[38;5;241m*\u001b[39m\u001b[38;5;241m*\u001b[39mkwargs)  \u001b[38;5;66;03m# type: ignore[misc]\u001b[39;00m\n\u001b[1;32m   1552\u001b[0m \u001b[38;5;28;01melse\u001b[39;00m:\n\u001b[0;32m-> 1553\u001b[0m     \u001b[38;5;28;01mreturn\u001b[39;00m \u001b[38;5;28;43mself\u001b[39;49m\u001b[38;5;241;43m.\u001b[39;49m\u001b[43m_call_impl\u001b[49m\u001b[43m(\u001b[49m\u001b[38;5;241;43m*\u001b[39;49m\u001b[43margs\u001b[49m\u001b[43m,\u001b[49m\u001b[43m \u001b[49m\u001b[38;5;241;43m*\u001b[39;49m\u001b[38;5;241;43m*\u001b[39;49m\u001b[43mkwargs\u001b[49m\u001b[43m)\u001b[49m\n",
      "File \u001b[0;32m~/MedImSeg-Lab24/CLUE/lib/python3.8/site-packages/torch/nn/modules/module.py:1562\u001b[0m, in \u001b[0;36mModule._call_impl\u001b[0;34m(self, *args, **kwargs)\u001b[0m\n\u001b[1;32m   1557\u001b[0m \u001b[38;5;66;03m# If we don't have any hooks, we want to skip the rest of the logic in\u001b[39;00m\n\u001b[1;32m   1558\u001b[0m \u001b[38;5;66;03m# this function, and just call forward.\u001b[39;00m\n\u001b[1;32m   1559\u001b[0m \u001b[38;5;28;01mif\u001b[39;00m \u001b[38;5;129;01mnot\u001b[39;00m (\u001b[38;5;28mself\u001b[39m\u001b[38;5;241m.\u001b[39m_backward_hooks \u001b[38;5;129;01mor\u001b[39;00m \u001b[38;5;28mself\u001b[39m\u001b[38;5;241m.\u001b[39m_backward_pre_hooks \u001b[38;5;129;01mor\u001b[39;00m \u001b[38;5;28mself\u001b[39m\u001b[38;5;241m.\u001b[39m_forward_hooks \u001b[38;5;129;01mor\u001b[39;00m \u001b[38;5;28mself\u001b[39m\u001b[38;5;241m.\u001b[39m_forward_pre_hooks\n\u001b[1;32m   1560\u001b[0m         \u001b[38;5;129;01mor\u001b[39;00m _global_backward_pre_hooks \u001b[38;5;129;01mor\u001b[39;00m _global_backward_hooks\n\u001b[1;32m   1561\u001b[0m         \u001b[38;5;129;01mor\u001b[39;00m _global_forward_hooks \u001b[38;5;129;01mor\u001b[39;00m _global_forward_pre_hooks):\n\u001b[0;32m-> 1562\u001b[0m     \u001b[38;5;28;01mreturn\u001b[39;00m \u001b[43mforward_call\u001b[49m\u001b[43m(\u001b[49m\u001b[38;5;241;43m*\u001b[39;49m\u001b[43margs\u001b[49m\u001b[43m,\u001b[49m\u001b[43m \u001b[49m\u001b[38;5;241;43m*\u001b[39;49m\u001b[38;5;241;43m*\u001b[39;49m\u001b[43mkwargs\u001b[49m\u001b[43m)\u001b[49m\n\u001b[1;32m   1564\u001b[0m \u001b[38;5;28;01mtry\u001b[39;00m:\n\u001b[1;32m   1565\u001b[0m     result \u001b[38;5;241m=\u001b[39m \u001b[38;5;28;01mNone\u001b[39;00m\n",
      "File \u001b[0;32m~/MedImSeg-Lab24/CLUE/lib/python3.8/site-packages/torch/nn/modules/container.py:219\u001b[0m, in \u001b[0;36mSequential.forward\u001b[0;34m(self, input)\u001b[0m\n\u001b[1;32m    217\u001b[0m \u001b[38;5;28;01mdef\u001b[39;00m \u001b[38;5;21mforward\u001b[39m(\u001b[38;5;28mself\u001b[39m, \u001b[38;5;28minput\u001b[39m):\n\u001b[1;32m    218\u001b[0m     \u001b[38;5;28;01mfor\u001b[39;00m module \u001b[38;5;129;01min\u001b[39;00m \u001b[38;5;28mself\u001b[39m:\n\u001b[0;32m--> 219\u001b[0m         \u001b[38;5;28minput\u001b[39m \u001b[38;5;241m=\u001b[39m \u001b[43mmodule\u001b[49m\u001b[43m(\u001b[49m\u001b[38;5;28;43minput\u001b[39;49m\u001b[43m)\u001b[49m\n\u001b[1;32m    220\u001b[0m     \u001b[38;5;28;01mreturn\u001b[39;00m \u001b[38;5;28minput\u001b[39m\n",
      "File \u001b[0;32m~/MedImSeg-Lab24/CLUE/lib/python3.8/site-packages/torch/nn/modules/module.py:1553\u001b[0m, in \u001b[0;36mModule._wrapped_call_impl\u001b[0;34m(self, *args, **kwargs)\u001b[0m\n\u001b[1;32m   1551\u001b[0m     \u001b[38;5;28;01mreturn\u001b[39;00m \u001b[38;5;28mself\u001b[39m\u001b[38;5;241m.\u001b[39m_compiled_call_impl(\u001b[38;5;241m*\u001b[39margs, \u001b[38;5;241m*\u001b[39m\u001b[38;5;241m*\u001b[39mkwargs)  \u001b[38;5;66;03m# type: ignore[misc]\u001b[39;00m\n\u001b[1;32m   1552\u001b[0m \u001b[38;5;28;01melse\u001b[39;00m:\n\u001b[0;32m-> 1553\u001b[0m     \u001b[38;5;28;01mreturn\u001b[39;00m \u001b[38;5;28;43mself\u001b[39;49m\u001b[38;5;241;43m.\u001b[39;49m\u001b[43m_call_impl\u001b[49m\u001b[43m(\u001b[49m\u001b[38;5;241;43m*\u001b[39;49m\u001b[43margs\u001b[49m\u001b[43m,\u001b[49m\u001b[43m \u001b[49m\u001b[38;5;241;43m*\u001b[39;49m\u001b[38;5;241;43m*\u001b[39;49m\u001b[43mkwargs\u001b[49m\u001b[43m)\u001b[49m\n",
      "File \u001b[0;32m~/MedImSeg-Lab24/CLUE/lib/python3.8/site-packages/torch/nn/modules/module.py:1562\u001b[0m, in \u001b[0;36mModule._call_impl\u001b[0;34m(self, *args, **kwargs)\u001b[0m\n\u001b[1;32m   1557\u001b[0m \u001b[38;5;66;03m# If we don't have any hooks, we want to skip the rest of the logic in\u001b[39;00m\n\u001b[1;32m   1558\u001b[0m \u001b[38;5;66;03m# this function, and just call forward.\u001b[39;00m\n\u001b[1;32m   1559\u001b[0m \u001b[38;5;28;01mif\u001b[39;00m \u001b[38;5;129;01mnot\u001b[39;00m (\u001b[38;5;28mself\u001b[39m\u001b[38;5;241m.\u001b[39m_backward_hooks \u001b[38;5;129;01mor\u001b[39;00m \u001b[38;5;28mself\u001b[39m\u001b[38;5;241m.\u001b[39m_backward_pre_hooks \u001b[38;5;129;01mor\u001b[39;00m \u001b[38;5;28mself\u001b[39m\u001b[38;5;241m.\u001b[39m_forward_hooks \u001b[38;5;129;01mor\u001b[39;00m \u001b[38;5;28mself\u001b[39m\u001b[38;5;241m.\u001b[39m_forward_pre_hooks\n\u001b[1;32m   1560\u001b[0m         \u001b[38;5;129;01mor\u001b[39;00m _global_backward_pre_hooks \u001b[38;5;129;01mor\u001b[39;00m _global_backward_hooks\n\u001b[1;32m   1561\u001b[0m         \u001b[38;5;129;01mor\u001b[39;00m _global_forward_hooks \u001b[38;5;129;01mor\u001b[39;00m _global_forward_pre_hooks):\n\u001b[0;32m-> 1562\u001b[0m     \u001b[38;5;28;01mreturn\u001b[39;00m \u001b[43mforward_call\u001b[49m\u001b[43m(\u001b[49m\u001b[38;5;241;43m*\u001b[39;49m\u001b[43margs\u001b[49m\u001b[43m,\u001b[49m\u001b[43m \u001b[49m\u001b[38;5;241;43m*\u001b[39;49m\u001b[38;5;241;43m*\u001b[39;49m\u001b[43mkwargs\u001b[49m\u001b[43m)\u001b[49m\n\u001b[1;32m   1564\u001b[0m \u001b[38;5;28;01mtry\u001b[39;00m:\n\u001b[1;32m   1565\u001b[0m     result \u001b[38;5;241m=\u001b[39m \u001b[38;5;28;01mNone\u001b[39;00m\n",
      "File \u001b[0;32m~/MedImSeg-Lab24/CLUE/lib/python3.8/site-packages/torch/nn/modules/conv.py:458\u001b[0m, in \u001b[0;36mConv2d.forward\u001b[0;34m(self, input)\u001b[0m\n\u001b[1;32m    457\u001b[0m \u001b[38;5;28;01mdef\u001b[39;00m \u001b[38;5;21mforward\u001b[39m(\u001b[38;5;28mself\u001b[39m, \u001b[38;5;28minput\u001b[39m: Tensor) \u001b[38;5;241m-\u001b[39m\u001b[38;5;241m>\u001b[39m Tensor:\n\u001b[0;32m--> 458\u001b[0m     \u001b[38;5;28;01mreturn\u001b[39;00m \u001b[38;5;28;43mself\u001b[39;49m\u001b[38;5;241;43m.\u001b[39;49m\u001b[43m_conv_forward\u001b[49m\u001b[43m(\u001b[49m\u001b[38;5;28;43minput\u001b[39;49m\u001b[43m,\u001b[49m\u001b[43m \u001b[49m\u001b[38;5;28;43mself\u001b[39;49m\u001b[38;5;241;43m.\u001b[39;49m\u001b[43mweight\u001b[49m\u001b[43m,\u001b[49m\u001b[43m \u001b[49m\u001b[38;5;28;43mself\u001b[39;49m\u001b[38;5;241;43m.\u001b[39;49m\u001b[43mbias\u001b[49m\u001b[43m)\u001b[49m\n",
      "File \u001b[0;32m~/MedImSeg-Lab24/CLUE/lib/python3.8/site-packages/torch/nn/modules/conv.py:454\u001b[0m, in \u001b[0;36mConv2d._conv_forward\u001b[0;34m(self, input, weight, bias)\u001b[0m\n\u001b[1;32m    450\u001b[0m \u001b[38;5;28;01mif\u001b[39;00m \u001b[38;5;28mself\u001b[39m\u001b[38;5;241m.\u001b[39mpadding_mode \u001b[38;5;241m!=\u001b[39m \u001b[38;5;124m'\u001b[39m\u001b[38;5;124mzeros\u001b[39m\u001b[38;5;124m'\u001b[39m:\n\u001b[1;32m    451\u001b[0m     \u001b[38;5;28;01mreturn\u001b[39;00m F\u001b[38;5;241m.\u001b[39mconv2d(F\u001b[38;5;241m.\u001b[39mpad(\u001b[38;5;28minput\u001b[39m, \u001b[38;5;28mself\u001b[39m\u001b[38;5;241m.\u001b[39m_reversed_padding_repeated_twice, mode\u001b[38;5;241m=\u001b[39m\u001b[38;5;28mself\u001b[39m\u001b[38;5;241m.\u001b[39mpadding_mode),\n\u001b[1;32m    452\u001b[0m                     weight, bias, \u001b[38;5;28mself\u001b[39m\u001b[38;5;241m.\u001b[39mstride,\n\u001b[1;32m    453\u001b[0m                     _pair(\u001b[38;5;241m0\u001b[39m), \u001b[38;5;28mself\u001b[39m\u001b[38;5;241m.\u001b[39mdilation, \u001b[38;5;28mself\u001b[39m\u001b[38;5;241m.\u001b[39mgroups)\n\u001b[0;32m--> 454\u001b[0m \u001b[38;5;28;01mreturn\u001b[39;00m \u001b[43mF\u001b[49m\u001b[38;5;241;43m.\u001b[39;49m\u001b[43mconv2d\u001b[49m\u001b[43m(\u001b[49m\u001b[38;5;28;43minput\u001b[39;49m\u001b[43m,\u001b[49m\u001b[43m \u001b[49m\u001b[43mweight\u001b[49m\u001b[43m,\u001b[49m\u001b[43m \u001b[49m\u001b[43mbias\u001b[49m\u001b[43m,\u001b[49m\u001b[43m \u001b[49m\u001b[38;5;28;43mself\u001b[39;49m\u001b[38;5;241;43m.\u001b[39;49m\u001b[43mstride\u001b[49m\u001b[43m,\u001b[49m\n\u001b[1;32m    455\u001b[0m \u001b[43m                \u001b[49m\u001b[38;5;28;43mself\u001b[39;49m\u001b[38;5;241;43m.\u001b[39;49m\u001b[43mpadding\u001b[49m\u001b[43m,\u001b[49m\u001b[43m \u001b[49m\u001b[38;5;28;43mself\u001b[39;49m\u001b[38;5;241;43m.\u001b[39;49m\u001b[43mdilation\u001b[49m\u001b[43m,\u001b[49m\u001b[43m \u001b[49m\u001b[38;5;28;43mself\u001b[39;49m\u001b[38;5;241;43m.\u001b[39;49m\u001b[43mgroups\u001b[49m\u001b[43m)\u001b[49m\n",
      "\u001b[0;31mKeyboardInterrupt\u001b[0m: "
     ]
    }
   ],
   "source": [
    "import os\n",
    "import glob\n",
    "import pickle\n",
    "import numpy as np\n",
    "from tqdm import tqdm\n",
    "import torch.nn as nn\n",
    "from sklearn.cluster import KMeans\n",
    "from sklearn.metrics.pairwise import euclidean_distances\n",
    "\n",
    "import sys, string, random\n",
    "from datetime import datetime\n",
    "from omegaconf import OmegaConf\n",
    "import wandb\n",
    "import torch\n",
    "import lightning as L\n",
    "from lightning.pytorch.loggers import WandbLogger\n",
    "from lightning.pytorch.callbacks import ModelCheckpoint\n",
    "from lightning.pytorch.callbacks.early_stopping import EarlyStopping\n",
    "from torch.utils.data.sampler import Sampler, SubsetRandomSampler\n",
    "from monai.networks.nets import UNet\n",
    "\n",
    "sys.path.append('../')\n",
    "from data_utils import MNMv2DataModule\n",
    "from unet import LightningSegmentationModel\n",
    "import torch.nn.functional as F\n",
    "\n",
    "class ActualSequentialSampler(Sampler):\n",
    "\tr\"\"\"Samples elements sequentially, always in the same order.\n",
    "\n",
    "\tArguments:\n",
    "\t\tdata_source (Dataset): dataset to sample from\n",
    "\t\"\"\"\n",
    "\n",
    "\tdef __init__(self, data_source):\n",
    "\t\tself.data_source = data_source\n",
    "\n",
    "\tdef __iter__(self):\n",
    "\t\treturn iter(self.data_source)\n",
    "\n",
    "\tdef __len__(self):\n",
    "\t\treturn len(self.data_source)\n",
    "     \n",
    "class CLUESampling:\n",
    "    \"\"\"\n",
    "    Implements CLUE: Clustering via Uncertainty-weighted Embeddings for segmentation tasks.\n",
    "    \"\"\"\n",
    "    def __init__(self, dset, model, device, args, balanced=False):\n",
    "        self.dset = dset\n",
    "        self.model = model\n",
    "        self.device = device\n",
    "        self.args = args\n",
    "        self.random_state = np.random.RandomState(1234)\n",
    "        self.T = args.clue_softmax_t\n",
    "    \n",
    "    def get_embedding(self, model, loader, device, args, with_emb=False):\n",
    "        model.eval()\n",
    "        embedding_pen = None\n",
    "        embedding = None\n",
    "        emb_dim = None\n",
    "        batch_sz = args.batch_size\n",
    "        num_samples = len(self.dset)\n",
    "\n",
    "        with torch.no_grad():\n",
    "            for batch_idx, batch in enumerate(tqdm(loader)):\n",
    "                data = batch['data'].to(device)\n",
    "\n",
    "                if with_emb:\n",
    "                    e1, e2 = model(data, with_emb=True)\n",
    "                    height, width = e2.shape[2], e2.shape[3]\n",
    "                # else:\n",
    "                #     e1 = model(data, with_emb=False)\n",
    "\n",
    "                # Приводим размер логитов к размеру эмбеддингов\n",
    "                e1 = F.interpolate(e1, size=(height, width), mode='bilinear', align_corners=False)\n",
    "\n",
    "                if embedding_pen is None:\n",
    "                    emb_dim = e2.shape[1]\n",
    "                    num_classes = e1.shape[1]\n",
    "                    embedding_pen = torch.zeros((num_samples * height * width, emb_dim), device='cpu')\n",
    "                    embedding = torch.zeros((num_samples * height * width, num_classes), device='cpu')\n",
    "\n",
    "                # Преобразуем логиты и эмбеддинги для каждого пикселя\n",
    "                e1 = e1.permute(0, 2, 3, 1).reshape(-1, num_classes)\n",
    "                e2 = e2.permute(0, 2, 3, 1).reshape(-1, emb_dim)\n",
    "\n",
    "                # Вычисляем текущие индексы\n",
    "                start_idx = batch_idx * batch_sz * height * width\n",
    "                end_idx = start_idx + min(batch_sz * height * width, e2.shape[0])\n",
    "\n",
    "                # Заполняем тензоры\n",
    "                embedding[start_idx:end_idx, :] = e1.cpu()\n",
    "                embedding_pen[start_idx:end_idx, :] = e2.cpu()\n",
    "\n",
    "                if batch_idx > 1:\n",
    "                    break\n",
    "        \n",
    "        return embedding, embedding_pen\n",
    "    \n",
    "    def query(self, n, data_loader):\n",
    "        self.model.eval()\n",
    "\n",
    "        # Получаем эмбеддинги для пикселей\n",
    "        tgt_emb, tgt_pen_emb = self.get_embedding(self.model, data_loader, self.device, self.args, with_emb=True)\n",
    "\n",
    "        # Используем предпоследние эмбеддинги (tgt_pen_emb)\n",
    "        tgt_pen_emb = tgt_pen_emb.cpu().numpy()\n",
    "\n",
    "        # Вычисляем неопределенность через энтропию для каждого пикселя\n",
    "        tgt_scores = nn.Softmax(dim=1)(tgt_emb / self.T)\n",
    "        tgt_scores += 1e-8\n",
    "        sample_weights = -(tgt_scores * torch.log(tgt_scores)).sum(1).cpu().numpy()\n",
    "\n",
    "        # Запуск K-means с учетом весов неопределенности\n",
    "        km = KMeans(n)\n",
    "        km.fit(tgt_pen_emb, sample_weight=sample_weights)\n",
    "\n",
    "        # Центроиды эмбединги\n",
    "        return km.cluster_centers_\n",
    "\n",
    "if __name__ == '__main__':\n",
    "    mnmv2_config   = OmegaConf.load('../../configs/mnmv2.yaml')\n",
    "    unet_config    = OmegaConf.load('../../configs/monai_unet.yaml')\n",
    "    trainer_config = OmegaConf.load('../../configs/unet_trainer.yaml')\n",
    "\n",
    "    # init datamodule\n",
    "    datamodule = MNMv2DataModule(\n",
    "        data_dir=mnmv2_config.data_dir,\n",
    "        vendor_assignment=mnmv2_config.vendor_assignment,\n",
    "        batch_size=mnmv2_config.batch_size,\n",
    "        binary_target=mnmv2_config.binary_target,\n",
    "        non_empty_target=mnmv2_config.non_empty_target,\n",
    "    )\n",
    "\n",
    "    datamodule.setup(stage='fit')\n",
    "\n",
    "    # init model\n",
    "    cfg = OmegaConf.create({\n",
    "        'unet_config': unet_config,\n",
    "        'binary_target': True if unet_config.out_channels == 1 else False,\n",
    "        'lr': unet_config.lr,\n",
    "        'patience': unet_config.patience,\n",
    "        'lambda_centroids': 0.6,\n",
    "        'dataset': OmegaConf.to_container(mnmv2_config),\n",
    "        'unet': OmegaConf.to_container(unet_config),\n",
    "        'trainer': OmegaConf.to_container(trainer_config),\n",
    "    })\n",
    "\n",
    "    checkpoint_path = '../../pre-trained/trained_UNets/mnmv2-10-12_06-11-2024.ckpt'\n",
    "\n",
    "    load_as_lightning_module = True#False\n",
    "    load_as_pytorch_module = False#True\n",
    "\n",
    "    if load_as_lightning_module:\n",
    "        unet_config    = OmegaConf.load('../../configs/monai_unet.yaml')\n",
    "        unet = UNet(\n",
    "            spatial_dims=unet_config.spatial_dims,\n",
    "            in_channels=unet_config.in_channels,\n",
    "            out_channels=unet_config.out_channels,\n",
    "            channels=[unet_config.n_filters_init * 2 ** i for i in range(unet_config.depth)],\n",
    "            strides=[2] * (unet_config.depth - 1),\n",
    "            num_res_units=4\n",
    "        )\n",
    "        \n",
    "        model = LightningSegmentationModel.load_from_checkpoint(\n",
    "            checkpoint_path,\n",
    "            map_location=torch.device(\"cpu\"),\n",
    "            model=unet,\n",
    "            binary_target=True if unet_config.out_channels == 1 else False,\n",
    "            lr=unet_config.lr,\n",
    "            patience=unet_config.patience,\n",
    "            cfg=cfg\n",
    "        )\n",
    "\n",
    "    elif load_as_pytorch_module:\n",
    "        checkpoint = torch.load(checkpoint_path, map_location=torch.device(\"cpu\"))\n",
    "        model_state_dict = checkpoint['state_dict']\n",
    "        model_state_dict = {k.replace('model.model.', 'model.'): v for k, v in model_state_dict.items() if k.startswith('model.')}\n",
    "        model_config = checkpoint['hyper_parameters']['cfgs']\n",
    "\n",
    "        print(model_config)\n",
    "\n",
    "        unet = UNet(\n",
    "            spatial_dims=model_config['unet']['spatial_dims'],\n",
    "            in_channels=model_config['unet']['in_channels'],\n",
    "            out_channels=model_config['unet']['out_channels'],\n",
    "            channels=[model_config['unet']['n_filters_init'] * 2 ** i for i in range(model_config['unet']['depth'])],\n",
    "            strides=[2] * (model_config['unet']['depth'] - 1),\n",
    "            num_res_units=4\n",
    "        )\n",
    "\n",
    "        unet.load_state_dict(model_state_dict)\n",
    "    \n",
    "    train_loader = datamodule.train_dataloader()\n",
    "    device = torch.device('cuda:2' if torch.cuda.is_available() else 'cpu')\n",
    "    model = model.to(device)\n",
    "    clue_sampler = CLUESampling(dset=datamodule.mnm_train, \n",
    "                                model=model, \n",
    "                                device=device, \n",
    "                                args=unet_config, )\n",
    "                                            #cache_path='../../MedImSeg-Lab24/checkpoints/emb_and_weights.pkl')\n",
    "    \n",
    "    centroids = clue_sampler.query(n=2, data_loader=train_loader)\n",
    "\n",
    "    datamodule.setup(stage='test')\n",
    "    test_loader = datamodule.test_dataloader()\n",
    "    start_loss  = model.test_model(test_loader, device)\n",
    "    # out_str = '{} | Test performance on {}->{}: Round 0 (B=0): {:.2f}'.format(method, source, target, start_perf)\n",
    "\n",
    "    # Шаг дообучения модели с использованием центроидов\n",
    "    model.finetune_model_on_centroids(centroids, train_loader, model)\n",
    "\n",
    "    # Тестируем производительность модели после дообучения\n",
    "    test_perf = model.test_model(test_loader, device)\n",
    "    # out_str += '\\t Round 1 (B={}): {:.2f}'.format(len(cluster_centers), test_perf)\n",
    "\n",
    "    # Выводим результаты и возвращаем производительность до и после обучения\n",
    "    print(start_loss['dsc'], test_perf['dsc'])"
   ]
  },
  {
   "cell_type": "code",
   "execution_count": 2,
   "metadata": {},
   "outputs": [
    {
     "data": {
      "text/plain": [
       "{'unet_config': {'n_filters_init': 16, 'depth': 4, 'spatial_dims': 2, 'in_channels': 1, 'out_channels': 4, 'num_res_units': 4, 'lr': 0.001, 'patience': 5, 'clue_softmax_t': 1.0, 'batch_size': 32}, 'binary_target': False, 'lr': 0.001, 'patience': 5, 'lambda_centroids': 0.6, 'dataset': {'data_dir': '/home/mikhelson/MedImSeg-Lab24/data/MNM/', 'vendor_assignment': {'train': 'siemens', 'test': 'ge'}, 'batch_size': 32, 'binary_target': False, 'non_empty_target': False}, 'unet': {'n_filters_init': 16, 'depth': 4, 'spatial_dims': 2, 'in_channels': 1, 'out_channels': 4, 'num_res_units': 4, 'lr': 0.001, 'patience': 5, 'clue_softmax_t': 1.0, 'batch_size': 32}, 'trainer': {'train_transforms': 'global_transforms', 'limit_train_batches': 50, 'max_epochs': 100, 'early_stopping': {'monitor': 'val_loss', 'mode': 'min'}, 'model_checkpoint': {'save_top_k': 2, 'dirpath': '../../pre-trained/trained_UNets', 'monitor': 'val_loss'}, 'logging': True}}"
      ]
     },
     "execution_count": 2,
     "metadata": {},
     "output_type": "execute_result"
    }
   ],
   "source": [
    "# # Шаг дообучения модели с использованием центроидов\n",
    "# model.finetune_model_on_centroids(centroids, train_loader, model)\n",
    "\n",
    "# # Тестируем производительность модели после дообучения\n",
    "# test_perf = model.test_model(test_loader, device)\n",
    "# # out_str += '\\t Round 1 (B={}): {:.2f}'.format(len(cluster_centers), test_perf)\n",
    "\n",
    "# # Выводим результаты и возвращаем производительность до и после обучения\n",
    "# print(start_loss['dsc'], test_perf['dsc'])\n",
    "cfg"
   ]
  },
  {
   "cell_type": "code",
   "execution_count": null,
   "metadata": {},
   "outputs": [],
   "source": []
  }
 ],
 "metadata": {
  "kernelspec": {
   "display_name": "CLUE",
   "language": "python",
   "name": "python3"
  },
  "language_info": {
   "codemirror_mode": {
    "name": "ipython",
    "version": 3
   },
   "file_extension": ".py",
   "mimetype": "text/x-python",
   "name": "python",
   "nbconvert_exporter": "python",
   "pygments_lexer": "ipython3",
   "version": "3.8.10"
  }
 },
 "nbformat": 4,
 "nbformat_minor": 2
}
